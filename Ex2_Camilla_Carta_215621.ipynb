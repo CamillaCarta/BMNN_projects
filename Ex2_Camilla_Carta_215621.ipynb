{
 "cells": [
  {
   "cell_type": "markdown",
   "metadata": {},
   "source": [
    "# Hopfield Network model of associative memory"
   ]
  },
  {
   "cell_type": "markdown",
   "metadata": {},
   "source": [
    "first name: Camilla\n",
    "\n",
    "last name: Camilla\n",
    "\n",
    "sciper: 215621\n",
    "\n",
    "date: 15.04.2019\n",
    "\n",
    "*Your teammate*\n",
    "\n",
    "first name of your teammate: Bruno\n",
    "\n",
    "last name of your teammate: Da Costa Borges\n",
    "\n",
    "sciper of your teammate: 205629\n",
    "\n",
    "\n",
    "** Remember **\n",
    "\n",
    "If you are asked for plots: The appearance of the plots (labelled axes, ** useful scaling **, etc.) is important!\n",
    "\n",
    "If you are asked for discussions: Answer in a precise way and try to be concise. \n",
    "\n",
    "\n",
    "** Submission **\n",
    "\n",
    "Rename this notebook to Ex2_FirstName_LastName_Sciper.ipynb and upload that single file on moodle before the deadline.\n",
    "\n",
    "Exercise instructions are given in this notebook file.\n",
    "\n",
    "** Rules: **\n",
    "\n",
    "1) You are strongly encouraged to work in groups of 2. You are allowed to work alone. Groups of 3 or more are NOT allowed\n",
    "\n",
    "2) If you work in a group of 2, BOTH people should upload the same notebook file  \n",
    "\n",
    "3) If you work alone, you can't share your notebook file with anyone else\n",
    "\n",
    "4) Discussion between groups is encouraged, but you can't share your code or text\n",
    "\n",
    "5) The points assigned to each exercise are indicated in the notebook file\n",
    "\n",
    "6) You should upload a jupyter notebook file with all code run and picture visible. We are not going to run your notebook.\n",
    "\n",
    "7) Read carefully the instructions at the beginning of the notebook file, answer in a clear and concise way to open questions\n",
    "\n",
    "8) You have to understand every line of code you write in this notebook. We will ask you questions about your submission during a fraud detection session during the last week of the semester\n",
    "\n",
    "## \\* \\* \\* \\* Programming Notes : Copying and slicing lists and numpy arrays \\* \\* \\* \\*\n",
    "We would like to take the opportunity to bring to your attention certain features of Python, that might lead to unwanted behaviour and serious mistakes, if one is not aware of them. \n",
    "Please check the Python Cheat Sheet file on the moodle (https://moodle.epfl.ch/mod/page/view.php?id=981134 Part 4 of the ipynb file) for some examples of the following notes:\n",
    "\n",
    "* Assigning a list to a new variable does not create a copy of the list, but creates a variable that points to the list. This means that modifying the second variable, also modifies the original list.\n",
    "* Assigning a slice of a list to a new variable, creates a copy of the list. Any modification to the sliced list does not modify the original.\n",
    "\n",
    "Now when it comes to numpy arrays:\n",
    "* Assigning a numpy array to a new variable does not create a copy of the array, but creates a variable that points to the array. This means that modifying the second variable, also modifies the original array. (same as above)\n",
    "* Assigning a slice of a numpy array to a new variable creates a variable that points to the corresponding elements of the original array as well! (contrary to what we saw above!) This means that modifying the second variable, also modifies the original array!\n",
    "* To copy the original array and ensure that it is not modified by any modification of its copied version, the method copy() should be used."
   ]
  },
  {
   "cell_type": "markdown",
   "metadata": {},
   "source": [
    "## 8.1. Getting started:\n",
    "\n",
    "See [Chapter 17](https://neuronaldynamics-exercises.readthedocs.io/en/latest/exercises/hopfield-network.html) Section 2 for an introduction to Hopfield networks.\n",
    "\n",
    "We provide a couple of functions to easily create patterns, store them in the network and visualize the network dynamics. Check the modules [`hopfield_network.network`](https://neuronaldynamics-exercises.readthedocs.io/en/latest/modules/neurodynex.hopfield_network.html#module-neurodynex.hopfield_network.network), [`hopfield_network.pattern_tools`](https://neuronaldynamics-exercises.readthedocs.io/en/latest/modules/neurodynex.hopfield_network.html#module-neurodynex.hopfield_network.pattern_tools) and [`hopfield_network.plot_tools`](https://neuronaldynamics-exercises.readthedocs.io/en/latest/modules/neurodynex.hopfield_network.html#module-neurodynex.hopfield_network.plot_tools) to learn the building blocks we provide.\n",
    "\n",
    "***Note:*** If you instantiate a new object of class `network.HopfieldNetwork` it’s default dynamics are deterministic and synchronous. That is, all states are updated at the same time using the sign function. We use this dynamics in all exercises described below.\n",
    "\n",
    "Run the following code. Read the inline comments and check the documentation. The patterns and the flipped pixels are randomly chosen. Therefore the result changes every time you execute this code. Run it several times and change some parameters like nr_patterns and nr_of_flips."
   ]
  },
  {
   "cell_type": "code",
   "execution_count": 30,
   "metadata": {},
   "outputs": [
    {
     "data": {
      "image/png": "[encoded data removed]",
      "text/plain": [
       "<Figure size 432x288 with 6 Axes>"
      ]
     },
     "metadata": {
      "needs_background": "light"
     },
     "output_type": "display_data"
    },
    {
     "data": {
      "image/png": "[encoded data removed]",
      "text/plain": [
       "<Figure size 432x288 with 2 Axes>"
      ]
     },
     "metadata": {
      "needs_background": "light"
     },
     "output_type": "display_data"
    },
    {
     "data": {
      "image/png": "[encoded data removed]",
      "text/plain": [
       "<Figure size 432x288 with 12 Axes>"
      ]
     },
     "metadata": {
      "needs_background": "light"
     },
     "output_type": "display_data"
    }
   ],
   "source": [
    "%matplotlib inline\n",
    "from neurodynex.hopfield_network import network, pattern_tools, plot_tools\n",
    "\n",
    "\n",
    "pattern_size = 6\n",
    "\n",
    "# create an instance of the class HopfieldNetwork\n",
    "hopfield_net = network.HopfieldNetwork(nr_neurons= pattern_size**2)\n",
    "# instantiate a pattern factory\n",
    "factory = pattern_tools.PatternFactory(pattern_size, pattern_size)\n",
    "# create a checkerboard pattern and add it to the pattern list\n",
    "checkerboard = factory.create_checkerboard()\n",
    "pattern_list = [checkerboard]\n",
    "\n",
    "# add random patterns to the list\n",
    "pattern_list.extend(factory.create_random_pattern_list(nr_patterns=5, on_probability=0.5))\n",
    "plot_tools.plot_pattern_list(pattern_list)\n",
    "# how similar are the random patterns and the checkerboard? Check the overlaps\n",
    "overlap_matrix = pattern_tools.compute_overlap_matrix(pattern_list)\n",
    "plot_tools.plot_overlap_matrix(overlap_matrix)\n",
    "\n",
    "# let the hopfield network \"learn\" the patterns. Note: they are not stored\n",
    "# explicitly but only network weights are updated !\n",
    "hopfield_net.store_patterns(pattern_list)\n",
    "\n",
    "# create a noisy version of a pattern and use that to initialize the network\n",
    "noisy_init_state = pattern_tools.flip_n(checkerboard, nr_of_flips=5)\n",
    "hopfield_net.set_state_from_pattern(noisy_init_state)\n",
    "\n",
    "# from this initial state, let the network dynamics evolve.\n",
    "states = hopfield_net.run_with_monitoring(nr_steps=5)\n",
    "\n",
    "# each network state is a vector. reshape it to the same shape used to create the patterns.\n",
    "states_as_patterns = factory.reshape_patterns(states)\n",
    "# plot the states of the network\n",
    "plot_tools.plot_state_sequence_and_overlap(states_as_patterns, pattern_list, \n",
    "                                           reference_idx=0, suptitle=\"Network dynamics\")"
   ]
  },
  {
   "cell_type": "markdown",
   "metadata": {},
   "source": [
    "***Note:*** The network state is a vector of N neurons. For visualization we use 2d patterns which are two dimensional numpy.ndarrays of size = (length, width). To store such patterns, initialize the network with N = length x width neurons."
   ]
  },
  {
   "cell_type": "markdown",
   "metadata": {},
   "source": [
    "## 8.2. Introduction: Hopfield-networks\n",
    "\n",
    "This exercise uses a model in which neurons are pixels and take the values of -1 (off) or +1 (on). The network can store a certain number of pixel patterns, which is to be investigated in this exercise. During a retrieval phase, the network is started with some initial configuration and the network dynamics evolves towards the stored pattern (attractor) which is closest to the initial configuration.\n",
    "\n",
    "The dynamics is that of equation:\n",
    "\\begin{equation}\n",
    "    S_i(t+1) = sgn\\left(\\sum_j w_{ij} S_j(t)\\right)\n",
    "\\end{equation}\n",
    "In the Hopfield model each neuron is connected to every other neuron (full connectivity). The connection matrix is\n",
    "\\begin{equation}\n",
    "    w_{ij} = \\frac{1}{N}\\sum_{\\mu} p_i^\\mu p_j^\\mu\n",
    "\\end{equation}\n",
    "where N is the number of neurons, $p^{\\mu}_i$\n",
    " is the value of neuron $i$\n",
    " in pattern number $\\mu$\n",
    " and the sum runs over all patterns from $\\mu=1$\n",
    " to $\\mu=P$. This is a simple correlation based learning rule (Hebbian learning). Since it is not a iterative rule it is sometimes called one-shot learning. The learning rule works best if the patterns that are to be stored are random patterns with equal probability for on (+1) and off (-1). In a large networks (N to infinity) the number of random patterns that can be stored is approximately 0.14 times N.\n",
    "\n"
   ]
  },
  {
   "cell_type": "markdown",
   "metadata": {},
   "source": [
    "## 8.3. Exercise: N=6x6 Hopfield-network\n",
    "\n",
    "We study how a network stores and retrieve patterns. Using a small network of only 36 neurons allows us to have a close look at the network weights and dynamics."
   ]
  },
  {
   "cell_type": "markdown",
   "metadata": {},
   "source": [
    "### 8.3.1. Question: Storing a single pattern\n",
    "#### [2 + 2 + 3 points]\n",
    "\n",
    "Modify the Python code given above to implement this exercise:\n",
    "\n",
    "Create a network with N=36 neurons.\n",
    "Create a single 6 by 6 checkerboard pattern.\n",
    "Store the checkerboard in the network.\n",
    "Set the initial state of the network to a noisy version of the checkerboard (nr_flipped_pixels = 5).\n",
    "Let the network dynamics evolve for 5 iterations.\n",
    "Plot the sequence of network states along with the overlap of network state with the checkerboard.\n",
    "Now test whether the network can still retrieve the pattern if we increase the number of flipped pixels. "
   ]
  },
  {
   "cell_type": "code",
   "execution_count": 31,
   "metadata": {},
   "outputs": [],
   "source": [
    "# write your code here \n",
    "pattern_size = 6\n",
    "\n",
    "# create an instance of the class HopfieldNetwork\n",
    "hopfield_net = network.HopfieldNetwork(nr_neurons= pattern_size**2)\n",
    "# instantiate a pattern factory\n",
    "factory = pattern_tools.PatternFactory(pattern_size, pattern_size)\n",
    "# create a checkerboard pattern and add it to the pattern list\n",
    "checkerboard = factory.create_checkerboard()\n",
    "pattern_list = [checkerboard]\n",
    "\n",
    "# let the hopfield network \"learn\" the patterns. Note: they are not stored\n",
    "# explicitly but only network weights are updated !\n",
    "hopfield_net.store_patterns(pattern_list)\n",
    "\n",
    "# create a noisy version of a pattern and use that to initialize the network\n",
    "noisy_init_state = pattern_tools.flip_n(checkerboard, nr_of_flips=5)\n",
    "hopfield_net.set_state_from_pattern(noisy_init_state)\n",
    "\n",
    "# from this initial state, let the network dynamics evolve.\n",
    "states = hopfield_net.run_with_monitoring(nr_steps=5)\n",
    "states_as_patterns = factory.reshape_patterns(states)"
   ]
  },
  {
   "cell_type": "code",
   "execution_count": 33,
   "metadata": {},
   "outputs": [
    {
     "data": {
      "image/png": "[encoded data removed]",
      "text/plain": [
       "<Figure size 432x288 with 12 Axes>"
      ]
     },
     "metadata": {
      "needs_background": "light"
     },
     "output_type": "display_data"
    },
    {
     "name": "stdout",
     "output_type": "stream",
     "text": [
      "[0.72222222 1.         1.         1.         1.         1.        ]\n"
     ]
    }
   ],
   "source": [
    "# Plot the sequence of network states along with the overlap of network state with the checkerboard\n",
    "#pattern_list.extend(states_as_patterns)\n",
    "plot_tools.plot_state_sequence_and_overlap(states_as_patterns, pattern_list, \n",
    "                                           reference_idx=0, suptitle=\"Network dynamics\")\n",
    "\n",
    "overlap_list = pattern_tools.compute_overlap_list(checkerboard, states_as_patterns)\n",
    "print(overlap_list)\n"
   ]
  },
  {
   "cell_type": "markdown",
   "metadata": {},
   "source": [
    "What happens at nr_flipped_pixels = 18, what if nr_flipped_pixels > 18 ?"
   ]
  },
  {
   "cell_type": "markdown",
   "metadata": {},
   "source": [
    "your answer:\n",
    "\n",
    "At nr_of_flips = 18, exactly half the grid is going to be flipped randomly.\n",
    "\n",
    "At nr_of_flips > 18, more than half the grid has been flipped. This entails that the pattern retrieved is opposite to the one learned."
   ]
  },
  {
   "cell_type": "code",
   "execution_count": 87,
   "metadata": {},
   "outputs": [
    {
     "name": "stdout",
     "output_type": "stream",
     "text": [
      "Flip number: 10\n"
     ]
    },
    {
     "data": {
      "image/png": "[encoded data removed]",
      "text/plain": [
       "<Figure size 432x288 with 12 Axes>"
      ]
     },
     "metadata": {
      "needs_background": "light"
     },
     "output_type": "display_data"
    },
    {
     "name": "stdout",
     "output_type": "stream",
     "text": [
      "Flip number: 15\n"
     ]
    },
    {
     "data": {
      "image/png": "[encoded data removed]",
      "text/plain": [
       "<Figure size 432x288 with 12 Axes>"
      ]
     },
     "metadata": {
      "needs_background": "light"
     },
     "output_type": "display_data"
    },
    {
     "name": "stdout",
     "output_type": "stream",
     "text": [
      "Flip number: 18\n"
     ]
    },
    {
     "data": {
      "image/png": "[encoded data removed]",
      "text/plain": [
       "<Figure size 432x288 with 12 Axes>"
      ]
     },
     "metadata": {
      "needs_background": "light"
     },
     "output_type": "display_data"
    },
    {
     "name": "stdout",
     "output_type": "stream",
     "text": [
      "Flip number: 22\n"
     ]
    },
    {
     "data": {
      "image/png": "[encoded data removed]",
      "text/plain": [
       "<Figure size 432x288 with 12 Axes>"
      ]
     },
     "metadata": {
      "needs_background": "light"
     },
     "output_type": "display_data"
    },
    {
     "name": "stdout",
     "output_type": "stream",
     "text": [
      "Flip number: 26\n"
     ]
    },
    {
     "data": {
      "image/png": "[encoded data removed]",
      "text/plain": [
       "<Figure size 432x288 with 12 Axes>"
      ]
     },
     "metadata": {
      "needs_background": "light"
     },
     "output_type": "display_data"
    }
   ],
   "source": [
    "for flip in [10, 15, 18, 22, 26]:\n",
    "    \n",
    "# create an instance of the class HopfieldNetwork\n",
    "    print('Flip number: {}'. format(flip))\n",
    "    hopfield_net = network.HopfieldNetwork(nr_neurons= pattern_size**2)\n",
    "    # let the hopfield network \"learn\" the patterns. Note: they are not stored\n",
    "    # explicitly but only network weights are updated !\n",
    "    hopfield_net.store_patterns(pattern_list)\n",
    "\n",
    "    # create a noisy version of a pattern and use that to initialize the network\n",
    "    noisy_init_state = pattern_tools.flip_n(checkerboard, nr_of_flips=flip)\n",
    "    hopfield_net.set_state_from_pattern(noisy_init_state)\n",
    "\n",
    "    # from this initial state, let the network dynamics evolve.\n",
    "    states = hopfield_net.run_with_monitoring(nr_steps=5)\n",
    "    states_as_patterns = factory.reshape_patterns(states)\n",
    "\n",
    "    # Plot the sequence of network states along with the overlap of network state with the checkerboard\n",
    "    #pattern_list.extend(states_as_patterns)\n",
    "    plot_tools.plot_state_sequence_and_overlap(states_as_patterns, pattern_list, \n",
    "                                           reference_idx=0, suptitle=\"Network dynamics\")\n",
    "\n",
    "\n",
    "    overlap_list = pattern_tools.compute_overlap_list(checkerboard, states_as_patterns)\n",
    "    #print('Overlap: {}'.format(overlap_list))"
   ]
  },
  {
   "cell_type": "markdown",
   "metadata": {},
   "source": [
    "### 8.3.2. Question: the weights matrix\n",
    "#### [1 + 3 + 2 points]\n",
    "\n",
    "The patterns a Hopfield network learns are not stored explicitly. Instead, the network learns by adjusting the weights to the pattern set it is presented during learning. Let’s visualize this.\n",
    "\n",
    "1. Create a new 6x6 network. Do not yet store any pattern.\n",
    "2. What is the size of the network matrix?\n",
    "3. Visualize the weight matrix using the function [`plot_tools.plot_nework_weights()`](https://neuronaldynamics-exercises.readthedocs.io/en/latest/modules/neurodynex.hopfield_network.html#neurodynex.hopfield_network.plot_tools.plot_nework_weights). It takes the network as a parameter.\n",
    "4. Create a checkerboard, store it in the network.\n",
    "5. Plot the weights matrix. What weight values do occur?\n",
    "6. Create a new 6x6 network\n",
    "7. Create an L-shaped pattern (look at the pattern factory doc), store it in the network\n",
    "8. Plot the weights matrix. What weight values do occur?\n",
    "9. Create a new 6x6 network\n",
    "10. Create a checkerboard and an L-shaped pattern. Store both patterns in the network\n",
    "11. Plot the weights matrix. What weight values do occur? How does this matrix compare to the two previous matrices?\n",
    "\n",
    "***Note:*** The mapping of the 2 dimensional patterns onto the one dimensional list of network neurons is internal to the implementation of the network. You cannot know which pixel (x,y) in the pattern corresponds to which network neuron i."
   ]
  },
  {
   "cell_type": "code",
   "execution_count": 13,
   "metadata": {},
   "outputs": [
    {
     "name": "stdout",
     "output_type": "stream",
     "text": [
      "The size of the network is :(36, 36)\n"
     ]
    }
   ],
   "source": [
    "# write your code here: Bullet points 1-5 \n",
    "pattern_size = 6\n",
    "\n",
    "# create an instance of the class HopfieldNetwork\n",
    "hopfield_net = network.HopfieldNetwork(nr_neurons= pattern_size**2)\n",
    "\n",
    "print('The size of the network is :{}'.format(hopfield_net.weights.shape))"
   ]
  },
  {
   "cell_type": "code",
   "execution_count": 14,
   "metadata": {},
   "outputs": [
    {
     "data": {
      "image/png": "[encoded data removed]",
      "text/plain": [
       "<Figure size 432x288 with 2 Axes>"
      ]
     },
     "metadata": {
      "needs_background": "light"
     },
     "output_type": "display_data"
    }
   ],
   "source": [
    "plot_tools.plot_nework_weights(hopfield_net)"
   ]
  },
  {
   "cell_type": "code",
   "execution_count": 17,
   "metadata": {},
   "outputs": [],
   "source": [
    "# instantiate a pattern factory\n",
    "factory = pattern_tools.PatternFactory(pattern_size, pattern_size)\n",
    "# create a checkerboard pattern and add it to the pattern list\n",
    "checkerboard = factory.create_checkerboard()\n",
    "pattern_list = [checkerboard]\n",
    "# let the hopfield network \"learn\" the patterns. Note: they are not stored\n",
    "# explicitly but only network weights are updated !\n",
    "hopfield_net.store_patterns(pattern_list)"
   ]
  },
  {
   "cell_type": "code",
   "execution_count": 18,
   "metadata": {},
   "outputs": [
    {
     "data": {
      "image/png": "[encoded data removed]",
      "text/plain": [
       "<Figure size 432x288 with 2 Axes>"
      ]
     },
     "metadata": {
      "needs_background": "light"
     },
     "output_type": "display_data"
    }
   ],
   "source": [
    "plot_tools.plot_nework_weights(hopfield_net)"
   ]
  },
  {
   "cell_type": "code",
   "execution_count": 91,
   "metadata": {},
   "outputs": [
    {
     "data": {
      "image/png": "[encoded data removed]",
      "text/plain": [
       "<Figure size 432x288 with 1 Axes>"
      ]
     },
     "metadata": {
      "needs_background": "light"
     },
     "output_type": "display_data"
    }
   ],
   "source": [
    "# write your code here: Bullet points 6-11\n",
    "# create an instance of the class HopfieldNetwork\n",
    "hopfield_net2 = network.HopfieldNetwork(nr_neurons= pattern_size**2)\n",
    "\n",
    "l_pattern = factory.create_L_pattern()\n",
    "pattern_list = [l_pattern]\n",
    "# let the hopfield network \"learn\" the patterns. Note: they are not stored\n",
    "# explicitly but only network weights are updated !\n",
    "hopfield_net2.store_patterns(pattern_list)\n",
    "plot_tools.plot_pattern(l_pattern)"
   ]
  },
  {
   "cell_type": "code",
   "execution_count": 90,
   "metadata": {},
   "outputs": [
    {
     "data": {
      "image/png": "[encoded data removed]",
      "text/plain": [
       "<Figure size 432x288 with 2 Axes>"
      ]
     },
     "metadata": {
      "needs_background": "light"
     },
     "output_type": "display_data"
    }
   ],
   "source": [
    "plot_tools.plot_nework_weights(hopfield_net2)"
   ]
  },
  {
   "cell_type": "code",
   "execution_count": 92,
   "metadata": {},
   "outputs": [],
   "source": [
    "pattern_size = 6\n",
    "\n",
    "# create an instance of the class HopfieldNetwork\n",
    "hopfield_net3 = network.HopfieldNetwork(nr_neurons= pattern_size**2)"
   ]
  },
  {
   "cell_type": "code",
   "execution_count": 93,
   "metadata": {},
   "outputs": [],
   "source": [
    "pattern_list.append(checkerboard)\n",
    "# let the hopfield network \"learn\" the patterns. Note: they are not stored\n",
    "# explicitly but only network weights are updated !\n",
    "hopfield_net3.store_patterns(pattern_list)"
   ]
  },
  {
   "cell_type": "code",
   "execution_count": 94,
   "metadata": {},
   "outputs": [
    {
     "data": {
      "image/png": "[encoded data removed]",
      "text/plain": [
       "<Figure size 432x288 with 2 Axes>"
      ]
     },
     "metadata": {
      "needs_background": "light"
     },
     "output_type": "display_data"
    }
   ],
   "source": [
    "plot_tools.plot_nework_weights(hopfield_net3)"
   ]
  },
  {
   "cell_type": "markdown",
   "metadata": {},
   "source": [
    "How does this matrix compare to the two previous matrices?"
   ]
  },
  {
   "cell_type": "markdown",
   "metadata": {},
   "source": [
    "your answer:\n",
    "The result is the sum of the previous matrices, as in the equation."
   ]
  },
  {
   "cell_type": "markdown",
   "metadata": {},
   "source": [
    "### 8.3.3. Question: Weights Distribution\n",
    "#### *** Note:*** this exercise is NOT a bonus and it is graded\n",
    "#### [2 points]\n",
    "\n",
    "It’s interesting to look at the weights distribution in the three previous cases. You can easily plot a histogram by adding the following two lines to your script. It assumes you have stored your network in the variable ‘hopfield_net’. Explain the observed distribution (max 3 lines)."
   ]
  },
  {
   "cell_type": "code",
   "execution_count": 98,
   "metadata": {},
   "outputs": [
    {
     "data": {
      "image/png": "[encoded data removed]",
      "text/plain": [
       "<Figure size 432x288 with 1 Axes>"
      ]
     },
     "metadata": {
      "needs_background": "light"
     },
     "output_type": "display_data"
    }
   ],
   "source": [
    "plt.figure()\n",
    "plt.hist(hopfield_net.weights.flatten())\n",
    "plt.show()"
   ]
  },
  {
   "cell_type": "code",
   "execution_count": 99,
   "metadata": {},
   "outputs": [
    {
     "data": {
      "image/png": "[encoded data removed]",
      "text/plain": [
       "<Figure size 432x288 with 1 Axes>"
      ]
     },
     "metadata": {
      "needs_background": "light"
     },
     "output_type": "display_data"
    }
   ],
   "source": [
    "plt.figure()\n",
    "plt.hist(hopfield_net2.weights.flatten())\n",
    "plt.show()"
   ]
  },
  {
   "cell_type": "code",
   "execution_count": 100,
   "metadata": {},
   "outputs": [
    {
     "data": {
      "image/png": "[encoded data removed]",
      "text/plain": [
       "<Figure size 432x288 with 1 Axes>"
      ]
     },
     "metadata": {
      "needs_background": "light"
     },
     "output_type": "display_data"
    }
   ],
   "source": [
    "plt.figure()\n",
    "plt.hist(hopfield_net3.weights.flatten())\n",
    "plt.show()"
   ]
  },
  {
   "cell_type": "markdown",
   "metadata": {},
   "source": [
    "your answer"
   ]
  },
  {
   "cell_type": "markdown",
   "metadata": {},
   "source": [
    "## 8.4. Exercise: Capacity of an N=100 Hopfield-network\n",
    "\n",
    "Larger networks can store more patterns. There is a theoretical limit: the capacity of the Hopfield network. Read chapter [“17.2.4 Memory capacity”](http://neuronaldynamics.epfl.ch/online/Ch17.S2.html) to learn how memory retrieval, pattern completion and the network capacity are related."
   ]
  },
  {
   "cell_type": "markdown",
   "metadata": {},
   "source": [
    "### 8.4.1. Question:\n",
    "#### [2 points]\n",
    "\n",
    "A Hopfield network implements so called associative or content-adressable memory. Explain what this means. (max 4 lines)"
   ]
  },
  {
   "cell_type": "markdown",
   "metadata": {},
   "source": [
    "your answer:\n",
    "\n",
    "Hopfield Networks consist in a network of N binary neurons, associated to random patterns. These networks can mimic memory retrieval: when given a partial input, the network should converge to the pattern that is most similar to the initial input."
   ]
  },
  {
   "cell_type": "markdown",
   "metadata": {},
   "source": [
    "### 8.4.2. Question:\n",
    "#### [1 points]\n",
    "\n",
    "Using the value $C_{store}$\n",
    " given in the book, how many patterns can you store in a N=10x10 network? Use this number K in the next question:"
   ]
  },
  {
   "cell_type": "code",
   "execution_count": 114,
   "metadata": {},
   "outputs": [],
   "source": [
    "import numpy as np\n",
    "\n",
    "#from 17.2\n",
    "C_store = 0.138\n",
    "N = 100\n",
    "\n",
    "K = int(C_store * N) "
   ]
  },
  {
   "cell_type": "markdown",
   "metadata": {},
   "source": [
    "your answer "
   ]
  },
  {
   "cell_type": "code",
   "execution_count": 116,
   "metadata": {},
   "outputs": [
    {
     "name": "stdout",
     "output_type": "stream",
     "text": [
      "Maximum number of patterns: 13\n"
     ]
    }
   ],
   "source": [
    "print('Maximum number of patterns: {}'.format(K))"
   ]
  },
  {
   "cell_type": "markdown",
   "metadata": {},
   "source": [
    "### 8.4.3. Question:\n",
    "#### [3+2 points]\n",
    "\n",
    "Create an N=10x10 network and store a checkerboard pattern together with (K-1) random patterns. Then initialize the network with the unchanged checkerboard pattern. Let the network evolve for five iterations."
   ]
  },
  {
   "cell_type": "code",
   "execution_count": 160,
   "metadata": {},
   "outputs": [
    {
     "data": {
      "image/png": "[encoded data removed]",
      "text/plain": [
       "<Figure size 432x288 with 13 Axes>"
      ]
     },
     "metadata": {
      "needs_background": "light"
     },
     "output_type": "display_data"
    },
    {
     "data": {
      "image/png": "[encoded data removed]",
      "text/plain": [
       "<Figure size 432x288 with 2 Axes>"
      ]
     },
     "metadata": {
      "needs_background": "light"
     },
     "output_type": "display_data"
    },
    {
     "data": {
      "image/png": "[encoded data removed]",
      "text/plain": [
       "<Figure size 432x288 with 2 Axes>"
      ]
     },
     "metadata": {
      "needs_background": "light"
     },
     "output_type": "display_data"
    },
    {
     "data": {
      "image/png": "[encoded data removed]",
      "text/plain": [
       "<Figure size 432x288 with 12 Axes>"
      ]
     },
     "metadata": {
      "needs_background": "light"
     },
     "output_type": "display_data"
    }
   ],
   "source": [
    "# write your code here\n",
    "\n",
    "pattern_size = 10\n",
    "hopfield_net = network.HopfieldNetwork(pattern_size**2)\n",
    "factory = pattern_tools.PatternFactory(pattern_size, pattern_size)\n",
    "checkerboard = factory.create_checkerboard()\n",
    "pattern_list = [checkerboard]\n",
    "# add random patterns to the list\n",
    "pattern_list.extend(factory.create_random_pattern_list(nr_patterns=K-1, on_probability=0.5))\n",
    "hopfield_net.store_patterns(pattern_list)\n",
    "plot_tools.plot_pattern_list(pattern_list)\n",
    "\n",
    "overlap_matrix = pattern_tools.compute_overlap_matrix(pattern_list)\n",
    "plot_tools.plot_overlap_matrix(overlap_matrix)\n",
    "\n",
    "hopfield_net.set_state_from_pattern(checkerboard)\n",
    "states = hopfield_net.run_with_monitoring(nr_steps=5)\n",
    "plot_tools.plot_nework_weights(hopfield_net)\n",
    "\n",
    "states_as_patterns = factory.reshape_patterns(states)\n",
    "\n",
    "plot_tools.plot_state_sequence_and_overlap(states_as_patterns, pattern_list, reference_idx=0)"
   ]
  },
  {
   "cell_type": "markdown",
   "metadata": {},
   "source": [
    "Rerun your script a few times. What do you observe?"
   ]
  },
  {
   "cell_type": "markdown",
   "metadata": {},
   "source": [
    "your answer:\n",
    "\n",
    "In some cases, the overlap for the states 1 to 5 is lower than 1. \n",
    "This is due to the fact that the correlation between the pattern of checkerboard and some random patterns is positive and quite large. This can bias the weights of the network and introduce errors in the reconstruction. To avoid this, the patterns learned by the network should be perfectly uncorrelated."
   ]
  },
  {
   "cell_type": "markdown",
   "metadata": {},
   "source": [
    "## 8.5. Exercise: Non-random patterns\n",
    "\n",
    "In the previous exercises we used random patterns. Now we us a list of structured patterns: the letters A to Z. Each letter is represented in a 10 by 10 grid."
   ]
  },
  {
   "cell_type": "markdown",
   "metadata": {},
   "source": [
    "### 8.5.1. Question:\n",
    "\n",
    "Run the following code. Read the inline comments and look up the doc of functions you do not know."
   ]
  },
  {
   "cell_type": "code",
   "execution_count": 196,
   "metadata": {},
   "outputs": [
    {
     "name": "stdout",
     "output_type": "stream",
     "text": [
      "the alphabet is stored in an object of type: <type 'dict'>\n",
      "letters are patterns of size: (10, 10). Create a network of corresponding size\n"
     ]
    },
    {
     "data": {
      "image/png": "[encoded data removed]",
      "text/plain": [
       "<Figure size 432x288 with 7 Axes>"
      ]
     },
     "metadata": {
      "needs_background": "light"
     },
     "output_type": "display_data"
    },
    {
     "data": {
      "image/png": "[encoded data removed]",
      "text/plain": [
       "<Figure size 432x288 with 10 Axes>"
      ]
     },
     "metadata": {
      "needs_background": "light"
     },
     "output_type": "display_data"
    }
   ],
   "source": [
    "%matplotlib inline\n",
    "import matplotlib.pyplot as plt\n",
    "from neurodynex.hopfield_network import network, pattern_tools, plot_tools\n",
    "import numpy\n",
    "\n",
    "# the letters we want to store in the hopfield network\n",
    "letter_list = ['A', 'B', 'C', 'S', 'X', 'Y', 'Z']\n",
    "\n",
    "# set a seed to reproduce the same noise in the next run\n",
    "# numpy.random.seed(123)\n",
    "\n",
    "abc_dictionary =pattern_tools.load_alphabet()\n",
    "print(\"the alphabet is stored in an object of type: {}\".format(type(abc_dictionary)))\n",
    "# access the first element and get it's size (they are all of same size)\n",
    "pattern_shape = abc_dictionary['A'].shape\n",
    "print(\"letters are patterns of size: {}. Create a network of corresponding size\".format(pattern_shape))\n",
    "# create an instance of the class HopfieldNetwork\n",
    "hopfield_net = network.HopfieldNetwork(nr_neurons= pattern_shape[0]*pattern_shape[1])\n",
    "\n",
    "# create a list using Pythons List Comprehension syntax:\n",
    "pattern_list = [abc_dictionary[key] for key in letter_list ]\n",
    "plot_tools.plot_pattern_list(pattern_list)\n",
    "\n",
    "# store the patterns\n",
    "hopfield_net.store_patterns(pattern_list)\n",
    "\n",
    "# # create a noisy version of a pattern and use that to initialize the network\n",
    "noisy_init_state = pattern_tools.get_noisy_copy(abc_dictionary['A'], noise_level=0.2)\n",
    "hopfield_net.set_state_from_pattern(noisy_init_state)\n",
    "\n",
    "# from this initial state, let the network dynamics evolve.\n",
    "states = hopfield_net.run_with_monitoring(nr_steps=4)\n",
    "\n",
    "# each network state is a vector. reshape it to the same shape used to create the patterns.\n",
    "states_as_patterns = pattern_tools.reshape_patterns(states, pattern_list[0].shape)\n",
    "\n",
    "# plot the states of the network\n",
    "plot_tools.plot_state_sequence_and_overlap(\n",
    "    states_as_patterns, pattern_list, reference_idx=0, suptitle=\"Network dynamics\")"
   ]
  },
  {
   "cell_type": "markdown",
   "metadata": {},
   "source": [
    "### 8.5.2. Question:\n",
    "#### [2 + 3 points]\n",
    "\n",
    "Add the letter ‘R’ to the letter list and store it in the network."
   ]
  },
  {
   "cell_type": "code",
   "execution_count": 204,
   "metadata": {},
   "outputs": [
    {
     "data": {
      "image/png": "[encoded data removed]",
      "text/plain": [
       "<Figure size 432x288 with 8 Axes>"
      ]
     },
     "metadata": {
      "needs_background": "light"
     },
     "output_type": "display_data"
    },
    {
     "data": {
      "image/png": "[encoded data removed]",
      "text/plain": [
       "<Figure size 432x288 with 2 Axes>"
      ]
     },
     "metadata": {
      "needs_background": "light"
     },
     "output_type": "display_data"
    },
    {
     "data": {
      "image/png": "[encoded data removed]",
      "text/plain": [
       "<Figure size 432x288 with 10 Axes>"
      ]
     },
     "metadata": {
      "needs_background": "light"
     },
     "output_type": "display_data"
    }
   ],
   "source": [
    "import copy\n",
    "\n",
    "# write your code here\n",
    "pattern_list_r = copy.deepcopy(pattern_list)\n",
    "\n",
    "pattern_list_r.append(abc_dictionary['R'])\n",
    "\n",
    "hopfield_net.store_patterns(pattern_list_r)\n",
    "plot_tools.plot_pattern_list(pattern_list_r)\n",
    "\n",
    "overlap_matrix = pattern_tools.compute_overlap_matrix(pattern_list_r)\n",
    "plot_tools.plot_overlap_matrix(overlap_matrix)\n",
    "\n",
    "# # create a noisy version of a pattern and use that to initialize the network\n",
    "noisy_init_state = pattern_tools.get_noisy_copy(abc_dictionary['A'], noise_level=0.2)\n",
    "hopfield_net.set_state_from_pattern(noisy_init_state)\n",
    "\n",
    "# from this initial state, let the network dynamics evolve.\n",
    "states = hopfield_net.run_with_monitoring(nr_steps=4)\n",
    "\n",
    "# each network state is a vector. reshape it to the same shape used to create the patterns.\n",
    "states_as_patterns = pattern_tools.reshape_patterns(states, pattern_list[0].shape)\n",
    "\n",
    "# plot the states of the network\n",
    "plot_tools.plot_state_sequence_and_overlap(\n",
    "    states_as_patterns, pattern_list, reference_idx=0, suptitle=\"Network dynamics\")"
   ]
  },
  {
   "cell_type": "markdown",
   "metadata": {},
   "source": [
    "Is the pattern ‘A’ still a fixed point? Does the overlap between the network state and the reference pattern ‘A’ always decrease? (max 3 lines)"
   ]
  },
  {
   "cell_type": "raw",
   "metadata": {},
   "source": [
    "your answer:\n",
    "\n",
    "No, 'A' is not a fixed point anymore. The convergence is not stable and the evolution of the states introduces errors in the reconstruction. The overlap increases first, then decreases. We can see from the overlap matrix between patterns that 'R' and 'A' have quite an high correlation, which is biasing the result.  "
   ]
  },
  {
   "cell_type": "markdown",
   "metadata": {},
   "source": [
    "### 8.5.3. Question:\n",
    "#### [3 + 3 points]\n",
    "\n",
    "Make a guess of how many letters the network can store. Then create a (small) set of letters. Check if all letters of your list are fixed points under the network dynamics. "
   ]
  },
  {
   "cell_type": "code",
   "execution_count": 210,
   "metadata": {},
   "outputs": [
    {
     "name": "stdout",
     "output_type": "stream",
     "text": [
      "the alphabet is stored in an object of type: <type 'dict'>\n",
      "letters are patterns of size: (10, 10). Create a network of corresponding size\n"
     ]
    },
    {
     "data": {
      "image/png": "[encoded data removed]",
      "text/plain": [
       "<Figure size 432x288 with 6 Axes>"
      ]
     },
     "metadata": {
      "needs_background": "light"
     },
     "output_type": "display_data"
    },
    {
     "data": {
      "image/png": "[encoded data removed]",
      "text/plain": [
       "<Figure size 432x288 with 2 Axes>"
      ]
     },
     "metadata": {
      "needs_background": "light"
     },
     "output_type": "display_data"
    },
    {
     "data": {
      "image/png": "[encoded data removed]",
      "text/plain": [
       "<Figure size 432x288 with 10 Axes>"
      ]
     },
     "metadata": {
      "needs_background": "light"
     },
     "output_type": "display_data"
    },
    {
     "data": {
      "image/png": "[encoded data removed]",
      "text/plain": [
       "<Figure size 432x288 with 10 Axes>"
      ]
     },
     "metadata": {
      "needs_background": "light"
     },
     "output_type": "display_data"
    },
    {
     "data": {
      "image/png": "[encoded data removed]",
      "text/plain": [
       "<Figure size 432x288 with 10 Axes>"
      ]
     },
     "metadata": {
      "needs_background": "light"
     },
     "output_type": "display_data"
    },
    {
     "data": {
      "image/png": "[encoded data removed]",
      "text/plain": [
       "<Figure size 432x288 with 10 Axes>"
      ]
     },
     "metadata": {
      "needs_background": "light"
     },
     "output_type": "display_data"
    },
    {
     "data": {
      "image/png": "[encoded data removed]",
      "text/plain": [
       "<Figure size 432x288 with 10 Axes>"
      ]
     },
     "metadata": {
      "needs_background": "light"
     },
     "output_type": "display_data"
    },
    {
     "data": {
      "image/png": "[encoded data removed]",
      "text/plain": [
       "<Figure size 432x288 with 10 Axes>"
      ]
     },
     "metadata": {
      "needs_background": "light"
     },
     "output_type": "display_data"
    }
   ],
   "source": [
    "# write your code here\n",
    "\n",
    "# the letters we want to store in the hopfield network\n",
    "letter_list = ['D', 'E', 'F', 'G', 'H', 'I']\n",
    "\n",
    "# set a seed to reproduce the same noise in the next run\n",
    "# numpy.random.seed(123)\n",
    "\n",
    "abc_dictionary =pattern_tools.load_alphabet()\n",
    "print(\"the alphabet is stored in an object of type: {}\".format(type(abc_dictionary)))\n",
    "# access the first element and get it's size (they are all of same size)\n",
    "pattern_shape = abc_dictionary['A'].shape\n",
    "print(\"letters are patterns of size: {}. Create a network of corresponding size\".format(pattern_shape))\n",
    "# create an instance of the class HopfieldNetwork\n",
    "hopfield_net = network.HopfieldNetwork(nr_neurons= pattern_shape[0]*pattern_shape[1])\n",
    "\n",
    "# create a list using Pythons List Comprehension syntax:\n",
    "pattern_list = [abc_dictionary[key] for key in letter_list ]\n",
    "plot_tools.plot_pattern_list(pattern_list)\n",
    "\n",
    "# store the patterns\n",
    "hopfield_net.store_patterns(pattern_list)\n",
    "overlap_matrix = pattern_tools.compute_overlap_matrix(pattern_list)\n",
    "plot_tools.plot_overlap_matrix(overlap_matrix)\n",
    "\n",
    "# # create a noisy version of a pattern and use that to initialize the network\n",
    "\n",
    "for i, letter in enumerate(letter_list):\n",
    "    noisy_init_state = pattern_tools.get_noisy_copy(abc_dictionary[letter], noise_level=0.2)\n",
    "    hopfield_net.set_state_from_pattern(noisy_init_state)\n",
    "\n",
    "    # from this initial state, let the network dynamics evolve.\n",
    "    states = hopfield_net.run_with_monitoring(nr_steps=4)\n",
    "\n",
    "    # each network state is a vector. reshape it to the same shape used to create the patterns.\n",
    "    states_as_patterns = pattern_tools.reshape_patterns(states, pattern_list[0].shape)\n",
    "\n",
    "    # plot the states of the network\n",
    "    plot_tools.plot_state_sequence_and_overlap(\n",
    "        states_as_patterns, pattern_list, reference_idx=i, suptitle=\"Network dynamics\")"
   ]
  },
  {
   "cell_type": "markdown",
   "metadata": {},
   "source": [
    "Explain the discrepancy between the network capacity C (computed above) and your observation. (max 4 lines)"
   ]
  },
  {
   "cell_type": "markdown",
   "metadata": {},
   "source": [
    "your answer:\n",
    "\n",
    "If the patterns are too correlated, the network will not be able to clearly distinguish between patterns. Indeed, in this case it seems to converge towards the 'D' pattern, only to diverge towards the 'E' pattern after a few iterations. This confirms that 'D' is not a fixed point. The same observations can be made for the 'F', which also converges to a 'E'."
   ]
  },
  {
   "cell_type": "markdown",
   "metadata": {},
   "source": [
    "## 8.6 Low activity attractor network\n",
    "\n",
    "Hopfield networks are a useful abstraction in order to understand how associative memory works. \n",
    "However they are quite far from biological plausibility. One step towards a more bioplausible attractor network is to consider sparse patterns. In the traditional Hopfield network you have analysed so far, each pattern counts 50% of active units, now we consider patterns that only have a small fraction `f` of active units. \n",
    "\n",
    "A simple low activity attractor network is described in this [paper](https://www.mitpressjournals.org/doi/full/10.1162/NECO_a_00499) (\"Scaling Laws of Associative Memory Retrieval\" by Sandro Romani, Itai Pinkoviezky, Alon Rubin and Misha Tsodyks). \n",
    "The goal of this exercise is to understand the network model proposed in the first part of the paper and reproduce Fig.1.\n",
    "\n",
    "Start by reading the introduction, ***section 2.1*** and ***A.1*** of the paper (that's all you'll need for the exercise).\n",
    "\n",
    "***Note:*** In what follows we stick to the same notation of the paper. If you are confused about the meaning of a variable, you know were to find it!"
   ]
  },
  {
   "cell_type": "markdown",
   "metadata": {},
   "source": [
    "### 8.6.1 Patterns and weight matrix\n",
    "#### [1 + 2 + 2  points]\n",
    "\n",
    "Start by implementing L sparse patterns. You can store them into a $L\\times N$ matrix called `items`. In what follows, use the indications given in the comments."
   ]
  },
  {
   "cell_type": "code",
   "execution_count": 211,
   "metadata": {},
   "outputs": [],
   "source": [
    "import numpy as np\n",
    "import matplotlib.pyplot as plt"
   ]
  },
  {
   "cell_type": "code",
   "execution_count": 265,
   "metadata": {},
   "outputs": [
    {
     "name": "stdout",
     "output_type": "stream",
     "text": [
      "J0_min: 0.7, J0_max: 1.2\n"
     ]
    }
   ],
   "source": [
    "## Initialize the parameters like in the paper ## \n",
    "N = 3000\n",
    "L = 16\n",
    "f = 0.1\n",
    "T = 0.015\n",
    "Dth = 1.9*T\n",
    "Tth = 45\n",
    "TJ0 = 25\n",
    "min_J0 = 0.7 #1 - 2*f + T/f #0.7\n",
    "max_J0 = 1.2 #2 - 2*f + T/f #1.2\n",
    "timesteps = 1000  ## for this one, check out Fig.1\n",
    "np.random.seed(26) ## KEEP THE SEED FIXED FOR CORRECTION ##\n",
    "\n",
    "print('J0_min: {}, J0_max: {}'.format(min_J0, max_J0))"
   ]
  },
  {
   "cell_type": "code",
   "execution_count": 391,
   "metadata": {},
   "outputs": [
    {
     "name": "stdout",
     "output_type": "stream",
     "text": [
      "('Shape of items', (16, 3000))\n",
      "('Shape of items', (3000, 3000))\n"
     ]
    }
   ],
   "source": [
    "## Initialize patterns and weights (!!! for loops = -1 point !!!)\n",
    "\n",
    "## find the right probability distibution within the numpy.random library\n",
    "items = [np.random.choice([0, 1], N, p = [1-f, f]) for i in range(L)]\n",
    "## Check that items has the right shape\n",
    "print(\"Shape of items\",  np.shape(items))\n",
    "\n",
    "items_sub = np.array(items) - f\n",
    " ## implement the definition of the weight matrix, find the right numpy function for matrix multiplication\n",
    "J = 1/(N*f*(1-f)) * np.dot(items_sub.T, items_sub)\n",
    "## Check that J has the right shape\n",
    "print(\"Shape of items\",  np.shape(J))"
   ]
  },
  {
   "cell_type": "markdown",
   "metadata": {},
   "source": [
    "Explain why we need to subtract `f` in the weight formula. (max 5 lines)\n",
    "#### [4 points]"
   ]
  },
  {
   "cell_type": "markdown",
   "metadata": {},
   "source": [
    "your answer:\n",
    "\n",
    "The parameter f represents the sparseness of the weight matrix. We subtract it as it acts like an average of the matrix."
   ]
  },
  {
   "cell_type": "markdown",
   "metadata": {},
   "source": [
    "Now initialize the threshold.\n",
    "#### [2  points]"
   ]
  },
  {
   "cell_type": "code",
   "execution_count": 392,
   "metadata": {},
   "outputs": [
    {
     "name": "stdout",
     "output_type": "stream",
     "text": [
      "[ 0.01264895 -0.00378594 -0.01247651 ... -0.01005697  0.01497814\n",
      "  0.00707651]\n"
     ]
    }
   ],
   "source": [
    "## Initilize the threshold\n",
    "thresh =  np.random.uniform(-T, T, N)## find the right probability distibution within the numpy.random library\n",
    "print(thresh)\n",
    "\n",
    "thresh_0 = thresh.copy()  "
   ]
  },
  {
   "cell_type": "markdown",
   "metadata": {},
   "source": [
    "### 8.6.2 Dynamical evolution\n",
    "Now implement a function that let the state of the system evolve (for Fig.1A) and a second one which computes the overlaps between items (for Fig.1B) (use again the right numpy function for matrix multiplication and check out a numpy function for $\\Theta$).\n",
    "\n",
    "***Note:*** Don't confuse the overlap between the current state and the stored patterns and the overlap between patterns.\n",
    "#### [4 + 1 points]"
   ]
  },
  {
   "cell_type": "code",
   "execution_count": 435,
   "metadata": {},
   "outputs": [],
   "source": [
    "def evolve(V_,thresh_,J0_):\n",
    "    overlap_ = [overlap_mat(V_, it) for it in items] ## write the overlap formula at time t \n",
    "    print(overlap_)\n",
    "    #print('overlap: ', overlap_)\n",
    "    V_old = V_\n",
    "    #print('old V: ', V_)\n",
    "    ## write the update formula for time t+1\n",
    "    V_ = np.heaviside(np.dot(J, V_old) - J0_/(N*f)*np.sum(V_old - thresh_), V_old) \n",
    "    print(V_)\n",
    "    ## update the threshold for time t+1\n",
    "    thresh_ -= (thresh_ - thresh_0 - Dth * V_)/Tth\n",
    "    return V_, thresh_, overlap_\n",
    "\n",
    "def overlap_mat(a,b):\n",
    "     ## if a and b are two patterns, what's the overlap between them?\n",
    "    return float(np.sum(a*b))/len(a)"
   ]
  },
  {
   "cell_type": "markdown",
   "metadata": {},
   "source": [
    "Run the dynamics and plot $J_0(t)$.\n",
    "#### [4 + 1  points]"
   ]
  },
  {
   "cell_type": "code",
   "execution_count": 473,
   "metadata": {},
   "outputs": [
    {
     "name": "stdout",
     "output_type": "stream",
     "text": [
      "[-0.01261953  0.0037173   0.01437266 ...  0.01171331 -0.01277239\n",
      "  0.00297621]\n",
      "[0.014333333333333333, 0.012333333333333333, 0.011333333333333334, 0.015, 0.012666666666666666, 0.011333333333333334, 0.009333333333333334, 0.009666666666666667, 0.011333333333333334, 0.11066666666666666, 0.008333333333333333, 0.011333333333333334, 0.012333333333333333, 0.011, 0.011333333333333334, 0.01]\n",
      "[0. 0. 0. ... 0. 0. 0.]\n",
      "[0.002, 0.001, 0.0006666666666666666, 0.0023333333333333335, 0.0013333333333333333, 0.0, 0.0, 0.0, 0.0013333333333333333, 0.003, 0.0, 0.0006666666666666666, 0.0013333333333333333, 0.0006666666666666666, 0.0006666666666666666, 0.0003333333333333333]\n",
      "[0. 0. 0. ... 0. 0. 0.]\n",
      "[0.015666666666666666, 0.008, 0.004, 0.019, 0.006333333333333333, 0.0023333333333333335, 0.0026666666666666666, 0.003, 0.007, 0.029666666666666668, 0.0033333333333333335, 0.005, 0.007, 0.005666666666666667, 0.004666666666666667, 0.004333333333333333]\n",
      "[0. 0. 0. ... 0. 0. 0.]\n",
      "[0.008, 0.004666666666666667, 0.001, 0.015, 0.0026666666666666666, 0.0023333333333333335, 0.0016666666666666668, 0.002, 0.0036666666666666666, 0.021, 0.0023333333333333335, 0.0026666666666666666, 0.004666666666666667, 0.004, 0.0026666666666666666, 0.002]\n",
      "[0. 0. 0. ... 0. 0. 0.]\n",
      "[0.007333333333333333, 0.004666666666666667, 0.001, 0.015, 0.002, 0.002, 0.0016666666666666668, 0.002, 0.0036666666666666666, 0.02033333333333333, 0.0023333333333333335, 0.0026666666666666666, 0.004666666666666667, 0.004, 0.0026666666666666666, 0.002]\n",
      "[0. 0. 0. ... 0. 0. 0.]\n",
      "[0.006666666666666667, 0.004666666666666667, 0.001, 0.015, 0.002, 0.002, 0.0016666666666666668, 0.0016666666666666668, 0.003, 0.019666666666666666, 0.0023333333333333335, 0.0026666666666666666, 0.004666666666666667, 0.004, 0.0026666666666666666, 0.002]\n",
      "[0. 0. 0. ... 0. 0. 0.]\n",
      "[0.005, 0.004333333333333333, 0.001, 0.015, 0.0016666666666666668, 0.0016666666666666668, 0.0016666666666666668, 0.0013333333333333333, 0.0026666666666666666, 0.018, 0.0023333333333333335, 0.0023333333333333335, 0.0036666666666666666, 0.0036666666666666666, 0.0026666666666666666, 0.0013333333333333333]\n",
      "[0. 0. 0. ... 0. 0. 0.]\n",
      "[0.003, 0.0033333333333333335, 0.001, 0.015, 0.0013333333333333333, 0.0016666666666666668, 0.0013333333333333333, 0.0013333333333333333, 0.0026666666666666666, 0.016, 0.0016666666666666668, 0.0016666666666666668, 0.0023333333333333335, 0.003, 0.0023333333333333335, 0.0013333333333333333]\n",
      "[0. 0. 0. ... 0. 0. 0.]\n",
      "[0.002, 0.0023333333333333335, 0.001, 0.015, 0.0013333333333333333, 0.0016666666666666668, 0.0013333333333333333, 0.001, 0.0026666666666666666, 0.015, 0.0016666666666666668, 0.0016666666666666668, 0.0016666666666666668, 0.0023333333333333335, 0.0016666666666666668, 0.0013333333333333333]\n",
      "[0. 0. 0. ... 0. 0. 0.]\n",
      "[0.002, 0.0023333333333333335, 0.001, 0.015, 0.0013333333333333333, 0.0016666666666666668, 0.0013333333333333333, 0.001, 0.0026666666666666666, 0.015, 0.0016666666666666668, 0.0016666666666666668, 0.0016666666666666668, 0.0023333333333333335, 0.0016666666666666668, 0.0013333333333333333]\n",
      "[0. 0. 0. ... 0. 0. 0.]\n",
      "[0.002, 0.0023333333333333335, 0.001, 0.015, 0.0013333333333333333, 0.0016666666666666668, 0.0013333333333333333, 0.001, 0.0026666666666666666, 0.015, 0.0016666666666666668, 0.0016666666666666668, 0.0016666666666666668, 0.0023333333333333335, 0.0016666666666666668, 0.0013333333333333333]\n",
      "[0. 0. 0. ... 0. 0. 0.]\n",
      "[0.002, 0.0023333333333333335, 0.001, 0.015, 0.0013333333333333333, 0.0016666666666666668, 0.0013333333333333333, 0.001, 0.0026666666666666666, 0.015, 0.0016666666666666668, 0.0016666666666666668, 0.0016666666666666668, 0.0023333333333333335, 0.0016666666666666668, 0.0013333333333333333]\n",
      "[0. 0. 0. ... 0. 0. 0.]\n",
      "[0.002, 0.0023333333333333335, 0.001, 0.015, 0.0013333333333333333, 0.0016666666666666668, 0.0013333333333333333, 0.001, 0.0026666666666666666, 0.015, 0.0016666666666666668, 0.0016666666666666668, 0.0016666666666666668, 0.0023333333333333335, 0.0016666666666666668, 0.0013333333333333333]\n",
      "[0. 0. 0. ... 0. 0. 0.]\n",
      "[0.002, 0.0026666666666666666, 0.001, 0.015333333333333332, 0.0013333333333333333, 0.0016666666666666668, 0.0013333333333333333, 0.001, 0.003, 0.015, 0.002, 0.0016666666666666668, 0.0016666666666666668, 0.0026666666666666666, 0.0016666666666666668, 0.0013333333333333333]\n",
      "[0. 0. 0. ... 0. 0. 0.]\n",
      "[0.0026666666666666666, 0.004, 0.001, 0.017333333333333333, 0.0023333333333333335, 0.002, 0.0016666666666666668, 0.001, 0.005333333333333333, 0.01633333333333333, 0.0023333333333333335, 0.002, 0.0023333333333333335, 0.005666666666666667, 0.002, 0.0013333333333333333]\n",
      "[0. 0. 0. ... 0. 0. 0.]\n",
      "[0.004666666666666667, 0.006, 0.0016666666666666668, 0.029666666666666668, 0.007, 0.0036666666666666666, 0.0023333333333333335, 0.0026666666666666666, 0.011666666666666667, 0.02, 0.005333333333333333, 0.003, 0.004333333333333333, 0.015333333333333332, 0.003, 0.0033333333333333335]\n",
      "[0. 0. 0. ... 0. 1. 0.]\n",
      "[0.0033333333333333335, 0.004666666666666667, 0.003, 0.03233333333333333, 0.006, 0.004, 0.0033333333333333335, 0.0036666666666666666, 0.012, 0.01633333333333333, 0.005, 0.0026666666666666666, 0.0033333333333333335, 0.014, 0.0033333333333333335, 0.0036666666666666666]\n",
      "[0. 0. 0. ... 0. 1. 0.]\n",
      "[0.005333333333333333, 0.010333333333333333, 0.005333333333333333, 0.051, 0.012666666666666666, 0.005666666666666667, 0.005, 0.007, 0.012, 0.016, 0.011, 0.003, 0.0036666666666666666, 0.013666666666666667, 0.005, 0.007]\n",
      "[0. 0. 0. ... 0. 1. 0.]\n",
      "[0.010666666666666666, 0.010666666666666666, 0.011, 0.10566666666666667, 0.012333333333333333, 0.011666666666666667, 0.009333333333333334, 0.012333333333333333, 0.011, 0.015, 0.011, 0.009666666666666667, 0.006, 0.012666666666666666, 0.009666666666666667, 0.009666666666666667]\n",
      "[0. 0. 0. ... 0. 1. 0.]\n",
      "[0.010666666666666666, 0.010666666666666666, 0.011, 0.106, 0.012333333333333333, 0.011666666666666667, 0.009333333333333334, 0.012333333333333333, 0.011, 0.015, 0.011, 0.01, 0.006333333333333333, 0.012666666666666666, 0.01, 0.009666666666666667]\n",
      "[0. 0. 0. ... 0. 1. 0.]\n",
      "[0.010666666666666666, 0.010666666666666666, 0.011, 0.106, 0.012333333333333333, 0.011666666666666667, 0.009333333333333334, 0.012333333333333333, 0.011, 0.015, 0.011, 0.01, 0.006333333333333333, 0.012666666666666666, 0.01, 0.009666666666666667]\n",
      "[0. 0. 0. ... 0. 1. 0.]\n",
      "[0.010666666666666666, 0.010666666666666666, 0.011, 0.106, 0.012333333333333333, 0.011666666666666667, 0.009333333333333334, 0.012333333333333333, 0.011, 0.015, 0.011, 0.01, 0.006333333333333333, 0.012666666666666666, 0.01, 0.009666666666666667]\n",
      "[0. 0. 0. ... 0. 1. 0.]\n",
      "[0.010666666666666666, 0.010666666666666666, 0.011, 0.106, 0.012333333333333333, 0.011666666666666667, 0.009333333333333334, 0.012333333333333333, 0.011, 0.015, 0.011, 0.01, 0.006333333333333333, 0.012666666666666666, 0.01, 0.009666666666666667]\n",
      "[0. 0. 0. ... 0. 1. 0.]\n",
      "[0.010666666666666666, 0.010666666666666666, 0.011, 0.106, 0.012333333333333333, 0.011666666666666667, 0.009333333333333334, 0.012333333333333333, 0.011, 0.015, 0.011, 0.01, 0.006333333333333333, 0.012666666666666666, 0.01, 0.009666666666666667]\n",
      "[0. 0. 0. ... 0. 1. 0.]\n",
      "[0.010666666666666666, 0.010666666666666666, 0.011, 0.106, 0.012333333333333333, 0.011666666666666667, 0.009333333333333334, 0.012333333333333333, 0.011, 0.015, 0.011, 0.01, 0.006333333333333333, 0.012666666666666666, 0.01, 0.009666666666666667]\n",
      "[0. 0. 0. ... 0. 1. 0.]\n",
      "[0.009666666666666667, 0.009666666666666667, 0.010333333333333333, 0.09566666666666666, 0.012, 0.011333333333333334, 0.005666666666666667, 0.011666666666666667, 0.010666666666666666, 0.015, 0.010666666666666666, 0.008666666666666666, 0.0016666666666666668, 0.011666666666666667, 0.007666666666666666, 0.007666666666666666]\n",
      "[0. 0. 0. ... 0. 0. 0.]\n",
      "[0.001, 0.003, 0.0013333333333333333, 0.015333333333333332, 0.0033333333333333335, 0.0023333333333333335, 0.0, 0.0026666666666666666, 0.004333333333333333, 0.011333333333333334, 0.0023333333333333335, 0.0013333333333333333, 0.0, 0.0036666666666666666, 0.0006666666666666666, 0.0]\n",
      "[0. 0. 0. ... 0. 0. 0.]\n",
      "[0.0023333333333333335, 0.004333333333333333, 0.0016666666666666668, 0.024666666666666667, 0.006333333333333333, 0.004, 0.002, 0.003, 0.009, 0.015333333333333332, 0.004666666666666667, 0.0016666666666666668, 0.0016666666666666668, 0.007, 0.002, 0.0016666666666666668]\n",
      "[0. 0. 0. ... 0. 0. 0.]\n",
      "[0.0023333333333333335, 0.004, 0.0016666666666666668, 0.02266666666666667, 0.006, 0.0036666666666666666, 0.002, 0.002, 0.008333333333333333, 0.015333333333333332, 0.004333333333333333, 0.0016666666666666668, 0.0016666666666666668, 0.006333333333333333, 0.002, 0.002]\n",
      "[0. 0. 0. ... 0. 0. 0.]\n",
      "[0.0023333333333333335, 0.0033333333333333335, 0.0016666666666666668, 0.021, 0.005333333333333333, 0.003, 0.002, 0.0013333333333333333, 0.007666666666666666, 0.015333333333333332, 0.004, 0.0016666666666666668, 0.0016666666666666668, 0.005666666666666667, 0.0016666666666666668, 0.0016666666666666668]\n",
      "[0. 0. 0. ... 0. 0. 0.]\n",
      "[0.0023333333333333335, 0.003, 0.0016666666666666668, 0.019333333333333334, 0.004666666666666667, 0.003, 0.002, 0.001, 0.007, 0.015333333333333332, 0.003, 0.0016666666666666668, 0.0016666666666666668, 0.004666666666666667, 0.0016666666666666668, 0.0016666666666666668]\n",
      "[0. 0. 0. ... 0. 0. 0.]\n",
      "[0.0023333333333333335, 0.003, 0.0016666666666666668, 0.018333333333333333, 0.004, 0.0023333333333333335, 0.002, 0.001, 0.006333333333333333, 0.015333333333333332, 0.0023333333333333335, 0.0016666666666666668, 0.0016666666666666668, 0.004333333333333333, 0.0016666666666666668, 0.0013333333333333333]\n",
      "[0. 0. 0. ... 0. 0. 0.]\n",
      "[0.002, 0.003, 0.0013333333333333333, 0.01633333333333333, 0.0023333333333333335, 0.0016666666666666668, 0.0016666666666666668, 0.001, 0.004, 0.015, 0.002, 0.0016666666666666668, 0.0016666666666666668, 0.0033333333333333335, 0.0016666666666666668, 0.0013333333333333333]\n",
      "[0. 0. 0. ... 0. 0. 0.]\n",
      "[0.002, 0.0023333333333333335, 0.001, 0.015, 0.0013333333333333333, 0.0016666666666666668, 0.0013333333333333333, 0.001, 0.0026666666666666666, 0.015, 0.0016666666666666668, 0.0016666666666666668, 0.0016666666666666668, 0.0023333333333333335, 0.0016666666666666668, 0.0013333333333333333]\n",
      "[0. 0. 0. ... 0. 0. 0.]\n",
      "[0.002, 0.0023333333333333335, 0.001, 0.015, 0.0013333333333333333, 0.0016666666666666668, 0.0013333333333333333, 0.001, 0.0026666666666666666, 0.015, 0.0016666666666666668, 0.0016666666666666668, 0.0016666666666666668, 0.0023333333333333335, 0.0016666666666666668, 0.0013333333333333333]\n",
      "[0. 0. 0. ... 0. 0. 0.]\n",
      "[0.002, 0.0023333333333333335, 0.001, 0.015, 0.0013333333333333333, 0.0016666666666666668, 0.0013333333333333333, 0.001, 0.0026666666666666666, 0.015, 0.0016666666666666668, 0.0016666666666666668, 0.0016666666666666668, 0.0023333333333333335, 0.0016666666666666668, 0.0013333333333333333]\n",
      "[0. 0. 0. ... 0. 0. 0.]\n",
      "[0.002, 0.0023333333333333335, 0.001, 0.015, 0.0013333333333333333, 0.0016666666666666668, 0.0013333333333333333, 0.001, 0.0026666666666666666, 0.015, 0.0016666666666666668, 0.0016666666666666668, 0.0016666666666666668, 0.0023333333333333335, 0.0016666666666666668, 0.0013333333333333333]\n",
      "[0. 0. 0. ... 0. 0. 0.]\n",
      "[0.002, 0.0023333333333333335, 0.001, 0.015, 0.0013333333333333333, 0.0016666666666666668, 0.0013333333333333333, 0.001, 0.0026666666666666666, 0.015, 0.0016666666666666668, 0.0016666666666666668, 0.0016666666666666668, 0.0023333333333333335, 0.0016666666666666668, 0.0013333333333333333]\n",
      "[0. 0. 0. ... 0. 0. 0.]\n",
      "[0.0026666666666666666, 0.003, 0.001, 0.015333333333333332, 0.0016666666666666668, 0.002, 0.0013333333333333333, 0.001, 0.0033333333333333335, 0.015666666666666666, 0.002, 0.0016666666666666668, 0.002, 0.0033333333333333335, 0.002, 0.0013333333333333333]\n",
      "[0. 0. 0. ... 0. 0. 0.]\n",
      "[0.006, 0.006333333333333333, 0.001, 0.018, 0.0026666666666666666, 0.002, 0.002, 0.0013333333333333333, 0.006, 0.02033333333333333, 0.0033333333333333335, 0.0023333333333333335, 0.004, 0.008666666666666666, 0.0026666666666666666, 0.0016666666666666668]\n",
      "[0. 0. 0. ... 0. 0. 0.]\n",
      "[0.008333333333333333, 0.007666666666666666, 0.001, 0.02033333333333333, 0.004333333333333333, 0.0023333333333333335, 0.0026666666666666666, 0.003, 0.006666666666666667, 0.027666666666666666, 0.004333333333333333, 0.003, 0.006333333333333333, 0.015666666666666666, 0.003, 0.002]\n",
      "[0. 0. 0. ... 0. 0. 0.]\n",
      "[0.008333333333333333, 0.007, 0.001, 0.02033333333333333, 0.005333333333333333, 0.0023333333333333335, 0.0026666666666666666, 0.0033333333333333335, 0.006666666666666667, 0.028333333333333332, 0.004333333333333333, 0.0033333333333333335, 0.006666666666666667, 0.01633333333333333, 0.003, 0.0023333333333333335]\n",
      "[0. 0. 0. ... 0. 0. 0.]\n",
      "[0.012333333333333333, 0.007666666666666666, 0.001, 0.022333333333333334, 0.006666666666666667, 0.0026666666666666666, 0.003, 0.004666666666666667, 0.007, 0.03333333333333333, 0.004666666666666667, 0.004333333333333333, 0.007, 0.018333333333333333, 0.004333333333333333, 0.0026666666666666666]\n",
      "[0. 0. 0. ... 0. 0. 0.]\n",
      "[0.014666666666666666, 0.007666666666666666, 0.002, 0.02033333333333333, 0.006333333333333333, 0.0033333333333333335, 0.003, 0.004666666666666667, 0.006666666666666667, 0.035333333333333335, 0.004333333333333333, 0.004666666666666667, 0.007, 0.01633333333333333, 0.004, 0.003]\n",
      "[1. 0. 0. ... 0. 0. 0.]\n",
      "[0.015, 0.012333333333333333, 0.0026666666666666666, 0.01633333333333333, 0.01, 0.0036666666666666666, 0.0036666666666666666, 0.006, 0.010333333333333333, 0.05566666666666667, 0.004666666666666667, 0.006666666666666667, 0.011, 0.012333333333333333, 0.006, 0.0036666666666666666]\n",
      "[1. 0. 0. ... 0. 0. 0.]\n",
      "[0.014333333333333333, 0.012333333333333333, 0.011, 0.015, 0.012666666666666666, 0.011, 0.009, 0.009666666666666667, 0.011333333333333334, 0.11033333333333334, 0.008, 0.011333333333333334, 0.012333333333333333, 0.011, 0.011333333333333334, 0.01]\n",
      "[1. 0. 0. ... 0. 0. 0.]\n",
      "[0.014333333333333333, 0.012333333333333333, 0.011333333333333334, 0.015, 0.012666666666666666, 0.011333333333333334, 0.009333333333333334, 0.009666666666666667, 0.011333333333333334, 0.11066666666666666, 0.008333333333333333, 0.011333333333333334, 0.012333333333333333, 0.011, 0.011333333333333334, 0.01]\n",
      "[1. 0. 0. ... 0. 0. 0.]\n",
      "[0.014333333333333333, 0.012333333333333333, 0.011333333333333334, 0.015, 0.012666666666666666, 0.011333333333333334, 0.009333333333333334, 0.009666666666666667, 0.011333333333333334, 0.11066666666666666, 0.008333333333333333, 0.011333333333333334, 0.012333333333333333, 0.011, 0.011333333333333334, 0.01]\n",
      "[1. 0. 0. ... 0. 0. 0.]\n",
      "[0.014333333333333333, 0.012333333333333333, 0.011333333333333334, 0.015, 0.012666666666666666, 0.011333333333333334, 0.009333333333333334, 0.009666666666666667, 0.011333333333333334, 0.11066666666666666, 0.008333333333333333, 0.011333333333333334, 0.012333333333333333, 0.011, 0.011333333333333334, 0.01]\n",
      "[1. 0. 0. ... 0. 0. 0.]\n",
      "[0.014333333333333333, 0.012333333333333333, 0.011333333333333334, 0.015, 0.012666666666666666, 0.011333333333333334, 0.009333333333333334, 0.009666666666666667, 0.011333333333333334, 0.11066666666666666, 0.008333333333333333, 0.011333333333333334, 0.012333333333333333, 0.011, 0.011333333333333334, 0.01]\n",
      "[1. 0. 0. ... 0. 0. 0.]\n",
      "[0.014333333333333333, 0.012333333333333333, 0.009666666666666667, 0.015, 0.011333333333333334, 0.01, 0.0036666666666666666, 0.005333333333333333, 0.010666666666666666, 0.09733333333333333, 0.0026666666666666666, 0.011, 0.011, 0.01, 0.01, 0.007666666666666666]\n",
      "[0. 0. 0. ... 0. 0. 0.]\n",
      "[0.010666666666666666, 0.005, 0.0023333333333333335, 0.011666666666666667, 0.0026666666666666666, 0.0026666666666666666, 0.0003333333333333333, 0.0, 0.0036666666666666666, 0.022, 0.0, 0.0036666666666666666, 0.0036666666666666666, 0.0033333333333333335, 0.0016666666666666668, 0.0013333333333333333]\n"
     ]
    },
    {
     "name": "stdout",
     "output_type": "stream",
     "text": [
      "[0. 0. 0. ... 0. 0. 0.]\n",
      "[0.014, 0.006333333333333333, 0.0023333333333333335, 0.015, 0.0026666666666666666, 0.003, 0.002, 0.0023333333333333335, 0.004, 0.028666666666666667, 0.0023333333333333335, 0.004666666666666667, 0.004666666666666667, 0.004666666666666667, 0.003, 0.0026666666666666666]\n",
      "[0. 0. 0. ... 0. 0. 0.]\n",
      "[0.014333333333333333, 0.004666666666666667, 0.0023333333333333335, 0.015, 0.0026666666666666666, 0.003, 0.002, 0.0026666666666666666, 0.0036666666666666666, 0.027333333333333334, 0.0026666666666666666, 0.0036666666666666666, 0.004666666666666667, 0.004, 0.0033333333333333335, 0.0026666666666666666]\n",
      "[0. 0. 0. ... 0. 0. 0.]\n",
      "[0.014333333333333333, 0.004666666666666667, 0.0023333333333333335, 0.015, 0.0026666666666666666, 0.003, 0.002, 0.0026666666666666666, 0.0036666666666666666, 0.027333333333333334, 0.0026666666666666666, 0.0036666666666666666, 0.004666666666666667, 0.004, 0.0033333333333333335, 0.0026666666666666666]\n",
      "[0. 0. 0. ... 0. 0. 0.]\n",
      "[0.014333333333333333, 0.004666666666666667, 0.0023333333333333335, 0.015, 0.0026666666666666666, 0.003, 0.002, 0.0026666666666666666, 0.0036666666666666666, 0.027333333333333334, 0.0026666666666666666, 0.0036666666666666666, 0.004666666666666667, 0.004, 0.0033333333333333335, 0.0026666666666666666]\n",
      "[0. 0. 0. ... 0. 0. 0.]\n",
      "[0.014333333333333333, 0.004666666666666667, 0.0023333333333333335, 0.015, 0.0026666666666666666, 0.003, 0.002, 0.0026666666666666666, 0.0036666666666666666, 0.027333333333333334, 0.0026666666666666666, 0.0036666666666666666, 0.004666666666666667, 0.004, 0.0033333333333333335, 0.0026666666666666666]\n",
      "[0. 0. 0. ... 0. 0. 0.]\n",
      "[0.014333333333333333, 0.004666666666666667, 0.0023333333333333335, 0.015, 0.0026666666666666666, 0.003, 0.002, 0.0026666666666666666, 0.0036666666666666666, 0.027333333333333334, 0.0026666666666666666, 0.0036666666666666666, 0.004666666666666667, 0.004, 0.0033333333333333335, 0.0026666666666666666]\n",
      "[0. 0. 0. ... 0. 0. 0.]\n",
      "[0.014333333333333333, 0.004666666666666667, 0.0023333333333333335, 0.015, 0.0026666666666666666, 0.003, 0.002, 0.0026666666666666666, 0.0036666666666666666, 0.027333333333333334, 0.0026666666666666666, 0.0036666666666666666, 0.004666666666666667, 0.004, 0.0033333333333333335, 0.0026666666666666666]\n",
      "[0. 0. 0. ... 0. 0. 0.]\n",
      "[0.014333333333333333, 0.004666666666666667, 0.0023333333333333335, 0.015, 0.0026666666666666666, 0.003, 0.002, 0.0026666666666666666, 0.0036666666666666666, 0.027333333333333334, 0.0026666666666666666, 0.0036666666666666666, 0.004666666666666667, 0.004, 0.0033333333333333335, 0.0026666666666666666]\n",
      "[0. 0. 0. ... 0. 0. 0.]\n",
      "[0.014333333333333333, 0.004666666666666667, 0.0023333333333333335, 0.015, 0.0026666666666666666, 0.003, 0.002, 0.0026666666666666666, 0.0036666666666666666, 0.027333333333333334, 0.0026666666666666666, 0.0036666666666666666, 0.004666666666666667, 0.004, 0.0033333333333333335, 0.0026666666666666666]\n",
      "[0. 0. 0. ... 0. 0. 0.]\n",
      "[0.014333333333333333, 0.004666666666666667, 0.0023333333333333335, 0.015, 0.0026666666666666666, 0.003, 0.002, 0.0026666666666666666, 0.0036666666666666666, 0.027333333333333334, 0.0026666666666666666, 0.0036666666666666666, 0.004666666666666667, 0.004, 0.0033333333333333335, 0.0026666666666666666]\n",
      "[0. 0. 0. ... 0. 0. 0.]\n",
      "[0.014333333333333333, 0.004666666666666667, 0.0023333333333333335, 0.015, 0.0026666666666666666, 0.003, 0.002, 0.0026666666666666666, 0.0036666666666666666, 0.027333333333333334, 0.0026666666666666666, 0.0036666666666666666, 0.004666666666666667, 0.004, 0.0033333333333333335, 0.0026666666666666666]\n",
      "[0. 0. 0. ... 0. 0. 0.]\n",
      "[0.014333333333333333, 0.004666666666666667, 0.0023333333333333335, 0.015, 0.0026666666666666666, 0.003, 0.002, 0.0026666666666666666, 0.0036666666666666666, 0.027333333333333334, 0.0026666666666666666, 0.0036666666666666666, 0.004666666666666667, 0.004, 0.0033333333333333335, 0.0026666666666666666]\n",
      "[0. 0. 0. ... 0. 0. 0.]\n",
      "[0.014333333333333333, 0.006333333333333333, 0.0026666666666666666, 0.015, 0.0026666666666666666, 0.003, 0.002, 0.003, 0.004, 0.029666666666666668, 0.003, 0.004666666666666667, 0.005666666666666667, 0.005, 0.004, 0.0033333333333333335]\n",
      "[0. 0. 0. ... 0. 0. 0.]\n",
      "[0.014333333333333333, 0.012333333333333333, 0.004333333333333333, 0.015, 0.0033333333333333335, 0.004666666666666667, 0.003, 0.004, 0.005333333333333333, 0.04733333333333333, 0.0036666666666666666, 0.007, 0.012333333333333333, 0.009333333333333334, 0.006333333333333333, 0.004666666666666667]\n",
      "[1. 0. 0. ... 0. 0. 0.]\n",
      "[0.014333333333333333, 0.012333333333333333, 0.009333333333333334, 0.015, 0.005666666666666667, 0.01, 0.0036666666666666666, 0.005666666666666667, 0.010666666666666666, 0.095, 0.004666666666666667, 0.011333333333333334, 0.012333333333333333, 0.011, 0.011, 0.007333333333333333]\n",
      "[1. 0. 0. ... 0. 0. 0.]\n",
      "[0.014333333333333333, 0.012333333333333333, 0.011333333333333334, 0.015, 0.012, 0.011333333333333334, 0.008666666666666666, 0.009333333333333334, 0.011333333333333334, 0.11, 0.007666666666666666, 0.011333333333333334, 0.012333333333333333, 0.011, 0.011333333333333334, 0.01]\n",
      "[1. 0. 0. ... 0. 0. 0.]\n",
      "[0.014333333333333333, 0.012333333333333333, 0.011333333333333334, 0.015, 0.012666666666666666, 0.011333333333333334, 0.009333333333333334, 0.009666666666666667, 0.011333333333333334, 0.11066666666666666, 0.008333333333333333, 0.011333333333333334, 0.012333333333333333, 0.011, 0.011333333333333334, 0.01]\n",
      "[1. 0. 0. ... 0. 0. 0.]\n",
      "[0.014333333333333333, 0.012333333333333333, 0.011333333333333334, 0.015, 0.012666666666666666, 0.011333333333333334, 0.009333333333333334, 0.009666666666666667, 0.011333333333333334, 0.11066666666666666, 0.008333333333333333, 0.011333333333333334, 0.012333333333333333, 0.011, 0.011333333333333334, 0.01]\n",
      "[1. 0. 0. ... 0. 0. 0.]\n",
      "[0.014333333333333333, 0.012333333333333333, 0.011333333333333334, 0.015, 0.012666666666666666, 0.011333333333333334, 0.009333333333333334, 0.009666666666666667, 0.011333333333333334, 0.11066666666666666, 0.008333333333333333, 0.011333333333333334, 0.012333333333333333, 0.011, 0.011333333333333334, 0.01]\n",
      "[1. 0. 0. ... 0. 0. 0.]\n",
      "[0.014333333333333333, 0.012333333333333333, 0.011333333333333334, 0.015, 0.012666666666666666, 0.011333333333333334, 0.009333333333333334, 0.009666666666666667, 0.011333333333333334, 0.11066666666666666, 0.008333333333333333, 0.011333333333333334, 0.012333333333333333, 0.011, 0.011333333333333334, 0.01]\n",
      "[1. 0. 0. ... 0. 0. 0.]\n",
      "[0.014333333333333333, 0.012333333333333333, 0.011333333333333334, 0.015, 0.012666666666666666, 0.011333333333333334, 0.009333333333333334, 0.009666666666666667, 0.011333333333333334, 0.11066666666666666, 0.008333333333333333, 0.011333333333333334, 0.012333333333333333, 0.011, 0.011333333333333334, 0.01]\n",
      "[1. 0. 0. ... 0. 0. 0.]\n",
      "[0.014333333333333333, 0.012333333333333333, 0.011333333333333334, 0.015, 0.012666666666666666, 0.011333333333333334, 0.009333333333333334, 0.009666666666666667, 0.011333333333333334, 0.11066666666666666, 0.008333333333333333, 0.011333333333333334, 0.012333333333333333, 0.011, 0.011333333333333334, 0.01]\n",
      "[1. 0. 0. ... 0. 0. 0.]\n",
      "[0.014333333333333333, 0.012333333333333333, 0.011333333333333334, 0.015, 0.012666666666666666, 0.011333333333333334, 0.009333333333333334, 0.009666666666666667, 0.011333333333333334, 0.11066666666666666, 0.008333333333333333, 0.011333333333333334, 0.012333333333333333, 0.011, 0.011333333333333334, 0.01]\n",
      "[1. 0. 0. ... 0. 0. 0.]\n",
      "[0.014333333333333333, 0.012333333333333333, 0.010333333333333333, 0.015, 0.011666666666666667, 0.01, 0.004, 0.007333333333333333, 0.011, 0.1, 0.003, 0.011333333333333334, 0.011, 0.01, 0.01, 0.007666666666666666]\n",
      "[0. 0. 0. ... 0. 0. 0.]\n",
      "[0.010666666666666666, 0.005333333333333333, 0.0023333333333333335, 0.011333333333333334, 0.0026666666666666666, 0.0026666666666666666, 0.0, 0.0003333333333333333, 0.0036666666666666666, 0.022, 0.0, 0.0036666666666666666, 0.0036666666666666666, 0.0033333333333333335, 0.002, 0.0013333333333333333]\n",
      "[0. 0. 0. ... 0. 0. 0.]\n",
      "[0.014333333333333333, 0.007666666666666666, 0.003, 0.015, 0.003, 0.0036666666666666666, 0.002, 0.0026666666666666666, 0.004, 0.030333333333333334, 0.0026666666666666666, 0.005, 0.004666666666666667, 0.004666666666666667, 0.0036666666666666666, 0.003]\n",
      "[0. 0. 0. ... 0. 0. 0.]\n",
      "[0.014333333333333333, 0.005333333333333333, 0.0023333333333333335, 0.015, 0.0026666666666666666, 0.003, 0.002, 0.0026666666666666666, 0.004, 0.028, 0.0026666666666666666, 0.004333333333333333, 0.004666666666666667, 0.004, 0.0036666666666666666, 0.003]\n",
      "[0. 0. 0. ... 0. 0. 0.]\n",
      "[0.014333333333333333, 0.004666666666666667, 0.0023333333333333335, 0.015, 0.0026666666666666666, 0.003, 0.002, 0.0026666666666666666, 0.0036666666666666666, 0.027333333333333334, 0.0026666666666666666, 0.0036666666666666666, 0.004666666666666667, 0.004, 0.0033333333333333335, 0.0026666666666666666]\n",
      "[0. 0. 0. ... 0. 0. 0.]\n",
      "[0.014333333333333333, 0.004666666666666667, 0.0023333333333333335, 0.015, 0.0026666666666666666, 0.003, 0.002, 0.0026666666666666666, 0.0036666666666666666, 0.027333333333333334, 0.0026666666666666666, 0.0036666666666666666, 0.004666666666666667, 0.004, 0.0033333333333333335, 0.0026666666666666666]\n",
      "[0. 0. 0. ... 0. 0. 0.]\n",
      "[0.014333333333333333, 0.004666666666666667, 0.0023333333333333335, 0.015, 0.0026666666666666666, 0.003, 0.002, 0.0026666666666666666, 0.0036666666666666666, 0.027333333333333334, 0.0026666666666666666, 0.0036666666666666666, 0.004666666666666667, 0.004, 0.0033333333333333335, 0.0026666666666666666]\n",
      "[0. 0. 0. ... 0. 0. 0.]\n",
      "[0.014333333333333333, 0.004666666666666667, 0.0023333333333333335, 0.015, 0.0026666666666666666, 0.003, 0.002, 0.0026666666666666666, 0.0036666666666666666, 0.027333333333333334, 0.0026666666666666666, 0.0036666666666666666, 0.004666666666666667, 0.004, 0.0033333333333333335, 0.0026666666666666666]\n",
      "[0. 0. 0. ... 0. 0. 0.]\n",
      "[0.014333333333333333, 0.004666666666666667, 0.0023333333333333335, 0.015, 0.0026666666666666666, 0.003, 0.002, 0.0026666666666666666, 0.0036666666666666666, 0.027333333333333334, 0.0026666666666666666, 0.0036666666666666666, 0.004666666666666667, 0.004, 0.0033333333333333335, 0.0026666666666666666]\n",
      "[0. 0. 0. ... 0. 0. 0.]\n",
      "[0.014333333333333333, 0.004666666666666667, 0.0023333333333333335, 0.015, 0.0026666666666666666, 0.003, 0.002, 0.0026666666666666666, 0.0036666666666666666, 0.027333333333333334, 0.0026666666666666666, 0.0036666666666666666, 0.004666666666666667, 0.004, 0.0033333333333333335, 0.0026666666666666666]\n",
      "[0. 0. 0. ... 0. 0. 0.]\n",
      "[0.014333333333333333, 0.004666666666666667, 0.0023333333333333335, 0.015, 0.0026666666666666666, 0.003, 0.002, 0.0026666666666666666, 0.0036666666666666666, 0.027333333333333334, 0.0026666666666666666, 0.0036666666666666666, 0.004666666666666667, 0.004, 0.0033333333333333335, 0.0026666666666666666]\n",
      "[0. 0. 0. ... 0. 0. 0.]\n",
      "[0.014333333333333333, 0.004666666666666667, 0.0023333333333333335, 0.015, 0.0026666666666666666, 0.003, 0.002, 0.0026666666666666666, 0.0036666666666666666, 0.027333333333333334, 0.0026666666666666666, 0.0036666666666666666, 0.004666666666666667, 0.004, 0.0033333333333333335, 0.0026666666666666666]\n",
      "[0. 0. 0. ... 0. 0. 0.]\n",
      "[0.014333333333333333, 0.004666666666666667, 0.0023333333333333335, 0.015, 0.0026666666666666666, 0.003, 0.002, 0.0026666666666666666, 0.0036666666666666666, 0.027333333333333334, 0.0026666666666666666, 0.0036666666666666666, 0.004666666666666667, 0.004, 0.0033333333333333335, 0.0026666666666666666]\n",
      "[0. 0. 0. ... 0. 0. 0.]\n",
      "[0.014333333333333333, 0.004666666666666667, 0.0023333333333333335, 0.015, 0.0026666666666666666, 0.003, 0.002, 0.0026666666666666666, 0.0036666666666666666, 0.027333333333333334, 0.0026666666666666666, 0.0036666666666666666, 0.004666666666666667, 0.004, 0.0033333333333333335, 0.0026666666666666666]\n",
      "[0. 0. 0. ... 0. 0. 0.]\n",
      "[0.014333333333333333, 0.007, 0.0026666666666666666, 0.015, 0.0026666666666666666, 0.003, 0.002, 0.003, 0.004333333333333333, 0.030666666666666665, 0.003, 0.005333333333333333, 0.006, 0.005, 0.004, 0.0033333333333333335]\n",
      "[0. 0. 0. ... 0. 0. 0.]\n",
      "[0.014333333333333333, 0.012333333333333333, 0.005, 0.015, 0.004, 0.006, 0.003, 0.004666666666666667, 0.005333333333333333, 0.051666666666666666, 0.0036666666666666666, 0.011333333333333334, 0.012333333333333333, 0.009333333333333334, 0.006333333333333333, 0.004666666666666667]\n",
      "[1. 0. 0. ... 0. 0. 0.]\n",
      "[0.014333333333333333, 0.012333333333333333, 0.009666666666666667, 0.015, 0.005666666666666667, 0.010333333333333333, 0.0036666666666666666, 0.008333333333333333, 0.010333333333333333, 0.09733333333333333, 0.004333333333333333, 0.011333333333333334, 0.012333333333333333, 0.011, 0.011, 0.008333333333333333]\n",
      "[1. 0. 0. ... 0. 0. 0.]\n",
      "[0.014333333333333333, 0.012333333333333333, 0.011333333333333334, 0.015, 0.012, 0.011333333333333334, 0.008666666666666666, 0.009333333333333334, 0.011333333333333334, 0.11, 0.007666666666666666, 0.011333333333333334, 0.012333333333333333, 0.011, 0.011333333333333334, 0.01]\n",
      "[1. 0. 0. ... 0. 0. 0.]\n",
      "[0.014333333333333333, 0.012333333333333333, 0.011333333333333334, 0.015, 0.012666666666666666, 0.011333333333333334, 0.009333333333333334, 0.009666666666666667, 0.011333333333333334, 0.11066666666666666, 0.008333333333333333, 0.011333333333333334, 0.012333333333333333, 0.011, 0.011333333333333334, 0.01]\n",
      "[1. 0. 0. ... 0. 0. 0.]\n",
      "[0.014333333333333333, 0.012333333333333333, 0.011333333333333334, 0.015, 0.012666666666666666, 0.011333333333333334, 0.009333333333333334, 0.009666666666666667, 0.011333333333333334, 0.11066666666666666, 0.008333333333333333, 0.011333333333333334, 0.012333333333333333, 0.011, 0.011333333333333334, 0.01]\n",
      "[1. 0. 0. ... 0. 0. 0.]\n",
      "[0.014333333333333333, 0.012333333333333333, 0.011333333333333334, 0.015, 0.012666666666666666, 0.011333333333333334, 0.009333333333333334, 0.009666666666666667, 0.011333333333333334, 0.11066666666666666, 0.008333333333333333, 0.011333333333333334, 0.012333333333333333, 0.011, 0.011333333333333334, 0.01]\n",
      "[1. 0. 0. ... 0. 0. 0.]\n",
      "[0.014333333333333333, 0.012333333333333333, 0.011333333333333334, 0.015, 0.012666666666666666, 0.011333333333333334, 0.009333333333333334, 0.009666666666666667, 0.011333333333333334, 0.11066666666666666, 0.008333333333333333, 0.011333333333333334, 0.012333333333333333, 0.011, 0.011333333333333334, 0.01]\n",
      "[1. 0. 0. ... 0. 0. 0.]\n",
      "[0.014333333333333333, 0.012333333333333333, 0.011333333333333334, 0.015, 0.012666666666666666, 0.011333333333333334, 0.009333333333333334, 0.009666666666666667, 0.011333333333333334, 0.11066666666666666, 0.008333333333333333, 0.011333333333333334, 0.012333333333333333, 0.011, 0.011333333333333334, 0.01]\n",
      "[1. 0. 0. ... 0. 0. 0.]\n",
      "[0.014333333333333333, 0.012333333333333333, 0.011333333333333334, 0.015, 0.012666666666666666, 0.011333333333333334, 0.009333333333333334, 0.009666666666666667, 0.011333333333333334, 0.11066666666666666, 0.008333333333333333, 0.011333333333333334, 0.012333333333333333, 0.011, 0.011333333333333334, 0.01]\n",
      "[1. 0. 0. ... 0. 0. 0.]\n",
      "[0.014333333333333333, 0.012333333333333333, 0.011333333333333334, 0.015, 0.012666666666666666, 0.011333333333333334, 0.009333333333333334, 0.009666666666666667, 0.011333333333333334, 0.11066666666666666, 0.008333333333333333, 0.011333333333333334, 0.012333333333333333, 0.011, 0.011333333333333334, 0.01]\n",
      "[1. 0. 0. ... 0. 0. 0.]\n",
      "[0.014333333333333333, 0.012333333333333333, 0.010333333333333333, 0.015, 0.011666666666666667, 0.010333333333333333, 0.004666666666666667, 0.007333333333333333, 0.011, 0.10133333333333333, 0.0036666666666666666, 0.011333333333333334, 0.011666666666666667, 0.010333333333333333, 0.010333333333333333, 0.007666666666666666]\n",
      "[0. 0. 0. ... 0. 0. 0.]\n",
      "[0.011, 0.004666666666666667, 0.0023333333333333335, 0.011666666666666667, 0.0026666666666666666, 0.0026666666666666666, 0.0003333333333333333, 0.0003333333333333333, 0.0036666666666666666, 0.021666666666666667, 0.0, 0.003, 0.0036666666666666666, 0.0036666666666666666, 0.002, 0.0013333333333333333]\n",
      "[0. 0. 0. ... 0. 0. 0.]\n",
      "[0.014333333333333333, 0.007, 0.003, 0.015, 0.003, 0.0033333333333333335, 0.002, 0.0026666666666666666, 0.004, 0.029666666666666668, 0.0026666666666666666, 0.004666666666666667, 0.004666666666666667, 0.004666666666666667, 0.0033333333333333335, 0.0026666666666666666]\n",
      "[0. 0. 0. ... 0. 0. 0.]\n",
      "[0.014333333333333333, 0.005, 0.0023333333333333335, 0.015, 0.0026666666666666666, 0.003, 0.002, 0.0026666666666666666, 0.004, 0.027666666666666666, 0.0026666666666666666, 0.004, 0.004666666666666667, 0.004, 0.0033333333333333335, 0.0026666666666666666]\n",
      "[0. 0. 0. ... 0. 0. 0.]\n",
      "[0.014333333333333333, 0.004666666666666667, 0.0023333333333333335, 0.015, 0.0026666666666666666, 0.003, 0.002, 0.0026666666666666666, 0.0036666666666666666, 0.027333333333333334, 0.0026666666666666666, 0.0036666666666666666, 0.004666666666666667, 0.004, 0.0033333333333333335, 0.0026666666666666666]\n",
      "[0. 0. 0. ... 0. 0. 0.]\n",
      "[0.014333333333333333, 0.004666666666666667, 0.0023333333333333335, 0.015, 0.0026666666666666666, 0.003, 0.002, 0.0026666666666666666, 0.0036666666666666666, 0.027333333333333334, 0.0026666666666666666, 0.0036666666666666666, 0.004666666666666667, 0.004, 0.0033333333333333335, 0.0026666666666666666]\n",
      "[0. 0. 0. ... 0. 0. 0.]\n"
     ]
    },
    {
     "name": "stdout",
     "output_type": "stream",
     "text": [
      "[0.014333333333333333, 0.004666666666666667, 0.0023333333333333335, 0.015, 0.0026666666666666666, 0.003, 0.002, 0.0026666666666666666, 0.0036666666666666666, 0.027333333333333334, 0.0026666666666666666, 0.0036666666666666666, 0.004666666666666667, 0.004, 0.0033333333333333335, 0.0026666666666666666]\n",
      "[0. 0. 0. ... 0. 0. 0.]\n",
      "[0.014333333333333333, 0.004666666666666667, 0.0023333333333333335, 0.015, 0.0026666666666666666, 0.003, 0.002, 0.0026666666666666666, 0.0036666666666666666, 0.027333333333333334, 0.0026666666666666666, 0.0036666666666666666, 0.004666666666666667, 0.004, 0.0033333333333333335, 0.0026666666666666666]\n",
      "[0. 0. 0. ... 0. 0. 0.]\n",
      "[0.014333333333333333, 0.004666666666666667, 0.0023333333333333335, 0.015, 0.0026666666666666666, 0.003, 0.002, 0.0026666666666666666, 0.0036666666666666666, 0.027333333333333334, 0.0026666666666666666, 0.0036666666666666666, 0.004666666666666667, 0.004, 0.0033333333333333335, 0.0026666666666666666]\n",
      "[0. 0. 0. ... 0. 0. 0.]\n",
      "[0.014333333333333333, 0.004666666666666667, 0.0023333333333333335, 0.015, 0.0026666666666666666, 0.003, 0.002, 0.0026666666666666666, 0.0036666666666666666, 0.027333333333333334, 0.0026666666666666666, 0.0036666666666666666, 0.004666666666666667, 0.004, 0.0033333333333333335, 0.0026666666666666666]\n",
      "[0. 0. 0. ... 0. 0. 0.]\n",
      "[0.014333333333333333, 0.004666666666666667, 0.0023333333333333335, 0.015, 0.0026666666666666666, 0.003, 0.002, 0.0026666666666666666, 0.0036666666666666666, 0.027333333333333334, 0.0026666666666666666, 0.0036666666666666666, 0.004666666666666667, 0.004, 0.0033333333333333335, 0.0026666666666666666]\n",
      "[0. 0. 0. ... 0. 0. 0.]\n",
      "[0.014333333333333333, 0.004666666666666667, 0.0023333333333333335, 0.015, 0.0026666666666666666, 0.003, 0.002, 0.0026666666666666666, 0.0036666666666666666, 0.027333333333333334, 0.0026666666666666666, 0.0036666666666666666, 0.004666666666666667, 0.004, 0.0033333333333333335, 0.0026666666666666666]\n",
      "[0. 0. 0. ... 0. 0. 0.]\n",
      "[0.014333333333333333, 0.004666666666666667, 0.0023333333333333335, 0.015, 0.0026666666666666666, 0.003, 0.002, 0.0026666666666666666, 0.0036666666666666666, 0.027333333333333334, 0.0026666666666666666, 0.0036666666666666666, 0.004666666666666667, 0.004, 0.0033333333333333335, 0.0026666666666666666]\n",
      "[0. 0. 0. ... 0. 0. 0.]\n",
      "[0.014333333333333333, 0.004666666666666667, 0.0023333333333333335, 0.015, 0.0026666666666666666, 0.003, 0.002, 0.0026666666666666666, 0.0036666666666666666, 0.027333333333333334, 0.0026666666666666666, 0.0036666666666666666, 0.004666666666666667, 0.004, 0.0033333333333333335, 0.0026666666666666666]\n",
      "[0. 0. 0. ... 0. 0. 0.]\n",
      "[0.014333333333333333, 0.007333333333333333, 0.0026666666666666666, 0.015, 0.003, 0.003, 0.002, 0.0033333333333333335, 0.004333333333333333, 0.031, 0.003, 0.005666666666666667, 0.006, 0.005, 0.004, 0.0033333333333333335]\n",
      "[0. 0. 0. ... 0. 0. 0.]\n",
      "[0.014333333333333333, 0.012333333333333333, 0.005, 0.015, 0.005333333333333333, 0.006, 0.003, 0.005, 0.005333333333333333, 0.053, 0.0036666666666666666, 0.011333333333333334, 0.012333333333333333, 0.010666666666666666, 0.006333333333333333, 0.004666666666666667]\n",
      "[1. 0. 0. ... 0. 0. 0.]\n",
      "[0.014333333333333333, 0.012333333333333333, 0.01, 0.015, 0.010333333333333333, 0.010333333333333333, 0.0036666666666666666, 0.009, 0.010333333333333333, 0.102, 0.004333333333333333, 0.011333333333333334, 0.012333333333333333, 0.011, 0.011, 0.009]\n",
      "[1. 0. 0. ... 0. 0. 0.]\n",
      "[0.014333333333333333, 0.012333333333333333, 0.011333333333333334, 0.015, 0.012666666666666666, 0.011333333333333334, 0.009333333333333334, 0.009666666666666667, 0.011333333333333334, 0.11066666666666666, 0.008333333333333333, 0.011333333333333334, 0.012333333333333333, 0.011, 0.011333333333333334, 0.01]\n",
      "[1. 0. 0. ... 0. 0. 0.]\n",
      "[0.014333333333333333, 0.012333333333333333, 0.011333333333333334, 0.015, 0.012666666666666666, 0.011333333333333334, 0.009333333333333334, 0.009666666666666667, 0.011333333333333334, 0.11066666666666666, 0.008333333333333333, 0.011333333333333334, 0.012333333333333333, 0.011, 0.011333333333333334, 0.01]\n",
      "[1. 0. 0. ... 0. 0. 0.]\n",
      "[0.014333333333333333, 0.012333333333333333, 0.011333333333333334, 0.015, 0.012666666666666666, 0.011333333333333334, 0.009333333333333334, 0.009666666666666667, 0.011333333333333334, 0.11066666666666666, 0.008333333333333333, 0.011333333333333334, 0.012333333333333333, 0.011, 0.011333333333333334, 0.01]\n",
      "[1. 0. 0. ... 0. 0. 0.]\n",
      "[0.014333333333333333, 0.012333333333333333, 0.011333333333333334, 0.015, 0.012666666666666666, 0.011333333333333334, 0.009333333333333334, 0.009666666666666667, 0.011333333333333334, 0.11066666666666666, 0.008333333333333333, 0.011333333333333334, 0.012333333333333333, 0.011, 0.011333333333333334, 0.01]\n",
      "[1. 0. 0. ... 0. 0. 0.]\n",
      "[0.014333333333333333, 0.012333333333333333, 0.011333333333333334, 0.015, 0.012666666666666666, 0.011333333333333334, 0.009333333333333334, 0.009666666666666667, 0.011333333333333334, 0.11066666666666666, 0.008333333333333333, 0.011333333333333334, 0.012333333333333333, 0.011, 0.011333333333333334, 0.01]\n",
      "[1. 0. 0. ... 0. 0. 0.]\n",
      "[0.014333333333333333, 0.012333333333333333, 0.011333333333333334, 0.015, 0.012666666666666666, 0.011333333333333334, 0.009333333333333334, 0.009666666666666667, 0.011333333333333334, 0.11066666666666666, 0.008333333333333333, 0.011333333333333334, 0.012333333333333333, 0.011, 0.011333333333333334, 0.01]\n",
      "[1. 0. 0. ... 0. 0. 0.]\n",
      "[0.014333333333333333, 0.012333333333333333, 0.011333333333333334, 0.015, 0.012666666666666666, 0.011333333333333334, 0.009333333333333334, 0.009666666666666667, 0.011333333333333334, 0.11066666666666666, 0.008333333333333333, 0.011333333333333334, 0.012333333333333333, 0.011, 0.011333333333333334, 0.01]\n",
      "[1. 0. 0. ... 0. 0. 0.]\n",
      "[0.014333333333333333, 0.012333333333333333, 0.011333333333333334, 0.015, 0.012666666666666666, 0.011333333333333334, 0.009333333333333334, 0.009666666666666667, 0.011333333333333334, 0.11066666666666666, 0.008333333333333333, 0.011333333333333334, 0.012333333333333333, 0.011, 0.011333333333333334, 0.01]\n",
      "[1. 0. 0. ... 0. 0. 0.]\n",
      "[0.014333333333333333, 0.012333333333333333, 0.010666666666666666, 0.015, 0.012, 0.010333333333333333, 0.004666666666666667, 0.007333333333333333, 0.011, 0.10166666666666667, 0.004, 0.011333333333333334, 0.011666666666666667, 0.010333333333333333, 0.010666666666666666, 0.008]\n",
      "[0. 0. 0. ... 0. 0. 0.]\n",
      "[0.011, 0.004666666666666667, 0.0026666666666666666, 0.011666666666666667, 0.0026666666666666666, 0.0026666666666666666, 0.0003333333333333333, 0.0003333333333333333, 0.0036666666666666666, 0.022, 0.0, 0.0033333333333333335, 0.004, 0.0036666666666666666, 0.0023333333333333335, 0.0013333333333333333]\n",
      "[0. 0. 0. ... 0. 0. 0.]\n",
      "[0.014333333333333333, 0.007, 0.0033333333333333335, 0.015, 0.003, 0.0033333333333333335, 0.002, 0.0026666666666666666, 0.004333333333333333, 0.030333333333333334, 0.0026666666666666666, 0.005, 0.005333333333333333, 0.004666666666666667, 0.0036666666666666666, 0.0026666666666666666]\n",
      "[0. 0. 0. ... 0. 0. 0.]\n",
      "[0.014333333333333333, 0.005, 0.0023333333333333335, 0.015, 0.0026666666666666666, 0.003, 0.002, 0.0026666666666666666, 0.004, 0.027666666666666666, 0.0026666666666666666, 0.004, 0.004666666666666667, 0.004, 0.0033333333333333335, 0.0026666666666666666]\n",
      "[0. 0. 0. ... 0. 0. 0.]\n",
      "[0.014333333333333333, 0.004666666666666667, 0.0023333333333333335, 0.015, 0.0026666666666666666, 0.003, 0.002, 0.0026666666666666666, 0.0036666666666666666, 0.027333333333333334, 0.0026666666666666666, 0.0036666666666666666, 0.004666666666666667, 0.004, 0.0033333333333333335, 0.0026666666666666666]\n",
      "[0. 0. 0. ... 0. 0. 0.]\n",
      "[0.014333333333333333, 0.004666666666666667, 0.0023333333333333335, 0.015, 0.0026666666666666666, 0.003, 0.002, 0.0026666666666666666, 0.0036666666666666666, 0.027333333333333334, 0.0026666666666666666, 0.0036666666666666666, 0.004666666666666667, 0.004, 0.0033333333333333335, 0.0026666666666666666]\n",
      "[0. 0. 0. ... 0. 0. 0.]\n",
      "[0.014333333333333333, 0.004666666666666667, 0.0023333333333333335, 0.015, 0.0026666666666666666, 0.003, 0.002, 0.0026666666666666666, 0.0036666666666666666, 0.027333333333333334, 0.0026666666666666666, 0.0036666666666666666, 0.004666666666666667, 0.004, 0.0033333333333333335, 0.0026666666666666666]\n",
      "[0. 0. 0. ... 0. 0. 0.]\n",
      "[0.014333333333333333, 0.004666666666666667, 0.0023333333333333335, 0.015, 0.0026666666666666666, 0.003, 0.002, 0.0026666666666666666, 0.0036666666666666666, 0.027333333333333334, 0.0026666666666666666, 0.0036666666666666666, 0.004666666666666667, 0.004, 0.0033333333333333335, 0.0026666666666666666]\n",
      "[0. 0. 0. ... 0. 0. 0.]\n",
      "[0.014333333333333333, 0.004666666666666667, 0.0023333333333333335, 0.015, 0.0026666666666666666, 0.003, 0.002, 0.0026666666666666666, 0.0036666666666666666, 0.027333333333333334, 0.0026666666666666666, 0.0036666666666666666, 0.004666666666666667, 0.004, 0.0033333333333333335, 0.0026666666666666666]\n",
      "[0. 0. 0. ... 0. 0. 0.]\n",
      "[0.014333333333333333, 0.004666666666666667, 0.0023333333333333335, 0.015, 0.0026666666666666666, 0.003, 0.002, 0.0026666666666666666, 0.0036666666666666666, 0.027333333333333334, 0.0026666666666666666, 0.0036666666666666666, 0.004666666666666667, 0.004, 0.0033333333333333335, 0.0026666666666666666]\n",
      "[0. 0. 0. ... 0. 0. 0.]\n",
      "[0.014333333333333333, 0.004666666666666667, 0.0023333333333333335, 0.015, 0.0026666666666666666, 0.003, 0.002, 0.0026666666666666666, 0.0036666666666666666, 0.027333333333333334, 0.0026666666666666666, 0.0036666666666666666, 0.004666666666666667, 0.004, 0.0033333333333333335, 0.0026666666666666666]\n",
      "[0. 0. 0. ... 0. 0. 0.]\n",
      "[0.014333333333333333, 0.004666666666666667, 0.0023333333333333335, 0.015, 0.0026666666666666666, 0.003, 0.002, 0.0026666666666666666, 0.0036666666666666666, 0.027333333333333334, 0.0026666666666666666, 0.0036666666666666666, 0.004666666666666667, 0.004, 0.0033333333333333335, 0.0026666666666666666]\n",
      "[0. 0. 0. ... 0. 0. 0.]\n",
      "[0.014333333333333333, 0.004666666666666667, 0.0023333333333333335, 0.015, 0.0026666666666666666, 0.003, 0.002, 0.0026666666666666666, 0.0036666666666666666, 0.027333333333333334, 0.0026666666666666666, 0.0036666666666666666, 0.004666666666666667, 0.004, 0.0033333333333333335, 0.0026666666666666666]\n",
      "[0. 0. 0. ... 0. 0. 0.]\n",
      "[0.014333333333333333, 0.004666666666666667, 0.0023333333333333335, 0.015, 0.0026666666666666666, 0.003, 0.002, 0.0026666666666666666, 0.0036666666666666666, 0.027333333333333334, 0.0026666666666666666, 0.0036666666666666666, 0.004666666666666667, 0.004, 0.0033333333333333335, 0.0026666666666666666]\n",
      "[0. 0. 0. ... 0. 0. 0.]\n",
      "[0.014333333333333333, 0.007333333333333333, 0.0026666666666666666, 0.015, 0.003, 0.003, 0.002, 0.0033333333333333335, 0.004333333333333333, 0.031, 0.003, 0.005666666666666667, 0.006, 0.005, 0.004, 0.0033333333333333335]\n",
      "[0. 0. 0. ... 0. 0. 0.]\n",
      "[0.014333333333333333, 0.012333333333333333, 0.005, 0.015, 0.005333333333333333, 0.006, 0.003, 0.005, 0.005333333333333333, 0.053, 0.0036666666666666666, 0.011333333333333334, 0.012333333333333333, 0.010666666666666666, 0.006333333333333333, 0.004666666666666667]\n",
      "[1. 0. 0. ... 0. 0. 0.]\n",
      "[0.014333333333333333, 0.012333333333333333, 0.01, 0.015, 0.010333333333333333, 0.010333333333333333, 0.0036666666666666666, 0.009, 0.010333333333333333, 0.102, 0.004333333333333333, 0.011333333333333334, 0.012333333333333333, 0.011, 0.011, 0.009]\n",
      "[1. 0. 0. ... 0. 0. 0.]\n",
      "[0.014333333333333333, 0.012333333333333333, 0.011333333333333334, 0.015, 0.012666666666666666, 0.011333333333333334, 0.009333333333333334, 0.009666666666666667, 0.011333333333333334, 0.11066666666666666, 0.008333333333333333, 0.011333333333333334, 0.012333333333333333, 0.011, 0.011333333333333334, 0.01]\n",
      "[1. 0. 0. ... 0. 0. 0.]\n",
      "[0.014333333333333333, 0.012333333333333333, 0.011333333333333334, 0.015, 0.012666666666666666, 0.011333333333333334, 0.009333333333333334, 0.009666666666666667, 0.011333333333333334, 0.11066666666666666, 0.008333333333333333, 0.011333333333333334, 0.012333333333333333, 0.011, 0.011333333333333334, 0.01]\n",
      "[1. 0. 0. ... 0. 0. 0.]\n",
      "[0.014333333333333333, 0.012333333333333333, 0.011333333333333334, 0.015, 0.012666666666666666, 0.011333333333333334, 0.009333333333333334, 0.009666666666666667, 0.011333333333333334, 0.11066666666666666, 0.008333333333333333, 0.011333333333333334, 0.012333333333333333, 0.011, 0.011333333333333334, 0.01]\n",
      "[1. 0. 0. ... 0. 0. 0.]\n",
      "[0.014333333333333333, 0.012333333333333333, 0.011333333333333334, 0.015, 0.012666666666666666, 0.011333333333333334, 0.009333333333333334, 0.009666666666666667, 0.011333333333333334, 0.11066666666666666, 0.008333333333333333, 0.011333333333333334, 0.012333333333333333, 0.011, 0.011333333333333334, 0.01]\n",
      "[1. 0. 0. ... 0. 0. 0.]\n",
      "[0.014333333333333333, 0.012333333333333333, 0.011333333333333334, 0.015, 0.012666666666666666, 0.011333333333333334, 0.009333333333333334, 0.009666666666666667, 0.011333333333333334, 0.11066666666666666, 0.008333333333333333, 0.011333333333333334, 0.012333333333333333, 0.011, 0.011333333333333334, 0.01]\n",
      "[1. 0. 0. ... 0. 0. 0.]\n",
      "[0.014333333333333333, 0.012333333333333333, 0.011333333333333334, 0.015, 0.012666666666666666, 0.011333333333333334, 0.009333333333333334, 0.009666666666666667, 0.011333333333333334, 0.11066666666666666, 0.008333333333333333, 0.011333333333333334, 0.012333333333333333, 0.011, 0.011333333333333334, 0.01]\n",
      "[1. 0. 0. ... 0. 0. 0.]\n",
      "[0.014333333333333333, 0.012333333333333333, 0.011333333333333334, 0.015, 0.012666666666666666, 0.011333333333333334, 0.009333333333333334, 0.009666666666666667, 0.011333333333333334, 0.11066666666666666, 0.008333333333333333, 0.011333333333333334, 0.012333333333333333, 0.011, 0.011333333333333334, 0.01]\n",
      "[1. 0. 0. ... 0. 0. 0.]\n",
      "[0.014333333333333333, 0.012333333333333333, 0.011333333333333334, 0.015, 0.012666666666666666, 0.011333333333333334, 0.009333333333333334, 0.009666666666666667, 0.011333333333333334, 0.11066666666666666, 0.008333333333333333, 0.011333333333333334, 0.012333333333333333, 0.011, 0.011333333333333334, 0.01]\n",
      "[1. 0. 0. ... 0. 0. 0.]\n",
      "[0.014333333333333333, 0.012333333333333333, 0.010666666666666666, 0.015, 0.012, 0.010333333333333333, 0.007333333333333333, 0.007333333333333333, 0.011, 0.10433333333333333, 0.004, 0.011333333333333334, 0.011666666666666667, 0.010333333333333333, 0.010666666666666666, 0.008]\n",
      "[0. 0. 0. ... 0. 0. 0.]\n",
      "[0.010333333333333333, 0.0036666666666666666, 0.0023333333333333335, 0.011333333333333334, 0.0026666666666666666, 0.0026666666666666666, 0.0003333333333333333, 0.0, 0.0033333333333333335, 0.02033333333333333, 0.0, 0.0026666666666666666, 0.0033333333333333335, 0.0033333333333333335, 0.0016666666666666668, 0.0006666666666666666]\n",
      "[0. 0. 0. ... 0. 0. 0.]\n",
      "[0.014333333333333333, 0.006333333333333333, 0.003, 0.015, 0.003, 0.0033333333333333335, 0.002, 0.0026666666666666666, 0.004666666666666667, 0.029666666666666668, 0.0026666666666666666, 0.004, 0.005, 0.005, 0.0033333333333333335, 0.0026666666666666666]\n",
      "[0. 0. 0. ... 0. 0. 0.]\n",
      "[0.014333333333333333, 0.004666666666666667, 0.0023333333333333335, 0.015, 0.0026666666666666666, 0.003, 0.002, 0.0026666666666666666, 0.0036666666666666666, 0.027333333333333334, 0.0026666666666666666, 0.0036666666666666666, 0.004666666666666667, 0.004, 0.0033333333333333335, 0.0026666666666666666]\n",
      "[0. 0. 0. ... 0. 0. 0.]\n",
      "[0.014333333333333333, 0.004666666666666667, 0.0023333333333333335, 0.015, 0.0026666666666666666, 0.003, 0.002, 0.0026666666666666666, 0.0036666666666666666, 0.027333333333333334, 0.0026666666666666666, 0.0036666666666666666, 0.004666666666666667, 0.004, 0.0033333333333333335, 0.0026666666666666666]\n",
      "[0. 0. 0. ... 0. 0. 0.]\n",
      "[0.014333333333333333, 0.004666666666666667, 0.0023333333333333335, 0.015, 0.0026666666666666666, 0.003, 0.002, 0.0026666666666666666, 0.0036666666666666666, 0.027333333333333334, 0.0026666666666666666, 0.0036666666666666666, 0.004666666666666667, 0.004, 0.0033333333333333335, 0.0026666666666666666]\n",
      "[0. 0. 0. ... 0. 0. 0.]\n",
      "[0.014333333333333333, 0.004666666666666667, 0.0023333333333333335, 0.015, 0.0026666666666666666, 0.003, 0.002, 0.0026666666666666666, 0.0036666666666666666, 0.027333333333333334, 0.0026666666666666666, 0.0036666666666666666, 0.004666666666666667, 0.004, 0.0033333333333333335, 0.0026666666666666666]\n",
      "[0. 0. 0. ... 0. 0. 0.]\n",
      "[0.014333333333333333, 0.004666666666666667, 0.0023333333333333335, 0.015, 0.0026666666666666666, 0.003, 0.002, 0.0026666666666666666, 0.0036666666666666666, 0.027333333333333334, 0.0026666666666666666, 0.0036666666666666666, 0.004666666666666667, 0.004, 0.0033333333333333335, 0.0026666666666666666]\n",
      "[0. 0. 0. ... 0. 0. 0.]\n",
      "[0.014333333333333333, 0.004666666666666667, 0.0023333333333333335, 0.015, 0.0026666666666666666, 0.003, 0.002, 0.0026666666666666666, 0.0036666666666666666, 0.027333333333333334, 0.0026666666666666666, 0.0036666666666666666, 0.004666666666666667, 0.004, 0.0033333333333333335, 0.0026666666666666666]\n",
      "[0. 0. 0. ... 0. 0. 0.]\n",
      "[0.014333333333333333, 0.004666666666666667, 0.0023333333333333335, 0.015, 0.0026666666666666666, 0.003, 0.002, 0.0026666666666666666, 0.0036666666666666666, 0.027333333333333334, 0.0026666666666666666, 0.0036666666666666666, 0.004666666666666667, 0.004, 0.0033333333333333335, 0.0026666666666666666]\n",
      "[0. 0. 0. ... 0. 0. 0.]\n",
      "[0.014333333333333333, 0.004666666666666667, 0.0023333333333333335, 0.015, 0.0026666666666666666, 0.003, 0.002, 0.0026666666666666666, 0.0036666666666666666, 0.027333333333333334, 0.0026666666666666666, 0.0036666666666666666, 0.004666666666666667, 0.004, 0.0033333333333333335, 0.0026666666666666666]\n",
      "[0. 0. 0. ... 0. 0. 0.]\n",
      "[0.014333333333333333, 0.004666666666666667, 0.0023333333333333335, 0.015, 0.0026666666666666666, 0.003, 0.002, 0.0026666666666666666, 0.0036666666666666666, 0.027333333333333334, 0.0026666666666666666, 0.0036666666666666666, 0.004666666666666667, 0.004, 0.0033333333333333335, 0.0026666666666666666]\n",
      "[0. 0. 0. ... 0. 0. 0.]\n",
      "[0.014333333333333333, 0.004666666666666667, 0.0023333333333333335, 0.015, 0.0026666666666666666, 0.003, 0.002, 0.0026666666666666666, 0.0036666666666666666, 0.027333333333333334, 0.0026666666666666666, 0.0036666666666666666, 0.004666666666666667, 0.004, 0.0033333333333333335, 0.0026666666666666666]\n",
      "[0. 0. 0. ... 0. 0. 0.]\n",
      "[0.014333333333333333, 0.004666666666666667, 0.0023333333333333335, 0.015, 0.0026666666666666666, 0.003, 0.002, 0.0026666666666666666, 0.0036666666666666666, 0.027333333333333334, 0.0026666666666666666, 0.0036666666666666666, 0.004666666666666667, 0.004, 0.0033333333333333335, 0.0026666666666666666]\n"
     ]
    },
    {
     "name": "stdout",
     "output_type": "stream",
     "text": [
      "[0. 0. 0. ... 0. 0. 0.]\n",
      "[0.014333333333333333, 0.008, 0.0026666666666666666, 0.015, 0.003, 0.003, 0.002, 0.0033333333333333335, 0.004333333333333333, 0.03266666666666666, 0.003, 0.005666666666666667, 0.007, 0.005, 0.005666666666666667, 0.0033333333333333335]\n",
      "[0. 0. 0. ... 0. 0. 0.]\n",
      "[0.014333333333333333, 0.012333333333333333, 0.005666666666666667, 0.015, 0.004666666666666667, 0.006333333333333333, 0.003, 0.005, 0.005333333333333333, 0.05633333333333333, 0.004333333333333333, 0.011333333333333334, 0.012333333333333333, 0.009666666666666667, 0.010666666666666666, 0.005]\n",
      "[1. 0. 0. ... 0. 0. 0.]\n",
      "[0.014333333333333333, 0.012333333333333333, 0.010666666666666666, 0.015, 0.010666666666666666, 0.010333333333333333, 0.0036666666666666666, 0.009, 0.010666666666666666, 0.104, 0.006333333333333333, 0.011333333333333334, 0.012333333333333333, 0.011, 0.011333333333333334, 0.009333333333333334]\n",
      "[1. 0. 0. ... 0. 0. 0.]\n",
      "[0.014333333333333333, 0.012333333333333333, 0.011333333333333334, 0.015, 0.012666666666666666, 0.011333333333333334, 0.009333333333333334, 0.009666666666666667, 0.011333333333333334, 0.11066666666666666, 0.008333333333333333, 0.011333333333333334, 0.012333333333333333, 0.011, 0.011333333333333334, 0.01]\n",
      "[1. 0. 0. ... 0. 0. 0.]\n",
      "[0.014333333333333333, 0.012333333333333333, 0.011333333333333334, 0.015, 0.012666666666666666, 0.011333333333333334, 0.009333333333333334, 0.009666666666666667, 0.011333333333333334, 0.11066666666666666, 0.008333333333333333, 0.011333333333333334, 0.012333333333333333, 0.011, 0.011333333333333334, 0.01]\n",
      "[1. 0. 0. ... 0. 0. 0.]\n",
      "[0.014333333333333333, 0.012333333333333333, 0.011333333333333334, 0.015, 0.012666666666666666, 0.011333333333333334, 0.009333333333333334, 0.009666666666666667, 0.011333333333333334, 0.11066666666666666, 0.008333333333333333, 0.011333333333333334, 0.012333333333333333, 0.011, 0.011333333333333334, 0.01]\n",
      "[1. 0. 0. ... 0. 0. 0.]\n",
      "[0.014333333333333333, 0.012333333333333333, 0.011333333333333334, 0.015, 0.012666666666666666, 0.011333333333333334, 0.009333333333333334, 0.009666666666666667, 0.011333333333333334, 0.11066666666666666, 0.008333333333333333, 0.011333333333333334, 0.012333333333333333, 0.011, 0.011333333333333334, 0.01]\n",
      "[1. 0. 0. ... 0. 0. 0.]\n",
      "[0.014333333333333333, 0.012333333333333333, 0.011333333333333334, 0.015, 0.012666666666666666, 0.011333333333333334, 0.009333333333333334, 0.009666666666666667, 0.011333333333333334, 0.11066666666666666, 0.008333333333333333, 0.011333333333333334, 0.012333333333333333, 0.011, 0.011333333333333334, 0.01]\n",
      "[1. 0. 0. ... 0. 0. 0.]\n",
      "[0.014333333333333333, 0.012333333333333333, 0.011333333333333334, 0.015, 0.012666666666666666, 0.011333333333333334, 0.009333333333333334, 0.009666666666666667, 0.011333333333333334, 0.11066666666666666, 0.008333333333333333, 0.011333333333333334, 0.012333333333333333, 0.011, 0.011333333333333334, 0.01]\n",
      "[1. 0. 0. ... 0. 0. 0.]\n",
      "[0.014333333333333333, 0.012333333333333333, 0.011333333333333334, 0.015, 0.012666666666666666, 0.011333333333333334, 0.009333333333333334, 0.009666666666666667, 0.011333333333333334, 0.11066666666666666, 0.008333333333333333, 0.011333333333333334, 0.012333333333333333, 0.011, 0.011333333333333334, 0.01]\n",
      "[1. 0. 0. ... 0. 0. 0.]\n",
      "[0.014333333333333333, 0.012333333333333333, 0.011333333333333334, 0.015, 0.012666666666666666, 0.011333333333333334, 0.009333333333333334, 0.009666666666666667, 0.011333333333333334, 0.11066666666666666, 0.008333333333333333, 0.011333333333333334, 0.012333333333333333, 0.011, 0.011333333333333334, 0.01]\n",
      "[1. 0. 0. ... 0. 0. 0.]\n",
      "[0.014333333333333333, 0.012333333333333333, 0.010666666666666666, 0.015, 0.012, 0.010333333333333333, 0.007333333333333333, 0.007333333333333333, 0.011, 0.10433333333333333, 0.004, 0.011333333333333334, 0.011666666666666667, 0.010333333333333333, 0.010666666666666666, 0.008]\n",
      "[0. 0. 0. ... 0. 0. 0.]\n",
      "[0.010333333333333333, 0.0036666666666666666, 0.0023333333333333335, 0.011333333333333334, 0.0026666666666666666, 0.0026666666666666666, 0.0003333333333333333, 0.0, 0.0033333333333333335, 0.02033333333333333, 0.0, 0.0026666666666666666, 0.0033333333333333335, 0.0033333333333333335, 0.0016666666666666668, 0.0006666666666666666]\n",
      "[0. 0. 0. ... 0. 0. 0.]\n",
      "[0.014333333333333333, 0.006333333333333333, 0.003, 0.015, 0.003, 0.0033333333333333335, 0.002, 0.0026666666666666666, 0.004666666666666667, 0.029666666666666668, 0.0026666666666666666, 0.004, 0.005, 0.005, 0.0033333333333333335, 0.0026666666666666666]\n",
      "[0. 0. 0. ... 0. 0. 0.]\n",
      "[0.014333333333333333, 0.004666666666666667, 0.0023333333333333335, 0.015, 0.0026666666666666666, 0.003, 0.002, 0.0026666666666666666, 0.0036666666666666666, 0.027333333333333334, 0.0026666666666666666, 0.0036666666666666666, 0.004666666666666667, 0.004, 0.0033333333333333335, 0.0026666666666666666]\n",
      "[0. 0. 0. ... 0. 0. 0.]\n",
      "[0.014333333333333333, 0.004666666666666667, 0.0023333333333333335, 0.015, 0.0026666666666666666, 0.003, 0.002, 0.0026666666666666666, 0.0036666666666666666, 0.027333333333333334, 0.0026666666666666666, 0.0036666666666666666, 0.004666666666666667, 0.004, 0.0033333333333333335, 0.0026666666666666666]\n",
      "[0. 0. 0. ... 0. 0. 0.]\n",
      "[0.014333333333333333, 0.004666666666666667, 0.0023333333333333335, 0.015, 0.0026666666666666666, 0.003, 0.002, 0.0026666666666666666, 0.0036666666666666666, 0.027333333333333334, 0.0026666666666666666, 0.0036666666666666666, 0.004666666666666667, 0.004, 0.0033333333333333335, 0.0026666666666666666]\n",
      "[0. 0. 0. ... 0. 0. 0.]\n",
      "[0.014333333333333333, 0.004666666666666667, 0.0023333333333333335, 0.015, 0.0026666666666666666, 0.003, 0.002, 0.0026666666666666666, 0.0036666666666666666, 0.027333333333333334, 0.0026666666666666666, 0.0036666666666666666, 0.004666666666666667, 0.004, 0.0033333333333333335, 0.0026666666666666666]\n",
      "[0. 0. 0. ... 0. 0. 0.]\n",
      "[0.014333333333333333, 0.004666666666666667, 0.0023333333333333335, 0.015, 0.0026666666666666666, 0.003, 0.002, 0.0026666666666666666, 0.0036666666666666666, 0.027333333333333334, 0.0026666666666666666, 0.0036666666666666666, 0.004666666666666667, 0.004, 0.0033333333333333335, 0.0026666666666666666]\n",
      "[0. 0. 0. ... 0. 0. 0.]\n",
      "[0.014333333333333333, 0.004666666666666667, 0.0023333333333333335, 0.015, 0.0026666666666666666, 0.003, 0.002, 0.0026666666666666666, 0.0036666666666666666, 0.027333333333333334, 0.0026666666666666666, 0.0036666666666666666, 0.004666666666666667, 0.004, 0.0033333333333333335, 0.0026666666666666666]\n",
      "[0. 0. 0. ... 0. 0. 0.]\n",
      "[0.014333333333333333, 0.004666666666666667, 0.0023333333333333335, 0.015, 0.0026666666666666666, 0.003, 0.002, 0.0026666666666666666, 0.0036666666666666666, 0.027333333333333334, 0.0026666666666666666, 0.0036666666666666666, 0.004666666666666667, 0.004, 0.0033333333333333335, 0.0026666666666666666]\n",
      "[0. 0. 0. ... 0. 0. 0.]\n",
      "[0.014333333333333333, 0.004666666666666667, 0.0023333333333333335, 0.015, 0.0026666666666666666, 0.003, 0.002, 0.0026666666666666666, 0.0036666666666666666, 0.027333333333333334, 0.0026666666666666666, 0.0036666666666666666, 0.004666666666666667, 0.004, 0.0033333333333333335, 0.0026666666666666666]\n",
      "[0. 0. 0. ... 0. 0. 0.]\n",
      "[0.014333333333333333, 0.004666666666666667, 0.0023333333333333335, 0.015, 0.0026666666666666666, 0.003, 0.002, 0.0026666666666666666, 0.0036666666666666666, 0.027333333333333334, 0.0026666666666666666, 0.0036666666666666666, 0.004666666666666667, 0.004, 0.0033333333333333335, 0.0026666666666666666]\n",
      "[0. 0. 0. ... 0. 0. 0.]\n",
      "[0.014333333333333333, 0.004666666666666667, 0.0023333333333333335, 0.015, 0.0026666666666666666, 0.003, 0.002, 0.0026666666666666666, 0.0036666666666666666, 0.027333333333333334, 0.0026666666666666666, 0.0036666666666666666, 0.004666666666666667, 0.004, 0.0033333333333333335, 0.0026666666666666666]\n",
      "[0. 0. 0. ... 0. 0. 0.]\n",
      "[0.014333333333333333, 0.004666666666666667, 0.0023333333333333335, 0.015, 0.0026666666666666666, 0.003, 0.002, 0.0026666666666666666, 0.0036666666666666666, 0.027333333333333334, 0.0026666666666666666, 0.0036666666666666666, 0.004666666666666667, 0.004, 0.0033333333333333335, 0.0026666666666666666]\n",
      "[0. 0. 0. ... 0. 0. 0.]\n",
      "[0.014333333333333333, 0.008, 0.0026666666666666666, 0.015, 0.003, 0.003, 0.002, 0.0033333333333333335, 0.004333333333333333, 0.03266666666666666, 0.003, 0.005666666666666667, 0.007, 0.005, 0.005666666666666667, 0.0033333333333333335]\n",
      "[0. 0. 0. ... 0. 0. 0.]\n",
      "[0.014333333333333333, 0.012333333333333333, 0.005666666666666667, 0.015, 0.005666666666666667, 0.006333333333333333, 0.003, 0.005, 0.005333333333333333, 0.05733333333333333, 0.004333333333333333, 0.011333333333333334, 0.012333333333333333, 0.010666666666666666, 0.010666666666666666, 0.005]\n",
      "[1. 0. 0. ... 0. 0. 0.]\n",
      "[0.014333333333333333, 0.012333333333333333, 0.010666666666666666, 0.015, 0.011, 0.010333333333333333, 0.0036666666666666666, 0.009, 0.010333333333333333, 0.104, 0.006333333333333333, 0.011333333333333334, 0.012333333333333333, 0.011, 0.011333333333333334, 0.009333333333333334]\n",
      "[1. 0. 0. ... 0. 0. 0.]\n",
      "[0.014333333333333333, 0.012333333333333333, 0.011333333333333334, 0.015, 0.012666666666666666, 0.011333333333333334, 0.009333333333333334, 0.009666666666666667, 0.011333333333333334, 0.11066666666666666, 0.008333333333333333, 0.011333333333333334, 0.012333333333333333, 0.011, 0.011333333333333334, 0.01]\n",
      "[1. 0. 0. ... 0. 0. 0.]\n",
      "[0.014333333333333333, 0.012333333333333333, 0.011333333333333334, 0.015, 0.012666666666666666, 0.011333333333333334, 0.009333333333333334, 0.009666666666666667, 0.011333333333333334, 0.11066666666666666, 0.008333333333333333, 0.011333333333333334, 0.012333333333333333, 0.011, 0.011333333333333334, 0.01]\n",
      "[1. 0. 0. ... 0. 0. 0.]\n",
      "[0.014333333333333333, 0.012333333333333333, 0.011333333333333334, 0.015, 0.012666666666666666, 0.011333333333333334, 0.009333333333333334, 0.009666666666666667, 0.011333333333333334, 0.11066666666666666, 0.008333333333333333, 0.011333333333333334, 0.012333333333333333, 0.011, 0.011333333333333334, 0.01]\n",
      "[1. 0. 0. ... 0. 0. 0.]\n",
      "[0.014333333333333333, 0.012333333333333333, 0.011333333333333334, 0.015, 0.012666666666666666, 0.011333333333333334, 0.009333333333333334, 0.009666666666666667, 0.011333333333333334, 0.11066666666666666, 0.008333333333333333, 0.011333333333333334, 0.012333333333333333, 0.011, 0.011333333333333334, 0.01]\n",
      "[1. 0. 0. ... 0. 0. 0.]\n",
      "[0.014333333333333333, 0.012333333333333333, 0.011333333333333334, 0.015, 0.012666666666666666, 0.011333333333333334, 0.009333333333333334, 0.009666666666666667, 0.011333333333333334, 0.11066666666666666, 0.008333333333333333, 0.011333333333333334, 0.012333333333333333, 0.011, 0.011333333333333334, 0.01]\n",
      "[1. 0. 0. ... 0. 0. 0.]\n",
      "[0.014333333333333333, 0.012333333333333333, 0.011333333333333334, 0.015, 0.012666666666666666, 0.011333333333333334, 0.009333333333333334, 0.009666666666666667, 0.011333333333333334, 0.11066666666666666, 0.008333333333333333, 0.011333333333333334, 0.012333333333333333, 0.011, 0.011333333333333334, 0.01]\n",
      "[1. 0. 0. ... 0. 0. 0.]\n",
      "[0.014333333333333333, 0.012333333333333333, 0.011333333333333334, 0.015, 0.012666666666666666, 0.011333333333333334, 0.009333333333333334, 0.009666666666666667, 0.011333333333333334, 0.11066666666666666, 0.008333333333333333, 0.011333333333333334, 0.012333333333333333, 0.011, 0.011333333333333334, 0.01]\n",
      "[1. 0. 0. ... 0. 0. 0.]\n",
      "[0.014333333333333333, 0.012333333333333333, 0.011333333333333334, 0.015, 0.012666666666666666, 0.011333333333333334, 0.009333333333333334, 0.009666666666666667, 0.011333333333333334, 0.11066666666666666, 0.008333333333333333, 0.011333333333333334, 0.012333333333333333, 0.011, 0.011333333333333334, 0.01]\n",
      "[1. 0. 0. ... 0. 0. 0.]\n",
      "[0.014333333333333333, 0.012333333333333333, 0.010666666666666666, 0.015, 0.012, 0.010333333333333333, 0.007333333333333333, 0.007333333333333333, 0.011, 0.10433333333333333, 0.004, 0.011333333333333334, 0.011666666666666667, 0.010333333333333333, 0.010666666666666666, 0.008]\n",
      "[0. 0. 0. ... 0. 0. 0.]\n",
      "[0.010333333333333333, 0.0036666666666666666, 0.0023333333333333335, 0.011333333333333334, 0.0026666666666666666, 0.0026666666666666666, 0.0003333333333333333, 0.0, 0.0033333333333333335, 0.02033333333333333, 0.0, 0.0026666666666666666, 0.0033333333333333335, 0.0033333333333333335, 0.0016666666666666668, 0.0006666666666666666]\n",
      "[0. 0. 0. ... 0. 0. 0.]\n",
      "[0.014333333333333333, 0.006333333333333333, 0.003, 0.015, 0.003, 0.0033333333333333335, 0.002, 0.0026666666666666666, 0.004666666666666667, 0.029666666666666668, 0.0026666666666666666, 0.004, 0.005, 0.005, 0.0033333333333333335, 0.0026666666666666666]\n",
      "[0. 0. 0. ... 0. 0. 0.]\n",
      "[0.014333333333333333, 0.004666666666666667, 0.0023333333333333335, 0.015, 0.0026666666666666666, 0.003, 0.002, 0.0026666666666666666, 0.0036666666666666666, 0.027333333333333334, 0.0026666666666666666, 0.0036666666666666666, 0.004666666666666667, 0.004, 0.0033333333333333335, 0.0026666666666666666]\n",
      "[0. 0. 0. ... 0. 0. 0.]\n",
      "[0.014333333333333333, 0.004666666666666667, 0.0023333333333333335, 0.015, 0.0026666666666666666, 0.003, 0.002, 0.0026666666666666666, 0.0036666666666666666, 0.027333333333333334, 0.0026666666666666666, 0.0036666666666666666, 0.004666666666666667, 0.004, 0.0033333333333333335, 0.0026666666666666666]\n",
      "[0. 0. 0. ... 0. 0. 0.]\n",
      "[0.014333333333333333, 0.004666666666666667, 0.0023333333333333335, 0.015, 0.0026666666666666666, 0.003, 0.002, 0.0026666666666666666, 0.0036666666666666666, 0.027333333333333334, 0.0026666666666666666, 0.0036666666666666666, 0.004666666666666667, 0.004, 0.0033333333333333335, 0.0026666666666666666]\n",
      "[0. 0. 0. ... 0. 0. 0.]\n",
      "[0.014333333333333333, 0.004666666666666667, 0.0023333333333333335, 0.015, 0.0026666666666666666, 0.003, 0.002, 0.0026666666666666666, 0.0036666666666666666, 0.027333333333333334, 0.0026666666666666666, 0.0036666666666666666, 0.004666666666666667, 0.004, 0.0033333333333333335, 0.0026666666666666666]\n",
      "[0. 0. 0. ... 0. 0. 0.]\n",
      "[0.014333333333333333, 0.004666666666666667, 0.0023333333333333335, 0.015, 0.0026666666666666666, 0.003, 0.002, 0.0026666666666666666, 0.0036666666666666666, 0.027333333333333334, 0.0026666666666666666, 0.0036666666666666666, 0.004666666666666667, 0.004, 0.0033333333333333335, 0.0026666666666666666]\n",
      "[0. 0. 0. ... 0. 0. 0.]\n",
      "[0.014333333333333333, 0.004666666666666667, 0.0023333333333333335, 0.015, 0.0026666666666666666, 0.003, 0.002, 0.0026666666666666666, 0.0036666666666666666, 0.027333333333333334, 0.0026666666666666666, 0.0036666666666666666, 0.004666666666666667, 0.004, 0.0033333333333333335, 0.0026666666666666666]\n",
      "[0. 0. 0. ... 0. 0. 0.]\n",
      "[0.014333333333333333, 0.004666666666666667, 0.0023333333333333335, 0.015, 0.0026666666666666666, 0.003, 0.002, 0.0026666666666666666, 0.0036666666666666666, 0.027333333333333334, 0.0026666666666666666, 0.0036666666666666666, 0.004666666666666667, 0.004, 0.0033333333333333335, 0.0026666666666666666]\n",
      "[0. 0. 0. ... 0. 0. 0.]\n",
      "[0.014333333333333333, 0.004666666666666667, 0.0023333333333333335, 0.015, 0.0026666666666666666, 0.003, 0.002, 0.0026666666666666666, 0.0036666666666666666, 0.027333333333333334, 0.0026666666666666666, 0.0036666666666666666, 0.004666666666666667, 0.004, 0.0033333333333333335, 0.0026666666666666666]\n",
      "[0. 0. 0. ... 0. 0. 0.]\n",
      "[0.014333333333333333, 0.004666666666666667, 0.0023333333333333335, 0.015, 0.0026666666666666666, 0.003, 0.002, 0.0026666666666666666, 0.0036666666666666666, 0.027333333333333334, 0.0026666666666666666, 0.0036666666666666666, 0.004666666666666667, 0.004, 0.0033333333333333335, 0.0026666666666666666]\n",
      "[0. 0. 0. ... 0. 0. 0.]\n",
      "[0.014333333333333333, 0.004666666666666667, 0.0023333333333333335, 0.015, 0.0026666666666666666, 0.003, 0.002, 0.0026666666666666666, 0.0036666666666666666, 0.027333333333333334, 0.0026666666666666666, 0.0036666666666666666, 0.004666666666666667, 0.004, 0.0033333333333333335, 0.0026666666666666666]\n",
      "[0. 0. 0. ... 0. 0. 0.]\n",
      "[0.014333333333333333, 0.004666666666666667, 0.0023333333333333335, 0.015, 0.0026666666666666666, 0.003, 0.002, 0.0026666666666666666, 0.0036666666666666666, 0.027333333333333334, 0.0026666666666666666, 0.0036666666666666666, 0.004666666666666667, 0.004, 0.0033333333333333335, 0.0026666666666666666]\n",
      "[0. 0. 0. ... 0. 0. 0.]\n",
      "[0.014333333333333333, 0.008, 0.0026666666666666666, 0.015, 0.003, 0.003, 0.002, 0.0033333333333333335, 0.004333333333333333, 0.03266666666666666, 0.003, 0.005666666666666667, 0.007, 0.005, 0.005666666666666667, 0.0033333333333333335]\n",
      "[0. 0. 0. ... 0. 0. 0.]\n",
      "[0.014333333333333333, 0.012333333333333333, 0.005666666666666667, 0.015, 0.005666666666666667, 0.006333333333333333, 0.003, 0.005, 0.005333333333333333, 0.05733333333333333, 0.004333333333333333, 0.011333333333333334, 0.012333333333333333, 0.010666666666666666, 0.010666666666666666, 0.005]\n",
      "[1. 0. 0. ... 0. 0. 0.]\n",
      "[0.014333333333333333, 0.012333333333333333, 0.010666666666666666, 0.015, 0.011, 0.010333333333333333, 0.0036666666666666666, 0.009, 0.010333333333333333, 0.104, 0.006333333333333333, 0.011333333333333334, 0.012333333333333333, 0.011, 0.011333333333333334, 0.009333333333333334]\n",
      "[1. 0. 0. ... 0. 0. 0.]\n",
      "[0.014333333333333333, 0.012333333333333333, 0.011333333333333334, 0.015, 0.012666666666666666, 0.011333333333333334, 0.009333333333333334, 0.009666666666666667, 0.011333333333333334, 0.11066666666666666, 0.008333333333333333, 0.011333333333333334, 0.012333333333333333, 0.011, 0.011333333333333334, 0.01]\n",
      "[1. 0. 0. ... 0. 0. 0.]\n",
      "[0.014333333333333333, 0.012333333333333333, 0.011333333333333334, 0.015, 0.012666666666666666, 0.011333333333333334, 0.009333333333333334, 0.009666666666666667, 0.011333333333333334, 0.11066666666666666, 0.008333333333333333, 0.011333333333333334, 0.012333333333333333, 0.011, 0.011333333333333334, 0.01]\n",
      "[1. 0. 0. ... 0. 0. 0.]\n",
      "[0.014333333333333333, 0.012333333333333333, 0.011333333333333334, 0.015, 0.012666666666666666, 0.011333333333333334, 0.009333333333333334, 0.009666666666666667, 0.011333333333333334, 0.11066666666666666, 0.008333333333333333, 0.011333333333333334, 0.012333333333333333, 0.011, 0.011333333333333334, 0.01]\n",
      "[1. 0. 0. ... 0. 0. 0.]\n",
      "[0.014333333333333333, 0.012333333333333333, 0.011333333333333334, 0.015, 0.012666666666666666, 0.011333333333333334, 0.009333333333333334, 0.009666666666666667, 0.011333333333333334, 0.11066666666666666, 0.008333333333333333, 0.011333333333333334, 0.012333333333333333, 0.011, 0.011333333333333334, 0.01]\n",
      "[1. 0. 0. ... 0. 0. 0.]\n",
      "[0.014333333333333333, 0.012333333333333333, 0.011333333333333334, 0.015, 0.012666666666666666, 0.011333333333333334, 0.009333333333333334, 0.009666666666666667, 0.011333333333333334, 0.11066666666666666, 0.008333333333333333, 0.011333333333333334, 0.012333333333333333, 0.011, 0.011333333333333334, 0.01]\n",
      "[1. 0. 0. ... 0. 0. 0.]\n",
      "[0.014333333333333333, 0.012333333333333333, 0.011333333333333334, 0.015, 0.012666666666666666, 0.011333333333333334, 0.009333333333333334, 0.009666666666666667, 0.011333333333333334, 0.11066666666666666, 0.008333333333333333, 0.011333333333333334, 0.012333333333333333, 0.011, 0.011333333333333334, 0.01]\n",
      "[1. 0. 0. ... 0. 0. 0.]\n"
     ]
    },
    {
     "name": "stdout",
     "output_type": "stream",
     "text": [
      "[0.014333333333333333, 0.012333333333333333, 0.011333333333333334, 0.015, 0.012666666666666666, 0.011333333333333334, 0.009333333333333334, 0.009666666666666667, 0.011333333333333334, 0.11066666666666666, 0.008333333333333333, 0.011333333333333334, 0.012333333333333333, 0.011, 0.011333333333333334, 0.01]\n",
      "[1. 0. 0. ... 0. 0. 0.]\n",
      "[0.014333333333333333, 0.012333333333333333, 0.011333333333333334, 0.015, 0.012666666666666666, 0.011333333333333334, 0.009333333333333334, 0.009666666666666667, 0.011333333333333334, 0.11066666666666666, 0.008333333333333333, 0.011333333333333334, 0.012333333333333333, 0.011, 0.011333333333333334, 0.01]\n",
      "[1. 0. 0. ... 0. 0. 0.]\n",
      "[0.014333333333333333, 0.012333333333333333, 0.010666666666666666, 0.015, 0.012, 0.010333333333333333, 0.007333333333333333, 0.007333333333333333, 0.011, 0.10433333333333333, 0.004, 0.011333333333333334, 0.011666666666666667, 0.010333333333333333, 0.010666666666666666, 0.008]\n",
      "[0. 0. 0. ... 0. 0. 0.]\n",
      "[0.010666666666666666, 0.004333333333333333, 0.0023333333333333335, 0.011666666666666667, 0.0026666666666666666, 0.0026666666666666666, 0.0003333333333333333, 0.0, 0.0036666666666666666, 0.021333333333333333, 0.0, 0.003, 0.0036666666666666666, 0.0033333333333333335, 0.0016666666666666668, 0.0013333333333333333]\n",
      "[0. 0. 0. ... 0. 0. 0.]\n",
      "[0.014333333333333333, 0.007333333333333333, 0.003, 0.015, 0.003, 0.0036666666666666666, 0.002, 0.0026666666666666666, 0.004666666666666667, 0.030666666666666665, 0.0026666666666666666, 0.004666666666666667, 0.005, 0.005, 0.0033333333333333335, 0.0026666666666666666]\n",
      "[0. 0. 0. ... 0. 0. 0.]\n",
      "[0.014333333333333333, 0.005, 0.0023333333333333335, 0.015, 0.0026666666666666666, 0.003, 0.002, 0.0026666666666666666, 0.004, 0.027666666666666666, 0.0026666666666666666, 0.004, 0.004666666666666667, 0.004, 0.0033333333333333335, 0.0026666666666666666]\n",
      "[0. 0. 0. ... 0. 0. 0.]\n",
      "[0.014333333333333333, 0.004666666666666667, 0.0023333333333333335, 0.015, 0.0026666666666666666, 0.003, 0.002, 0.0026666666666666666, 0.0036666666666666666, 0.027333333333333334, 0.0026666666666666666, 0.0036666666666666666, 0.004666666666666667, 0.004, 0.0033333333333333335, 0.0026666666666666666]\n",
      "[0. 0. 0. ... 0. 0. 0.]\n",
      "[0.014333333333333333, 0.004666666666666667, 0.0023333333333333335, 0.015, 0.0026666666666666666, 0.003, 0.002, 0.0026666666666666666, 0.0036666666666666666, 0.027333333333333334, 0.0026666666666666666, 0.0036666666666666666, 0.004666666666666667, 0.004, 0.0033333333333333335, 0.0026666666666666666]\n",
      "[0. 0. 0. ... 0. 0. 0.]\n",
      "[0.014333333333333333, 0.004666666666666667, 0.0023333333333333335, 0.015, 0.0026666666666666666, 0.003, 0.002, 0.0026666666666666666, 0.0036666666666666666, 0.027333333333333334, 0.0026666666666666666, 0.0036666666666666666, 0.004666666666666667, 0.004, 0.0033333333333333335, 0.0026666666666666666]\n",
      "[0. 0. 0. ... 0. 0. 0.]\n",
      "[0.014333333333333333, 0.004666666666666667, 0.0023333333333333335, 0.015, 0.0026666666666666666, 0.003, 0.002, 0.0026666666666666666, 0.0036666666666666666, 0.027333333333333334, 0.0026666666666666666, 0.0036666666666666666, 0.004666666666666667, 0.004, 0.0033333333333333335, 0.0026666666666666666]\n",
      "[0. 0. 0. ... 0. 0. 0.]\n",
      "[0.014333333333333333, 0.004666666666666667, 0.0023333333333333335, 0.015, 0.0026666666666666666, 0.003, 0.002, 0.0026666666666666666, 0.0036666666666666666, 0.027333333333333334, 0.0026666666666666666, 0.0036666666666666666, 0.004666666666666667, 0.004, 0.0033333333333333335, 0.0026666666666666666]\n",
      "[0. 0. 0. ... 0. 0. 0.]\n",
      "[0.014333333333333333, 0.004666666666666667, 0.0023333333333333335, 0.015, 0.0026666666666666666, 0.003, 0.002, 0.0026666666666666666, 0.0036666666666666666, 0.027333333333333334, 0.0026666666666666666, 0.0036666666666666666, 0.004666666666666667, 0.004, 0.0033333333333333335, 0.0026666666666666666]\n",
      "[0. 0. 0. ... 0. 0. 0.]\n",
      "[0.014333333333333333, 0.004666666666666667, 0.0023333333333333335, 0.015, 0.0026666666666666666, 0.003, 0.002, 0.0026666666666666666, 0.0036666666666666666, 0.027333333333333334, 0.0026666666666666666, 0.0036666666666666666, 0.004666666666666667, 0.004, 0.0033333333333333335, 0.0026666666666666666]\n",
      "[0. 0. 0. ... 0. 0. 0.]\n",
      "[0.014333333333333333, 0.004666666666666667, 0.0023333333333333335, 0.015, 0.0026666666666666666, 0.003, 0.002, 0.0026666666666666666, 0.0036666666666666666, 0.027333333333333334, 0.0026666666666666666, 0.0036666666666666666, 0.004666666666666667, 0.004, 0.0033333333333333335, 0.0026666666666666666]\n",
      "[0. 0. 0. ... 0. 0. 0.]\n",
      "[0.014333333333333333, 0.004666666666666667, 0.0023333333333333335, 0.015, 0.0026666666666666666, 0.003, 0.002, 0.0026666666666666666, 0.0036666666666666666, 0.027333333333333334, 0.0026666666666666666, 0.0036666666666666666, 0.004666666666666667, 0.004, 0.0033333333333333335, 0.0026666666666666666]\n",
      "[0. 0. 0. ... 0. 0. 0.]\n",
      "[0.014333333333333333, 0.004666666666666667, 0.0023333333333333335, 0.015, 0.0026666666666666666, 0.003, 0.002, 0.0026666666666666666, 0.0036666666666666666, 0.027333333333333334, 0.0026666666666666666, 0.0036666666666666666, 0.004666666666666667, 0.004, 0.0033333333333333335, 0.0026666666666666666]\n",
      "[0. 0. 0. ... 0. 0. 0.]\n",
      "[0.014333333333333333, 0.008, 0.0026666666666666666, 0.015, 0.003, 0.003, 0.002, 0.0033333333333333335, 0.004333333333333333, 0.03266666666666666, 0.003, 0.005666666666666667, 0.007, 0.005, 0.005666666666666667, 0.0033333333333333335]\n",
      "[0. 0. 0. ... 0. 0. 0.]\n",
      "[0.014333333333333333, 0.012333333333333333, 0.005666666666666667, 0.015, 0.005666666666666667, 0.006333333333333333, 0.003, 0.005, 0.005333333333333333, 0.05733333333333333, 0.004333333333333333, 0.011333333333333334, 0.012333333333333333, 0.010666666666666666, 0.010666666666666666, 0.005]\n",
      "[1. 0. 0. ... 0. 0. 0.]\n",
      "[0.014333333333333333, 0.012333333333333333, 0.010666666666666666, 0.015, 0.011, 0.010333333333333333, 0.0036666666666666666, 0.009, 0.010666666666666666, 0.10433333333333333, 0.006666666666666667, 0.011333333333333334, 0.012333333333333333, 0.011, 0.011333333333333334, 0.009333333333333334]\n",
      "[1. 0. 0. ... 0. 0. 0.]\n",
      "[0.014333333333333333, 0.012333333333333333, 0.011333333333333334, 0.015, 0.012666666666666666, 0.011333333333333334, 0.009333333333333334, 0.009666666666666667, 0.011333333333333334, 0.11066666666666666, 0.008333333333333333, 0.011333333333333334, 0.012333333333333333, 0.011, 0.011333333333333334, 0.01]\n",
      "[1. 0. 0. ... 0. 0. 0.]\n",
      "[0.014333333333333333, 0.012333333333333333, 0.011333333333333334, 0.015, 0.012666666666666666, 0.011333333333333334, 0.009333333333333334, 0.009666666666666667, 0.011333333333333334, 0.11066666666666666, 0.008333333333333333, 0.011333333333333334, 0.012333333333333333, 0.011, 0.011333333333333334, 0.01]\n",
      "[1. 0. 0. ... 0. 0. 0.]\n",
      "[0.014333333333333333, 0.012333333333333333, 0.011333333333333334, 0.015, 0.012666666666666666, 0.011333333333333334, 0.009333333333333334, 0.009666666666666667, 0.011333333333333334, 0.11066666666666666, 0.008333333333333333, 0.011333333333333334, 0.012333333333333333, 0.011, 0.011333333333333334, 0.01]\n",
      "[1. 0. 0. ... 0. 0. 0.]\n",
      "[0.014333333333333333, 0.012333333333333333, 0.011333333333333334, 0.015, 0.012666666666666666, 0.011333333333333334, 0.009333333333333334, 0.009666666666666667, 0.011333333333333334, 0.11066666666666666, 0.008333333333333333, 0.011333333333333334, 0.012333333333333333, 0.011, 0.011333333333333334, 0.01]\n",
      "[1. 0. 0. ... 0. 0. 0.]\n",
      "[0.014333333333333333, 0.012333333333333333, 0.011333333333333334, 0.015, 0.012666666666666666, 0.011333333333333334, 0.009333333333333334, 0.009666666666666667, 0.011333333333333334, 0.11066666666666666, 0.008333333333333333, 0.011333333333333334, 0.012333333333333333, 0.011, 0.011333333333333334, 0.01]\n",
      "[1. 0. 0. ... 0. 0. 0.]\n",
      "[0.014333333333333333, 0.012333333333333333, 0.011333333333333334, 0.015, 0.012666666666666666, 0.011333333333333334, 0.009333333333333334, 0.009666666666666667, 0.011333333333333334, 0.11066666666666666, 0.008333333333333333, 0.011333333333333334, 0.012333333333333333, 0.011, 0.011333333333333334, 0.01]\n",
      "[1. 0. 0. ... 0. 0. 0.]\n",
      "[0.014333333333333333, 0.012333333333333333, 0.011333333333333334, 0.015, 0.012666666666666666, 0.011333333333333334, 0.009333333333333334, 0.009666666666666667, 0.011333333333333334, 0.11066666666666666, 0.008333333333333333, 0.011333333333333334, 0.012333333333333333, 0.011, 0.011333333333333334, 0.01]\n",
      "[1. 0. 0. ... 0. 0. 0.]\n",
      "[0.014333333333333333, 0.012333333333333333, 0.011333333333333334, 0.015, 0.012666666666666666, 0.011333333333333334, 0.009333333333333334, 0.009666666666666667, 0.011333333333333334, 0.11066666666666666, 0.008333333333333333, 0.011333333333333334, 0.012333333333333333, 0.011, 0.011333333333333334, 0.01]\n",
      "[1. 0. 0. ... 0. 0. 0.]\n",
      "[0.014333333333333333, 0.012333333333333333, 0.010666666666666666, 0.015, 0.012, 0.010333333333333333, 0.007333333333333333, 0.007333333333333333, 0.011, 0.10433333333333333, 0.004, 0.011333333333333334, 0.011666666666666667, 0.010333333333333333, 0.010666666666666666, 0.008]\n",
      "[0. 0. 0. ... 0. 0. 0.]\n",
      "[0.010666666666666666, 0.004333333333333333, 0.0023333333333333335, 0.011666666666666667, 0.0026666666666666666, 0.0026666666666666666, 0.0003333333333333333, 0.0, 0.0036666666666666666, 0.021333333333333333, 0.0, 0.003, 0.0036666666666666666, 0.0033333333333333335, 0.0016666666666666668, 0.0013333333333333333]\n",
      "[0. 0. 0. ... 0. 0. 0.]\n",
      "[0.014333333333333333, 0.007333333333333333, 0.003, 0.015, 0.003, 0.0036666666666666666, 0.002, 0.0026666666666666666, 0.004666666666666667, 0.030666666666666665, 0.0026666666666666666, 0.004666666666666667, 0.005, 0.005, 0.0033333333333333335, 0.0026666666666666666]\n",
      "[0. 0. 0. ... 0. 0. 0.]\n",
      "[0.014333333333333333, 0.005, 0.0023333333333333335, 0.015, 0.0026666666666666666, 0.003, 0.002, 0.0026666666666666666, 0.004, 0.027666666666666666, 0.0026666666666666666, 0.004, 0.004666666666666667, 0.004, 0.0033333333333333335, 0.0026666666666666666]\n",
      "[0. 0. 0. ... 0. 0. 0.]\n",
      "[0.014333333333333333, 0.004666666666666667, 0.0023333333333333335, 0.015, 0.0026666666666666666, 0.003, 0.002, 0.0026666666666666666, 0.0036666666666666666, 0.027333333333333334, 0.0026666666666666666, 0.0036666666666666666, 0.004666666666666667, 0.004, 0.0033333333333333335, 0.0026666666666666666]\n",
      "[0. 0. 0. ... 0. 0. 0.]\n",
      "[0.014333333333333333, 0.004666666666666667, 0.0023333333333333335, 0.015, 0.0026666666666666666, 0.003, 0.002, 0.0026666666666666666, 0.0036666666666666666, 0.027333333333333334, 0.0026666666666666666, 0.0036666666666666666, 0.004666666666666667, 0.004, 0.0033333333333333335, 0.0026666666666666666]\n",
      "[0. 0. 0. ... 0. 0. 0.]\n",
      "[0.014333333333333333, 0.004666666666666667, 0.0023333333333333335, 0.015, 0.0026666666666666666, 0.003, 0.002, 0.0026666666666666666, 0.0036666666666666666, 0.027333333333333334, 0.0026666666666666666, 0.0036666666666666666, 0.004666666666666667, 0.004, 0.0033333333333333335, 0.0026666666666666666]\n",
      "[0. 0. 0. ... 0. 0. 0.]\n",
      "[0.014333333333333333, 0.004666666666666667, 0.0023333333333333335, 0.015, 0.0026666666666666666, 0.003, 0.002, 0.0026666666666666666, 0.0036666666666666666, 0.027333333333333334, 0.0026666666666666666, 0.0036666666666666666, 0.004666666666666667, 0.004, 0.0033333333333333335, 0.0026666666666666666]\n",
      "[0. 0. 0. ... 0. 0. 0.]\n",
      "[0.014333333333333333, 0.004666666666666667, 0.0023333333333333335, 0.015, 0.0026666666666666666, 0.003, 0.002, 0.0026666666666666666, 0.0036666666666666666, 0.027333333333333334, 0.0026666666666666666, 0.0036666666666666666, 0.004666666666666667, 0.004, 0.0033333333333333335, 0.0026666666666666666]\n",
      "[0. 0. 0. ... 0. 0. 0.]\n",
      "[0.014333333333333333, 0.004666666666666667, 0.0023333333333333335, 0.015, 0.0026666666666666666, 0.003, 0.002, 0.0026666666666666666, 0.0036666666666666666, 0.027333333333333334, 0.0026666666666666666, 0.0036666666666666666, 0.004666666666666667, 0.004, 0.0033333333333333335, 0.0026666666666666666]\n",
      "[0. 0. 0. ... 0. 0. 0.]\n",
      "[0.014333333333333333, 0.004666666666666667, 0.0023333333333333335, 0.015, 0.0026666666666666666, 0.003, 0.002, 0.0026666666666666666, 0.0036666666666666666, 0.027333333333333334, 0.0026666666666666666, 0.0036666666666666666, 0.004666666666666667, 0.004, 0.0033333333333333335, 0.0026666666666666666]\n",
      "[0. 0. 0. ... 0. 0. 0.]\n",
      "[0.014333333333333333, 0.004666666666666667, 0.0023333333333333335, 0.015, 0.0026666666666666666, 0.003, 0.002, 0.0026666666666666666, 0.0036666666666666666, 0.027333333333333334, 0.0026666666666666666, 0.0036666666666666666, 0.004666666666666667, 0.004, 0.0033333333333333335, 0.0026666666666666666]\n",
      "[0. 0. 0. ... 0. 0. 0.]\n",
      "[0.014333333333333333, 0.004666666666666667, 0.0023333333333333335, 0.015, 0.0026666666666666666, 0.003, 0.002, 0.0026666666666666666, 0.0036666666666666666, 0.027333333333333334, 0.0026666666666666666, 0.0036666666666666666, 0.004666666666666667, 0.004, 0.0033333333333333335, 0.0026666666666666666]\n",
      "[0. 0. 0. ... 0. 0. 0.]\n",
      "[0.014333333333333333, 0.004666666666666667, 0.0023333333333333335, 0.015, 0.0026666666666666666, 0.003, 0.002, 0.0026666666666666666, 0.0036666666666666666, 0.027333333333333334, 0.0026666666666666666, 0.0036666666666666666, 0.004666666666666667, 0.004, 0.0033333333333333335, 0.0026666666666666666]\n",
      "[0. 0. 0. ... 0. 0. 0.]\n",
      "[0.014333333333333333, 0.008, 0.0026666666666666666, 0.015, 0.003, 0.003, 0.002, 0.0033333333333333335, 0.004333333333333333, 0.03266666666666666, 0.003, 0.005666666666666667, 0.007, 0.005, 0.005666666666666667, 0.0033333333333333335]\n",
      "[0. 0. 0. ... 0. 0. 0.]\n",
      "[0.014333333333333333, 0.012333333333333333, 0.005666666666666667, 0.015, 0.005666666666666667, 0.006333333333333333, 0.003, 0.005, 0.005333333333333333, 0.05733333333333333, 0.004333333333333333, 0.011333333333333334, 0.012333333333333333, 0.010666666666666666, 0.010666666666666666, 0.005]\n",
      "[1. 0. 0. ... 0. 0. 0.]\n",
      "[0.014333333333333333, 0.012333333333333333, 0.010666666666666666, 0.015, 0.011, 0.010333333333333333, 0.0036666666666666666, 0.009, 0.010666666666666666, 0.10433333333333333, 0.006666666666666667, 0.011333333333333334, 0.012333333333333333, 0.011, 0.011333333333333334, 0.009333333333333334]\n",
      "[1. 0. 0. ... 0. 0. 0.]\n",
      "[0.014333333333333333, 0.012333333333333333, 0.011333333333333334, 0.015, 0.012666666666666666, 0.011333333333333334, 0.009333333333333334, 0.009666666666666667, 0.011333333333333334, 0.11066666666666666, 0.008333333333333333, 0.011333333333333334, 0.012333333333333333, 0.011, 0.011333333333333334, 0.01]\n",
      "[1. 0. 0. ... 0. 0. 0.]\n",
      "[0.014333333333333333, 0.012333333333333333, 0.011333333333333334, 0.015, 0.012666666666666666, 0.011333333333333334, 0.009333333333333334, 0.009666666666666667, 0.011333333333333334, 0.11066666666666666, 0.008333333333333333, 0.011333333333333334, 0.012333333333333333, 0.011, 0.011333333333333334, 0.01]\n",
      "[1. 0. 0. ... 0. 0. 0.]\n",
      "[0.014333333333333333, 0.012333333333333333, 0.011333333333333334, 0.015, 0.012666666666666666, 0.011333333333333334, 0.009333333333333334, 0.009666666666666667, 0.011333333333333334, 0.11066666666666666, 0.008333333333333333, 0.011333333333333334, 0.012333333333333333, 0.011, 0.011333333333333334, 0.01]\n",
      "[1. 0. 0. ... 0. 0. 0.]\n",
      "[0.014333333333333333, 0.012333333333333333, 0.011333333333333334, 0.015, 0.012666666666666666, 0.011333333333333334, 0.009333333333333334, 0.009666666666666667, 0.011333333333333334, 0.11066666666666666, 0.008333333333333333, 0.011333333333333334, 0.012333333333333333, 0.011, 0.011333333333333334, 0.01]\n",
      "[1. 0. 0. ... 0. 0. 0.]\n",
      "[0.014333333333333333, 0.012333333333333333, 0.011333333333333334, 0.015, 0.012666666666666666, 0.011333333333333334, 0.009333333333333334, 0.009666666666666667, 0.011333333333333334, 0.11066666666666666, 0.008333333333333333, 0.011333333333333334, 0.012333333333333333, 0.011, 0.011333333333333334, 0.01]\n",
      "[1. 0. 0. ... 0. 0. 0.]\n",
      "[0.014333333333333333, 0.012333333333333333, 0.011333333333333334, 0.015, 0.012666666666666666, 0.011333333333333334, 0.009333333333333334, 0.009666666666666667, 0.011333333333333334, 0.11066666666666666, 0.008333333333333333, 0.011333333333333334, 0.012333333333333333, 0.011, 0.011333333333333334, 0.01]\n",
      "[1. 0. 0. ... 0. 0. 0.]\n",
      "[0.014333333333333333, 0.012333333333333333, 0.011333333333333334, 0.015, 0.012666666666666666, 0.011333333333333334, 0.009333333333333334, 0.009666666666666667, 0.011333333333333334, 0.11066666666666666, 0.008333333333333333, 0.011333333333333334, 0.012333333333333333, 0.011, 0.011333333333333334, 0.01]\n",
      "[1. 0. 0. ... 0. 0. 0.]\n",
      "[0.014333333333333333, 0.012333333333333333, 0.011333333333333334, 0.015, 0.012666666666666666, 0.011333333333333334, 0.009333333333333334, 0.009666666666666667, 0.011333333333333334, 0.11066666666666666, 0.008333333333333333, 0.011333333333333334, 0.012333333333333333, 0.011, 0.011333333333333334, 0.01]\n",
      "[1. 0. 0. ... 0. 0. 0.]\n",
      "[0.014333333333333333, 0.012333333333333333, 0.010666666666666666, 0.015, 0.012, 0.010333333333333333, 0.007333333333333333, 0.007333333333333333, 0.011, 0.10433333333333333, 0.004, 0.011333333333333334, 0.011666666666666667, 0.010333333333333333, 0.010666666666666666, 0.008]\n",
      "[0. 0. 0. ... 0. 0. 0.]\n",
      "[0.010666666666666666, 0.004333333333333333, 0.0023333333333333335, 0.011666666666666667, 0.0026666666666666666, 0.0026666666666666666, 0.0003333333333333333, 0.0, 0.0036666666666666666, 0.021333333333333333, 0.0, 0.003, 0.0036666666666666666, 0.0033333333333333335, 0.0016666666666666668, 0.0013333333333333333]\n",
      "[0. 0. 0. ... 0. 0. 0.]\n",
      "[0.014333333333333333, 0.007333333333333333, 0.003, 0.015, 0.003, 0.0036666666666666666, 0.002, 0.0026666666666666666, 0.004666666666666667, 0.030666666666666665, 0.0026666666666666666, 0.004666666666666667, 0.005, 0.005, 0.0033333333333333335, 0.0026666666666666666]\n"
     ]
    },
    {
     "name": "stdout",
     "output_type": "stream",
     "text": [
      "[0. 0. 0. ... 0. 0. 0.]\n",
      "[0.014333333333333333, 0.005, 0.0023333333333333335, 0.015, 0.0026666666666666666, 0.003, 0.002, 0.0026666666666666666, 0.004, 0.027666666666666666, 0.0026666666666666666, 0.004, 0.004666666666666667, 0.004, 0.0033333333333333335, 0.0026666666666666666]\n",
      "[0. 0. 0. ... 0. 0. 0.]\n",
      "[0.014333333333333333, 0.004666666666666667, 0.0023333333333333335, 0.015, 0.0026666666666666666, 0.003, 0.002, 0.0026666666666666666, 0.0036666666666666666, 0.027333333333333334, 0.0026666666666666666, 0.0036666666666666666, 0.004666666666666667, 0.004, 0.0033333333333333335, 0.0026666666666666666]\n",
      "[0. 0. 0. ... 0. 0. 0.]\n",
      "[0.014333333333333333, 0.004666666666666667, 0.0023333333333333335, 0.015, 0.0026666666666666666, 0.003, 0.002, 0.0026666666666666666, 0.0036666666666666666, 0.027333333333333334, 0.0026666666666666666, 0.0036666666666666666, 0.004666666666666667, 0.004, 0.0033333333333333335, 0.0026666666666666666]\n",
      "[0. 0. 0. ... 0. 0. 0.]\n",
      "[0.014333333333333333, 0.004666666666666667, 0.0023333333333333335, 0.015, 0.0026666666666666666, 0.003, 0.002, 0.0026666666666666666, 0.0036666666666666666, 0.027333333333333334, 0.0026666666666666666, 0.0036666666666666666, 0.004666666666666667, 0.004, 0.0033333333333333335, 0.0026666666666666666]\n",
      "[0. 0. 0. ... 0. 0. 0.]\n",
      "[0.014333333333333333, 0.004666666666666667, 0.0023333333333333335, 0.015, 0.0026666666666666666, 0.003, 0.002, 0.0026666666666666666, 0.0036666666666666666, 0.027333333333333334, 0.0026666666666666666, 0.0036666666666666666, 0.004666666666666667, 0.004, 0.0033333333333333335, 0.0026666666666666666]\n",
      "[0. 0. 0. ... 0. 0. 0.]\n",
      "[0.014333333333333333, 0.004666666666666667, 0.0023333333333333335, 0.015, 0.0026666666666666666, 0.003, 0.002, 0.0026666666666666666, 0.0036666666666666666, 0.027333333333333334, 0.0026666666666666666, 0.0036666666666666666, 0.004666666666666667, 0.004, 0.0033333333333333335, 0.0026666666666666666]\n",
      "[0. 0. 0. ... 0. 0. 0.]\n",
      "[0.014333333333333333, 0.004666666666666667, 0.0023333333333333335, 0.015, 0.0026666666666666666, 0.003, 0.002, 0.0026666666666666666, 0.0036666666666666666, 0.027333333333333334, 0.0026666666666666666, 0.0036666666666666666, 0.004666666666666667, 0.004, 0.0033333333333333335, 0.0026666666666666666]\n",
      "[0. 0. 0. ... 0. 0. 0.]\n",
      "[0.014333333333333333, 0.004666666666666667, 0.0023333333333333335, 0.015, 0.0026666666666666666, 0.003, 0.002, 0.0026666666666666666, 0.0036666666666666666, 0.027333333333333334, 0.0026666666666666666, 0.0036666666666666666, 0.004666666666666667, 0.004, 0.0033333333333333335, 0.0026666666666666666]\n",
      "[0. 0. 0. ... 0. 0. 0.]\n",
      "[0.014333333333333333, 0.004666666666666667, 0.0023333333333333335, 0.015, 0.0026666666666666666, 0.003, 0.002, 0.0026666666666666666, 0.0036666666666666666, 0.027333333333333334, 0.0026666666666666666, 0.0036666666666666666, 0.004666666666666667, 0.004, 0.0033333333333333335, 0.0026666666666666666]\n",
      "[0. 0. 0. ... 0. 0. 0.]\n",
      "[0.014333333333333333, 0.004666666666666667, 0.0023333333333333335, 0.015, 0.0026666666666666666, 0.003, 0.002, 0.0026666666666666666, 0.0036666666666666666, 0.027333333333333334, 0.0026666666666666666, 0.0036666666666666666, 0.004666666666666667, 0.004, 0.0033333333333333335, 0.0026666666666666666]\n",
      "[0. 0. 0. ... 0. 0. 0.]\n",
      "[0.014333333333333333, 0.004666666666666667, 0.0023333333333333335, 0.015, 0.0026666666666666666, 0.003, 0.002, 0.0026666666666666666, 0.0036666666666666666, 0.027333333333333334, 0.0026666666666666666, 0.0036666666666666666, 0.004666666666666667, 0.004, 0.0033333333333333335, 0.0026666666666666666]\n",
      "[0. 0. 0. ... 0. 0. 0.]\n",
      "[0.014333333333333333, 0.008, 0.0026666666666666666, 0.015, 0.003, 0.003, 0.002, 0.0033333333333333335, 0.004333333333333333, 0.03266666666666666, 0.003, 0.005666666666666667, 0.007, 0.005, 0.005666666666666667, 0.0033333333333333335]\n",
      "[0. 0. 0. ... 0. 0. 0.]\n",
      "[0.014333333333333333, 0.012333333333333333, 0.005666666666666667, 0.015, 0.005666666666666667, 0.006333333333333333, 0.003, 0.005, 0.005333333333333333, 0.05733333333333333, 0.004333333333333333, 0.011333333333333334, 0.012333333333333333, 0.010666666666666666, 0.010666666666666666, 0.005]\n",
      "[1. 0. 0. ... 0. 0. 0.]\n",
      "[0.014333333333333333, 0.012333333333333333, 0.010666666666666666, 0.015, 0.011, 0.010333333333333333, 0.0036666666666666666, 0.009, 0.010666666666666666, 0.10433333333333333, 0.006666666666666667, 0.011333333333333334, 0.012333333333333333, 0.011, 0.011333333333333334, 0.009333333333333334]\n",
      "[1. 0. 0. ... 0. 0. 0.]\n",
      "[0.014333333333333333, 0.012333333333333333, 0.011333333333333334, 0.015, 0.012666666666666666, 0.011333333333333334, 0.009333333333333334, 0.009666666666666667, 0.011333333333333334, 0.11066666666666666, 0.008333333333333333, 0.011333333333333334, 0.012333333333333333, 0.011, 0.011333333333333334, 0.01]\n",
      "[1. 0. 0. ... 0. 0. 0.]\n",
      "[0.014333333333333333, 0.012333333333333333, 0.011333333333333334, 0.015, 0.012666666666666666, 0.011333333333333334, 0.009333333333333334, 0.009666666666666667, 0.011333333333333334, 0.11066666666666666, 0.008333333333333333, 0.011333333333333334, 0.012333333333333333, 0.011, 0.011333333333333334, 0.01]\n",
      "[1. 0. 0. ... 0. 0. 0.]\n",
      "[0.014333333333333333, 0.012333333333333333, 0.011333333333333334, 0.015, 0.012666666666666666, 0.011333333333333334, 0.009333333333333334, 0.009666666666666667, 0.011333333333333334, 0.11066666666666666, 0.008333333333333333, 0.011333333333333334, 0.012333333333333333, 0.011, 0.011333333333333334, 0.01]\n",
      "[1. 0. 0. ... 0. 0. 0.]\n",
      "[0.014333333333333333, 0.012333333333333333, 0.011333333333333334, 0.015, 0.012666666666666666, 0.011333333333333334, 0.009333333333333334, 0.009666666666666667, 0.011333333333333334, 0.11066666666666666, 0.008333333333333333, 0.011333333333333334, 0.012333333333333333, 0.011, 0.011333333333333334, 0.01]\n",
      "[1. 0. 0. ... 0. 0. 0.]\n",
      "[0.014333333333333333, 0.012333333333333333, 0.011333333333333334, 0.015, 0.012666666666666666, 0.011333333333333334, 0.009333333333333334, 0.009666666666666667, 0.011333333333333334, 0.11066666666666666, 0.008333333333333333, 0.011333333333333334, 0.012333333333333333, 0.011, 0.011333333333333334, 0.01]\n",
      "[1. 0. 0. ... 0. 0. 0.]\n",
      "[0.014333333333333333, 0.012333333333333333, 0.011333333333333334, 0.015, 0.012666666666666666, 0.011333333333333334, 0.009333333333333334, 0.009666666666666667, 0.011333333333333334, 0.11066666666666666, 0.008333333333333333, 0.011333333333333334, 0.012333333333333333, 0.011, 0.011333333333333334, 0.01]\n",
      "[1. 0. 0. ... 0. 0. 0.]\n",
      "[0.014333333333333333, 0.012333333333333333, 0.011333333333333334, 0.015, 0.012666666666666666, 0.011333333333333334, 0.009333333333333334, 0.009666666666666667, 0.011333333333333334, 0.11066666666666666, 0.008333333333333333, 0.011333333333333334, 0.012333333333333333, 0.011, 0.011333333333333334, 0.01]\n",
      "[1. 0. 0. ... 0. 0. 0.]\n",
      "[0.014333333333333333, 0.012333333333333333, 0.011333333333333334, 0.015, 0.012666666666666666, 0.011333333333333334, 0.009333333333333334, 0.009666666666666667, 0.011333333333333334, 0.11066666666666666, 0.008333333333333333, 0.011333333333333334, 0.012333333333333333, 0.011, 0.011333333333333334, 0.01]\n",
      "[1. 0. 0. ... 0. 0. 0.]\n",
      "[0.014333333333333333, 0.012333333333333333, 0.010666666666666666, 0.015, 0.012, 0.010333333333333333, 0.007333333333333333, 0.007333333333333333, 0.011, 0.10433333333333333, 0.004, 0.011333333333333334, 0.011666666666666667, 0.010333333333333333, 0.010666666666666666, 0.008]\n",
      "[0. 0. 0. ... 0. 0. 0.]\n",
      "[0.010666666666666666, 0.004333333333333333, 0.0023333333333333335, 0.011666666666666667, 0.0026666666666666666, 0.0026666666666666666, 0.0003333333333333333, 0.0, 0.0036666666666666666, 0.021333333333333333, 0.0, 0.003, 0.0036666666666666666, 0.0033333333333333335, 0.0016666666666666668, 0.0013333333333333333]\n",
      "[0. 0. 0. ... 0. 0. 0.]\n",
      "[0.014333333333333333, 0.007333333333333333, 0.003, 0.015, 0.003, 0.0036666666666666666, 0.002, 0.0026666666666666666, 0.004666666666666667, 0.030666666666666665, 0.0026666666666666666, 0.004666666666666667, 0.005, 0.005, 0.0033333333333333335, 0.0026666666666666666]\n",
      "[0. 0. 0. ... 0. 0. 0.]\n",
      "[0.014333333333333333, 0.005, 0.0023333333333333335, 0.015, 0.0026666666666666666, 0.003, 0.002, 0.0026666666666666666, 0.004, 0.027666666666666666, 0.0026666666666666666, 0.004, 0.004666666666666667, 0.004, 0.0033333333333333335, 0.0026666666666666666]\n",
      "[0. 0. 0. ... 0. 0. 0.]\n",
      "[0.014333333333333333, 0.004666666666666667, 0.0023333333333333335, 0.015, 0.0026666666666666666, 0.003, 0.002, 0.0026666666666666666, 0.0036666666666666666, 0.027333333333333334, 0.0026666666666666666, 0.0036666666666666666, 0.004666666666666667, 0.004, 0.0033333333333333335, 0.0026666666666666666]\n",
      "[0. 0. 0. ... 0. 0. 0.]\n",
      "[0.014333333333333333, 0.004666666666666667, 0.0023333333333333335, 0.015, 0.0026666666666666666, 0.003, 0.002, 0.0026666666666666666, 0.0036666666666666666, 0.027333333333333334, 0.0026666666666666666, 0.0036666666666666666, 0.004666666666666667, 0.004, 0.0033333333333333335, 0.0026666666666666666]\n",
      "[0. 0. 0. ... 0. 0. 0.]\n",
      "[0.014333333333333333, 0.004666666666666667, 0.0023333333333333335, 0.015, 0.0026666666666666666, 0.003, 0.002, 0.0026666666666666666, 0.0036666666666666666, 0.027333333333333334, 0.0026666666666666666, 0.0036666666666666666, 0.004666666666666667, 0.004, 0.0033333333333333335, 0.0026666666666666666]\n",
      "[0. 0. 0. ... 0. 0. 0.]\n",
      "[0.014333333333333333, 0.004666666666666667, 0.0023333333333333335, 0.015, 0.0026666666666666666, 0.003, 0.002, 0.0026666666666666666, 0.0036666666666666666, 0.027333333333333334, 0.0026666666666666666, 0.0036666666666666666, 0.004666666666666667, 0.004, 0.0033333333333333335, 0.0026666666666666666]\n",
      "[0. 0. 0. ... 0. 0. 0.]\n",
      "[0.014333333333333333, 0.004666666666666667, 0.0023333333333333335, 0.015, 0.0026666666666666666, 0.003, 0.002, 0.0026666666666666666, 0.0036666666666666666, 0.027333333333333334, 0.0026666666666666666, 0.0036666666666666666, 0.004666666666666667, 0.004, 0.0033333333333333335, 0.0026666666666666666]\n",
      "[0. 0. 0. ... 0. 0. 0.]\n",
      "[0.014333333333333333, 0.004666666666666667, 0.0023333333333333335, 0.015, 0.0026666666666666666, 0.003, 0.002, 0.0026666666666666666, 0.0036666666666666666, 0.027333333333333334, 0.0026666666666666666, 0.0036666666666666666, 0.004666666666666667, 0.004, 0.0033333333333333335, 0.0026666666666666666]\n",
      "[0. 0. 0. ... 0. 0. 0.]\n",
      "[0.014333333333333333, 0.004666666666666667, 0.0023333333333333335, 0.015, 0.0026666666666666666, 0.003, 0.002, 0.0026666666666666666, 0.0036666666666666666, 0.027333333333333334, 0.0026666666666666666, 0.0036666666666666666, 0.004666666666666667, 0.004, 0.0033333333333333335, 0.0026666666666666666]\n",
      "[0. 0. 0. ... 0. 0. 0.]\n",
      "[0.014333333333333333, 0.004666666666666667, 0.0023333333333333335, 0.015, 0.0026666666666666666, 0.003, 0.002, 0.0026666666666666666, 0.0036666666666666666, 0.027333333333333334, 0.0026666666666666666, 0.0036666666666666666, 0.004666666666666667, 0.004, 0.0033333333333333335, 0.0026666666666666666]\n",
      "[0. 0. 0. ... 0. 0. 0.]\n",
      "[0.014333333333333333, 0.004666666666666667, 0.0023333333333333335, 0.015, 0.0026666666666666666, 0.003, 0.002, 0.0026666666666666666, 0.0036666666666666666, 0.027333333333333334, 0.0026666666666666666, 0.0036666666666666666, 0.004666666666666667, 0.004, 0.0033333333333333335, 0.0026666666666666666]\n",
      "[0. 0. 0. ... 0. 0. 0.]\n",
      "[0.014333333333333333, 0.004666666666666667, 0.0023333333333333335, 0.015, 0.0026666666666666666, 0.003, 0.002, 0.0026666666666666666, 0.0036666666666666666, 0.027333333333333334, 0.0026666666666666666, 0.0036666666666666666, 0.004666666666666667, 0.004, 0.0033333333333333335, 0.0026666666666666666]\n",
      "[0. 0. 0. ... 0. 0. 0.]\n",
      "[0.014333333333333333, 0.008, 0.0026666666666666666, 0.015, 0.003, 0.003, 0.002, 0.0033333333333333335, 0.004333333333333333, 0.03266666666666666, 0.003, 0.005666666666666667, 0.007, 0.005, 0.005666666666666667, 0.0033333333333333335]\n",
      "[0. 0. 0. ... 0. 0. 0.]\n",
      "[0.014333333333333333, 0.012333333333333333, 0.005666666666666667, 0.015, 0.005666666666666667, 0.006333333333333333, 0.003, 0.005, 0.005333333333333333, 0.05733333333333333, 0.004333333333333333, 0.011333333333333334, 0.012333333333333333, 0.010666666666666666, 0.010666666666666666, 0.005]\n",
      "[1. 0. 0. ... 0. 0. 0.]\n",
      "[0.014333333333333333, 0.012333333333333333, 0.010666666666666666, 0.015, 0.011, 0.010333333333333333, 0.0036666666666666666, 0.009, 0.010666666666666666, 0.10433333333333333, 0.006666666666666667, 0.011333333333333334, 0.012333333333333333, 0.011, 0.011333333333333334, 0.009333333333333334]\n",
      "[1. 0. 0. ... 0. 0. 0.]\n",
      "[0.014333333333333333, 0.012333333333333333, 0.011333333333333334, 0.015, 0.012666666666666666, 0.011333333333333334, 0.009333333333333334, 0.009666666666666667, 0.011333333333333334, 0.11066666666666666, 0.008333333333333333, 0.011333333333333334, 0.012333333333333333, 0.011, 0.011333333333333334, 0.01]\n",
      "[1. 0. 0. ... 0. 0. 0.]\n",
      "[0.014333333333333333, 0.012333333333333333, 0.011333333333333334, 0.015, 0.012666666666666666, 0.011333333333333334, 0.009333333333333334, 0.009666666666666667, 0.011333333333333334, 0.11066666666666666, 0.008333333333333333, 0.011333333333333334, 0.012333333333333333, 0.011, 0.011333333333333334, 0.01]\n",
      "[1. 0. 0. ... 0. 0. 0.]\n",
      "[0.014333333333333333, 0.012333333333333333, 0.011333333333333334, 0.015, 0.012666666666666666, 0.011333333333333334, 0.009333333333333334, 0.009666666666666667, 0.011333333333333334, 0.11066666666666666, 0.008333333333333333, 0.011333333333333334, 0.012333333333333333, 0.011, 0.011333333333333334, 0.01]\n",
      "[1. 0. 0. ... 0. 0. 0.]\n",
      "[0.014333333333333333, 0.012333333333333333, 0.011333333333333334, 0.015, 0.012666666666666666, 0.011333333333333334, 0.009333333333333334, 0.009666666666666667, 0.011333333333333334, 0.11066666666666666, 0.008333333333333333, 0.011333333333333334, 0.012333333333333333, 0.011, 0.011333333333333334, 0.01]\n",
      "[1. 0. 0. ... 0. 0. 0.]\n",
      "[0.014333333333333333, 0.012333333333333333, 0.011333333333333334, 0.015, 0.012666666666666666, 0.011333333333333334, 0.009333333333333334, 0.009666666666666667, 0.011333333333333334, 0.11066666666666666, 0.008333333333333333, 0.011333333333333334, 0.012333333333333333, 0.011, 0.011333333333333334, 0.01]\n",
      "[1. 0. 0. ... 0. 0. 0.]\n",
      "[0.014333333333333333, 0.012333333333333333, 0.011333333333333334, 0.015, 0.012666666666666666, 0.011333333333333334, 0.009333333333333334, 0.009666666666666667, 0.011333333333333334, 0.11066666666666666, 0.008333333333333333, 0.011333333333333334, 0.012333333333333333, 0.011, 0.011333333333333334, 0.01]\n",
      "[1. 0. 0. ... 0. 0. 0.]\n",
      "[0.014333333333333333, 0.012333333333333333, 0.011333333333333334, 0.015, 0.012666666666666666, 0.011333333333333334, 0.009333333333333334, 0.009666666666666667, 0.011333333333333334, 0.11066666666666666, 0.008333333333333333, 0.011333333333333334, 0.012333333333333333, 0.011, 0.011333333333333334, 0.01]\n",
      "[1. 0. 0. ... 0. 0. 0.]\n",
      "[0.014333333333333333, 0.012333333333333333, 0.011333333333333334, 0.015, 0.012666666666666666, 0.011333333333333334, 0.009333333333333334, 0.009666666666666667, 0.011333333333333334, 0.11066666666666666, 0.008333333333333333, 0.011333333333333334, 0.012333333333333333, 0.011, 0.011333333333333334, 0.01]\n",
      "[1. 0. 0. ... 0. 0. 0.]\n",
      "[0.014333333333333333, 0.012333333333333333, 0.010666666666666666, 0.015, 0.012, 0.010333333333333333, 0.007333333333333333, 0.007333333333333333, 0.011, 0.10433333333333333, 0.004, 0.011333333333333334, 0.011666666666666667, 0.010333333333333333, 0.010666666666666666, 0.008]\n",
      "[0. 0. 0. ... 0. 0. 0.]\n",
      "[0.010666666666666666, 0.004333333333333333, 0.0023333333333333335, 0.011666666666666667, 0.0026666666666666666, 0.0026666666666666666, 0.0003333333333333333, 0.0, 0.0036666666666666666, 0.021333333333333333, 0.0, 0.003, 0.0036666666666666666, 0.0033333333333333335, 0.0016666666666666668, 0.0013333333333333333]\n",
      "[0. 0. 0. ... 0. 0. 0.]\n",
      "[0.014333333333333333, 0.007333333333333333, 0.003, 0.015, 0.003, 0.0036666666666666666, 0.002, 0.0026666666666666666, 0.004666666666666667, 0.030666666666666665, 0.0026666666666666666, 0.004666666666666667, 0.005, 0.005, 0.0033333333333333335, 0.0026666666666666666]\n",
      "[0. 0. 0. ... 0. 0. 0.]\n",
      "[0.014333333333333333, 0.005, 0.0023333333333333335, 0.015, 0.0026666666666666666, 0.003, 0.002, 0.0026666666666666666, 0.004, 0.027666666666666666, 0.0026666666666666666, 0.004, 0.004666666666666667, 0.004, 0.0033333333333333335, 0.0026666666666666666]\n",
      "[0. 0. 0. ... 0. 0. 0.]\n",
      "[0.014333333333333333, 0.004666666666666667, 0.0023333333333333335, 0.015, 0.0026666666666666666, 0.003, 0.002, 0.0026666666666666666, 0.0036666666666666666, 0.027333333333333334, 0.0026666666666666666, 0.0036666666666666666, 0.004666666666666667, 0.004, 0.0033333333333333335, 0.0026666666666666666]\n",
      "[0. 0. 0. ... 0. 0. 0.]\n",
      "[0.014333333333333333, 0.004666666666666667, 0.0023333333333333335, 0.015, 0.0026666666666666666, 0.003, 0.002, 0.0026666666666666666, 0.0036666666666666666, 0.027333333333333334, 0.0026666666666666666, 0.0036666666666666666, 0.004666666666666667, 0.004, 0.0033333333333333335, 0.0026666666666666666]\n",
      "[0. 0. 0. ... 0. 0. 0.]\n",
      "[0.014333333333333333, 0.004666666666666667, 0.0023333333333333335, 0.015, 0.0026666666666666666, 0.003, 0.002, 0.0026666666666666666, 0.0036666666666666666, 0.027333333333333334, 0.0026666666666666666, 0.0036666666666666666, 0.004666666666666667, 0.004, 0.0033333333333333335, 0.0026666666666666666]\n",
      "[0. 0. 0. ... 0. 0. 0.]\n",
      "[0.014333333333333333, 0.004666666666666667, 0.0023333333333333335, 0.015, 0.0026666666666666666, 0.003, 0.002, 0.0026666666666666666, 0.0036666666666666666, 0.027333333333333334, 0.0026666666666666666, 0.0036666666666666666, 0.004666666666666667, 0.004, 0.0033333333333333335, 0.0026666666666666666]\n",
      "[0. 0. 0. ... 0. 0. 0.]\n",
      "[0.014333333333333333, 0.004666666666666667, 0.0023333333333333335, 0.015, 0.0026666666666666666, 0.003, 0.002, 0.0026666666666666666, 0.0036666666666666666, 0.027333333333333334, 0.0026666666666666666, 0.0036666666666666666, 0.004666666666666667, 0.004, 0.0033333333333333335, 0.0026666666666666666]\n",
      "[0. 0. 0. ... 0. 0. 0.]\n",
      "[0.014333333333333333, 0.004666666666666667, 0.0023333333333333335, 0.015, 0.0026666666666666666, 0.003, 0.002, 0.0026666666666666666, 0.0036666666666666666, 0.027333333333333334, 0.0026666666666666666, 0.0036666666666666666, 0.004666666666666667, 0.004, 0.0033333333333333335, 0.0026666666666666666]\n",
      "[0. 0. 0. ... 0. 0. 0.]\n",
      "[0.014333333333333333, 0.004666666666666667, 0.0023333333333333335, 0.015, 0.0026666666666666666, 0.003, 0.002, 0.0026666666666666666, 0.0036666666666666666, 0.027333333333333334, 0.0026666666666666666, 0.0036666666666666666, 0.004666666666666667, 0.004, 0.0033333333333333335, 0.0026666666666666666]\n",
      "[0. 0. 0. ... 0. 0. 0.]\n"
     ]
    },
    {
     "name": "stdout",
     "output_type": "stream",
     "text": [
      "[0.014333333333333333, 0.004666666666666667, 0.0023333333333333335, 0.015, 0.0026666666666666666, 0.003, 0.002, 0.0026666666666666666, 0.0036666666666666666, 0.027333333333333334, 0.0026666666666666666, 0.0036666666666666666, 0.004666666666666667, 0.004, 0.0033333333333333335, 0.0026666666666666666]\n",
      "[0. 0. 0. ... 0. 0. 0.]\n",
      "[0.014333333333333333, 0.004666666666666667, 0.0023333333333333335, 0.015, 0.0026666666666666666, 0.003, 0.002, 0.0026666666666666666, 0.0036666666666666666, 0.027333333333333334, 0.0026666666666666666, 0.0036666666666666666, 0.004666666666666667, 0.004, 0.0033333333333333335, 0.0026666666666666666]\n",
      "[0. 0. 0. ... 0. 0. 0.]\n",
      "[0.014333333333333333, 0.004666666666666667, 0.0023333333333333335, 0.015, 0.0026666666666666666, 0.003, 0.002, 0.0026666666666666666, 0.0036666666666666666, 0.027333333333333334, 0.0026666666666666666, 0.0036666666666666666, 0.004666666666666667, 0.004, 0.0033333333333333335, 0.0026666666666666666]\n",
      "[0. 0. 0. ... 0. 0. 0.]\n",
      "[0.014333333333333333, 0.008, 0.0026666666666666666, 0.015, 0.003, 0.003, 0.002, 0.0033333333333333335, 0.004333333333333333, 0.03266666666666666, 0.003, 0.005666666666666667, 0.007, 0.005, 0.005666666666666667, 0.0033333333333333335]\n",
      "[0. 0. 0. ... 0. 0. 0.]\n",
      "[0.014333333333333333, 0.012333333333333333, 0.005666666666666667, 0.015, 0.005666666666666667, 0.006333333333333333, 0.003, 0.005, 0.005333333333333333, 0.05733333333333333, 0.004333333333333333, 0.011333333333333334, 0.012333333333333333, 0.010666666666666666, 0.010666666666666666, 0.005]\n",
      "[1. 0. 0. ... 0. 0. 0.]\n",
      "[0.014333333333333333, 0.012333333333333333, 0.010666666666666666, 0.015, 0.011, 0.010333333333333333, 0.0036666666666666666, 0.009, 0.010666666666666666, 0.10433333333333333, 0.006666666666666667, 0.011333333333333334, 0.012333333333333333, 0.011, 0.011333333333333334, 0.009333333333333334]\n",
      "[1. 0. 0. ... 0. 0. 0.]\n",
      "[0.014333333333333333, 0.012333333333333333, 0.011333333333333334, 0.015, 0.012666666666666666, 0.011333333333333334, 0.009333333333333334, 0.009666666666666667, 0.011333333333333334, 0.11066666666666666, 0.008333333333333333, 0.011333333333333334, 0.012333333333333333, 0.011, 0.011333333333333334, 0.01]\n",
      "[1. 0. 0. ... 0. 0. 0.]\n",
      "[0.014333333333333333, 0.012333333333333333, 0.011333333333333334, 0.015, 0.012666666666666666, 0.011333333333333334, 0.009333333333333334, 0.009666666666666667, 0.011333333333333334, 0.11066666666666666, 0.008333333333333333, 0.011333333333333334, 0.012333333333333333, 0.011, 0.011333333333333334, 0.01]\n",
      "[1. 0. 0. ... 0. 0. 0.]\n",
      "[0.014333333333333333, 0.012333333333333333, 0.011333333333333334, 0.015, 0.012666666666666666, 0.011333333333333334, 0.009333333333333334, 0.009666666666666667, 0.011333333333333334, 0.11066666666666666, 0.008333333333333333, 0.011333333333333334, 0.012333333333333333, 0.011, 0.011333333333333334, 0.01]\n",
      "[1. 0. 0. ... 0. 0. 0.]\n",
      "[0.014333333333333333, 0.012333333333333333, 0.011333333333333334, 0.015, 0.012666666666666666, 0.011333333333333334, 0.009333333333333334, 0.009666666666666667, 0.011333333333333334, 0.11066666666666666, 0.008333333333333333, 0.011333333333333334, 0.012333333333333333, 0.011, 0.011333333333333334, 0.01]\n",
      "[1. 0. 0. ... 0. 0. 0.]\n",
      "[0.014333333333333333, 0.012333333333333333, 0.011333333333333334, 0.015, 0.012666666666666666, 0.011333333333333334, 0.009333333333333334, 0.009666666666666667, 0.011333333333333334, 0.11066666666666666, 0.008333333333333333, 0.011333333333333334, 0.012333333333333333, 0.011, 0.011333333333333334, 0.01]\n",
      "[1. 0. 0. ... 0. 0. 0.]\n",
      "[0.014333333333333333, 0.012333333333333333, 0.011333333333333334, 0.015, 0.012666666666666666, 0.011333333333333334, 0.009333333333333334, 0.009666666666666667, 0.011333333333333334, 0.11066666666666666, 0.008333333333333333, 0.011333333333333334, 0.012333333333333333, 0.011, 0.011333333333333334, 0.01]\n",
      "[1. 0. 0. ... 0. 0. 0.]\n",
      "[0.014333333333333333, 0.012333333333333333, 0.011333333333333334, 0.015, 0.012666666666666666, 0.011333333333333334, 0.009333333333333334, 0.009666666666666667, 0.011333333333333334, 0.11066666666666666, 0.008333333333333333, 0.011333333333333334, 0.012333333333333333, 0.011, 0.011333333333333334, 0.01]\n",
      "[1. 0. 0. ... 0. 0. 0.]\n",
      "[0.014333333333333333, 0.012333333333333333, 0.011333333333333334, 0.015, 0.012666666666666666, 0.011333333333333334, 0.009333333333333334, 0.009666666666666667, 0.011333333333333334, 0.11066666666666666, 0.008333333333333333, 0.011333333333333334, 0.012333333333333333, 0.011, 0.011333333333333334, 0.01]\n",
      "[1. 0. 0. ... 0. 0. 0.]\n",
      "[0.014333333333333333, 0.012333333333333333, 0.010666666666666666, 0.015, 0.012, 0.010333333333333333, 0.007333333333333333, 0.007333333333333333, 0.011, 0.10433333333333333, 0.004, 0.011333333333333334, 0.011666666666666667, 0.010333333333333333, 0.010666666666666666, 0.008]\n",
      "[0. 0. 0. ... 0. 0. 0.]\n",
      "[0.010666666666666666, 0.004333333333333333, 0.0023333333333333335, 0.011666666666666667, 0.0026666666666666666, 0.0026666666666666666, 0.0003333333333333333, 0.0, 0.0036666666666666666, 0.021333333333333333, 0.0, 0.003, 0.0036666666666666666, 0.0033333333333333335, 0.0016666666666666668, 0.0013333333333333333]\n",
      "[0. 0. 0. ... 0. 0. 0.]\n",
      "[0.014333333333333333, 0.007333333333333333, 0.003, 0.015, 0.003, 0.0036666666666666666, 0.002, 0.0026666666666666666, 0.004666666666666667, 0.030666666666666665, 0.0026666666666666666, 0.004666666666666667, 0.005, 0.005, 0.0033333333333333335, 0.0026666666666666666]\n",
      "[0. 0. 0. ... 0. 0. 0.]\n",
      "[0.014333333333333333, 0.005, 0.0023333333333333335, 0.015, 0.0026666666666666666, 0.003, 0.002, 0.0026666666666666666, 0.004, 0.027666666666666666, 0.0026666666666666666, 0.004, 0.004666666666666667, 0.004, 0.0033333333333333335, 0.0026666666666666666]\n",
      "[0. 0. 0. ... 0. 0. 0.]\n",
      "[0.014333333333333333, 0.004666666666666667, 0.0023333333333333335, 0.015, 0.0026666666666666666, 0.003, 0.002, 0.0026666666666666666, 0.0036666666666666666, 0.027333333333333334, 0.0026666666666666666, 0.0036666666666666666, 0.004666666666666667, 0.004, 0.0033333333333333335, 0.0026666666666666666]\n",
      "[0. 0. 0. ... 0. 0. 0.]\n",
      "[0.014333333333333333, 0.004666666666666667, 0.0023333333333333335, 0.015, 0.0026666666666666666, 0.003, 0.002, 0.0026666666666666666, 0.0036666666666666666, 0.027333333333333334, 0.0026666666666666666, 0.0036666666666666666, 0.004666666666666667, 0.004, 0.0033333333333333335, 0.0026666666666666666]\n",
      "[0. 0. 0. ... 0. 0. 0.]\n",
      "[0.014333333333333333, 0.004666666666666667, 0.0023333333333333335, 0.015, 0.0026666666666666666, 0.003, 0.002, 0.0026666666666666666, 0.0036666666666666666, 0.027333333333333334, 0.0026666666666666666, 0.0036666666666666666, 0.004666666666666667, 0.004, 0.0033333333333333335, 0.0026666666666666666]\n",
      "[0. 0. 0. ... 0. 0. 0.]\n",
      "[0.014333333333333333, 0.004666666666666667, 0.0023333333333333335, 0.015, 0.0026666666666666666, 0.003, 0.002, 0.0026666666666666666, 0.0036666666666666666, 0.027333333333333334, 0.0026666666666666666, 0.0036666666666666666, 0.004666666666666667, 0.004, 0.0033333333333333335, 0.0026666666666666666]\n",
      "[0. 0. 0. ... 0. 0. 0.]\n",
      "[0.014333333333333333, 0.004666666666666667, 0.0023333333333333335, 0.015, 0.0026666666666666666, 0.003, 0.002, 0.0026666666666666666, 0.0036666666666666666, 0.027333333333333334, 0.0026666666666666666, 0.0036666666666666666, 0.004666666666666667, 0.004, 0.0033333333333333335, 0.0026666666666666666]\n",
      "[0. 0. 0. ... 0. 0. 0.]\n",
      "[0.014333333333333333, 0.004666666666666667, 0.0023333333333333335, 0.015, 0.0026666666666666666, 0.003, 0.002, 0.0026666666666666666, 0.0036666666666666666, 0.027333333333333334, 0.0026666666666666666, 0.0036666666666666666, 0.004666666666666667, 0.004, 0.0033333333333333335, 0.0026666666666666666]\n",
      "[0. 0. 0. ... 0. 0. 0.]\n",
      "[0.014333333333333333, 0.004666666666666667, 0.0023333333333333335, 0.015, 0.0026666666666666666, 0.003, 0.002, 0.0026666666666666666, 0.0036666666666666666, 0.027333333333333334, 0.0026666666666666666, 0.0036666666666666666, 0.004666666666666667, 0.004, 0.0033333333333333335, 0.0026666666666666666]\n",
      "[0. 0. 0. ... 0. 0. 0.]\n",
      "[0.014333333333333333, 0.004666666666666667, 0.0023333333333333335, 0.015, 0.0026666666666666666, 0.003, 0.002, 0.0026666666666666666, 0.0036666666666666666, 0.027333333333333334, 0.0026666666666666666, 0.0036666666666666666, 0.004666666666666667, 0.004, 0.0033333333333333335, 0.0026666666666666666]\n",
      "[0. 0. 0. ... 0. 0. 0.]\n",
      "[0.014333333333333333, 0.004666666666666667, 0.0023333333333333335, 0.015, 0.0026666666666666666, 0.003, 0.002, 0.0026666666666666666, 0.0036666666666666666, 0.027333333333333334, 0.0026666666666666666, 0.0036666666666666666, 0.004666666666666667, 0.004, 0.0033333333333333335, 0.0026666666666666666]\n",
      "[0. 0. 0. ... 0. 0. 0.]\n",
      "[0.014333333333333333, 0.004666666666666667, 0.0023333333333333335, 0.015, 0.0026666666666666666, 0.003, 0.002, 0.0026666666666666666, 0.0036666666666666666, 0.027333333333333334, 0.0026666666666666666, 0.0036666666666666666, 0.004666666666666667, 0.004, 0.0033333333333333335, 0.0026666666666666666]\n",
      "[0. 0. 0. ... 0. 0. 0.]\n",
      "[0.014333333333333333, 0.008, 0.0026666666666666666, 0.015, 0.003, 0.003, 0.002, 0.0033333333333333335, 0.004333333333333333, 0.03266666666666666, 0.003, 0.005666666666666667, 0.007, 0.005, 0.005666666666666667, 0.0033333333333333335]\n",
      "[0. 0. 0. ... 0. 0. 0.]\n",
      "[0.014333333333333333, 0.012333333333333333, 0.005666666666666667, 0.015, 0.005666666666666667, 0.006333333333333333, 0.003, 0.005, 0.005333333333333333, 0.05733333333333333, 0.004333333333333333, 0.011333333333333334, 0.012333333333333333, 0.010666666666666666, 0.010666666666666666, 0.005]\n",
      "[1. 0. 0. ... 0. 0. 0.]\n",
      "[0.014333333333333333, 0.012333333333333333, 0.010666666666666666, 0.015, 0.011, 0.010333333333333333, 0.0036666666666666666, 0.009, 0.010666666666666666, 0.10433333333333333, 0.006666666666666667, 0.011333333333333334, 0.012333333333333333, 0.011, 0.011333333333333334, 0.009333333333333334]\n",
      "[1. 0. 0. ... 0. 0. 0.]\n",
      "[0.014333333333333333, 0.012333333333333333, 0.011333333333333334, 0.015, 0.012666666666666666, 0.011333333333333334, 0.009333333333333334, 0.009666666666666667, 0.011333333333333334, 0.11066666666666666, 0.008333333333333333, 0.011333333333333334, 0.012333333333333333, 0.011, 0.011333333333333334, 0.01]\n",
      "[1. 0. 0. ... 0. 0. 0.]\n",
      "[0.014333333333333333, 0.012333333333333333, 0.011333333333333334, 0.015, 0.012666666666666666, 0.011333333333333334, 0.009333333333333334, 0.009666666666666667, 0.011333333333333334, 0.11066666666666666, 0.008333333333333333, 0.011333333333333334, 0.012333333333333333, 0.011, 0.011333333333333334, 0.01]\n",
      "[1. 0. 0. ... 0. 0. 0.]\n",
      "[0.014333333333333333, 0.012333333333333333, 0.011333333333333334, 0.015, 0.012666666666666666, 0.011333333333333334, 0.009333333333333334, 0.009666666666666667, 0.011333333333333334, 0.11066666666666666, 0.008333333333333333, 0.011333333333333334, 0.012333333333333333, 0.011, 0.011333333333333334, 0.01]\n",
      "[1. 0. 0. ... 0. 0. 0.]\n",
      "[0.014333333333333333, 0.012333333333333333, 0.011333333333333334, 0.015, 0.012666666666666666, 0.011333333333333334, 0.009333333333333334, 0.009666666666666667, 0.011333333333333334, 0.11066666666666666, 0.008333333333333333, 0.011333333333333334, 0.012333333333333333, 0.011, 0.011333333333333334, 0.01]\n",
      "[1. 0. 0. ... 0. 0. 0.]\n",
      "[0.014333333333333333, 0.012333333333333333, 0.011333333333333334, 0.015, 0.012666666666666666, 0.011333333333333334, 0.009333333333333334, 0.009666666666666667, 0.011333333333333334, 0.11066666666666666, 0.008333333333333333, 0.011333333333333334, 0.012333333333333333, 0.011, 0.011333333333333334, 0.01]\n",
      "[1. 0. 0. ... 0. 0. 0.]\n",
      "[0.014333333333333333, 0.012333333333333333, 0.011333333333333334, 0.015, 0.012666666666666666, 0.011333333333333334, 0.009333333333333334, 0.009666666666666667, 0.011333333333333334, 0.11066666666666666, 0.008333333333333333, 0.011333333333333334, 0.012333333333333333, 0.011, 0.011333333333333334, 0.01]\n",
      "[1. 0. 0. ... 0. 0. 0.]\n",
      "[0.014333333333333333, 0.012333333333333333, 0.011333333333333334, 0.015, 0.012666666666666666, 0.011333333333333334, 0.009333333333333334, 0.009666666666666667, 0.011333333333333334, 0.11066666666666666, 0.008333333333333333, 0.011333333333333334, 0.012333333333333333, 0.011, 0.011333333333333334, 0.01]\n",
      "[1. 0. 0. ... 0. 0. 0.]\n",
      "[0.014333333333333333, 0.012333333333333333, 0.011333333333333334, 0.015, 0.012666666666666666, 0.011333333333333334, 0.009333333333333334, 0.009666666666666667, 0.011333333333333334, 0.11066666666666666, 0.008333333333333333, 0.011333333333333334, 0.012333333333333333, 0.011, 0.011333333333333334, 0.01]\n",
      "[1. 0. 0. ... 0. 0. 0.]\n",
      "[0.014333333333333333, 0.012333333333333333, 0.010666666666666666, 0.015, 0.012, 0.010333333333333333, 0.007333333333333333, 0.007333333333333333, 0.011, 0.10433333333333333, 0.004, 0.011333333333333334, 0.011666666666666667, 0.010333333333333333, 0.010666666666666666, 0.008]\n",
      "[0. 0. 0. ... 0. 0. 0.]\n",
      "[0.010666666666666666, 0.004333333333333333, 0.0023333333333333335, 0.011666666666666667, 0.0026666666666666666, 0.0026666666666666666, 0.0003333333333333333, 0.0, 0.0036666666666666666, 0.021333333333333333, 0.0, 0.003, 0.0036666666666666666, 0.0033333333333333335, 0.0016666666666666668, 0.0013333333333333333]\n",
      "[0. 0. 0. ... 0. 0. 0.]\n",
      "[0.014333333333333333, 0.007333333333333333, 0.003, 0.015, 0.003, 0.0036666666666666666, 0.002, 0.0026666666666666666, 0.004666666666666667, 0.030666666666666665, 0.0026666666666666666, 0.004666666666666667, 0.005, 0.005, 0.0033333333333333335, 0.0026666666666666666]\n",
      "[0. 0. 0. ... 0. 0. 0.]\n",
      "[0.014333333333333333, 0.005, 0.0023333333333333335, 0.015, 0.0026666666666666666, 0.003, 0.002, 0.0026666666666666666, 0.004, 0.027666666666666666, 0.0026666666666666666, 0.004, 0.004666666666666667, 0.004, 0.0033333333333333335, 0.0026666666666666666]\n",
      "[0. 0. 0. ... 0. 0. 0.]\n",
      "[0.014333333333333333, 0.004666666666666667, 0.0023333333333333335, 0.015, 0.0026666666666666666, 0.003, 0.002, 0.0026666666666666666, 0.0036666666666666666, 0.027333333333333334, 0.0026666666666666666, 0.0036666666666666666, 0.004666666666666667, 0.004, 0.0033333333333333335, 0.0026666666666666666]\n",
      "[0. 0. 0. ... 0. 0. 0.]\n",
      "[0.014333333333333333, 0.004666666666666667, 0.0023333333333333335, 0.015, 0.0026666666666666666, 0.003, 0.002, 0.0026666666666666666, 0.0036666666666666666, 0.027333333333333334, 0.0026666666666666666, 0.0036666666666666666, 0.004666666666666667, 0.004, 0.0033333333333333335, 0.0026666666666666666]\n",
      "[0. 0. 0. ... 0. 0. 0.]\n",
      "[0.014333333333333333, 0.004666666666666667, 0.0023333333333333335, 0.015, 0.0026666666666666666, 0.003, 0.002, 0.0026666666666666666, 0.0036666666666666666, 0.027333333333333334, 0.0026666666666666666, 0.0036666666666666666, 0.004666666666666667, 0.004, 0.0033333333333333335, 0.0026666666666666666]\n",
      "[0. 0. 0. ... 0. 0. 0.]\n",
      "[0.014333333333333333, 0.004666666666666667, 0.0023333333333333335, 0.015, 0.0026666666666666666, 0.003, 0.002, 0.0026666666666666666, 0.0036666666666666666, 0.027333333333333334, 0.0026666666666666666, 0.0036666666666666666, 0.004666666666666667, 0.004, 0.0033333333333333335, 0.0026666666666666666]\n",
      "[0. 0. 0. ... 0. 0. 0.]\n",
      "[0.014333333333333333, 0.004666666666666667, 0.0023333333333333335, 0.015, 0.0026666666666666666, 0.003, 0.002, 0.0026666666666666666, 0.0036666666666666666, 0.027333333333333334, 0.0026666666666666666, 0.0036666666666666666, 0.004666666666666667, 0.004, 0.0033333333333333335, 0.0026666666666666666]\n",
      "[0. 0. 0. ... 0. 0. 0.]\n",
      "[0.014333333333333333, 0.004666666666666667, 0.0023333333333333335, 0.015, 0.0026666666666666666, 0.003, 0.002, 0.0026666666666666666, 0.0036666666666666666, 0.027333333333333334, 0.0026666666666666666, 0.0036666666666666666, 0.004666666666666667, 0.004, 0.0033333333333333335, 0.0026666666666666666]\n",
      "[0. 0. 0. ... 0. 0. 0.]\n",
      "[0.014333333333333333, 0.004666666666666667, 0.0023333333333333335, 0.015, 0.0026666666666666666, 0.003, 0.002, 0.0026666666666666666, 0.0036666666666666666, 0.027333333333333334, 0.0026666666666666666, 0.0036666666666666666, 0.004666666666666667, 0.004, 0.0033333333333333335, 0.0026666666666666666]\n",
      "[0. 0. 0. ... 0. 0. 0.]\n",
      "[0.014333333333333333, 0.004666666666666667, 0.0023333333333333335, 0.015, 0.0026666666666666666, 0.003, 0.002, 0.0026666666666666666, 0.0036666666666666666, 0.027333333333333334, 0.0026666666666666666, 0.0036666666666666666, 0.004666666666666667, 0.004, 0.0033333333333333335, 0.0026666666666666666]\n",
      "[0. 0. 0. ... 0. 0. 0.]\n",
      "[0.014333333333333333, 0.004666666666666667, 0.0023333333333333335, 0.015, 0.0026666666666666666, 0.003, 0.002, 0.0026666666666666666, 0.0036666666666666666, 0.027333333333333334, 0.0026666666666666666, 0.0036666666666666666, 0.004666666666666667, 0.004, 0.0033333333333333335, 0.0026666666666666666]\n",
      "[0. 0. 0. ... 0. 0. 0.]\n",
      "[0.014333333333333333, 0.004666666666666667, 0.0023333333333333335, 0.015, 0.0026666666666666666, 0.003, 0.002, 0.0026666666666666666, 0.0036666666666666666, 0.027333333333333334, 0.0026666666666666666, 0.0036666666666666666, 0.004666666666666667, 0.004, 0.0033333333333333335, 0.0026666666666666666]\n",
      "[0. 0. 0. ... 0. 0. 0.]\n",
      "[0.014333333333333333, 0.008, 0.0026666666666666666, 0.015, 0.003, 0.003, 0.002, 0.0033333333333333335, 0.004333333333333333, 0.03266666666666666, 0.003, 0.005666666666666667, 0.007, 0.005, 0.005666666666666667, 0.0033333333333333335]\n"
     ]
    },
    {
     "name": "stdout",
     "output_type": "stream",
     "text": [
      "[0. 0. 0. ... 0. 0. 0.]\n",
      "[0.014333333333333333, 0.012333333333333333, 0.005666666666666667, 0.015, 0.005666666666666667, 0.006333333333333333, 0.003, 0.005, 0.005333333333333333, 0.05733333333333333, 0.004333333333333333, 0.011333333333333334, 0.012333333333333333, 0.010666666666666666, 0.010666666666666666, 0.005]\n",
      "[1. 0. 0. ... 0. 0. 0.]\n",
      "[0.014333333333333333, 0.012333333333333333, 0.010666666666666666, 0.015, 0.011, 0.010333333333333333, 0.0036666666666666666, 0.009, 0.010666666666666666, 0.10433333333333333, 0.006666666666666667, 0.011333333333333334, 0.012333333333333333, 0.011, 0.011333333333333334, 0.009333333333333334]\n",
      "[1. 0. 0. ... 0. 0. 0.]\n",
      "[0.014333333333333333, 0.012333333333333333, 0.011333333333333334, 0.015, 0.012666666666666666, 0.011333333333333334, 0.009333333333333334, 0.009666666666666667, 0.011333333333333334, 0.11066666666666666, 0.008333333333333333, 0.011333333333333334, 0.012333333333333333, 0.011, 0.011333333333333334, 0.01]\n",
      "[1. 0. 0. ... 0. 0. 0.]\n",
      "[0.014333333333333333, 0.012333333333333333, 0.011333333333333334, 0.015, 0.012666666666666666, 0.011333333333333334, 0.009333333333333334, 0.009666666666666667, 0.011333333333333334, 0.11066666666666666, 0.008333333333333333, 0.011333333333333334, 0.012333333333333333, 0.011, 0.011333333333333334, 0.01]\n",
      "[1. 0. 0. ... 0. 0. 0.]\n",
      "[0.014333333333333333, 0.012333333333333333, 0.011333333333333334, 0.015, 0.012666666666666666, 0.011333333333333334, 0.009333333333333334, 0.009666666666666667, 0.011333333333333334, 0.11066666666666666, 0.008333333333333333, 0.011333333333333334, 0.012333333333333333, 0.011, 0.011333333333333334, 0.01]\n",
      "[1. 0. 0. ... 0. 0. 0.]\n",
      "[0.014333333333333333, 0.012333333333333333, 0.011333333333333334, 0.015, 0.012666666666666666, 0.011333333333333334, 0.009333333333333334, 0.009666666666666667, 0.011333333333333334, 0.11066666666666666, 0.008333333333333333, 0.011333333333333334, 0.012333333333333333, 0.011, 0.011333333333333334, 0.01]\n",
      "[1. 0. 0. ... 0. 0. 0.]\n",
      "[0.014333333333333333, 0.012333333333333333, 0.011333333333333334, 0.015, 0.012666666666666666, 0.011333333333333334, 0.009333333333333334, 0.009666666666666667, 0.011333333333333334, 0.11066666666666666, 0.008333333333333333, 0.011333333333333334, 0.012333333333333333, 0.011, 0.011333333333333334, 0.01]\n",
      "[1. 0. 0. ... 0. 0. 0.]\n",
      "[0.014333333333333333, 0.012333333333333333, 0.011333333333333334, 0.015, 0.012666666666666666, 0.011333333333333334, 0.009333333333333334, 0.009666666666666667, 0.011333333333333334, 0.11066666666666666, 0.008333333333333333, 0.011333333333333334, 0.012333333333333333, 0.011, 0.011333333333333334, 0.01]\n",
      "[1. 0. 0. ... 0. 0. 0.]\n",
      "[0.014333333333333333, 0.012333333333333333, 0.011333333333333334, 0.015, 0.012666666666666666, 0.011333333333333334, 0.009333333333333334, 0.009666666666666667, 0.011333333333333334, 0.11066666666666666, 0.008333333333333333, 0.011333333333333334, 0.012333333333333333, 0.011, 0.011333333333333334, 0.01]\n",
      "[1. 0. 0. ... 0. 0. 0.]\n",
      "[0.014333333333333333, 0.012333333333333333, 0.011333333333333334, 0.015, 0.012666666666666666, 0.011333333333333334, 0.009333333333333334, 0.009666666666666667, 0.011333333333333334, 0.11066666666666666, 0.008333333333333333, 0.011333333333333334, 0.012333333333333333, 0.011, 0.011333333333333334, 0.01]\n",
      "[1. 0. 0. ... 0. 0. 0.]\n",
      "[0.014333333333333333, 0.012333333333333333, 0.010666666666666666, 0.015, 0.012, 0.010333333333333333, 0.007333333333333333, 0.007333333333333333, 0.011, 0.10433333333333333, 0.004, 0.011333333333333334, 0.011666666666666667, 0.010333333333333333, 0.010666666666666666, 0.008]\n",
      "[0. 0. 0. ... 0. 0. 0.]\n",
      "[0.010666666666666666, 0.004333333333333333, 0.0023333333333333335, 0.011666666666666667, 0.0026666666666666666, 0.0026666666666666666, 0.0003333333333333333, 0.0, 0.0036666666666666666, 0.021333333333333333, 0.0, 0.003, 0.0036666666666666666, 0.0033333333333333335, 0.0016666666666666668, 0.0013333333333333333]\n",
      "[0. 0. 0. ... 0. 0. 0.]\n",
      "[0.014333333333333333, 0.007333333333333333, 0.003, 0.015, 0.003, 0.0036666666666666666, 0.002, 0.0026666666666666666, 0.004666666666666667, 0.030666666666666665, 0.0026666666666666666, 0.004666666666666667, 0.005, 0.005, 0.0033333333333333335, 0.0026666666666666666]\n",
      "[0. 0. 0. ... 0. 0. 0.]\n",
      "[0.014333333333333333, 0.005, 0.0023333333333333335, 0.015, 0.0026666666666666666, 0.003, 0.002, 0.0026666666666666666, 0.004, 0.027666666666666666, 0.0026666666666666666, 0.004, 0.004666666666666667, 0.004, 0.0033333333333333335, 0.0026666666666666666]\n",
      "[0. 0. 0. ... 0. 0. 0.]\n",
      "[0.014333333333333333, 0.004666666666666667, 0.0023333333333333335, 0.015, 0.0026666666666666666, 0.003, 0.002, 0.0026666666666666666, 0.0036666666666666666, 0.027333333333333334, 0.0026666666666666666, 0.0036666666666666666, 0.004666666666666667, 0.004, 0.0033333333333333335, 0.0026666666666666666]\n",
      "[0. 0. 0. ... 0. 0. 0.]\n",
      "[0.014333333333333333, 0.004666666666666667, 0.0023333333333333335, 0.015, 0.0026666666666666666, 0.003, 0.002, 0.0026666666666666666, 0.0036666666666666666, 0.027333333333333334, 0.0026666666666666666, 0.0036666666666666666, 0.004666666666666667, 0.004, 0.0033333333333333335, 0.0026666666666666666]\n",
      "[0. 0. 0. ... 0. 0. 0.]\n",
      "[0.014333333333333333, 0.004666666666666667, 0.0023333333333333335, 0.015, 0.0026666666666666666, 0.003, 0.002, 0.0026666666666666666, 0.0036666666666666666, 0.027333333333333334, 0.0026666666666666666, 0.0036666666666666666, 0.004666666666666667, 0.004, 0.0033333333333333335, 0.0026666666666666666]\n",
      "[0. 0. 0. ... 0. 0. 0.]\n",
      "[0.014333333333333333, 0.004666666666666667, 0.0023333333333333335, 0.015, 0.0026666666666666666, 0.003, 0.002, 0.0026666666666666666, 0.0036666666666666666, 0.027333333333333334, 0.0026666666666666666, 0.0036666666666666666, 0.004666666666666667, 0.004, 0.0033333333333333335, 0.0026666666666666666]\n",
      "[0. 0. 0. ... 0. 0. 0.]\n",
      "[0.014333333333333333, 0.004666666666666667, 0.0023333333333333335, 0.015, 0.0026666666666666666, 0.003, 0.002, 0.0026666666666666666, 0.0036666666666666666, 0.027333333333333334, 0.0026666666666666666, 0.0036666666666666666, 0.004666666666666667, 0.004, 0.0033333333333333335, 0.0026666666666666666]\n",
      "[0. 0. 0. ... 0. 0. 0.]\n",
      "[0.014333333333333333, 0.004666666666666667, 0.0023333333333333335, 0.015, 0.0026666666666666666, 0.003, 0.002, 0.0026666666666666666, 0.0036666666666666666, 0.027333333333333334, 0.0026666666666666666, 0.0036666666666666666, 0.004666666666666667, 0.004, 0.0033333333333333335, 0.0026666666666666666]\n",
      "[0. 0. 0. ... 0. 0. 0.]\n",
      "[0.014333333333333333, 0.004666666666666667, 0.0023333333333333335, 0.015, 0.0026666666666666666, 0.003, 0.002, 0.0026666666666666666, 0.0036666666666666666, 0.027333333333333334, 0.0026666666666666666, 0.0036666666666666666, 0.004666666666666667, 0.004, 0.0033333333333333335, 0.0026666666666666666]\n",
      "[0. 0. 0. ... 0. 0. 0.]\n",
      "[0.014333333333333333, 0.004666666666666667, 0.0023333333333333335, 0.015, 0.0026666666666666666, 0.003, 0.002, 0.0026666666666666666, 0.0036666666666666666, 0.027333333333333334, 0.0026666666666666666, 0.0036666666666666666, 0.004666666666666667, 0.004, 0.0033333333333333335, 0.0026666666666666666]\n",
      "[0. 0. 0. ... 0. 0. 0.]\n",
      "[0.014333333333333333, 0.004666666666666667, 0.0023333333333333335, 0.015, 0.0026666666666666666, 0.003, 0.002, 0.0026666666666666666, 0.0036666666666666666, 0.027333333333333334, 0.0026666666666666666, 0.0036666666666666666, 0.004666666666666667, 0.004, 0.0033333333333333335, 0.0026666666666666666]\n",
      "[0. 0. 0. ... 0. 0. 0.]\n",
      "[0.014333333333333333, 0.004666666666666667, 0.0023333333333333335, 0.015, 0.0026666666666666666, 0.003, 0.002, 0.0026666666666666666, 0.0036666666666666666, 0.027333333333333334, 0.0026666666666666666, 0.0036666666666666666, 0.004666666666666667, 0.004, 0.0033333333333333335, 0.0026666666666666666]\n",
      "[0. 0. 0. ... 0. 0. 0.]\n",
      "[0.014333333333333333, 0.008, 0.0026666666666666666, 0.015, 0.003, 0.003, 0.002, 0.0033333333333333335, 0.004333333333333333, 0.03266666666666666, 0.003, 0.005666666666666667, 0.007, 0.005, 0.005666666666666667, 0.0033333333333333335]\n",
      "[0. 0. 0. ... 0. 0. 0.]\n",
      "[0.014333333333333333, 0.012333333333333333, 0.005666666666666667, 0.015, 0.005666666666666667, 0.006333333333333333, 0.003, 0.005, 0.005333333333333333, 0.05733333333333333, 0.004333333333333333, 0.011333333333333334, 0.012333333333333333, 0.010666666666666666, 0.010666666666666666, 0.005]\n",
      "[1. 0. 0. ... 0. 0. 0.]\n",
      "[0.014333333333333333, 0.012333333333333333, 0.010666666666666666, 0.015, 0.011, 0.010333333333333333, 0.0036666666666666666, 0.009, 0.010666666666666666, 0.10433333333333333, 0.006666666666666667, 0.011333333333333334, 0.012333333333333333, 0.011, 0.011333333333333334, 0.009333333333333334]\n",
      "[1. 0. 0. ... 0. 0. 0.]\n",
      "[0.014333333333333333, 0.012333333333333333, 0.011333333333333334, 0.015, 0.012666666666666666, 0.011333333333333334, 0.009333333333333334, 0.009666666666666667, 0.011333333333333334, 0.11066666666666666, 0.008333333333333333, 0.011333333333333334, 0.012333333333333333, 0.011, 0.011333333333333334, 0.01]\n",
      "[1. 0. 0. ... 0. 0. 0.]\n",
      "[0.014333333333333333, 0.012333333333333333, 0.011333333333333334, 0.015, 0.012666666666666666, 0.011333333333333334, 0.009333333333333334, 0.009666666666666667, 0.011333333333333334, 0.11066666666666666, 0.008333333333333333, 0.011333333333333334, 0.012333333333333333, 0.011, 0.011333333333333334, 0.01]\n",
      "[1. 0. 0. ... 0. 0. 0.]\n",
      "[0.014333333333333333, 0.012333333333333333, 0.011333333333333334, 0.015, 0.012666666666666666, 0.011333333333333334, 0.009333333333333334, 0.009666666666666667, 0.011333333333333334, 0.11066666666666666, 0.008333333333333333, 0.011333333333333334, 0.012333333333333333, 0.011, 0.011333333333333334, 0.01]\n",
      "[1. 0. 0. ... 0. 0. 0.]\n",
      "[0.014333333333333333, 0.012333333333333333, 0.011333333333333334, 0.015, 0.012666666666666666, 0.011333333333333334, 0.009333333333333334, 0.009666666666666667, 0.011333333333333334, 0.11066666666666666, 0.008333333333333333, 0.011333333333333334, 0.012333333333333333, 0.011, 0.011333333333333334, 0.01]\n",
      "[1. 0. 0. ... 0. 0. 0.]\n",
      "[0.014333333333333333, 0.012333333333333333, 0.011333333333333334, 0.015, 0.012666666666666666, 0.011333333333333334, 0.009333333333333334, 0.009666666666666667, 0.011333333333333334, 0.11066666666666666, 0.008333333333333333, 0.011333333333333334, 0.012333333333333333, 0.011, 0.011333333333333334, 0.01]\n",
      "[1. 0. 0. ... 0. 0. 0.]\n",
      "[0.014333333333333333, 0.012333333333333333, 0.011333333333333334, 0.015, 0.012666666666666666, 0.011333333333333334, 0.009333333333333334, 0.009666666666666667, 0.011333333333333334, 0.11066666666666666, 0.008333333333333333, 0.011333333333333334, 0.012333333333333333, 0.011, 0.011333333333333334, 0.01]\n",
      "[1. 0. 0. ... 0. 0. 0.]\n",
      "[0.014333333333333333, 0.012333333333333333, 0.011333333333333334, 0.015, 0.012666666666666666, 0.011333333333333334, 0.009333333333333334, 0.009666666666666667, 0.011333333333333334, 0.11066666666666666, 0.008333333333333333, 0.011333333333333334, 0.012333333333333333, 0.011, 0.011333333333333334, 0.01]\n",
      "[1. 0. 0. ... 0. 0. 0.]\n",
      "[0.014333333333333333, 0.012333333333333333, 0.011333333333333334, 0.015, 0.012666666666666666, 0.011333333333333334, 0.009333333333333334, 0.009666666666666667, 0.011333333333333334, 0.11066666666666666, 0.008333333333333333, 0.011333333333333334, 0.012333333333333333, 0.011, 0.011333333333333334, 0.01]\n",
      "[1. 0. 0. ... 0. 0. 0.]\n",
      "[0.014333333333333333, 0.012333333333333333, 0.010666666666666666, 0.015, 0.012, 0.010333333333333333, 0.007333333333333333, 0.007333333333333333, 0.011, 0.10433333333333333, 0.004, 0.011333333333333334, 0.011666666666666667, 0.010333333333333333, 0.010666666666666666, 0.008]\n",
      "[0. 0. 0. ... 0. 0. 0.]\n",
      "[0.010666666666666666, 0.004333333333333333, 0.0023333333333333335, 0.011666666666666667, 0.0026666666666666666, 0.0026666666666666666, 0.0003333333333333333, 0.0, 0.0036666666666666666, 0.021333333333333333, 0.0, 0.003, 0.0036666666666666666, 0.0033333333333333335, 0.0016666666666666668, 0.0013333333333333333]\n",
      "[0. 0. 0. ... 0. 0. 0.]\n",
      "[0.014333333333333333, 0.007333333333333333, 0.003, 0.015, 0.003, 0.0036666666666666666, 0.002, 0.0026666666666666666, 0.004666666666666667, 0.030666666666666665, 0.0026666666666666666, 0.004666666666666667, 0.005, 0.005, 0.0033333333333333335, 0.0026666666666666666]\n",
      "[0. 0. 0. ... 0. 0. 0.]\n",
      "[0.014333333333333333, 0.005, 0.0023333333333333335, 0.015, 0.0026666666666666666, 0.003, 0.002, 0.0026666666666666666, 0.004, 0.027666666666666666, 0.0026666666666666666, 0.004, 0.004666666666666667, 0.004, 0.0033333333333333335, 0.0026666666666666666]\n",
      "[0. 0. 0. ... 0. 0. 0.]\n",
      "[0.014333333333333333, 0.004666666666666667, 0.0023333333333333335, 0.015, 0.0026666666666666666, 0.003, 0.002, 0.0026666666666666666, 0.0036666666666666666, 0.027333333333333334, 0.0026666666666666666, 0.0036666666666666666, 0.004666666666666667, 0.004, 0.0033333333333333335, 0.0026666666666666666]\n",
      "[0. 0. 0. ... 0. 0. 0.]\n",
      "[0.014333333333333333, 0.004666666666666667, 0.0023333333333333335, 0.015, 0.0026666666666666666, 0.003, 0.002, 0.0026666666666666666, 0.0036666666666666666, 0.027333333333333334, 0.0026666666666666666, 0.0036666666666666666, 0.004666666666666667, 0.004, 0.0033333333333333335, 0.0026666666666666666]\n",
      "[0. 0. 0. ... 0. 0. 0.]\n",
      "[0.014333333333333333, 0.004666666666666667, 0.0023333333333333335, 0.015, 0.0026666666666666666, 0.003, 0.002, 0.0026666666666666666, 0.0036666666666666666, 0.027333333333333334, 0.0026666666666666666, 0.0036666666666666666, 0.004666666666666667, 0.004, 0.0033333333333333335, 0.0026666666666666666]\n",
      "[0. 0. 0. ... 0. 0. 0.]\n",
      "[0.014333333333333333, 0.004666666666666667, 0.0023333333333333335, 0.015, 0.0026666666666666666, 0.003, 0.002, 0.0026666666666666666, 0.0036666666666666666, 0.027333333333333334, 0.0026666666666666666, 0.0036666666666666666, 0.004666666666666667, 0.004, 0.0033333333333333335, 0.0026666666666666666]\n",
      "[0. 0. 0. ... 0. 0. 0.]\n",
      "[0.014333333333333333, 0.004666666666666667, 0.0023333333333333335, 0.015, 0.0026666666666666666, 0.003, 0.002, 0.0026666666666666666, 0.0036666666666666666, 0.027333333333333334, 0.0026666666666666666, 0.0036666666666666666, 0.004666666666666667, 0.004, 0.0033333333333333335, 0.0026666666666666666]\n",
      "[0. 0. 0. ... 0. 0. 0.]\n",
      "[0.014333333333333333, 0.004666666666666667, 0.0023333333333333335, 0.015, 0.0026666666666666666, 0.003, 0.002, 0.0026666666666666666, 0.0036666666666666666, 0.027333333333333334, 0.0026666666666666666, 0.0036666666666666666, 0.004666666666666667, 0.004, 0.0033333333333333335, 0.0026666666666666666]\n",
      "[0. 0. 0. ... 0. 0. 0.]\n",
      "[0.014333333333333333, 0.004666666666666667, 0.0023333333333333335, 0.015, 0.0026666666666666666, 0.003, 0.002, 0.0026666666666666666, 0.0036666666666666666, 0.027333333333333334, 0.0026666666666666666, 0.0036666666666666666, 0.004666666666666667, 0.004, 0.0033333333333333335, 0.0026666666666666666]\n",
      "[0. 0. 0. ... 0. 0. 0.]\n",
      "[0.014333333333333333, 0.004666666666666667, 0.0023333333333333335, 0.015, 0.0026666666666666666, 0.003, 0.002, 0.0026666666666666666, 0.0036666666666666666, 0.027333333333333334, 0.0026666666666666666, 0.0036666666666666666, 0.004666666666666667, 0.004, 0.0033333333333333335, 0.0026666666666666666]\n",
      "[0. 0. 0. ... 0. 0. 0.]\n",
      "[0.014333333333333333, 0.004666666666666667, 0.0023333333333333335, 0.015, 0.0026666666666666666, 0.003, 0.002, 0.0026666666666666666, 0.0036666666666666666, 0.027333333333333334, 0.0026666666666666666, 0.0036666666666666666, 0.004666666666666667, 0.004, 0.0033333333333333335, 0.0026666666666666666]\n",
      "[0. 0. 0. ... 0. 0. 0.]\n",
      "[0.014333333333333333, 0.004666666666666667, 0.0023333333333333335, 0.015, 0.0026666666666666666, 0.003, 0.002, 0.0026666666666666666, 0.0036666666666666666, 0.027333333333333334, 0.0026666666666666666, 0.0036666666666666666, 0.004666666666666667, 0.004, 0.0033333333333333335, 0.0026666666666666666]\n",
      "[0. 0. 0. ... 0. 0. 0.]\n",
      "[0.014333333333333333, 0.008, 0.0026666666666666666, 0.015, 0.003, 0.003, 0.002, 0.0033333333333333335, 0.004333333333333333, 0.03266666666666666, 0.003, 0.005666666666666667, 0.007, 0.005, 0.005666666666666667, 0.0033333333333333335]\n",
      "[0. 0. 0. ... 0. 0. 0.]\n",
      "[0.014333333333333333, 0.012333333333333333, 0.005666666666666667, 0.015, 0.005666666666666667, 0.006333333333333333, 0.003, 0.005, 0.005333333333333333, 0.05733333333333333, 0.004333333333333333, 0.011333333333333334, 0.012333333333333333, 0.010666666666666666, 0.010666666666666666, 0.005]\n",
      "[1. 0. 0. ... 0. 0. 0.]\n",
      "[0.014333333333333333, 0.012333333333333333, 0.010666666666666666, 0.015, 0.011, 0.010333333333333333, 0.0036666666666666666, 0.009, 0.010666666666666666, 0.10433333333333333, 0.006666666666666667, 0.011333333333333334, 0.012333333333333333, 0.011, 0.011333333333333334, 0.009333333333333334]\n",
      "[1. 0. 0. ... 0. 0. 0.]\n",
      "[0.014333333333333333, 0.012333333333333333, 0.011333333333333334, 0.015, 0.012666666666666666, 0.011333333333333334, 0.009333333333333334, 0.009666666666666667, 0.011333333333333334, 0.11066666666666666, 0.008333333333333333, 0.011333333333333334, 0.012333333333333333, 0.011, 0.011333333333333334, 0.01]\n",
      "[1. 0. 0. ... 0. 0. 0.]\n",
      "[0.014333333333333333, 0.012333333333333333, 0.011333333333333334, 0.015, 0.012666666666666666, 0.011333333333333334, 0.009333333333333334, 0.009666666666666667, 0.011333333333333334, 0.11066666666666666, 0.008333333333333333, 0.011333333333333334, 0.012333333333333333, 0.011, 0.011333333333333334, 0.01]\n",
      "[1. 0. 0. ... 0. 0. 0.]\n",
      "[0.014333333333333333, 0.012333333333333333, 0.011333333333333334, 0.015, 0.012666666666666666, 0.011333333333333334, 0.009333333333333334, 0.009666666666666667, 0.011333333333333334, 0.11066666666666666, 0.008333333333333333, 0.011333333333333334, 0.012333333333333333, 0.011, 0.011333333333333334, 0.01]\n",
      "[1. 0. 0. ... 0. 0. 0.]\n",
      "[0.014333333333333333, 0.012333333333333333, 0.011333333333333334, 0.015, 0.012666666666666666, 0.011333333333333334, 0.009333333333333334, 0.009666666666666667, 0.011333333333333334, 0.11066666666666666, 0.008333333333333333, 0.011333333333333334, 0.012333333333333333, 0.011, 0.011333333333333334, 0.01]\n",
      "[1. 0. 0. ... 0. 0. 0.]\n",
      "[0.014333333333333333, 0.012333333333333333, 0.011333333333333334, 0.015, 0.012666666666666666, 0.011333333333333334, 0.009333333333333334, 0.009666666666666667, 0.011333333333333334, 0.11066666666666666, 0.008333333333333333, 0.011333333333333334, 0.012333333333333333, 0.011, 0.011333333333333334, 0.01]\n",
      "[1. 0. 0. ... 0. 0. 0.]\n",
      "[0.014333333333333333, 0.012333333333333333, 0.011333333333333334, 0.015, 0.012666666666666666, 0.011333333333333334, 0.009333333333333334, 0.009666666666666667, 0.011333333333333334, 0.11066666666666666, 0.008333333333333333, 0.011333333333333334, 0.012333333333333333, 0.011, 0.011333333333333334, 0.01]\n"
     ]
    },
    {
     "name": "stdout",
     "output_type": "stream",
     "text": [
      "[1. 0. 0. ... 0. 0. 0.]\n",
      "[0.014333333333333333, 0.012333333333333333, 0.011333333333333334, 0.015, 0.012666666666666666, 0.011333333333333334, 0.009333333333333334, 0.009666666666666667, 0.011333333333333334, 0.11066666666666666, 0.008333333333333333, 0.011333333333333334, 0.012333333333333333, 0.011, 0.011333333333333334, 0.01]\n",
      "[1. 0. 0. ... 0. 0. 0.]\n",
      "[0.014333333333333333, 0.012333333333333333, 0.011333333333333334, 0.015, 0.012666666666666666, 0.011333333333333334, 0.009333333333333334, 0.009666666666666667, 0.011333333333333334, 0.11066666666666666, 0.008333333333333333, 0.011333333333333334, 0.012333333333333333, 0.011, 0.011333333333333334, 0.01]\n",
      "[1. 0. 0. ... 0. 0. 0.]\n",
      "[0.014333333333333333, 0.012333333333333333, 0.010666666666666666, 0.015, 0.012, 0.010333333333333333, 0.007333333333333333, 0.007333333333333333, 0.011, 0.10433333333333333, 0.004, 0.011333333333333334, 0.011666666666666667, 0.010333333333333333, 0.010666666666666666, 0.008]\n",
      "[0. 0. 0. ... 0. 0. 0.]\n",
      "[0.010666666666666666, 0.004333333333333333, 0.0023333333333333335, 0.011666666666666667, 0.0026666666666666666, 0.0026666666666666666, 0.0003333333333333333, 0.0, 0.0036666666666666666, 0.021333333333333333, 0.0, 0.003, 0.0036666666666666666, 0.0033333333333333335, 0.0016666666666666668, 0.0013333333333333333]\n",
      "[0. 0. 0. ... 0. 0. 0.]\n",
      "[0.014333333333333333, 0.007333333333333333, 0.003, 0.015, 0.003, 0.0036666666666666666, 0.002, 0.0026666666666666666, 0.004666666666666667, 0.030666666666666665, 0.0026666666666666666, 0.004666666666666667, 0.005, 0.005, 0.0033333333333333335, 0.0026666666666666666]\n",
      "[0. 0. 0. ... 0. 0. 0.]\n",
      "[0.014333333333333333, 0.005, 0.0023333333333333335, 0.015, 0.0026666666666666666, 0.003, 0.002, 0.0026666666666666666, 0.004, 0.027666666666666666, 0.0026666666666666666, 0.004, 0.004666666666666667, 0.004, 0.0033333333333333335, 0.0026666666666666666]\n",
      "[0. 0. 0. ... 0. 0. 0.]\n",
      "[0.014333333333333333, 0.004666666666666667, 0.0023333333333333335, 0.015, 0.0026666666666666666, 0.003, 0.002, 0.0026666666666666666, 0.0036666666666666666, 0.027333333333333334, 0.0026666666666666666, 0.0036666666666666666, 0.004666666666666667, 0.004, 0.0033333333333333335, 0.0026666666666666666]\n",
      "[0. 0. 0. ... 0. 0. 0.]\n",
      "[0.014333333333333333, 0.004666666666666667, 0.0023333333333333335, 0.015, 0.0026666666666666666, 0.003, 0.002, 0.0026666666666666666, 0.0036666666666666666, 0.027333333333333334, 0.0026666666666666666, 0.0036666666666666666, 0.004666666666666667, 0.004, 0.0033333333333333335, 0.0026666666666666666]\n",
      "[0. 0. 0. ... 0. 0. 0.]\n",
      "[0.014333333333333333, 0.004666666666666667, 0.0023333333333333335, 0.015, 0.0026666666666666666, 0.003, 0.002, 0.0026666666666666666, 0.0036666666666666666, 0.027333333333333334, 0.0026666666666666666, 0.0036666666666666666, 0.004666666666666667, 0.004, 0.0033333333333333335, 0.0026666666666666666]\n",
      "[0. 0. 0. ... 0. 0. 0.]\n",
      "[0.014333333333333333, 0.004666666666666667, 0.0023333333333333335, 0.015, 0.0026666666666666666, 0.003, 0.002, 0.0026666666666666666, 0.0036666666666666666, 0.027333333333333334, 0.0026666666666666666, 0.0036666666666666666, 0.004666666666666667, 0.004, 0.0033333333333333335, 0.0026666666666666666]\n",
      "[0. 0. 0. ... 0. 0. 0.]\n",
      "[0.014333333333333333, 0.004666666666666667, 0.0023333333333333335, 0.015, 0.0026666666666666666, 0.003, 0.002, 0.0026666666666666666, 0.0036666666666666666, 0.027333333333333334, 0.0026666666666666666, 0.0036666666666666666, 0.004666666666666667, 0.004, 0.0033333333333333335, 0.0026666666666666666]\n",
      "[0. 0. 0. ... 0. 0. 0.]\n",
      "[0.014333333333333333, 0.004666666666666667, 0.0023333333333333335, 0.015, 0.0026666666666666666, 0.003, 0.002, 0.0026666666666666666, 0.0036666666666666666, 0.027333333333333334, 0.0026666666666666666, 0.0036666666666666666, 0.004666666666666667, 0.004, 0.0033333333333333335, 0.0026666666666666666]\n",
      "[0. 0. 0. ... 0. 0. 0.]\n",
      "[0.014333333333333333, 0.004666666666666667, 0.0023333333333333335, 0.015, 0.0026666666666666666, 0.003, 0.002, 0.0026666666666666666, 0.0036666666666666666, 0.027333333333333334, 0.0026666666666666666, 0.0036666666666666666, 0.004666666666666667, 0.004, 0.0033333333333333335, 0.0026666666666666666]\n",
      "[0. 0. 0. ... 0. 0. 0.]\n",
      "[0.014333333333333333, 0.004666666666666667, 0.0023333333333333335, 0.015, 0.0026666666666666666, 0.003, 0.002, 0.0026666666666666666, 0.0036666666666666666, 0.027333333333333334, 0.0026666666666666666, 0.0036666666666666666, 0.004666666666666667, 0.004, 0.0033333333333333335, 0.0026666666666666666]\n",
      "[0. 0. 0. ... 0. 0. 0.]\n",
      "[0.014333333333333333, 0.004666666666666667, 0.0023333333333333335, 0.015, 0.0026666666666666666, 0.003, 0.002, 0.0026666666666666666, 0.0036666666666666666, 0.027333333333333334, 0.0026666666666666666, 0.0036666666666666666, 0.004666666666666667, 0.004, 0.0033333333333333335, 0.0026666666666666666]\n",
      "[0. 0. 0. ... 0. 0. 0.]\n",
      "[0.014333333333333333, 0.004666666666666667, 0.0023333333333333335, 0.015, 0.0026666666666666666, 0.003, 0.002, 0.0026666666666666666, 0.0036666666666666666, 0.027333333333333334, 0.0026666666666666666, 0.0036666666666666666, 0.004666666666666667, 0.004, 0.0033333333333333335, 0.0026666666666666666]\n",
      "[0. 0. 0. ... 0. 0. 0.]\n",
      "[0.014333333333333333, 0.008, 0.0026666666666666666, 0.015, 0.003, 0.003, 0.002, 0.0033333333333333335, 0.004333333333333333, 0.03266666666666666, 0.003, 0.005666666666666667, 0.007, 0.005, 0.005666666666666667, 0.0033333333333333335]\n",
      "[0. 0. 0. ... 0. 0. 0.]\n",
      "[0.014333333333333333, 0.012333333333333333, 0.005666666666666667, 0.015, 0.005666666666666667, 0.006333333333333333, 0.003, 0.005, 0.005333333333333333, 0.05733333333333333, 0.004333333333333333, 0.011333333333333334, 0.012333333333333333, 0.010666666666666666, 0.010666666666666666, 0.005]\n",
      "[1. 0. 0. ... 0. 0. 0.]\n",
      "[0.014333333333333333, 0.012333333333333333, 0.010666666666666666, 0.015, 0.011, 0.010333333333333333, 0.0036666666666666666, 0.009, 0.010666666666666666, 0.10433333333333333, 0.006666666666666667, 0.011333333333333334, 0.012333333333333333, 0.011, 0.011333333333333334, 0.009333333333333334]\n",
      "[1. 0. 0. ... 0. 0. 0.]\n",
      "[0.014333333333333333, 0.012333333333333333, 0.011333333333333334, 0.015, 0.012666666666666666, 0.011333333333333334, 0.009333333333333334, 0.009666666666666667, 0.011333333333333334, 0.11066666666666666, 0.008333333333333333, 0.011333333333333334, 0.012333333333333333, 0.011, 0.011333333333333334, 0.01]\n",
      "[1. 0. 0. ... 0. 0. 0.]\n",
      "[0.014333333333333333, 0.012333333333333333, 0.011333333333333334, 0.015, 0.012666666666666666, 0.011333333333333334, 0.009333333333333334, 0.009666666666666667, 0.011333333333333334, 0.11066666666666666, 0.008333333333333333, 0.011333333333333334, 0.012333333333333333, 0.011, 0.011333333333333334, 0.01]\n",
      "[1. 0. 0. ... 0. 0. 0.]\n",
      "[0.014333333333333333, 0.012333333333333333, 0.011333333333333334, 0.015, 0.012666666666666666, 0.011333333333333334, 0.009333333333333334, 0.009666666666666667, 0.011333333333333334, 0.11066666666666666, 0.008333333333333333, 0.011333333333333334, 0.012333333333333333, 0.011, 0.011333333333333334, 0.01]\n",
      "[1. 0. 0. ... 0. 0. 0.]\n",
      "[0.014333333333333333, 0.012333333333333333, 0.011333333333333334, 0.015, 0.012666666666666666, 0.011333333333333334, 0.009333333333333334, 0.009666666666666667, 0.011333333333333334, 0.11066666666666666, 0.008333333333333333, 0.011333333333333334, 0.012333333333333333, 0.011, 0.011333333333333334, 0.01]\n",
      "[1. 0. 0. ... 0. 0. 0.]\n",
      "[0.014333333333333333, 0.012333333333333333, 0.011333333333333334, 0.015, 0.012666666666666666, 0.011333333333333334, 0.009333333333333334, 0.009666666666666667, 0.011333333333333334, 0.11066666666666666, 0.008333333333333333, 0.011333333333333334, 0.012333333333333333, 0.011, 0.011333333333333334, 0.01]\n",
      "[1. 0. 0. ... 0. 0. 0.]\n",
      "[0.014333333333333333, 0.012333333333333333, 0.011333333333333334, 0.015, 0.012666666666666666, 0.011333333333333334, 0.009333333333333334, 0.009666666666666667, 0.011333333333333334, 0.11066666666666666, 0.008333333333333333, 0.011333333333333334, 0.012333333333333333, 0.011, 0.011333333333333334, 0.01]\n",
      "[1. 0. 0. ... 0. 0. 0.]\n",
      "[0.014333333333333333, 0.012333333333333333, 0.011333333333333334, 0.015, 0.012666666666666666, 0.011333333333333334, 0.009333333333333334, 0.009666666666666667, 0.011333333333333334, 0.11066666666666666, 0.008333333333333333, 0.011333333333333334, 0.012333333333333333, 0.011, 0.011333333333333334, 0.01]\n",
      "[1. 0. 0. ... 0. 0. 0.]\n",
      "[0.014333333333333333, 0.012333333333333333, 0.011333333333333334, 0.015, 0.012666666666666666, 0.011333333333333334, 0.009333333333333334, 0.009666666666666667, 0.011333333333333334, 0.11066666666666666, 0.008333333333333333, 0.011333333333333334, 0.012333333333333333, 0.011, 0.011333333333333334, 0.01]\n",
      "[1. 0. 0. ... 0. 0. 0.]\n",
      "[0.014333333333333333, 0.012333333333333333, 0.010666666666666666, 0.015, 0.012, 0.010333333333333333, 0.007333333333333333, 0.007333333333333333, 0.011, 0.10433333333333333, 0.004, 0.011333333333333334, 0.011666666666666667, 0.010333333333333333, 0.010666666666666666, 0.008]\n",
      "[0. 0. 0. ... 0. 0. 0.]\n",
      "[0.010666666666666666, 0.004333333333333333, 0.0023333333333333335, 0.011666666666666667, 0.0026666666666666666, 0.0026666666666666666, 0.0003333333333333333, 0.0, 0.0036666666666666666, 0.021333333333333333, 0.0, 0.003, 0.0036666666666666666, 0.0033333333333333335, 0.0016666666666666668, 0.0013333333333333333]\n",
      "[0. 0. 0. ... 0. 0. 0.]\n",
      "[0.014333333333333333, 0.007333333333333333, 0.003, 0.015, 0.003, 0.0036666666666666666, 0.002, 0.0026666666666666666, 0.004666666666666667, 0.030666666666666665, 0.0026666666666666666, 0.004666666666666667, 0.005, 0.005, 0.0033333333333333335, 0.0026666666666666666]\n",
      "[0. 0. 0. ... 0. 0. 0.]\n",
      "[0.014333333333333333, 0.005, 0.0023333333333333335, 0.015, 0.0026666666666666666, 0.003, 0.002, 0.0026666666666666666, 0.004, 0.027666666666666666, 0.0026666666666666666, 0.004, 0.004666666666666667, 0.004, 0.0033333333333333335, 0.0026666666666666666]\n",
      "[0. 0. 0. ... 0. 0. 0.]\n",
      "[0.014333333333333333, 0.004666666666666667, 0.0023333333333333335, 0.015, 0.0026666666666666666, 0.003, 0.002, 0.0026666666666666666, 0.0036666666666666666, 0.027333333333333334, 0.0026666666666666666, 0.0036666666666666666, 0.004666666666666667, 0.004, 0.0033333333333333335, 0.0026666666666666666]\n",
      "[0. 0. 0. ... 0. 0. 0.]\n",
      "[0.014333333333333333, 0.004666666666666667, 0.0023333333333333335, 0.015, 0.0026666666666666666, 0.003, 0.002, 0.0026666666666666666, 0.0036666666666666666, 0.027333333333333334, 0.0026666666666666666, 0.0036666666666666666, 0.004666666666666667, 0.004, 0.0033333333333333335, 0.0026666666666666666]\n",
      "[0. 0. 0. ... 0. 0. 0.]\n",
      "[0.014333333333333333, 0.004666666666666667, 0.0023333333333333335, 0.015, 0.0026666666666666666, 0.003, 0.002, 0.0026666666666666666, 0.0036666666666666666, 0.027333333333333334, 0.0026666666666666666, 0.0036666666666666666, 0.004666666666666667, 0.004, 0.0033333333333333335, 0.0026666666666666666]\n",
      "[0. 0. 0. ... 0. 0. 0.]\n",
      "[0.014333333333333333, 0.004666666666666667, 0.0023333333333333335, 0.015, 0.0026666666666666666, 0.003, 0.002, 0.0026666666666666666, 0.0036666666666666666, 0.027333333333333334, 0.0026666666666666666, 0.0036666666666666666, 0.004666666666666667, 0.004, 0.0033333333333333335, 0.0026666666666666666]\n",
      "[0. 0. 0. ... 0. 0. 0.]\n",
      "[0.014333333333333333, 0.004666666666666667, 0.0023333333333333335, 0.015, 0.0026666666666666666, 0.003, 0.002, 0.0026666666666666666, 0.0036666666666666666, 0.027333333333333334, 0.0026666666666666666, 0.0036666666666666666, 0.004666666666666667, 0.004, 0.0033333333333333335, 0.0026666666666666666]\n",
      "[0. 0. 0. ... 0. 0. 0.]\n",
      "[0.014333333333333333, 0.004666666666666667, 0.0023333333333333335, 0.015, 0.0026666666666666666, 0.003, 0.002, 0.0026666666666666666, 0.0036666666666666666, 0.027333333333333334, 0.0026666666666666666, 0.0036666666666666666, 0.004666666666666667, 0.004, 0.0033333333333333335, 0.0026666666666666666]\n",
      "[0. 0. 0. ... 0. 0. 0.]\n",
      "[0.014333333333333333, 0.004666666666666667, 0.0023333333333333335, 0.015, 0.0026666666666666666, 0.003, 0.002, 0.0026666666666666666, 0.0036666666666666666, 0.027333333333333334, 0.0026666666666666666, 0.0036666666666666666, 0.004666666666666667, 0.004, 0.0033333333333333335, 0.0026666666666666666]\n",
      "[0. 0. 0. ... 0. 0. 0.]\n",
      "[0.014333333333333333, 0.004666666666666667, 0.0023333333333333335, 0.015, 0.0026666666666666666, 0.003, 0.002, 0.0026666666666666666, 0.0036666666666666666, 0.027333333333333334, 0.0026666666666666666, 0.0036666666666666666, 0.004666666666666667, 0.004, 0.0033333333333333335, 0.0026666666666666666]\n",
      "[0. 0. 0. ... 0. 0. 0.]\n",
      "[0.014333333333333333, 0.004666666666666667, 0.0023333333333333335, 0.015, 0.0026666666666666666, 0.003, 0.002, 0.0026666666666666666, 0.0036666666666666666, 0.027333333333333334, 0.0026666666666666666, 0.0036666666666666666, 0.004666666666666667, 0.004, 0.0033333333333333335, 0.0026666666666666666]\n",
      "[0. 0. 0. ... 0. 0. 0.]\n",
      "[0.014333333333333333, 0.004666666666666667, 0.0023333333333333335, 0.015, 0.0026666666666666666, 0.003, 0.002, 0.0026666666666666666, 0.0036666666666666666, 0.027333333333333334, 0.0026666666666666666, 0.0036666666666666666, 0.004666666666666667, 0.004, 0.0033333333333333335, 0.0026666666666666666]\n",
      "[0. 0. 0. ... 0. 0. 0.]\n",
      "[0.014333333333333333, 0.008, 0.0026666666666666666, 0.015, 0.003, 0.003, 0.002, 0.0033333333333333335, 0.004333333333333333, 0.03266666666666666, 0.003, 0.005666666666666667, 0.007, 0.005, 0.005666666666666667, 0.0033333333333333335]\n",
      "[0. 0. 0. ... 0. 0. 0.]\n",
      "[0.014333333333333333, 0.012333333333333333, 0.005666666666666667, 0.015, 0.005666666666666667, 0.006333333333333333, 0.003, 0.005, 0.005333333333333333, 0.05733333333333333, 0.004333333333333333, 0.011333333333333334, 0.012333333333333333, 0.010666666666666666, 0.010666666666666666, 0.005]\n",
      "[1. 0. 0. ... 0. 0. 0.]\n",
      "[0.014333333333333333, 0.012333333333333333, 0.010666666666666666, 0.015, 0.011, 0.010333333333333333, 0.0036666666666666666, 0.009, 0.010666666666666666, 0.10433333333333333, 0.006666666666666667, 0.011333333333333334, 0.012333333333333333, 0.011, 0.011333333333333334, 0.009333333333333334]\n",
      "[1. 0. 0. ... 0. 0. 0.]\n",
      "[0.014333333333333333, 0.012333333333333333, 0.011333333333333334, 0.015, 0.012666666666666666, 0.011333333333333334, 0.009333333333333334, 0.009666666666666667, 0.011333333333333334, 0.11066666666666666, 0.008333333333333333, 0.011333333333333334, 0.012333333333333333, 0.011, 0.011333333333333334, 0.01]\n",
      "[1. 0. 0. ... 0. 0. 0.]\n",
      "[0.014333333333333333, 0.012333333333333333, 0.011333333333333334, 0.015, 0.012666666666666666, 0.011333333333333334, 0.009333333333333334, 0.009666666666666667, 0.011333333333333334, 0.11066666666666666, 0.008333333333333333, 0.011333333333333334, 0.012333333333333333, 0.011, 0.011333333333333334, 0.01]\n",
      "[1. 0. 0. ... 0. 0. 0.]\n",
      "[0.014333333333333333, 0.012333333333333333, 0.011333333333333334, 0.015, 0.012666666666666666, 0.011333333333333334, 0.009333333333333334, 0.009666666666666667, 0.011333333333333334, 0.11066666666666666, 0.008333333333333333, 0.011333333333333334, 0.012333333333333333, 0.011, 0.011333333333333334, 0.01]\n",
      "[1. 0. 0. ... 0. 0. 0.]\n",
      "[0.014333333333333333, 0.012333333333333333, 0.011333333333333334, 0.015, 0.012666666666666666, 0.011333333333333334, 0.009333333333333334, 0.009666666666666667, 0.011333333333333334, 0.11066666666666666, 0.008333333333333333, 0.011333333333333334, 0.012333333333333333, 0.011, 0.011333333333333334, 0.01]\n",
      "[1. 0. 0. ... 0. 0. 0.]\n",
      "[0.014333333333333333, 0.012333333333333333, 0.011333333333333334, 0.015, 0.012666666666666666, 0.011333333333333334, 0.009333333333333334, 0.009666666666666667, 0.011333333333333334, 0.11066666666666666, 0.008333333333333333, 0.011333333333333334, 0.012333333333333333, 0.011, 0.011333333333333334, 0.01]\n",
      "[1. 0. 0. ... 0. 0. 0.]\n",
      "[0.014333333333333333, 0.012333333333333333, 0.011333333333333334, 0.015, 0.012666666666666666, 0.011333333333333334, 0.009333333333333334, 0.009666666666666667, 0.011333333333333334, 0.11066666666666666, 0.008333333333333333, 0.011333333333333334, 0.012333333333333333, 0.011, 0.011333333333333334, 0.01]\n",
      "[1. 0. 0. ... 0. 0. 0.]\n",
      "[0.014333333333333333, 0.012333333333333333, 0.011333333333333334, 0.015, 0.012666666666666666, 0.011333333333333334, 0.009333333333333334, 0.009666666666666667, 0.011333333333333334, 0.11066666666666666, 0.008333333333333333, 0.011333333333333334, 0.012333333333333333, 0.011, 0.011333333333333334, 0.01]\n",
      "[1. 0. 0. ... 0. 0. 0.]\n",
      "[0.014333333333333333, 0.012333333333333333, 0.011333333333333334, 0.015, 0.012666666666666666, 0.011333333333333334, 0.009333333333333334, 0.009666666666666667, 0.011333333333333334, 0.11066666666666666, 0.008333333333333333, 0.011333333333333334, 0.012333333333333333, 0.011, 0.011333333333333334, 0.01]\n",
      "[1. 0. 0. ... 0. 0. 0.]\n",
      "[0.014333333333333333, 0.012333333333333333, 0.010666666666666666, 0.015, 0.012, 0.010333333333333333, 0.007333333333333333, 0.007333333333333333, 0.011, 0.10433333333333333, 0.004, 0.011333333333333334, 0.011666666666666667, 0.010333333333333333, 0.010666666666666666, 0.008]\n",
      "[0. 0. 0. ... 0. 0. 0.]\n",
      "[0.010666666666666666, 0.004333333333333333, 0.0023333333333333335, 0.011666666666666667, 0.0026666666666666666, 0.0026666666666666666, 0.0003333333333333333, 0.0, 0.0036666666666666666, 0.021333333333333333, 0.0, 0.003, 0.0036666666666666666, 0.0033333333333333335, 0.0016666666666666668, 0.0013333333333333333]\n",
      "[0. 0. 0. ... 0. 0. 0.]\n",
      "[0.014333333333333333, 0.007333333333333333, 0.003, 0.015, 0.003, 0.0036666666666666666, 0.002, 0.0026666666666666666, 0.004666666666666667, 0.030666666666666665, 0.0026666666666666666, 0.004666666666666667, 0.005, 0.005, 0.0033333333333333335, 0.0026666666666666666]\n",
      "[0. 0. 0. ... 0. 0. 0.]\n",
      "[0.014333333333333333, 0.005, 0.0023333333333333335, 0.015, 0.0026666666666666666, 0.003, 0.002, 0.0026666666666666666, 0.004, 0.027666666666666666, 0.0026666666666666666, 0.004, 0.004666666666666667, 0.004, 0.0033333333333333335, 0.0026666666666666666]\n",
      "[0. 0. 0. ... 0. 0. 0.]\n",
      "[0.014333333333333333, 0.004666666666666667, 0.0023333333333333335, 0.015, 0.0026666666666666666, 0.003, 0.002, 0.0026666666666666666, 0.0036666666666666666, 0.027333333333333334, 0.0026666666666666666, 0.0036666666666666666, 0.004666666666666667, 0.004, 0.0033333333333333335, 0.0026666666666666666]\n",
      "[0. 0. 0. ... 0. 0. 0.]\n",
      "[0.014333333333333333, 0.004666666666666667, 0.0023333333333333335, 0.015, 0.0026666666666666666, 0.003, 0.002, 0.0026666666666666666, 0.0036666666666666666, 0.027333333333333334, 0.0026666666666666666, 0.0036666666666666666, 0.004666666666666667, 0.004, 0.0033333333333333335, 0.0026666666666666666]\n",
      "[0. 0. 0. ... 0. 0. 0.]\n",
      "[0.014333333333333333, 0.004666666666666667, 0.0023333333333333335, 0.015, 0.0026666666666666666, 0.003, 0.002, 0.0026666666666666666, 0.0036666666666666666, 0.027333333333333334, 0.0026666666666666666, 0.0036666666666666666, 0.004666666666666667, 0.004, 0.0033333333333333335, 0.0026666666666666666]\n",
      "[0. 0. 0. ... 0. 0. 0.]\n",
      "[0.014333333333333333, 0.004666666666666667, 0.0023333333333333335, 0.015, 0.0026666666666666666, 0.003, 0.002, 0.0026666666666666666, 0.0036666666666666666, 0.027333333333333334, 0.0026666666666666666, 0.0036666666666666666, 0.004666666666666667, 0.004, 0.0033333333333333335, 0.0026666666666666666]\n"
     ]
    },
    {
     "name": "stdout",
     "output_type": "stream",
     "text": [
      "[0. 0. 0. ... 0. 0. 0.]\n",
      "[0.014333333333333333, 0.004666666666666667, 0.0023333333333333335, 0.015, 0.0026666666666666666, 0.003, 0.002, 0.0026666666666666666, 0.0036666666666666666, 0.027333333333333334, 0.0026666666666666666, 0.0036666666666666666, 0.004666666666666667, 0.004, 0.0033333333333333335, 0.0026666666666666666]\n",
      "[0. 0. 0. ... 0. 0. 0.]\n",
      "[0.014333333333333333, 0.004666666666666667, 0.0023333333333333335, 0.015, 0.0026666666666666666, 0.003, 0.002, 0.0026666666666666666, 0.0036666666666666666, 0.027333333333333334, 0.0026666666666666666, 0.0036666666666666666, 0.004666666666666667, 0.004, 0.0033333333333333335, 0.0026666666666666666]\n",
      "[0. 0. 0. ... 0. 0. 0.]\n",
      "[0.014333333333333333, 0.004666666666666667, 0.0023333333333333335, 0.015, 0.0026666666666666666, 0.003, 0.002, 0.0026666666666666666, 0.0036666666666666666, 0.027333333333333334, 0.0026666666666666666, 0.0036666666666666666, 0.004666666666666667, 0.004, 0.0033333333333333335, 0.0026666666666666666]\n",
      "[0. 0. 0. ... 0. 0. 0.]\n",
      "[0.014333333333333333, 0.004666666666666667, 0.0023333333333333335, 0.015, 0.0026666666666666666, 0.003, 0.002, 0.0026666666666666666, 0.0036666666666666666, 0.027333333333333334, 0.0026666666666666666, 0.0036666666666666666, 0.004666666666666667, 0.004, 0.0033333333333333335, 0.0026666666666666666]\n",
      "[0. 0. 0. ... 0. 0. 0.]\n",
      "[0.014333333333333333, 0.004666666666666667, 0.0023333333333333335, 0.015, 0.0026666666666666666, 0.003, 0.002, 0.0026666666666666666, 0.0036666666666666666, 0.027333333333333334, 0.0026666666666666666, 0.0036666666666666666, 0.004666666666666667, 0.004, 0.0033333333333333335, 0.0026666666666666666]\n",
      "[0. 0. 0. ... 0. 0. 0.]\n",
      "[0.014333333333333333, 0.004666666666666667, 0.0023333333333333335, 0.015, 0.0026666666666666666, 0.003, 0.002, 0.0026666666666666666, 0.0036666666666666666, 0.027333333333333334, 0.0026666666666666666, 0.0036666666666666666, 0.004666666666666667, 0.004, 0.0033333333333333335, 0.0026666666666666666]\n",
      "[0. 0. 0. ... 0. 0. 0.]\n",
      "[0.014333333333333333, 0.008, 0.0026666666666666666, 0.015, 0.003, 0.003, 0.002, 0.0033333333333333335, 0.004333333333333333, 0.03266666666666666, 0.003, 0.005666666666666667, 0.007, 0.005, 0.005666666666666667, 0.0033333333333333335]\n",
      "[0. 0. 0. ... 0. 0. 0.]\n",
      "[0.014333333333333333, 0.012333333333333333, 0.005666666666666667, 0.015, 0.005666666666666667, 0.006333333333333333, 0.003, 0.005, 0.005333333333333333, 0.05733333333333333, 0.004333333333333333, 0.011333333333333334, 0.012333333333333333, 0.010666666666666666, 0.010666666666666666, 0.005]\n",
      "[1. 0. 0. ... 0. 0. 0.]\n",
      "[0.014333333333333333, 0.012333333333333333, 0.010666666666666666, 0.015, 0.011, 0.010333333333333333, 0.0036666666666666666, 0.009, 0.010666666666666666, 0.10433333333333333, 0.006666666666666667, 0.011333333333333334, 0.012333333333333333, 0.011, 0.011333333333333334, 0.009333333333333334]\n",
      "[1. 0. 0. ... 0. 0. 0.]\n",
      "[0.014333333333333333, 0.012333333333333333, 0.011333333333333334, 0.015, 0.012666666666666666, 0.011333333333333334, 0.009333333333333334, 0.009666666666666667, 0.011333333333333334, 0.11066666666666666, 0.008333333333333333, 0.011333333333333334, 0.012333333333333333, 0.011, 0.011333333333333334, 0.01]\n",
      "[1. 0. 0. ... 0. 0. 0.]\n",
      "[0.014333333333333333, 0.012333333333333333, 0.011333333333333334, 0.015, 0.012666666666666666, 0.011333333333333334, 0.009333333333333334, 0.009666666666666667, 0.011333333333333334, 0.11066666666666666, 0.008333333333333333, 0.011333333333333334, 0.012333333333333333, 0.011, 0.011333333333333334, 0.01]\n",
      "[1. 0. 0. ... 0. 0. 0.]\n",
      "[0.014333333333333333, 0.012333333333333333, 0.011333333333333334, 0.015, 0.012666666666666666, 0.011333333333333334, 0.009333333333333334, 0.009666666666666667, 0.011333333333333334, 0.11066666666666666, 0.008333333333333333, 0.011333333333333334, 0.012333333333333333, 0.011, 0.011333333333333334, 0.01]\n",
      "[1. 0. 0. ... 0. 0. 0.]\n",
      "[0.014333333333333333, 0.012333333333333333, 0.011333333333333334, 0.015, 0.012666666666666666, 0.011333333333333334, 0.009333333333333334, 0.009666666666666667, 0.011333333333333334, 0.11066666666666666, 0.008333333333333333, 0.011333333333333334, 0.012333333333333333, 0.011, 0.011333333333333334, 0.01]\n",
      "[1. 0. 0. ... 0. 0. 0.]\n",
      "[0.014333333333333333, 0.012333333333333333, 0.011333333333333334, 0.015, 0.012666666666666666, 0.011333333333333334, 0.009333333333333334, 0.009666666666666667, 0.011333333333333334, 0.11066666666666666, 0.008333333333333333, 0.011333333333333334, 0.012333333333333333, 0.011, 0.011333333333333334, 0.01]\n",
      "[1. 0. 0. ... 0. 0. 0.]\n",
      "[0.014333333333333333, 0.012333333333333333, 0.011333333333333334, 0.015, 0.012666666666666666, 0.011333333333333334, 0.009333333333333334, 0.009666666666666667, 0.011333333333333334, 0.11066666666666666, 0.008333333333333333, 0.011333333333333334, 0.012333333333333333, 0.011, 0.011333333333333334, 0.01]\n",
      "[1. 0. 0. ... 0. 0. 0.]\n",
      "[0.014333333333333333, 0.012333333333333333, 0.011333333333333334, 0.015, 0.012666666666666666, 0.011333333333333334, 0.009333333333333334, 0.009666666666666667, 0.011333333333333334, 0.11066666666666666, 0.008333333333333333, 0.011333333333333334, 0.012333333333333333, 0.011, 0.011333333333333334, 0.01]\n",
      "[1. 0. 0. ... 0. 0. 0.]\n",
      "[0.014333333333333333, 0.012333333333333333, 0.011333333333333334, 0.015, 0.012666666666666666, 0.011333333333333334, 0.009333333333333334, 0.009666666666666667, 0.011333333333333334, 0.11066666666666666, 0.008333333333333333, 0.011333333333333334, 0.012333333333333333, 0.011, 0.011333333333333334, 0.01]\n",
      "[1. 0. 0. ... 0. 0. 0.]\n",
      "[0.014333333333333333, 0.012333333333333333, 0.010666666666666666, 0.015, 0.012, 0.010333333333333333, 0.007333333333333333, 0.007333333333333333, 0.011, 0.10433333333333333, 0.004, 0.011333333333333334, 0.011666666666666667, 0.010333333333333333, 0.010666666666666666, 0.008]\n",
      "[0. 0. 0. ... 0. 0. 0.]\n",
      "[0.010666666666666666, 0.004333333333333333, 0.0023333333333333335, 0.011666666666666667, 0.0026666666666666666, 0.0026666666666666666, 0.0003333333333333333, 0.0, 0.0036666666666666666, 0.021333333333333333, 0.0, 0.003, 0.0036666666666666666, 0.0033333333333333335, 0.0016666666666666668, 0.0013333333333333333]\n",
      "[0. 0. 0. ... 0. 0. 0.]\n",
      "[0.014333333333333333, 0.007333333333333333, 0.003, 0.015, 0.003, 0.0036666666666666666, 0.002, 0.0026666666666666666, 0.004666666666666667, 0.030666666666666665, 0.0026666666666666666, 0.004666666666666667, 0.005, 0.005, 0.0033333333333333335, 0.0026666666666666666]\n",
      "[0. 0. 0. ... 0. 0. 0.]\n",
      "[0.014333333333333333, 0.005, 0.0023333333333333335, 0.015, 0.0026666666666666666, 0.003, 0.002, 0.0026666666666666666, 0.004, 0.027666666666666666, 0.0026666666666666666, 0.004, 0.004666666666666667, 0.004, 0.0033333333333333335, 0.0026666666666666666]\n",
      "[0. 0. 0. ... 0. 0. 0.]\n",
      "[0.014333333333333333, 0.004666666666666667, 0.0023333333333333335, 0.015, 0.0026666666666666666, 0.003, 0.002, 0.0026666666666666666, 0.0036666666666666666, 0.027333333333333334, 0.0026666666666666666, 0.0036666666666666666, 0.004666666666666667, 0.004, 0.0033333333333333335, 0.0026666666666666666]\n",
      "[0. 0. 0. ... 0. 0. 0.]\n",
      "[0.014333333333333333, 0.004666666666666667, 0.0023333333333333335, 0.015, 0.0026666666666666666, 0.003, 0.002, 0.0026666666666666666, 0.0036666666666666666, 0.027333333333333334, 0.0026666666666666666, 0.0036666666666666666, 0.004666666666666667, 0.004, 0.0033333333333333335, 0.0026666666666666666]\n",
      "[0. 0. 0. ... 0. 0. 0.]\n",
      "[0.014333333333333333, 0.004666666666666667, 0.0023333333333333335, 0.015, 0.0026666666666666666, 0.003, 0.002, 0.0026666666666666666, 0.0036666666666666666, 0.027333333333333334, 0.0026666666666666666, 0.0036666666666666666, 0.004666666666666667, 0.004, 0.0033333333333333335, 0.0026666666666666666]\n",
      "[0. 0. 0. ... 0. 0. 0.]\n",
      "[0.014333333333333333, 0.004666666666666667, 0.0023333333333333335, 0.015, 0.0026666666666666666, 0.003, 0.002, 0.0026666666666666666, 0.0036666666666666666, 0.027333333333333334, 0.0026666666666666666, 0.0036666666666666666, 0.004666666666666667, 0.004, 0.0033333333333333335, 0.0026666666666666666]\n",
      "[0. 0. 0. ... 0. 0. 0.]\n",
      "[0.014333333333333333, 0.004666666666666667, 0.0023333333333333335, 0.015, 0.0026666666666666666, 0.003, 0.002, 0.0026666666666666666, 0.0036666666666666666, 0.027333333333333334, 0.0026666666666666666, 0.0036666666666666666, 0.004666666666666667, 0.004, 0.0033333333333333335, 0.0026666666666666666]\n",
      "[0. 0. 0. ... 0. 0. 0.]\n",
      "[0.014333333333333333, 0.004666666666666667, 0.0023333333333333335, 0.015, 0.0026666666666666666, 0.003, 0.002, 0.0026666666666666666, 0.0036666666666666666, 0.027333333333333334, 0.0026666666666666666, 0.0036666666666666666, 0.004666666666666667, 0.004, 0.0033333333333333335, 0.0026666666666666666]\n",
      "[0. 0. 0. ... 0. 0. 0.]\n",
      "[0.014333333333333333, 0.004666666666666667, 0.0023333333333333335, 0.015, 0.0026666666666666666, 0.003, 0.002, 0.0026666666666666666, 0.0036666666666666666, 0.027333333333333334, 0.0026666666666666666, 0.0036666666666666666, 0.004666666666666667, 0.004, 0.0033333333333333335, 0.0026666666666666666]\n",
      "[0. 0. 0. ... 0. 0. 0.]\n",
      "[0.014333333333333333, 0.004666666666666667, 0.0023333333333333335, 0.015, 0.0026666666666666666, 0.003, 0.002, 0.0026666666666666666, 0.0036666666666666666, 0.027333333333333334, 0.0026666666666666666, 0.0036666666666666666, 0.004666666666666667, 0.004, 0.0033333333333333335, 0.0026666666666666666]\n",
      "[0. 0. 0. ... 0. 0. 0.]\n",
      "[0.014333333333333333, 0.004666666666666667, 0.0023333333333333335, 0.015, 0.0026666666666666666, 0.003, 0.002, 0.0026666666666666666, 0.0036666666666666666, 0.027333333333333334, 0.0026666666666666666, 0.0036666666666666666, 0.004666666666666667, 0.004, 0.0033333333333333335, 0.0026666666666666666]\n",
      "[0. 0. 0. ... 0. 0. 0.]\n",
      "[0.014333333333333333, 0.004666666666666667, 0.0023333333333333335, 0.015, 0.0026666666666666666, 0.003, 0.002, 0.0026666666666666666, 0.0036666666666666666, 0.027333333333333334, 0.0026666666666666666, 0.0036666666666666666, 0.004666666666666667, 0.004, 0.0033333333333333335, 0.0026666666666666666]\n",
      "[0. 0. 0. ... 0. 0. 0.]\n",
      "[0.014333333333333333, 0.008, 0.0026666666666666666, 0.015, 0.003, 0.003, 0.002, 0.0033333333333333335, 0.004333333333333333, 0.03266666666666666, 0.003, 0.005666666666666667, 0.007, 0.005, 0.005666666666666667, 0.0033333333333333335]\n",
      "[0. 0. 0. ... 0. 0. 0.]\n",
      "[0.014333333333333333, 0.012333333333333333, 0.005666666666666667, 0.015, 0.005666666666666667, 0.006333333333333333, 0.003, 0.005, 0.005333333333333333, 0.05733333333333333, 0.004333333333333333, 0.011333333333333334, 0.012333333333333333, 0.010666666666666666, 0.010666666666666666, 0.005]\n",
      "[1. 0. 0. ... 0. 0. 0.]\n",
      "[0.014333333333333333, 0.012333333333333333, 0.010666666666666666, 0.015, 0.011, 0.010333333333333333, 0.0036666666666666666, 0.009, 0.010666666666666666, 0.10433333333333333, 0.006666666666666667, 0.011333333333333334, 0.012333333333333333, 0.011, 0.011333333333333334, 0.009333333333333334]\n",
      "[1. 0. 0. ... 0. 0. 0.]\n",
      "[0.014333333333333333, 0.012333333333333333, 0.011333333333333334, 0.015, 0.012666666666666666, 0.011333333333333334, 0.009333333333333334, 0.009666666666666667, 0.011333333333333334, 0.11066666666666666, 0.008333333333333333, 0.011333333333333334, 0.012333333333333333, 0.011, 0.011333333333333334, 0.01]\n",
      "[1. 0. 0. ... 0. 0. 0.]\n",
      "[0.014333333333333333, 0.012333333333333333, 0.011333333333333334, 0.015, 0.012666666666666666, 0.011333333333333334, 0.009333333333333334, 0.009666666666666667, 0.011333333333333334, 0.11066666666666666, 0.008333333333333333, 0.011333333333333334, 0.012333333333333333, 0.011, 0.011333333333333334, 0.01]\n",
      "[1. 0. 0. ... 0. 0. 0.]\n",
      "[0.014333333333333333, 0.012333333333333333, 0.011333333333333334, 0.015, 0.012666666666666666, 0.011333333333333334, 0.009333333333333334, 0.009666666666666667, 0.011333333333333334, 0.11066666666666666, 0.008333333333333333, 0.011333333333333334, 0.012333333333333333, 0.011, 0.011333333333333334, 0.01]\n",
      "[1. 0. 0. ... 0. 0. 0.]\n",
      "[0.014333333333333333, 0.012333333333333333, 0.011333333333333334, 0.015, 0.012666666666666666, 0.011333333333333334, 0.009333333333333334, 0.009666666666666667, 0.011333333333333334, 0.11066666666666666, 0.008333333333333333, 0.011333333333333334, 0.012333333333333333, 0.011, 0.011333333333333334, 0.01]\n",
      "[1. 0. 0. ... 0. 0. 0.]\n",
      "[0.014333333333333333, 0.012333333333333333, 0.011333333333333334, 0.015, 0.012666666666666666, 0.011333333333333334, 0.009333333333333334, 0.009666666666666667, 0.011333333333333334, 0.11066666666666666, 0.008333333333333333, 0.011333333333333334, 0.012333333333333333, 0.011, 0.011333333333333334, 0.01]\n",
      "[1. 0. 0. ... 0. 0. 0.]\n",
      "[0.014333333333333333, 0.012333333333333333, 0.011333333333333334, 0.015, 0.012666666666666666, 0.011333333333333334, 0.009333333333333334, 0.009666666666666667, 0.011333333333333334, 0.11066666666666666, 0.008333333333333333, 0.011333333333333334, 0.012333333333333333, 0.011, 0.011333333333333334, 0.01]\n",
      "[1. 0. 0. ... 0. 0. 0.]\n",
      "[0.014333333333333333, 0.012333333333333333, 0.011333333333333334, 0.015, 0.012666666666666666, 0.011333333333333334, 0.009333333333333334, 0.009666666666666667, 0.011333333333333334, 0.11066666666666666, 0.008333333333333333, 0.011333333333333334, 0.012333333333333333, 0.011, 0.011333333333333334, 0.01]\n",
      "[1. 0. 0. ... 0. 0. 0.]\n",
      "[0.014333333333333333, 0.012333333333333333, 0.011333333333333334, 0.015, 0.012666666666666666, 0.011333333333333334, 0.009333333333333334, 0.009666666666666667, 0.011333333333333334, 0.11066666666666666, 0.008333333333333333, 0.011333333333333334, 0.012333333333333333, 0.011, 0.011333333333333334, 0.01]\n",
      "[1. 0. 0. ... 0. 0. 0.]\n",
      "[0.014333333333333333, 0.012333333333333333, 0.010666666666666666, 0.015, 0.012, 0.010333333333333333, 0.007333333333333333, 0.007333333333333333, 0.011, 0.10433333333333333, 0.004, 0.011333333333333334, 0.011666666666666667, 0.010333333333333333, 0.010666666666666666, 0.008]\n",
      "[0. 0. 0. ... 0. 0. 0.]\n",
      "[0.010666666666666666, 0.004333333333333333, 0.0023333333333333335, 0.011666666666666667, 0.0026666666666666666, 0.0026666666666666666, 0.0003333333333333333, 0.0, 0.0036666666666666666, 0.021333333333333333, 0.0, 0.003, 0.0036666666666666666, 0.0033333333333333335, 0.0016666666666666668, 0.0013333333333333333]\n",
      "[0. 0. 0. ... 0. 0. 0.]\n",
      "[0.014333333333333333, 0.007333333333333333, 0.003, 0.015, 0.003, 0.0036666666666666666, 0.002, 0.0026666666666666666, 0.004666666666666667, 0.030666666666666665, 0.0026666666666666666, 0.004666666666666667, 0.005, 0.005, 0.0033333333333333335, 0.0026666666666666666]\n",
      "[0. 0. 0. ... 0. 0. 0.]\n",
      "[0.014333333333333333, 0.005, 0.0023333333333333335, 0.015, 0.0026666666666666666, 0.003, 0.002, 0.0026666666666666666, 0.004, 0.027666666666666666, 0.0026666666666666666, 0.004, 0.004666666666666667, 0.004, 0.0033333333333333335, 0.0026666666666666666]\n",
      "[0. 0. 0. ... 0. 0. 0.]\n",
      "[0.014333333333333333, 0.004666666666666667, 0.0023333333333333335, 0.015, 0.0026666666666666666, 0.003, 0.002, 0.0026666666666666666, 0.0036666666666666666, 0.027333333333333334, 0.0026666666666666666, 0.0036666666666666666, 0.004666666666666667, 0.004, 0.0033333333333333335, 0.0026666666666666666]\n",
      "[0. 0. 0. ... 0. 0. 0.]\n",
      "[0.014333333333333333, 0.004666666666666667, 0.0023333333333333335, 0.015, 0.0026666666666666666, 0.003, 0.002, 0.0026666666666666666, 0.0036666666666666666, 0.027333333333333334, 0.0026666666666666666, 0.0036666666666666666, 0.004666666666666667, 0.004, 0.0033333333333333335, 0.0026666666666666666]\n",
      "[0. 0. 0. ... 0. 0. 0.]\n",
      "[0.014333333333333333, 0.004666666666666667, 0.0023333333333333335, 0.015, 0.0026666666666666666, 0.003, 0.002, 0.0026666666666666666, 0.0036666666666666666, 0.027333333333333334, 0.0026666666666666666, 0.0036666666666666666, 0.004666666666666667, 0.004, 0.0033333333333333335, 0.0026666666666666666]\n",
      "[0. 0. 0. ... 0. 0. 0.]\n",
      "[0.014333333333333333, 0.004666666666666667, 0.0023333333333333335, 0.015, 0.0026666666666666666, 0.003, 0.002, 0.0026666666666666666, 0.0036666666666666666, 0.027333333333333334, 0.0026666666666666666, 0.0036666666666666666, 0.004666666666666667, 0.004, 0.0033333333333333335, 0.0026666666666666666]\n",
      "[0. 0. 0. ... 0. 0. 0.]\n",
      "[0.014333333333333333, 0.004666666666666667, 0.0023333333333333335, 0.015, 0.0026666666666666666, 0.003, 0.002, 0.0026666666666666666, 0.0036666666666666666, 0.027333333333333334, 0.0026666666666666666, 0.0036666666666666666, 0.004666666666666667, 0.004, 0.0033333333333333335, 0.0026666666666666666]\n",
      "[0. 0. 0. ... 0. 0. 0.]\n",
      "[0.014333333333333333, 0.004666666666666667, 0.0023333333333333335, 0.015, 0.0026666666666666666, 0.003, 0.002, 0.0026666666666666666, 0.0036666666666666666, 0.027333333333333334, 0.0026666666666666666, 0.0036666666666666666, 0.004666666666666667, 0.004, 0.0033333333333333335, 0.0026666666666666666]\n",
      "[0. 0. 0. ... 0. 0. 0.]\n",
      "[0.014333333333333333, 0.004666666666666667, 0.0023333333333333335, 0.015, 0.0026666666666666666, 0.003, 0.002, 0.0026666666666666666, 0.0036666666666666666, 0.027333333333333334, 0.0026666666666666666, 0.0036666666666666666, 0.004666666666666667, 0.004, 0.0033333333333333335, 0.0026666666666666666]\n",
      "[0. 0. 0. ... 0. 0. 0.]\n",
      "[0.014333333333333333, 0.004666666666666667, 0.0023333333333333335, 0.015, 0.0026666666666666666, 0.003, 0.002, 0.0026666666666666666, 0.0036666666666666666, 0.027333333333333334, 0.0026666666666666666, 0.0036666666666666666, 0.004666666666666667, 0.004, 0.0033333333333333335, 0.0026666666666666666]\n",
      "[0. 0. 0. ... 0. 0. 0.]\n",
      "[0.014333333333333333, 0.004666666666666667, 0.0023333333333333335, 0.015, 0.0026666666666666666, 0.003, 0.002, 0.0026666666666666666, 0.0036666666666666666, 0.027333333333333334, 0.0026666666666666666, 0.0036666666666666666, 0.004666666666666667, 0.004, 0.0033333333333333335, 0.0026666666666666666]\n",
      "[0. 0. 0. ... 0. 0. 0.]\n",
      "[0.014333333333333333, 0.004666666666666667, 0.0023333333333333335, 0.015, 0.0026666666666666666, 0.003, 0.002, 0.0026666666666666666, 0.0036666666666666666, 0.027333333333333334, 0.0026666666666666666, 0.0036666666666666666, 0.004666666666666667, 0.004, 0.0033333333333333335, 0.0026666666666666666]\n",
      "[0. 0. 0. ... 0. 0. 0.]\n",
      "[0.014333333333333333, 0.008, 0.0026666666666666666, 0.015, 0.003, 0.003, 0.002, 0.0033333333333333335, 0.004333333333333333, 0.03266666666666666, 0.003, 0.005666666666666667, 0.007, 0.005, 0.005666666666666667, 0.0033333333333333335]\n",
      "[0. 0. 0. ... 0. 0. 0.]\n"
     ]
    },
    {
     "name": "stdout",
     "output_type": "stream",
     "text": [
      "[0.014333333333333333, 0.012333333333333333, 0.005666666666666667, 0.015, 0.005666666666666667, 0.006333333333333333, 0.003, 0.005, 0.005333333333333333, 0.05733333333333333, 0.004333333333333333, 0.011333333333333334, 0.012333333333333333, 0.010666666666666666, 0.010666666666666666, 0.005]\n",
      "[1. 0. 0. ... 0. 0. 0.]\n",
      "[0.014333333333333333, 0.012333333333333333, 0.010666666666666666, 0.015, 0.011, 0.010333333333333333, 0.0036666666666666666, 0.009, 0.010666666666666666, 0.10433333333333333, 0.006666666666666667, 0.011333333333333334, 0.012333333333333333, 0.011, 0.011333333333333334, 0.009333333333333334]\n",
      "[1. 0. 0. ... 0. 0. 0.]\n",
      "[0.014333333333333333, 0.012333333333333333, 0.011333333333333334, 0.015, 0.012666666666666666, 0.011333333333333334, 0.009333333333333334, 0.009666666666666667, 0.011333333333333334, 0.11066666666666666, 0.008333333333333333, 0.011333333333333334, 0.012333333333333333, 0.011, 0.011333333333333334, 0.01]\n",
      "[1. 0. 0. ... 0. 0. 0.]\n",
      "[0.014333333333333333, 0.012333333333333333, 0.011333333333333334, 0.015, 0.012666666666666666, 0.011333333333333334, 0.009333333333333334, 0.009666666666666667, 0.011333333333333334, 0.11066666666666666, 0.008333333333333333, 0.011333333333333334, 0.012333333333333333, 0.011, 0.011333333333333334, 0.01]\n",
      "[1. 0. 0. ... 0. 0. 0.]\n",
      "[0.014333333333333333, 0.012333333333333333, 0.011333333333333334, 0.015, 0.012666666666666666, 0.011333333333333334, 0.009333333333333334, 0.009666666666666667, 0.011333333333333334, 0.11066666666666666, 0.008333333333333333, 0.011333333333333334, 0.012333333333333333, 0.011, 0.011333333333333334, 0.01]\n",
      "[1. 0. 0. ... 0. 0. 0.]\n",
      "[0.014333333333333333, 0.012333333333333333, 0.011333333333333334, 0.015, 0.012666666666666666, 0.011333333333333334, 0.009333333333333334, 0.009666666666666667, 0.011333333333333334, 0.11066666666666666, 0.008333333333333333, 0.011333333333333334, 0.012333333333333333, 0.011, 0.011333333333333334, 0.01]\n",
      "[1. 0. 0. ... 0. 0. 0.]\n",
      "[0.014333333333333333, 0.012333333333333333, 0.011333333333333334, 0.015, 0.012666666666666666, 0.011333333333333334, 0.009333333333333334, 0.009666666666666667, 0.011333333333333334, 0.11066666666666666, 0.008333333333333333, 0.011333333333333334, 0.012333333333333333, 0.011, 0.011333333333333334, 0.01]\n",
      "[1. 0. 0. ... 0. 0. 0.]\n",
      "[0.014333333333333333, 0.012333333333333333, 0.011333333333333334, 0.015, 0.012666666666666666, 0.011333333333333334, 0.009333333333333334, 0.009666666666666667, 0.011333333333333334, 0.11066666666666666, 0.008333333333333333, 0.011333333333333334, 0.012333333333333333, 0.011, 0.011333333333333334, 0.01]\n",
      "[1. 0. 0. ... 0. 0. 0.]\n",
      "[0.014333333333333333, 0.012333333333333333, 0.011333333333333334, 0.015, 0.012666666666666666, 0.011333333333333334, 0.009333333333333334, 0.009666666666666667, 0.011333333333333334, 0.11066666666666666, 0.008333333333333333, 0.011333333333333334, 0.012333333333333333, 0.011, 0.011333333333333334, 0.01]\n",
      "[1. 0. 0. ... 0. 0. 0.]\n",
      "[0.014333333333333333, 0.012333333333333333, 0.011333333333333334, 0.015, 0.012666666666666666, 0.011333333333333334, 0.009333333333333334, 0.009666666666666667, 0.011333333333333334, 0.11066666666666666, 0.008333333333333333, 0.011333333333333334, 0.012333333333333333, 0.011, 0.011333333333333334, 0.01]\n",
      "[1. 0. 0. ... 0. 0. 0.]\n",
      "[0.014333333333333333, 0.012333333333333333, 0.010666666666666666, 0.015, 0.012, 0.010333333333333333, 0.007333333333333333, 0.007333333333333333, 0.011, 0.10433333333333333, 0.004, 0.011333333333333334, 0.011666666666666667, 0.010333333333333333, 0.010666666666666666, 0.008]\n",
      "[0. 0. 0. ... 0. 0. 0.]\n",
      "[0.010666666666666666, 0.004333333333333333, 0.0023333333333333335, 0.011666666666666667, 0.0026666666666666666, 0.0026666666666666666, 0.0003333333333333333, 0.0, 0.0036666666666666666, 0.021333333333333333, 0.0, 0.003, 0.0036666666666666666, 0.0033333333333333335, 0.0016666666666666668, 0.0013333333333333333]\n",
      "[0. 0. 0. ... 0. 0. 0.]\n",
      "[0.014333333333333333, 0.007333333333333333, 0.003, 0.015, 0.003, 0.0036666666666666666, 0.002, 0.0026666666666666666, 0.004666666666666667, 0.030666666666666665, 0.0026666666666666666, 0.004666666666666667, 0.005, 0.005, 0.0033333333333333335, 0.0026666666666666666]\n",
      "[0. 0. 0. ... 0. 0. 0.]\n",
      "[0.014333333333333333, 0.005, 0.0023333333333333335, 0.015, 0.0026666666666666666, 0.003, 0.002, 0.0026666666666666666, 0.004, 0.027666666666666666, 0.0026666666666666666, 0.004, 0.004666666666666667, 0.004, 0.0033333333333333335, 0.0026666666666666666]\n",
      "[0. 0. 0. ... 0. 0. 0.]\n",
      "[0.014333333333333333, 0.004666666666666667, 0.0023333333333333335, 0.015, 0.0026666666666666666, 0.003, 0.002, 0.0026666666666666666, 0.0036666666666666666, 0.027333333333333334, 0.0026666666666666666, 0.0036666666666666666, 0.004666666666666667, 0.004, 0.0033333333333333335, 0.0026666666666666666]\n",
      "[0. 0. 0. ... 0. 0. 0.]\n",
      "[0.014333333333333333, 0.004666666666666667, 0.0023333333333333335, 0.015, 0.0026666666666666666, 0.003, 0.002, 0.0026666666666666666, 0.0036666666666666666, 0.027333333333333334, 0.0026666666666666666, 0.0036666666666666666, 0.004666666666666667, 0.004, 0.0033333333333333335, 0.0026666666666666666]\n",
      "[0. 0. 0. ... 0. 0. 0.]\n",
      "[0.014333333333333333, 0.004666666666666667, 0.0023333333333333335, 0.015, 0.0026666666666666666, 0.003, 0.002, 0.0026666666666666666, 0.0036666666666666666, 0.027333333333333334, 0.0026666666666666666, 0.0036666666666666666, 0.004666666666666667, 0.004, 0.0033333333333333335, 0.0026666666666666666]\n",
      "[0. 0. 0. ... 0. 0. 0.]\n",
      "[0.014333333333333333, 0.004666666666666667, 0.0023333333333333335, 0.015, 0.0026666666666666666, 0.003, 0.002, 0.0026666666666666666, 0.0036666666666666666, 0.027333333333333334, 0.0026666666666666666, 0.0036666666666666666, 0.004666666666666667, 0.004, 0.0033333333333333335, 0.0026666666666666666]\n",
      "[0. 0. 0. ... 0. 0. 0.]\n",
      "[0.014333333333333333, 0.004666666666666667, 0.0023333333333333335, 0.015, 0.0026666666666666666, 0.003, 0.002, 0.0026666666666666666, 0.0036666666666666666, 0.027333333333333334, 0.0026666666666666666, 0.0036666666666666666, 0.004666666666666667, 0.004, 0.0033333333333333335, 0.0026666666666666666]\n",
      "[0. 0. 0. ... 0. 0. 0.]\n",
      "[0.014333333333333333, 0.004666666666666667, 0.0023333333333333335, 0.015, 0.0026666666666666666, 0.003, 0.002, 0.0026666666666666666, 0.0036666666666666666, 0.027333333333333334, 0.0026666666666666666, 0.0036666666666666666, 0.004666666666666667, 0.004, 0.0033333333333333335, 0.0026666666666666666]\n",
      "[0. 0. 0. ... 0. 0. 0.]\n",
      "[0.014333333333333333, 0.004666666666666667, 0.0023333333333333335, 0.015, 0.0026666666666666666, 0.003, 0.002, 0.0026666666666666666, 0.0036666666666666666, 0.027333333333333334, 0.0026666666666666666, 0.0036666666666666666, 0.004666666666666667, 0.004, 0.0033333333333333335, 0.0026666666666666666]\n",
      "[0. 0. 0. ... 0. 0. 0.]\n",
      "[0.014333333333333333, 0.004666666666666667, 0.0023333333333333335, 0.015, 0.0026666666666666666, 0.003, 0.002, 0.0026666666666666666, 0.0036666666666666666, 0.027333333333333334, 0.0026666666666666666, 0.0036666666666666666, 0.004666666666666667, 0.004, 0.0033333333333333335, 0.0026666666666666666]\n",
      "[0. 0. 0. ... 0. 0. 0.]\n",
      "[0.014333333333333333, 0.004666666666666667, 0.0023333333333333335, 0.015, 0.0026666666666666666, 0.003, 0.002, 0.0026666666666666666, 0.0036666666666666666, 0.027333333333333334, 0.0026666666666666666, 0.0036666666666666666, 0.004666666666666667, 0.004, 0.0033333333333333335, 0.0026666666666666666]\n",
      "[0. 0. 0. ... 0. 0. 0.]\n",
      "[0.014333333333333333, 0.004666666666666667, 0.0023333333333333335, 0.015, 0.0026666666666666666, 0.003, 0.002, 0.0026666666666666666, 0.0036666666666666666, 0.027333333333333334, 0.0026666666666666666, 0.0036666666666666666, 0.004666666666666667, 0.004, 0.0033333333333333335, 0.0026666666666666666]\n",
      "[0. 0. 0. ... 0. 0. 0.]\n",
      "[0.014333333333333333, 0.008, 0.0026666666666666666, 0.015, 0.003, 0.003, 0.002, 0.0033333333333333335, 0.004333333333333333, 0.03266666666666666, 0.003, 0.005666666666666667, 0.007, 0.005, 0.005666666666666667, 0.0033333333333333335]\n",
      "[0. 0. 0. ... 0. 0. 0.]\n",
      "[0.014333333333333333, 0.012333333333333333, 0.005666666666666667, 0.015, 0.005666666666666667, 0.006333333333333333, 0.003, 0.005, 0.005333333333333333, 0.05733333333333333, 0.004333333333333333, 0.011333333333333334, 0.012333333333333333, 0.010666666666666666, 0.010666666666666666, 0.005]\n",
      "[1. 0. 0. ... 0. 0. 0.]\n",
      "[0.014333333333333333, 0.012333333333333333, 0.010666666666666666, 0.015, 0.011, 0.010333333333333333, 0.0036666666666666666, 0.009, 0.010666666666666666, 0.10433333333333333, 0.006666666666666667, 0.011333333333333334, 0.012333333333333333, 0.011, 0.011333333333333334, 0.009333333333333334]\n",
      "[1. 0. 0. ... 0. 0. 0.]\n",
      "[0.014333333333333333, 0.012333333333333333, 0.011333333333333334, 0.015, 0.012666666666666666, 0.011333333333333334, 0.009333333333333334, 0.009666666666666667, 0.011333333333333334, 0.11066666666666666, 0.008333333333333333, 0.011333333333333334, 0.012333333333333333, 0.011, 0.011333333333333334, 0.01]\n",
      "[1. 0. 0. ... 0. 0. 0.]\n",
      "[0.014333333333333333, 0.012333333333333333, 0.011333333333333334, 0.015, 0.012666666666666666, 0.011333333333333334, 0.009333333333333334, 0.009666666666666667, 0.011333333333333334, 0.11066666666666666, 0.008333333333333333, 0.011333333333333334, 0.012333333333333333, 0.011, 0.011333333333333334, 0.01]\n",
      "[1. 0. 0. ... 0. 0. 0.]\n",
      "[0.014333333333333333, 0.012333333333333333, 0.011333333333333334, 0.015, 0.012666666666666666, 0.011333333333333334, 0.009333333333333334, 0.009666666666666667, 0.011333333333333334, 0.11066666666666666, 0.008333333333333333, 0.011333333333333334, 0.012333333333333333, 0.011, 0.011333333333333334, 0.01]\n",
      "[1. 0. 0. ... 0. 0. 0.]\n",
      "[0.014333333333333333, 0.012333333333333333, 0.011333333333333334, 0.015, 0.012666666666666666, 0.011333333333333334, 0.009333333333333334, 0.009666666666666667, 0.011333333333333334, 0.11066666666666666, 0.008333333333333333, 0.011333333333333334, 0.012333333333333333, 0.011, 0.011333333333333334, 0.01]\n",
      "[1. 0. 0. ... 0. 0. 0.]\n",
      "[0.014333333333333333, 0.012333333333333333, 0.011333333333333334, 0.015, 0.012666666666666666, 0.011333333333333334, 0.009333333333333334, 0.009666666666666667, 0.011333333333333334, 0.11066666666666666, 0.008333333333333333, 0.011333333333333334, 0.012333333333333333, 0.011, 0.011333333333333334, 0.01]\n",
      "[1. 0. 0. ... 0. 0. 0.]\n",
      "[0.014333333333333333, 0.012333333333333333, 0.011333333333333334, 0.015, 0.012666666666666666, 0.011333333333333334, 0.009333333333333334, 0.009666666666666667, 0.011333333333333334, 0.11066666666666666, 0.008333333333333333, 0.011333333333333334, 0.012333333333333333, 0.011, 0.011333333333333334, 0.01]\n",
      "[1. 0. 0. ... 0. 0. 0.]\n",
      "[0.014333333333333333, 0.012333333333333333, 0.011333333333333334, 0.015, 0.012666666666666666, 0.011333333333333334, 0.009333333333333334, 0.009666666666666667, 0.011333333333333334, 0.11066666666666666, 0.008333333333333333, 0.011333333333333334, 0.012333333333333333, 0.011, 0.011333333333333334, 0.01]\n",
      "[1. 0. 0. ... 0. 0. 0.]\n",
      "[0.014333333333333333, 0.012333333333333333, 0.011333333333333334, 0.015, 0.012666666666666666, 0.011333333333333334, 0.009333333333333334, 0.009666666666666667, 0.011333333333333334, 0.11066666666666666, 0.008333333333333333, 0.011333333333333334, 0.012333333333333333, 0.011, 0.011333333333333334, 0.01]\n",
      "[1. 0. 0. ... 0. 0. 0.]\n",
      "[0.014333333333333333, 0.012333333333333333, 0.010666666666666666, 0.015, 0.012, 0.010333333333333333, 0.007333333333333333, 0.007333333333333333, 0.011, 0.10433333333333333, 0.004, 0.011333333333333334, 0.011666666666666667, 0.010333333333333333, 0.010666666666666666, 0.008]\n",
      "[0. 0. 0. ... 0. 0. 0.]\n",
      "[0.010666666666666666, 0.004333333333333333, 0.0023333333333333335, 0.011666666666666667, 0.0026666666666666666, 0.0026666666666666666, 0.0003333333333333333, 0.0, 0.0036666666666666666, 0.021333333333333333, 0.0, 0.003, 0.0036666666666666666, 0.0033333333333333335, 0.0016666666666666668, 0.0013333333333333333]\n",
      "[0. 0. 0. ... 0. 0. 0.]\n",
      "[0.014333333333333333, 0.007333333333333333, 0.003, 0.015, 0.003, 0.0036666666666666666, 0.002, 0.0026666666666666666, 0.004666666666666667, 0.030666666666666665, 0.0026666666666666666, 0.004666666666666667, 0.005, 0.005, 0.0033333333333333335, 0.0026666666666666666]\n",
      "[0. 0. 0. ... 0. 0. 0.]\n",
      "[0.014333333333333333, 0.005, 0.0023333333333333335, 0.015, 0.0026666666666666666, 0.003, 0.002, 0.0026666666666666666, 0.004, 0.027666666666666666, 0.0026666666666666666, 0.004, 0.004666666666666667, 0.004, 0.0033333333333333335, 0.0026666666666666666]\n",
      "[0. 0. 0. ... 0. 0. 0.]\n",
      "[0.014333333333333333, 0.004666666666666667, 0.0023333333333333335, 0.015, 0.0026666666666666666, 0.003, 0.002, 0.0026666666666666666, 0.0036666666666666666, 0.027333333333333334, 0.0026666666666666666, 0.0036666666666666666, 0.004666666666666667, 0.004, 0.0033333333333333335, 0.0026666666666666666]\n",
      "[0. 0. 0. ... 0. 0. 0.]\n",
      "[0.014333333333333333, 0.004666666666666667, 0.0023333333333333335, 0.015, 0.0026666666666666666, 0.003, 0.002, 0.0026666666666666666, 0.0036666666666666666, 0.027333333333333334, 0.0026666666666666666, 0.0036666666666666666, 0.004666666666666667, 0.004, 0.0033333333333333335, 0.0026666666666666666]\n",
      "[0. 0. 0. ... 0. 0. 0.]\n",
      "[0.014333333333333333, 0.004666666666666667, 0.0023333333333333335, 0.015, 0.0026666666666666666, 0.003, 0.002, 0.0026666666666666666, 0.0036666666666666666, 0.027333333333333334, 0.0026666666666666666, 0.0036666666666666666, 0.004666666666666667, 0.004, 0.0033333333333333335, 0.0026666666666666666]\n",
      "[0. 0. 0. ... 0. 0. 0.]\n",
      "[0.014333333333333333, 0.004666666666666667, 0.0023333333333333335, 0.015, 0.0026666666666666666, 0.003, 0.002, 0.0026666666666666666, 0.0036666666666666666, 0.027333333333333334, 0.0026666666666666666, 0.0036666666666666666, 0.004666666666666667, 0.004, 0.0033333333333333335, 0.0026666666666666666]\n",
      "[0. 0. 0. ... 0. 0. 0.]\n",
      "[0.014333333333333333, 0.004666666666666667, 0.0023333333333333335, 0.015, 0.0026666666666666666, 0.003, 0.002, 0.0026666666666666666, 0.0036666666666666666, 0.027333333333333334, 0.0026666666666666666, 0.0036666666666666666, 0.004666666666666667, 0.004, 0.0033333333333333335, 0.0026666666666666666]\n",
      "[0. 0. 0. ... 0. 0. 0.]\n",
      "[0.014333333333333333, 0.004666666666666667, 0.0023333333333333335, 0.015, 0.0026666666666666666, 0.003, 0.002, 0.0026666666666666666, 0.0036666666666666666, 0.027333333333333334, 0.0026666666666666666, 0.0036666666666666666, 0.004666666666666667, 0.004, 0.0033333333333333335, 0.0026666666666666666]\n",
      "[0. 0. 0. ... 0. 0. 0.]\n",
      "[0.014333333333333333, 0.004666666666666667, 0.0023333333333333335, 0.015, 0.0026666666666666666, 0.003, 0.002, 0.0026666666666666666, 0.0036666666666666666, 0.027333333333333334, 0.0026666666666666666, 0.0036666666666666666, 0.004666666666666667, 0.004, 0.0033333333333333335, 0.0026666666666666666]\n",
      "[0. 0. 0. ... 0. 0. 0.]\n",
      "[0.014333333333333333, 0.004666666666666667, 0.0023333333333333335, 0.015, 0.0026666666666666666, 0.003, 0.002, 0.0026666666666666666, 0.0036666666666666666, 0.027333333333333334, 0.0026666666666666666, 0.0036666666666666666, 0.004666666666666667, 0.004, 0.0033333333333333335, 0.0026666666666666666]\n",
      "[0. 0. 0. ... 0. 0. 0.]\n",
      "[0.014333333333333333, 0.004666666666666667, 0.0023333333333333335, 0.015, 0.0026666666666666666, 0.003, 0.002, 0.0026666666666666666, 0.0036666666666666666, 0.027333333333333334, 0.0026666666666666666, 0.0036666666666666666, 0.004666666666666667, 0.004, 0.0033333333333333335, 0.0026666666666666666]\n",
      "[0. 0. 0. ... 0. 0. 0.]\n",
      "[0.014333333333333333, 0.004666666666666667, 0.0023333333333333335, 0.015, 0.0026666666666666666, 0.003, 0.002, 0.0026666666666666666, 0.0036666666666666666, 0.027333333333333334, 0.0026666666666666666, 0.0036666666666666666, 0.004666666666666667, 0.004, 0.0033333333333333335, 0.0026666666666666666]\n",
      "[0. 0. 0. ... 0. 0. 0.]\n",
      "[0.014333333333333333, 0.008, 0.0026666666666666666, 0.015, 0.003, 0.003, 0.002, 0.0033333333333333335, 0.004333333333333333, 0.03266666666666666, 0.003, 0.005666666666666667, 0.007, 0.005, 0.005666666666666667, 0.0033333333333333335]\n",
      "[0. 0. 0. ... 0. 0. 0.]\n",
      "[0.014333333333333333, 0.012333333333333333, 0.005666666666666667, 0.015, 0.005666666666666667, 0.006333333333333333, 0.003, 0.005, 0.005333333333333333, 0.05733333333333333, 0.004333333333333333, 0.011333333333333334, 0.012333333333333333, 0.010666666666666666, 0.010666666666666666, 0.005]\n",
      "[1. 0. 0. ... 0. 0. 0.]\n",
      "[0.014333333333333333, 0.012333333333333333, 0.010666666666666666, 0.015, 0.011, 0.010333333333333333, 0.0036666666666666666, 0.009, 0.010666666666666666, 0.10433333333333333, 0.006666666666666667, 0.011333333333333334, 0.012333333333333333, 0.011, 0.011333333333333334, 0.009333333333333334]\n",
      "[1. 0. 0. ... 0. 0. 0.]\n",
      "[0.014333333333333333, 0.012333333333333333, 0.011333333333333334, 0.015, 0.012666666666666666, 0.011333333333333334, 0.009333333333333334, 0.009666666666666667, 0.011333333333333334, 0.11066666666666666, 0.008333333333333333, 0.011333333333333334, 0.012333333333333333, 0.011, 0.011333333333333334, 0.01]\n",
      "[1. 0. 0. ... 0. 0. 0.]\n"
     ]
    },
    {
     "name": "stdout",
     "output_type": "stream",
     "text": [
      "[0.014333333333333333, 0.012333333333333333, 0.011333333333333334, 0.015, 0.012666666666666666, 0.011333333333333334, 0.009333333333333334, 0.009666666666666667, 0.011333333333333334, 0.11066666666666666, 0.008333333333333333, 0.011333333333333334, 0.012333333333333333, 0.011, 0.011333333333333334, 0.01]\n",
      "[1. 0. 0. ... 0. 0. 0.]\n",
      "[0.014333333333333333, 0.012333333333333333, 0.011333333333333334, 0.015, 0.012666666666666666, 0.011333333333333334, 0.009333333333333334, 0.009666666666666667, 0.011333333333333334, 0.11066666666666666, 0.008333333333333333, 0.011333333333333334, 0.012333333333333333, 0.011, 0.011333333333333334, 0.01]\n",
      "[1. 0. 0. ... 0. 0. 0.]\n",
      "[0.014333333333333333, 0.012333333333333333, 0.011333333333333334, 0.015, 0.012666666666666666, 0.011333333333333334, 0.009333333333333334, 0.009666666666666667, 0.011333333333333334, 0.11066666666666666, 0.008333333333333333, 0.011333333333333334, 0.012333333333333333, 0.011, 0.011333333333333334, 0.01]\n",
      "[1. 0. 0. ... 0. 0. 0.]\n",
      "[0.014333333333333333, 0.012333333333333333, 0.011333333333333334, 0.015, 0.012666666666666666, 0.011333333333333334, 0.009333333333333334, 0.009666666666666667, 0.011333333333333334, 0.11066666666666666, 0.008333333333333333, 0.011333333333333334, 0.012333333333333333, 0.011, 0.011333333333333334, 0.01]\n",
      "[1. 0. 0. ... 0. 0. 0.]\n",
      "[0.014333333333333333, 0.012333333333333333, 0.011333333333333334, 0.015, 0.012666666666666666, 0.011333333333333334, 0.009333333333333334, 0.009666666666666667, 0.011333333333333334, 0.11066666666666666, 0.008333333333333333, 0.011333333333333334, 0.012333333333333333, 0.011, 0.011333333333333334, 0.01]\n",
      "[1. 0. 0. ... 0. 0. 0.]\n",
      "[0.014333333333333333, 0.012333333333333333, 0.011333333333333334, 0.015, 0.012666666666666666, 0.011333333333333334, 0.009333333333333334, 0.009666666666666667, 0.011333333333333334, 0.11066666666666666, 0.008333333333333333, 0.011333333333333334, 0.012333333333333333, 0.011, 0.011333333333333334, 0.01]\n",
      "[1. 0. 0. ... 0. 0. 0.]\n",
      "[0.014333333333333333, 0.012333333333333333, 0.011333333333333334, 0.015, 0.012666666666666666, 0.011333333333333334, 0.009333333333333334, 0.009666666666666667, 0.011333333333333334, 0.11066666666666666, 0.008333333333333333, 0.011333333333333334, 0.012333333333333333, 0.011, 0.011333333333333334, 0.01]\n",
      "[1. 0. 0. ... 0. 0. 0.]\n",
      "[0.014333333333333333, 0.012333333333333333, 0.010666666666666666, 0.015, 0.012, 0.010333333333333333, 0.007333333333333333, 0.007333333333333333, 0.011, 0.10433333333333333, 0.004, 0.011333333333333334, 0.011666666666666667, 0.010333333333333333, 0.010666666666666666, 0.008]\n",
      "[0. 0. 0. ... 0. 0. 0.]\n",
      "[0.010666666666666666, 0.004333333333333333, 0.0023333333333333335, 0.011666666666666667, 0.0026666666666666666, 0.0026666666666666666, 0.0003333333333333333, 0.0, 0.0036666666666666666, 0.021333333333333333, 0.0, 0.003, 0.0036666666666666666, 0.0033333333333333335, 0.0016666666666666668, 0.0013333333333333333]\n",
      "[0. 0. 0. ... 0. 0. 0.]\n",
      "[0.014333333333333333, 0.007333333333333333, 0.003, 0.015, 0.003, 0.0036666666666666666, 0.002, 0.0026666666666666666, 0.004666666666666667, 0.030666666666666665, 0.0026666666666666666, 0.004666666666666667, 0.005, 0.005, 0.0033333333333333335, 0.0026666666666666666]\n",
      "[0. 0. 0. ... 0. 0. 0.]\n",
      "[0.014333333333333333, 0.005, 0.0023333333333333335, 0.015, 0.0026666666666666666, 0.003, 0.002, 0.0026666666666666666, 0.004, 0.027666666666666666, 0.0026666666666666666, 0.004, 0.004666666666666667, 0.004, 0.0033333333333333335, 0.0026666666666666666]\n",
      "[0. 0. 0. ... 0. 0. 0.]\n",
      "[0.014333333333333333, 0.004666666666666667, 0.0023333333333333335, 0.015, 0.0026666666666666666, 0.003, 0.002, 0.0026666666666666666, 0.0036666666666666666, 0.027333333333333334, 0.0026666666666666666, 0.0036666666666666666, 0.004666666666666667, 0.004, 0.0033333333333333335, 0.0026666666666666666]\n",
      "[0. 0. 0. ... 0. 0. 0.]\n",
      "[0.014333333333333333, 0.004666666666666667, 0.0023333333333333335, 0.015, 0.0026666666666666666, 0.003, 0.002, 0.0026666666666666666, 0.0036666666666666666, 0.027333333333333334, 0.0026666666666666666, 0.0036666666666666666, 0.004666666666666667, 0.004, 0.0033333333333333335, 0.0026666666666666666]\n",
      "[0. 0. 0. ... 0. 0. 0.]\n",
      "[0.014333333333333333, 0.004666666666666667, 0.0023333333333333335, 0.015, 0.0026666666666666666, 0.003, 0.002, 0.0026666666666666666, 0.0036666666666666666, 0.027333333333333334, 0.0026666666666666666, 0.0036666666666666666, 0.004666666666666667, 0.004, 0.0033333333333333335, 0.0026666666666666666]\n",
      "[0. 0. 0. ... 0. 0. 0.]\n",
      "[0.014333333333333333, 0.004666666666666667, 0.0023333333333333335, 0.015, 0.0026666666666666666, 0.003, 0.002, 0.0026666666666666666, 0.0036666666666666666, 0.027333333333333334, 0.0026666666666666666, 0.0036666666666666666, 0.004666666666666667, 0.004, 0.0033333333333333335, 0.0026666666666666666]\n",
      "[0. 0. 0. ... 0. 0. 0.]\n",
      "[0.014333333333333333, 0.004666666666666667, 0.0023333333333333335, 0.015, 0.0026666666666666666, 0.003, 0.002, 0.0026666666666666666, 0.0036666666666666666, 0.027333333333333334, 0.0026666666666666666, 0.0036666666666666666, 0.004666666666666667, 0.004, 0.0033333333333333335, 0.0026666666666666666]\n",
      "[0. 0. 0. ... 0. 0. 0.]\n",
      "[0.014333333333333333, 0.004666666666666667, 0.0023333333333333335, 0.015, 0.0026666666666666666, 0.003, 0.002, 0.0026666666666666666, 0.0036666666666666666, 0.027333333333333334, 0.0026666666666666666, 0.0036666666666666666, 0.004666666666666667, 0.004, 0.0033333333333333335, 0.0026666666666666666]\n",
      "[0. 0. 0. ... 0. 0. 0.]\n",
      "[0.014333333333333333, 0.004666666666666667, 0.0023333333333333335, 0.015, 0.0026666666666666666, 0.003, 0.002, 0.0026666666666666666, 0.0036666666666666666, 0.027333333333333334, 0.0026666666666666666, 0.0036666666666666666, 0.004666666666666667, 0.004, 0.0033333333333333335, 0.0026666666666666666]\n",
      "[0. 0. 0. ... 0. 0. 0.]\n",
      "[0.014333333333333333, 0.004666666666666667, 0.0023333333333333335, 0.015, 0.0026666666666666666, 0.003, 0.002, 0.0026666666666666666, 0.0036666666666666666, 0.027333333333333334, 0.0026666666666666666, 0.0036666666666666666, 0.004666666666666667, 0.004, 0.0033333333333333335, 0.0026666666666666666]\n",
      "[0. 0. 0. ... 0. 0. 0.]\n",
      "[0.014333333333333333, 0.004666666666666667, 0.0023333333333333335, 0.015, 0.0026666666666666666, 0.003, 0.002, 0.0026666666666666666, 0.0036666666666666666, 0.027333333333333334, 0.0026666666666666666, 0.0036666666666666666, 0.004666666666666667, 0.004, 0.0033333333333333335, 0.0026666666666666666]\n",
      "[0. 0. 0. ... 0. 0. 0.]\n",
      "[0.014333333333333333, 0.004666666666666667, 0.0023333333333333335, 0.015, 0.0026666666666666666, 0.003, 0.002, 0.0026666666666666666, 0.0036666666666666666, 0.027333333333333334, 0.0026666666666666666, 0.0036666666666666666, 0.004666666666666667, 0.004, 0.0033333333333333335, 0.0026666666666666666]\n",
      "[0. 0. 0. ... 0. 0. 0.]\n",
      "[0.014333333333333333, 0.008, 0.0026666666666666666, 0.015, 0.003, 0.003, 0.002, 0.0033333333333333335, 0.004333333333333333, 0.03266666666666666, 0.003, 0.005666666666666667, 0.007, 0.005, 0.005666666666666667, 0.0033333333333333335]\n",
      "[0. 0. 0. ... 0. 0. 0.]\n",
      "[0.014333333333333333, 0.012333333333333333, 0.005666666666666667, 0.015, 0.005666666666666667, 0.006333333333333333, 0.003, 0.005, 0.005333333333333333, 0.05733333333333333, 0.004333333333333333, 0.011333333333333334, 0.012333333333333333, 0.010666666666666666, 0.010666666666666666, 0.005]\n",
      "[1. 0. 0. ... 0. 0. 0.]\n",
      "[0.014333333333333333, 0.012333333333333333, 0.010666666666666666, 0.015, 0.011, 0.010333333333333333, 0.0036666666666666666, 0.009, 0.010666666666666666, 0.10433333333333333, 0.006666666666666667, 0.011333333333333334, 0.012333333333333333, 0.011, 0.011333333333333334, 0.009333333333333334]\n",
      "[1. 0. 0. ... 0. 0. 0.]\n",
      "[0.014333333333333333, 0.012333333333333333, 0.011333333333333334, 0.015, 0.012666666666666666, 0.011333333333333334, 0.009333333333333334, 0.009666666666666667, 0.011333333333333334, 0.11066666666666666, 0.008333333333333333, 0.011333333333333334, 0.012333333333333333, 0.011, 0.011333333333333334, 0.01]\n",
      "[1. 0. 0. ... 0. 0. 0.]\n",
      "[0.014333333333333333, 0.012333333333333333, 0.011333333333333334, 0.015, 0.012666666666666666, 0.011333333333333334, 0.009333333333333334, 0.009666666666666667, 0.011333333333333334, 0.11066666666666666, 0.008333333333333333, 0.011333333333333334, 0.012333333333333333, 0.011, 0.011333333333333334, 0.01]\n",
      "[1. 0. 0. ... 0. 0. 0.]\n",
      "[0.014333333333333333, 0.012333333333333333, 0.011333333333333334, 0.015, 0.012666666666666666, 0.011333333333333334, 0.009333333333333334, 0.009666666666666667, 0.011333333333333334, 0.11066666666666666, 0.008333333333333333, 0.011333333333333334, 0.012333333333333333, 0.011, 0.011333333333333334, 0.01]\n",
      "[1. 0. 0. ... 0. 0. 0.]\n",
      "[0.014333333333333333, 0.012333333333333333, 0.011333333333333334, 0.015, 0.012666666666666666, 0.011333333333333334, 0.009333333333333334, 0.009666666666666667, 0.011333333333333334, 0.11066666666666666, 0.008333333333333333, 0.011333333333333334, 0.012333333333333333, 0.011, 0.011333333333333334, 0.01]\n",
      "[1. 0. 0. ... 0. 0. 0.]\n",
      "[0.014333333333333333, 0.012333333333333333, 0.011333333333333334, 0.015, 0.012666666666666666, 0.011333333333333334, 0.009333333333333334, 0.009666666666666667, 0.011333333333333334, 0.11066666666666666, 0.008333333333333333, 0.011333333333333334, 0.012333333333333333, 0.011, 0.011333333333333334, 0.01]\n",
      "[1. 0. 0. ... 0. 0. 0.]\n",
      "[0.014333333333333333, 0.012333333333333333, 0.011333333333333334, 0.015, 0.012666666666666666, 0.011333333333333334, 0.009333333333333334, 0.009666666666666667, 0.011333333333333334, 0.11066666666666666, 0.008333333333333333, 0.011333333333333334, 0.012333333333333333, 0.011, 0.011333333333333334, 0.01]\n",
      "[1. 0. 0. ... 0. 0. 0.]\n",
      "[0.014333333333333333, 0.012333333333333333, 0.011333333333333334, 0.015, 0.012666666666666666, 0.011333333333333334, 0.009333333333333334, 0.009666666666666667, 0.011333333333333334, 0.11066666666666666, 0.008333333333333333, 0.011333333333333334, 0.012333333333333333, 0.011, 0.011333333333333334, 0.01]\n",
      "[1. 0. 0. ... 0. 0. 0.]\n",
      "[0.014333333333333333, 0.012333333333333333, 0.011333333333333334, 0.015, 0.012666666666666666, 0.011333333333333334, 0.009333333333333334, 0.009666666666666667, 0.011333333333333334, 0.11066666666666666, 0.008333333333333333, 0.011333333333333334, 0.012333333333333333, 0.011, 0.011333333333333334, 0.01]\n",
      "[1. 0. 0. ... 0. 0. 0.]\n",
      "[0.014333333333333333, 0.012333333333333333, 0.010666666666666666, 0.015, 0.012, 0.010333333333333333, 0.007333333333333333, 0.007333333333333333, 0.011, 0.10433333333333333, 0.004, 0.011333333333333334, 0.011666666666666667, 0.010333333333333333, 0.010666666666666666, 0.008]\n",
      "[0. 0. 0. ... 0. 0. 0.]\n",
      "[0.010666666666666666, 0.004333333333333333, 0.0023333333333333335, 0.011666666666666667, 0.0026666666666666666, 0.0026666666666666666, 0.0003333333333333333, 0.0, 0.0036666666666666666, 0.021333333333333333, 0.0, 0.003, 0.0036666666666666666, 0.0033333333333333335, 0.0016666666666666668, 0.0013333333333333333]\n",
      "[0. 0. 0. ... 0. 0. 0.]\n",
      "[0.014333333333333333, 0.007333333333333333, 0.003, 0.015, 0.003, 0.0036666666666666666, 0.002, 0.0026666666666666666, 0.004666666666666667, 0.030666666666666665, 0.0026666666666666666, 0.004666666666666667, 0.005, 0.005, 0.0033333333333333335, 0.0026666666666666666]\n",
      "[0. 0. 0. ... 0. 0. 0.]\n",
      "[0.014333333333333333, 0.005, 0.0023333333333333335, 0.015, 0.0026666666666666666, 0.003, 0.002, 0.0026666666666666666, 0.004, 0.027666666666666666, 0.0026666666666666666, 0.004, 0.004666666666666667, 0.004, 0.0033333333333333335, 0.0026666666666666666]\n",
      "[0. 0. 0. ... 0. 0. 0.]\n",
      "[0.014333333333333333, 0.004666666666666667, 0.0023333333333333335, 0.015, 0.0026666666666666666, 0.003, 0.002, 0.0026666666666666666, 0.0036666666666666666, 0.027333333333333334, 0.0026666666666666666, 0.0036666666666666666, 0.004666666666666667, 0.004, 0.0033333333333333335, 0.0026666666666666666]\n",
      "[0. 0. 0. ... 0. 0. 0.]\n",
      "[0.014333333333333333, 0.004666666666666667, 0.0023333333333333335, 0.015, 0.0026666666666666666, 0.003, 0.002, 0.0026666666666666666, 0.0036666666666666666, 0.027333333333333334, 0.0026666666666666666, 0.0036666666666666666, 0.004666666666666667, 0.004, 0.0033333333333333335, 0.0026666666666666666]\n",
      "[0. 0. 0. ... 0. 0. 0.]\n",
      "[0.014333333333333333, 0.004666666666666667, 0.0023333333333333335, 0.015, 0.0026666666666666666, 0.003, 0.002, 0.0026666666666666666, 0.0036666666666666666, 0.027333333333333334, 0.0026666666666666666, 0.0036666666666666666, 0.004666666666666667, 0.004, 0.0033333333333333335, 0.0026666666666666666]\n",
      "[0. 0. 0. ... 0. 0. 0.]\n",
      "[0.014333333333333333, 0.004666666666666667, 0.0023333333333333335, 0.015, 0.0026666666666666666, 0.003, 0.002, 0.0026666666666666666, 0.0036666666666666666, 0.027333333333333334, 0.0026666666666666666, 0.0036666666666666666, 0.004666666666666667, 0.004, 0.0033333333333333335, 0.0026666666666666666]\n",
      "[0. 0. 0. ... 0. 0. 0.]\n",
      "[0.014333333333333333, 0.004666666666666667, 0.0023333333333333335, 0.015, 0.0026666666666666666, 0.003, 0.002, 0.0026666666666666666, 0.0036666666666666666, 0.027333333333333334, 0.0026666666666666666, 0.0036666666666666666, 0.004666666666666667, 0.004, 0.0033333333333333335, 0.0026666666666666666]\n",
      "[0. 0. 0. ... 0. 0. 0.]\n",
      "[0.014333333333333333, 0.004666666666666667, 0.0023333333333333335, 0.015, 0.0026666666666666666, 0.003, 0.002, 0.0026666666666666666, 0.0036666666666666666, 0.027333333333333334, 0.0026666666666666666, 0.0036666666666666666, 0.004666666666666667, 0.004, 0.0033333333333333335, 0.0026666666666666666]\n",
      "[0. 0. 0. ... 0. 0. 0.]\n",
      "[0.014333333333333333, 0.004666666666666667, 0.0023333333333333335, 0.015, 0.0026666666666666666, 0.003, 0.002, 0.0026666666666666666, 0.0036666666666666666, 0.027333333333333334, 0.0026666666666666666, 0.0036666666666666666, 0.004666666666666667, 0.004, 0.0033333333333333335, 0.0026666666666666666]\n",
      "[0. 0. 0. ... 0. 0. 0.]\n",
      "[0.014333333333333333, 0.004666666666666667, 0.0023333333333333335, 0.015, 0.0026666666666666666, 0.003, 0.002, 0.0026666666666666666, 0.0036666666666666666, 0.027333333333333334, 0.0026666666666666666, 0.0036666666666666666, 0.004666666666666667, 0.004, 0.0033333333333333335, 0.0026666666666666666]\n",
      "[0. 0. 0. ... 0. 0. 0.]\n",
      "[0.014333333333333333, 0.004666666666666667, 0.0023333333333333335, 0.015, 0.0026666666666666666, 0.003, 0.002, 0.0026666666666666666, 0.0036666666666666666, 0.027333333333333334, 0.0026666666666666666, 0.0036666666666666666, 0.004666666666666667, 0.004, 0.0033333333333333335, 0.0026666666666666666]\n",
      "[0. 0. 0. ... 0. 0. 0.]\n",
      "[0.014333333333333333, 0.004666666666666667, 0.0023333333333333335, 0.015, 0.0026666666666666666, 0.003, 0.002, 0.0026666666666666666, 0.0036666666666666666, 0.027333333333333334, 0.0026666666666666666, 0.0036666666666666666, 0.004666666666666667, 0.004, 0.0033333333333333335, 0.0026666666666666666]\n",
      "[0. 0. 0. ... 0. 0. 0.]\n",
      "[0.014333333333333333, 0.008, 0.0026666666666666666, 0.015, 0.003, 0.003, 0.002, 0.0033333333333333335, 0.004333333333333333, 0.03266666666666666, 0.003, 0.005666666666666667, 0.007, 0.005, 0.005666666666666667, 0.0033333333333333335]\n",
      "[0. 0. 0. ... 0. 0. 0.]\n",
      "[0.014333333333333333, 0.012333333333333333, 0.005666666666666667, 0.015, 0.005666666666666667, 0.006333333333333333, 0.003, 0.005, 0.005333333333333333, 0.05733333333333333, 0.004333333333333333, 0.011333333333333334, 0.012333333333333333, 0.010666666666666666, 0.010666666666666666, 0.005]\n",
      "[1. 0. 0. ... 0. 0. 0.]\n",
      "[0.014333333333333333, 0.012333333333333333, 0.010666666666666666, 0.015, 0.011, 0.010333333333333333, 0.0036666666666666666, 0.009, 0.010666666666666666, 0.10433333333333333, 0.006666666666666667, 0.011333333333333334, 0.012333333333333333, 0.011, 0.011333333333333334, 0.009333333333333334]\n",
      "[1. 0. 0. ... 0. 0. 0.]\n",
      "[0.014333333333333333, 0.012333333333333333, 0.011333333333333334, 0.015, 0.012666666666666666, 0.011333333333333334, 0.009333333333333334, 0.009666666666666667, 0.011333333333333334, 0.11066666666666666, 0.008333333333333333, 0.011333333333333334, 0.012333333333333333, 0.011, 0.011333333333333334, 0.01]\n",
      "[1. 0. 0. ... 0. 0. 0.]\n",
      "[0.014333333333333333, 0.012333333333333333, 0.011333333333333334, 0.015, 0.012666666666666666, 0.011333333333333334, 0.009333333333333334, 0.009666666666666667, 0.011333333333333334, 0.11066666666666666, 0.008333333333333333, 0.011333333333333334, 0.012333333333333333, 0.011, 0.011333333333333334, 0.01]\n",
      "[1. 0. 0. ... 0. 0. 0.]\n",
      "[0.014333333333333333, 0.012333333333333333, 0.011333333333333334, 0.015, 0.012666666666666666, 0.011333333333333334, 0.009333333333333334, 0.009666666666666667, 0.011333333333333334, 0.11066666666666666, 0.008333333333333333, 0.011333333333333334, 0.012333333333333333, 0.011, 0.011333333333333334, 0.01]\n",
      "[1. 0. 0. ... 0. 0. 0.]\n",
      "[0.014333333333333333, 0.012333333333333333, 0.011333333333333334, 0.015, 0.012666666666666666, 0.011333333333333334, 0.009333333333333334, 0.009666666666666667, 0.011333333333333334, 0.11066666666666666, 0.008333333333333333, 0.011333333333333334, 0.012333333333333333, 0.011, 0.011333333333333334, 0.01]\n",
      "[1. 0. 0. ... 0. 0. 0.]\n",
      "[0.014333333333333333, 0.012333333333333333, 0.011333333333333334, 0.015, 0.012666666666666666, 0.011333333333333334, 0.009333333333333334, 0.009666666666666667, 0.011333333333333334, 0.11066666666666666, 0.008333333333333333, 0.011333333333333334, 0.012333333333333333, 0.011, 0.011333333333333334, 0.01]\n",
      "[1. 0. 0. ... 0. 0. 0.]\n",
      "[0.014333333333333333, 0.012333333333333333, 0.011333333333333334, 0.015, 0.012666666666666666, 0.011333333333333334, 0.009333333333333334, 0.009666666666666667, 0.011333333333333334, 0.11066666666666666, 0.008333333333333333, 0.011333333333333334, 0.012333333333333333, 0.011, 0.011333333333333334, 0.01]\n",
      "[1. 0. 0. ... 0. 0. 0.]\n",
      "[0.014333333333333333, 0.012333333333333333, 0.011333333333333334, 0.015, 0.012666666666666666, 0.011333333333333334, 0.009333333333333334, 0.009666666666666667, 0.011333333333333334, 0.11066666666666666, 0.008333333333333333, 0.011333333333333334, 0.012333333333333333, 0.011, 0.011333333333333334, 0.01]\n",
      "[1. 0. 0. ... 0. 0. 0.]\n",
      "[0.014333333333333333, 0.012333333333333333, 0.011333333333333334, 0.015, 0.012666666666666666, 0.011333333333333334, 0.009333333333333334, 0.009666666666666667, 0.011333333333333334, 0.11066666666666666, 0.008333333333333333, 0.011333333333333334, 0.012333333333333333, 0.011, 0.011333333333333334, 0.01]\n",
      "[1. 0. 0. ... 0. 0. 0.]\n",
      "[0.014333333333333333, 0.012333333333333333, 0.010666666666666666, 0.015, 0.012, 0.010333333333333333, 0.007333333333333333, 0.007333333333333333, 0.011, 0.10433333333333333, 0.004, 0.011333333333333334, 0.011666666666666667, 0.010333333333333333, 0.010666666666666666, 0.008]\n",
      "[0. 0. 0. ... 0. 0. 0.]\n",
      "[0.010666666666666666, 0.004333333333333333, 0.0023333333333333335, 0.011666666666666667, 0.0026666666666666666, 0.0026666666666666666, 0.0003333333333333333, 0.0, 0.0036666666666666666, 0.021333333333333333, 0.0, 0.003, 0.0036666666666666666, 0.0033333333333333335, 0.0016666666666666668, 0.0013333333333333333]\n"
     ]
    },
    {
     "name": "stdout",
     "output_type": "stream",
     "text": [
      "[0. 0. 0. ... 0. 0. 0.]\n",
      "[0.014333333333333333, 0.007333333333333333, 0.003, 0.015, 0.003, 0.0036666666666666666, 0.002, 0.0026666666666666666, 0.004666666666666667, 0.030666666666666665, 0.0026666666666666666, 0.004666666666666667, 0.005, 0.005, 0.0033333333333333335, 0.0026666666666666666]\n",
      "[0. 0. 0. ... 0. 0. 0.]\n",
      "[0.014333333333333333, 0.005, 0.0023333333333333335, 0.015, 0.0026666666666666666, 0.003, 0.002, 0.0026666666666666666, 0.004, 0.027666666666666666, 0.0026666666666666666, 0.004, 0.004666666666666667, 0.004, 0.0033333333333333335, 0.0026666666666666666]\n",
      "[0. 0. 0. ... 0. 0. 0.]\n",
      "[0.014333333333333333, 0.004666666666666667, 0.0023333333333333335, 0.015, 0.0026666666666666666, 0.003, 0.002, 0.0026666666666666666, 0.0036666666666666666, 0.027333333333333334, 0.0026666666666666666, 0.0036666666666666666, 0.004666666666666667, 0.004, 0.0033333333333333335, 0.0026666666666666666]\n",
      "[0. 0. 0. ... 0. 0. 0.]\n",
      "[0.014333333333333333, 0.004666666666666667, 0.0023333333333333335, 0.015, 0.0026666666666666666, 0.003, 0.002, 0.0026666666666666666, 0.0036666666666666666, 0.027333333333333334, 0.0026666666666666666, 0.0036666666666666666, 0.004666666666666667, 0.004, 0.0033333333333333335, 0.0026666666666666666]\n",
      "[0. 0. 0. ... 0. 0. 0.]\n",
      "[0.014333333333333333, 0.004666666666666667, 0.0023333333333333335, 0.015, 0.0026666666666666666, 0.003, 0.002, 0.0026666666666666666, 0.0036666666666666666, 0.027333333333333334, 0.0026666666666666666, 0.0036666666666666666, 0.004666666666666667, 0.004, 0.0033333333333333335, 0.0026666666666666666]\n",
      "[0. 0. 0. ... 0. 0. 0.]\n",
      "[0.014333333333333333, 0.004666666666666667, 0.0023333333333333335, 0.015, 0.0026666666666666666, 0.003, 0.002, 0.0026666666666666666, 0.0036666666666666666, 0.027333333333333334, 0.0026666666666666666, 0.0036666666666666666, 0.004666666666666667, 0.004, 0.0033333333333333335, 0.0026666666666666666]\n",
      "[0. 0. 0. ... 0. 0. 0.]\n",
      "[0.014333333333333333, 0.004666666666666667, 0.0023333333333333335, 0.015, 0.0026666666666666666, 0.003, 0.002, 0.0026666666666666666, 0.0036666666666666666, 0.027333333333333334, 0.0026666666666666666, 0.0036666666666666666, 0.004666666666666667, 0.004, 0.0033333333333333335, 0.0026666666666666666]\n",
      "[0. 0. 0. ... 0. 0. 0.]\n",
      "[0.014333333333333333, 0.004666666666666667, 0.0023333333333333335, 0.015, 0.0026666666666666666, 0.003, 0.002, 0.0026666666666666666, 0.0036666666666666666, 0.027333333333333334, 0.0026666666666666666, 0.0036666666666666666, 0.004666666666666667, 0.004, 0.0033333333333333335, 0.0026666666666666666]\n",
      "[0. 0. 0. ... 0. 0. 0.]\n",
      "[0.014333333333333333, 0.004666666666666667, 0.0023333333333333335, 0.015, 0.0026666666666666666, 0.003, 0.002, 0.0026666666666666666, 0.0036666666666666666, 0.027333333333333334, 0.0026666666666666666, 0.0036666666666666666, 0.004666666666666667, 0.004, 0.0033333333333333335, 0.0026666666666666666]\n",
      "[0. 0. 0. ... 0. 0. 0.]\n",
      "[0.014333333333333333, 0.004666666666666667, 0.0023333333333333335, 0.015, 0.0026666666666666666, 0.003, 0.002, 0.0026666666666666666, 0.0036666666666666666, 0.027333333333333334, 0.0026666666666666666, 0.0036666666666666666, 0.004666666666666667, 0.004, 0.0033333333333333335, 0.0026666666666666666]\n",
      "[0. 0. 0. ... 0. 0. 0.]\n",
      "[0.014333333333333333, 0.004666666666666667, 0.0023333333333333335, 0.015, 0.0026666666666666666, 0.003, 0.002, 0.0026666666666666666, 0.0036666666666666666, 0.027333333333333334, 0.0026666666666666666, 0.0036666666666666666, 0.004666666666666667, 0.004, 0.0033333333333333335, 0.0026666666666666666]\n",
      "[0. 0. 0. ... 0. 0. 0.]\n",
      "[0.014333333333333333, 0.004666666666666667, 0.0023333333333333335, 0.015, 0.0026666666666666666, 0.003, 0.002, 0.0026666666666666666, 0.0036666666666666666, 0.027333333333333334, 0.0026666666666666666, 0.0036666666666666666, 0.004666666666666667, 0.004, 0.0033333333333333335, 0.0026666666666666666]\n",
      "[0. 0. 0. ... 0. 0. 0.]\n",
      "[0.014333333333333333, 0.008, 0.0026666666666666666, 0.015, 0.003, 0.003, 0.002, 0.0033333333333333335, 0.004333333333333333, 0.03266666666666666, 0.003, 0.005666666666666667, 0.007, 0.005, 0.005666666666666667, 0.0033333333333333335]\n",
      "[0. 0. 0. ... 0. 0. 0.]\n",
      "[0.014333333333333333, 0.012333333333333333, 0.005666666666666667, 0.015, 0.005666666666666667, 0.006333333333333333, 0.003, 0.005, 0.005333333333333333, 0.05733333333333333, 0.004333333333333333, 0.011333333333333334, 0.012333333333333333, 0.010666666666666666, 0.010666666666666666, 0.005]\n",
      "[1. 0. 0. ... 0. 0. 0.]\n",
      "[0.014333333333333333, 0.012333333333333333, 0.010666666666666666, 0.015, 0.011, 0.010333333333333333, 0.0036666666666666666, 0.009, 0.010666666666666666, 0.10433333333333333, 0.006666666666666667, 0.011333333333333334, 0.012333333333333333, 0.011, 0.011333333333333334, 0.009333333333333334]\n",
      "[1. 0. 0. ... 0. 0. 0.]\n",
      "[0.014333333333333333, 0.012333333333333333, 0.011333333333333334, 0.015, 0.012666666666666666, 0.011333333333333334, 0.009333333333333334, 0.009666666666666667, 0.011333333333333334, 0.11066666666666666, 0.008333333333333333, 0.011333333333333334, 0.012333333333333333, 0.011, 0.011333333333333334, 0.01]\n",
      "[1. 0. 0. ... 0. 0. 0.]\n",
      "[0.014333333333333333, 0.012333333333333333, 0.011333333333333334, 0.015, 0.012666666666666666, 0.011333333333333334, 0.009333333333333334, 0.009666666666666667, 0.011333333333333334, 0.11066666666666666, 0.008333333333333333, 0.011333333333333334, 0.012333333333333333, 0.011, 0.011333333333333334, 0.01]\n",
      "[1. 0. 0. ... 0. 0. 0.]\n",
      "[0.014333333333333333, 0.012333333333333333, 0.011333333333333334, 0.015, 0.012666666666666666, 0.011333333333333334, 0.009333333333333334, 0.009666666666666667, 0.011333333333333334, 0.11066666666666666, 0.008333333333333333, 0.011333333333333334, 0.012333333333333333, 0.011, 0.011333333333333334, 0.01]\n",
      "[1. 0. 0. ... 0. 0. 0.]\n",
      "[0.014333333333333333, 0.012333333333333333, 0.011333333333333334, 0.015, 0.012666666666666666, 0.011333333333333334, 0.009333333333333334, 0.009666666666666667, 0.011333333333333334, 0.11066666666666666, 0.008333333333333333, 0.011333333333333334, 0.012333333333333333, 0.011, 0.011333333333333334, 0.01]\n",
      "[1. 0. 0. ... 0. 0. 0.]\n",
      "[0.014333333333333333, 0.012333333333333333, 0.011333333333333334, 0.015, 0.012666666666666666, 0.011333333333333334, 0.009333333333333334, 0.009666666666666667, 0.011333333333333334, 0.11066666666666666, 0.008333333333333333, 0.011333333333333334, 0.012333333333333333, 0.011, 0.011333333333333334, 0.01]\n",
      "[1. 0. 0. ... 0. 0. 0.]\n",
      "[0.014333333333333333, 0.012333333333333333, 0.011333333333333334, 0.015, 0.012666666666666666, 0.011333333333333334, 0.009333333333333334, 0.009666666666666667, 0.011333333333333334, 0.11066666666666666, 0.008333333333333333, 0.011333333333333334, 0.012333333333333333, 0.011, 0.011333333333333334, 0.01]\n",
      "[1. 0. 0. ... 0. 0. 0.]\n",
      "[0.014333333333333333, 0.012333333333333333, 0.011333333333333334, 0.015, 0.012666666666666666, 0.011333333333333334, 0.009333333333333334, 0.009666666666666667, 0.011333333333333334, 0.11066666666666666, 0.008333333333333333, 0.011333333333333334, 0.012333333333333333, 0.011, 0.011333333333333334, 0.01]\n",
      "[1. 0. 0. ... 0. 0. 0.]\n",
      "[0.014333333333333333, 0.012333333333333333, 0.011333333333333334, 0.015, 0.012666666666666666, 0.011333333333333334, 0.009333333333333334, 0.009666666666666667, 0.011333333333333334, 0.11066666666666666, 0.008333333333333333, 0.011333333333333334, 0.012333333333333333, 0.011, 0.011333333333333334, 0.01]\n",
      "[1. 0. 0. ... 0. 0. 0.]\n",
      "[0.014333333333333333, 0.012333333333333333, 0.010666666666666666, 0.015, 0.012, 0.010333333333333333, 0.007333333333333333, 0.007333333333333333, 0.011, 0.10433333333333333, 0.004, 0.011333333333333334, 0.011666666666666667, 0.010333333333333333, 0.010666666666666666, 0.008]\n",
      "[0. 0. 0. ... 0. 0. 0.]\n",
      "[0.010666666666666666, 0.004333333333333333, 0.0023333333333333335, 0.011666666666666667, 0.0026666666666666666, 0.0026666666666666666, 0.0003333333333333333, 0.0, 0.0036666666666666666, 0.021333333333333333, 0.0, 0.003, 0.0036666666666666666, 0.0033333333333333335, 0.0016666666666666668, 0.0013333333333333333]\n",
      "[0. 0. 0. ... 0. 0. 0.]\n",
      "[0.014333333333333333, 0.007333333333333333, 0.003, 0.015, 0.003, 0.0036666666666666666, 0.002, 0.0026666666666666666, 0.004666666666666667, 0.030666666666666665, 0.0026666666666666666, 0.004666666666666667, 0.005, 0.005, 0.0033333333333333335, 0.0026666666666666666]\n",
      "[0. 0. 0. ... 0. 0. 0.]\n",
      "[0.014333333333333333, 0.005, 0.0023333333333333335, 0.015, 0.0026666666666666666, 0.003, 0.002, 0.0026666666666666666, 0.004, 0.027666666666666666, 0.0026666666666666666, 0.004, 0.004666666666666667, 0.004, 0.0033333333333333335, 0.0026666666666666666]\n",
      "[0. 0. 0. ... 0. 0. 0.]\n",
      "[0.014333333333333333, 0.004666666666666667, 0.0023333333333333335, 0.015, 0.0026666666666666666, 0.003, 0.002, 0.0026666666666666666, 0.0036666666666666666, 0.027333333333333334, 0.0026666666666666666, 0.0036666666666666666, 0.004666666666666667, 0.004, 0.0033333333333333335, 0.0026666666666666666]\n",
      "[0. 0. 0. ... 0. 0. 0.]\n",
      "[0.014333333333333333, 0.004666666666666667, 0.0023333333333333335, 0.015, 0.0026666666666666666, 0.003, 0.002, 0.0026666666666666666, 0.0036666666666666666, 0.027333333333333334, 0.0026666666666666666, 0.0036666666666666666, 0.004666666666666667, 0.004, 0.0033333333333333335, 0.0026666666666666666]\n",
      "[0. 0. 0. ... 0. 0. 0.]\n",
      "[0.014333333333333333, 0.004666666666666667, 0.0023333333333333335, 0.015, 0.0026666666666666666, 0.003, 0.002, 0.0026666666666666666, 0.0036666666666666666, 0.027333333333333334, 0.0026666666666666666, 0.0036666666666666666, 0.004666666666666667, 0.004, 0.0033333333333333335, 0.0026666666666666666]\n",
      "[0. 0. 0. ... 0. 0. 0.]\n",
      "[0.014333333333333333, 0.004666666666666667, 0.0023333333333333335, 0.015, 0.0026666666666666666, 0.003, 0.002, 0.0026666666666666666, 0.0036666666666666666, 0.027333333333333334, 0.0026666666666666666, 0.0036666666666666666, 0.004666666666666667, 0.004, 0.0033333333333333335, 0.0026666666666666666]\n",
      "[0. 0. 0. ... 0. 0. 0.]\n",
      "[0.014333333333333333, 0.004666666666666667, 0.0023333333333333335, 0.015, 0.0026666666666666666, 0.003, 0.002, 0.0026666666666666666, 0.0036666666666666666, 0.027333333333333334, 0.0026666666666666666, 0.0036666666666666666, 0.004666666666666667, 0.004, 0.0033333333333333335, 0.0026666666666666666]\n",
      "[0. 0. 0. ... 0. 0. 0.]\n",
      "[0.014333333333333333, 0.004666666666666667, 0.0023333333333333335, 0.015, 0.0026666666666666666, 0.003, 0.002, 0.0026666666666666666, 0.0036666666666666666, 0.027333333333333334, 0.0026666666666666666, 0.0036666666666666666, 0.004666666666666667, 0.004, 0.0033333333333333335, 0.0026666666666666666]\n",
      "[0. 0. 0. ... 0. 0. 0.]\n",
      "[0.014333333333333333, 0.004666666666666667, 0.0023333333333333335, 0.015, 0.0026666666666666666, 0.003, 0.002, 0.0026666666666666666, 0.0036666666666666666, 0.027333333333333334, 0.0026666666666666666, 0.0036666666666666666, 0.004666666666666667, 0.004, 0.0033333333333333335, 0.0026666666666666666]\n",
      "[0. 0. 0. ... 0. 0. 0.]\n",
      "[0.014333333333333333, 0.004666666666666667, 0.0023333333333333335, 0.015, 0.0026666666666666666, 0.003, 0.002, 0.0026666666666666666, 0.0036666666666666666, 0.027333333333333334, 0.0026666666666666666, 0.0036666666666666666, 0.004666666666666667, 0.004, 0.0033333333333333335, 0.0026666666666666666]\n",
      "[0. 0. 0. ... 0. 0. 0.]\n",
      "[0.014333333333333333, 0.004666666666666667, 0.0023333333333333335, 0.015, 0.0026666666666666666, 0.003, 0.002, 0.0026666666666666666, 0.0036666666666666666, 0.027333333333333334, 0.0026666666666666666, 0.0036666666666666666, 0.004666666666666667, 0.004, 0.0033333333333333335, 0.0026666666666666666]\n",
      "[0. 0. 0. ... 0. 0. 0.]\n",
      "[0.014333333333333333, 0.004666666666666667, 0.0023333333333333335, 0.015, 0.0026666666666666666, 0.003, 0.002, 0.0026666666666666666, 0.0036666666666666666, 0.027333333333333334, 0.0026666666666666666, 0.0036666666666666666, 0.004666666666666667, 0.004, 0.0033333333333333335, 0.0026666666666666666]\n",
      "[0. 0. 0. ... 0. 0. 0.]\n",
      "[0.014333333333333333, 0.008, 0.0026666666666666666, 0.015, 0.003, 0.003, 0.002, 0.0033333333333333335, 0.004333333333333333, 0.03266666666666666, 0.003, 0.005666666666666667, 0.007, 0.005, 0.005666666666666667, 0.0033333333333333335]\n",
      "[0. 0. 0. ... 0. 0. 0.]\n",
      "[0.014333333333333333, 0.012333333333333333, 0.005666666666666667, 0.015, 0.005666666666666667, 0.006333333333333333, 0.003, 0.005, 0.005333333333333333, 0.05733333333333333, 0.004333333333333333, 0.011333333333333334, 0.012333333333333333, 0.010666666666666666, 0.010666666666666666, 0.005]\n",
      "[1. 0. 0. ... 0. 0. 0.]\n",
      "[0.014333333333333333, 0.012333333333333333, 0.010666666666666666, 0.015, 0.011, 0.010333333333333333, 0.0036666666666666666, 0.009, 0.010666666666666666, 0.10433333333333333, 0.006666666666666667, 0.011333333333333334, 0.012333333333333333, 0.011, 0.011333333333333334, 0.009333333333333334]\n",
      "[1. 0. 0. ... 0. 0. 0.]\n",
      "[0.014333333333333333, 0.012333333333333333, 0.011333333333333334, 0.015, 0.012666666666666666, 0.011333333333333334, 0.009333333333333334, 0.009666666666666667, 0.011333333333333334, 0.11066666666666666, 0.008333333333333333, 0.011333333333333334, 0.012333333333333333, 0.011, 0.011333333333333334, 0.01]\n",
      "[1. 0. 0. ... 0. 0. 0.]\n",
      "[0.014333333333333333, 0.012333333333333333, 0.011333333333333334, 0.015, 0.012666666666666666, 0.011333333333333334, 0.009333333333333334, 0.009666666666666667, 0.011333333333333334, 0.11066666666666666, 0.008333333333333333, 0.011333333333333334, 0.012333333333333333, 0.011, 0.011333333333333334, 0.01]\n",
      "[1. 0. 0. ... 0. 0. 0.]\n",
      "[0.014333333333333333, 0.012333333333333333, 0.011333333333333334, 0.015, 0.012666666666666666, 0.011333333333333334, 0.009333333333333334, 0.009666666666666667, 0.011333333333333334, 0.11066666666666666, 0.008333333333333333, 0.011333333333333334, 0.012333333333333333, 0.011, 0.011333333333333334, 0.01]\n",
      "[1. 0. 0. ... 0. 0. 0.]\n",
      "[0.014333333333333333, 0.012333333333333333, 0.011333333333333334, 0.015, 0.012666666666666666, 0.011333333333333334, 0.009333333333333334, 0.009666666666666667, 0.011333333333333334, 0.11066666666666666, 0.008333333333333333, 0.011333333333333334, 0.012333333333333333, 0.011, 0.011333333333333334, 0.01]\n",
      "[1. 0. 0. ... 0. 0. 0.]\n",
      "[0.014333333333333333, 0.012333333333333333, 0.011333333333333334, 0.015, 0.012666666666666666, 0.011333333333333334, 0.009333333333333334, 0.009666666666666667, 0.011333333333333334, 0.11066666666666666, 0.008333333333333333, 0.011333333333333334, 0.012333333333333333, 0.011, 0.011333333333333334, 0.01]\n",
      "[1. 0. 0. ... 0. 0. 0.]\n",
      "[0.014333333333333333, 0.012333333333333333, 0.011333333333333334, 0.015, 0.012666666666666666, 0.011333333333333334, 0.009333333333333334, 0.009666666666666667, 0.011333333333333334, 0.11066666666666666, 0.008333333333333333, 0.011333333333333334, 0.012333333333333333, 0.011, 0.011333333333333334, 0.01]\n",
      "[1. 0. 0. ... 0. 0. 0.]\n",
      "[0.014333333333333333, 0.012333333333333333, 0.011333333333333334, 0.015, 0.012666666666666666, 0.011333333333333334, 0.009333333333333334, 0.009666666666666667, 0.011333333333333334, 0.11066666666666666, 0.008333333333333333, 0.011333333333333334, 0.012333333333333333, 0.011, 0.011333333333333334, 0.01]\n",
      "[1. 0. 0. ... 0. 0. 0.]\n",
      "[0.014333333333333333, 0.012333333333333333, 0.011333333333333334, 0.015, 0.012666666666666666, 0.011333333333333334, 0.009333333333333334, 0.009666666666666667, 0.011333333333333334, 0.11066666666666666, 0.008333333333333333, 0.011333333333333334, 0.012333333333333333, 0.011, 0.011333333333333334, 0.01]\n",
      "[1. 0. 0. ... 0. 0. 0.]\n",
      "[0.014333333333333333, 0.012333333333333333, 0.010666666666666666, 0.015, 0.012, 0.010333333333333333, 0.007333333333333333, 0.007333333333333333, 0.011, 0.10433333333333333, 0.004, 0.011333333333333334, 0.011666666666666667, 0.010333333333333333, 0.010666666666666666, 0.008]\n",
      "[0. 0. 0. ... 0. 0. 0.]\n",
      "[0.010666666666666666, 0.004333333333333333, 0.0023333333333333335, 0.011666666666666667, 0.0026666666666666666, 0.0026666666666666666, 0.0003333333333333333, 0.0, 0.0036666666666666666, 0.021333333333333333, 0.0, 0.003, 0.0036666666666666666, 0.0033333333333333335, 0.0016666666666666668, 0.0013333333333333333]\n",
      "[0. 0. 0. ... 0. 0. 0.]\n",
      "[0.014333333333333333, 0.007333333333333333, 0.003, 0.015, 0.003, 0.0036666666666666666, 0.002, 0.0026666666666666666, 0.004666666666666667, 0.030666666666666665, 0.0026666666666666666, 0.004666666666666667, 0.005, 0.005, 0.0033333333333333335, 0.0026666666666666666]\n",
      "[0. 0. 0. ... 0. 0. 0.]\n",
      "[0.014333333333333333, 0.005, 0.0023333333333333335, 0.015, 0.0026666666666666666, 0.003, 0.002, 0.0026666666666666666, 0.004, 0.027666666666666666, 0.0026666666666666666, 0.004, 0.004666666666666667, 0.004, 0.0033333333333333335, 0.0026666666666666666]\n",
      "[0. 0. 0. ... 0. 0. 0.]\n",
      "[0.014333333333333333, 0.004666666666666667, 0.0023333333333333335, 0.015, 0.0026666666666666666, 0.003, 0.002, 0.0026666666666666666, 0.0036666666666666666, 0.027333333333333334, 0.0026666666666666666, 0.0036666666666666666, 0.004666666666666667, 0.004, 0.0033333333333333335, 0.0026666666666666666]\n",
      "[0. 0. 0. ... 0. 0. 0.]\n",
      "[0.014333333333333333, 0.004666666666666667, 0.0023333333333333335, 0.015, 0.0026666666666666666, 0.003, 0.002, 0.0026666666666666666, 0.0036666666666666666, 0.027333333333333334, 0.0026666666666666666, 0.0036666666666666666, 0.004666666666666667, 0.004, 0.0033333333333333335, 0.0026666666666666666]\n",
      "[0. 0. 0. ... 0. 0. 0.]\n",
      "[0.014333333333333333, 0.004666666666666667, 0.0023333333333333335, 0.015, 0.0026666666666666666, 0.003, 0.002, 0.0026666666666666666, 0.0036666666666666666, 0.027333333333333334, 0.0026666666666666666, 0.0036666666666666666, 0.004666666666666667, 0.004, 0.0033333333333333335, 0.0026666666666666666]\n",
      "[0. 0. 0. ... 0. 0. 0.]\n",
      "[0.014333333333333333, 0.004666666666666667, 0.0023333333333333335, 0.015, 0.0026666666666666666, 0.003, 0.002, 0.0026666666666666666, 0.0036666666666666666, 0.027333333333333334, 0.0026666666666666666, 0.0036666666666666666, 0.004666666666666667, 0.004, 0.0033333333333333335, 0.0026666666666666666]\n",
      "[0. 0. 0. ... 0. 0. 0.]\n",
      "[0.014333333333333333, 0.004666666666666667, 0.0023333333333333335, 0.015, 0.0026666666666666666, 0.003, 0.002, 0.0026666666666666666, 0.0036666666666666666, 0.027333333333333334, 0.0026666666666666666, 0.0036666666666666666, 0.004666666666666667, 0.004, 0.0033333333333333335, 0.0026666666666666666]\n",
      "[0. 0. 0. ... 0. 0. 0.]\n",
      "[0.014333333333333333, 0.004666666666666667, 0.0023333333333333335, 0.015, 0.0026666666666666666, 0.003, 0.002, 0.0026666666666666666, 0.0036666666666666666, 0.027333333333333334, 0.0026666666666666666, 0.0036666666666666666, 0.004666666666666667, 0.004, 0.0033333333333333335, 0.0026666666666666666]\n",
      "[0. 0. 0. ... 0. 0. 0.]\n",
      "[0.014333333333333333, 0.004666666666666667, 0.0023333333333333335, 0.015, 0.0026666666666666666, 0.003, 0.002, 0.0026666666666666666, 0.0036666666666666666, 0.027333333333333334, 0.0026666666666666666, 0.0036666666666666666, 0.004666666666666667, 0.004, 0.0033333333333333335, 0.0026666666666666666]\n",
      "[0. 0. 0. ... 0. 0. 0.]\n",
      "[0.014333333333333333, 0.004666666666666667, 0.0023333333333333335, 0.015, 0.0026666666666666666, 0.003, 0.002, 0.0026666666666666666, 0.0036666666666666666, 0.027333333333333334, 0.0026666666666666666, 0.0036666666666666666, 0.004666666666666667, 0.004, 0.0033333333333333335, 0.0026666666666666666]\n",
      "[0. 0. 0. ... 0. 0. 0.]\n"
     ]
    },
    {
     "name": "stdout",
     "output_type": "stream",
     "text": [
      "[0.014333333333333333, 0.004666666666666667, 0.0023333333333333335, 0.015, 0.0026666666666666666, 0.003, 0.002, 0.0026666666666666666, 0.0036666666666666666, 0.027333333333333334, 0.0026666666666666666, 0.0036666666666666666, 0.004666666666666667, 0.004, 0.0033333333333333335, 0.0026666666666666666]\n",
      "[0. 0. 0. ... 0. 0. 0.]\n",
      "[0.014333333333333333, 0.004666666666666667, 0.0023333333333333335, 0.015, 0.0026666666666666666, 0.003, 0.002, 0.0026666666666666666, 0.0036666666666666666, 0.027333333333333334, 0.0026666666666666666, 0.0036666666666666666, 0.004666666666666667, 0.004, 0.0033333333333333335, 0.0026666666666666666]\n",
      "[0. 0. 0. ... 0. 0. 0.]\n",
      "[0.014333333333333333, 0.008, 0.0026666666666666666, 0.015, 0.003, 0.003, 0.002, 0.0033333333333333335, 0.004333333333333333, 0.03266666666666666, 0.003, 0.005666666666666667, 0.007, 0.005, 0.005666666666666667, 0.0033333333333333335]\n",
      "[0. 0. 0. ... 0. 0. 0.]\n",
      "[0.014333333333333333, 0.012333333333333333, 0.005666666666666667, 0.015, 0.005666666666666667, 0.006333333333333333, 0.003, 0.005, 0.005333333333333333, 0.05733333333333333, 0.004333333333333333, 0.011333333333333334, 0.012333333333333333, 0.010666666666666666, 0.010666666666666666, 0.005]\n",
      "[1. 0. 0. ... 0. 0. 0.]\n",
      "[0.014333333333333333, 0.012333333333333333, 0.010666666666666666, 0.015, 0.011, 0.010333333333333333, 0.0036666666666666666, 0.009, 0.010666666666666666, 0.10433333333333333, 0.006666666666666667, 0.011333333333333334, 0.012333333333333333, 0.011, 0.011333333333333334, 0.009333333333333334]\n",
      "[1. 0. 0. ... 0. 0. 0.]\n",
      "[0.014333333333333333, 0.012333333333333333, 0.011333333333333334, 0.015, 0.012666666666666666, 0.011333333333333334, 0.009333333333333334, 0.009666666666666667, 0.011333333333333334, 0.11066666666666666, 0.008333333333333333, 0.011333333333333334, 0.012333333333333333, 0.011, 0.011333333333333334, 0.01]\n",
      "[1. 0. 0. ... 0. 0. 0.]\n",
      "[0.014333333333333333, 0.012333333333333333, 0.011333333333333334, 0.015, 0.012666666666666666, 0.011333333333333334, 0.009333333333333334, 0.009666666666666667, 0.011333333333333334, 0.11066666666666666, 0.008333333333333333, 0.011333333333333334, 0.012333333333333333, 0.011, 0.011333333333333334, 0.01]\n",
      "[1. 0. 0. ... 0. 0. 0.]\n",
      "[0.014333333333333333, 0.012333333333333333, 0.011333333333333334, 0.015, 0.012666666666666666, 0.011333333333333334, 0.009333333333333334, 0.009666666666666667, 0.011333333333333334, 0.11066666666666666, 0.008333333333333333, 0.011333333333333334, 0.012333333333333333, 0.011, 0.011333333333333334, 0.01]\n",
      "[1. 0. 0. ... 0. 0. 0.]\n",
      "[0.014333333333333333, 0.012333333333333333, 0.011333333333333334, 0.015, 0.012666666666666666, 0.011333333333333334, 0.009333333333333334, 0.009666666666666667, 0.011333333333333334, 0.11066666666666666, 0.008333333333333333, 0.011333333333333334, 0.012333333333333333, 0.011, 0.011333333333333334, 0.01]\n",
      "[1. 0. 0. ... 0. 0. 0.]\n",
      "[0.014333333333333333, 0.012333333333333333, 0.011333333333333334, 0.015, 0.012666666666666666, 0.011333333333333334, 0.009333333333333334, 0.009666666666666667, 0.011333333333333334, 0.11066666666666666, 0.008333333333333333, 0.011333333333333334, 0.012333333333333333, 0.011, 0.011333333333333334, 0.01]\n",
      "[1. 0. 0. ... 0. 0. 0.]\n",
      "[0.014333333333333333, 0.012333333333333333, 0.011333333333333334, 0.015, 0.012666666666666666, 0.011333333333333334, 0.009333333333333334, 0.009666666666666667, 0.011333333333333334, 0.11066666666666666, 0.008333333333333333, 0.011333333333333334, 0.012333333333333333, 0.011, 0.011333333333333334, 0.01]\n",
      "[1. 0. 0. ... 0. 0. 0.]\n",
      "[0.014333333333333333, 0.012333333333333333, 0.011333333333333334, 0.015, 0.012666666666666666, 0.011333333333333334, 0.009333333333333334, 0.009666666666666667, 0.011333333333333334, 0.11066666666666666, 0.008333333333333333, 0.011333333333333334, 0.012333333333333333, 0.011, 0.011333333333333334, 0.01]\n",
      "[1. 0. 0. ... 0. 0. 0.]\n",
      "[0.014333333333333333, 0.012333333333333333, 0.011333333333333334, 0.015, 0.012666666666666666, 0.011333333333333334, 0.009333333333333334, 0.009666666666666667, 0.011333333333333334, 0.11066666666666666, 0.008333333333333333, 0.011333333333333334, 0.012333333333333333, 0.011, 0.011333333333333334, 0.01]\n",
      "[1. 0. 0. ... 0. 0. 0.]\n",
      "[0.014333333333333333, 0.012333333333333333, 0.010666666666666666, 0.015, 0.012, 0.010333333333333333, 0.007333333333333333, 0.007333333333333333, 0.011, 0.10433333333333333, 0.004, 0.011333333333333334, 0.011666666666666667, 0.010333333333333333, 0.010666666666666666, 0.008]\n",
      "[0. 0. 0. ... 0. 0. 0.]\n",
      "[0.010666666666666666, 0.004333333333333333, 0.0023333333333333335, 0.011666666666666667, 0.0026666666666666666, 0.0026666666666666666, 0.0003333333333333333, 0.0, 0.0036666666666666666, 0.021333333333333333, 0.0, 0.003, 0.0036666666666666666, 0.0033333333333333335, 0.0016666666666666668, 0.0013333333333333333]\n",
      "[0. 0. 0. ... 0. 0. 0.]\n",
      "[0.014333333333333333, 0.007333333333333333, 0.003, 0.015, 0.003, 0.0036666666666666666, 0.002, 0.0026666666666666666, 0.004666666666666667, 0.030666666666666665, 0.0026666666666666666, 0.004666666666666667, 0.005, 0.005, 0.0033333333333333335, 0.0026666666666666666]\n",
      "[0. 0. 0. ... 0. 0. 0.]\n",
      "[0.014333333333333333, 0.005, 0.0023333333333333335, 0.015, 0.0026666666666666666, 0.003, 0.002, 0.0026666666666666666, 0.004, 0.027666666666666666, 0.0026666666666666666, 0.004, 0.004666666666666667, 0.004, 0.0033333333333333335, 0.0026666666666666666]\n",
      "[0. 0. 0. ... 0. 0. 0.]\n",
      "[0.014333333333333333, 0.004666666666666667, 0.0023333333333333335, 0.015, 0.0026666666666666666, 0.003, 0.002, 0.0026666666666666666, 0.0036666666666666666, 0.027333333333333334, 0.0026666666666666666, 0.0036666666666666666, 0.004666666666666667, 0.004, 0.0033333333333333335, 0.0026666666666666666]\n",
      "[0. 0. 0. ... 0. 0. 0.]\n",
      "[0.014333333333333333, 0.004666666666666667, 0.0023333333333333335, 0.015, 0.0026666666666666666, 0.003, 0.002, 0.0026666666666666666, 0.0036666666666666666, 0.027333333333333334, 0.0026666666666666666, 0.0036666666666666666, 0.004666666666666667, 0.004, 0.0033333333333333335, 0.0026666666666666666]\n",
      "[0. 0. 0. ... 0. 0. 0.]\n",
      "[0.014333333333333333, 0.004666666666666667, 0.0023333333333333335, 0.015, 0.0026666666666666666, 0.003, 0.002, 0.0026666666666666666, 0.0036666666666666666, 0.027333333333333334, 0.0026666666666666666, 0.0036666666666666666, 0.004666666666666667, 0.004, 0.0033333333333333335, 0.0026666666666666666]\n",
      "[0. 0. 0. ... 0. 0. 0.]\n",
      "[0.014333333333333333, 0.004666666666666667, 0.0023333333333333335, 0.015, 0.0026666666666666666, 0.003, 0.002, 0.0026666666666666666, 0.0036666666666666666, 0.027333333333333334, 0.0026666666666666666, 0.0036666666666666666, 0.004666666666666667, 0.004, 0.0033333333333333335, 0.0026666666666666666]\n",
      "[0. 0. 0. ... 0. 0. 0.]\n",
      "[0.014333333333333333, 0.004666666666666667, 0.0023333333333333335, 0.015, 0.0026666666666666666, 0.003, 0.002, 0.0026666666666666666, 0.0036666666666666666, 0.027333333333333334, 0.0026666666666666666, 0.0036666666666666666, 0.004666666666666667, 0.004, 0.0033333333333333335, 0.0026666666666666666]\n",
      "[0. 0. 0. ... 0. 0. 0.]\n",
      "[0.014333333333333333, 0.004666666666666667, 0.0023333333333333335, 0.015, 0.0026666666666666666, 0.003, 0.002, 0.0026666666666666666, 0.0036666666666666666, 0.027333333333333334, 0.0026666666666666666, 0.0036666666666666666, 0.004666666666666667, 0.004, 0.0033333333333333335, 0.0026666666666666666]\n",
      "[0. 0. 0. ... 0. 0. 0.]\n",
      "[0.014333333333333333, 0.004666666666666667, 0.0023333333333333335, 0.015, 0.0026666666666666666, 0.003, 0.002, 0.0026666666666666666, 0.0036666666666666666, 0.027333333333333334, 0.0026666666666666666, 0.0036666666666666666, 0.004666666666666667, 0.004, 0.0033333333333333335, 0.0026666666666666666]\n",
      "[0. 0. 0. ... 0. 0. 0.]\n",
      "[0.014333333333333333, 0.004666666666666667, 0.0023333333333333335, 0.015, 0.0026666666666666666, 0.003, 0.002, 0.0026666666666666666, 0.0036666666666666666, 0.027333333333333334, 0.0026666666666666666, 0.0036666666666666666, 0.004666666666666667, 0.004, 0.0033333333333333335, 0.0026666666666666666]\n",
      "[0. 0. 0. ... 0. 0. 0.]\n",
      "[0.014333333333333333, 0.004666666666666667, 0.0023333333333333335, 0.015, 0.0026666666666666666, 0.003, 0.002, 0.0026666666666666666, 0.0036666666666666666, 0.027333333333333334, 0.0026666666666666666, 0.0036666666666666666, 0.004666666666666667, 0.004, 0.0033333333333333335, 0.0026666666666666666]\n",
      "[0. 0. 0. ... 0. 0. 0.]\n",
      "[0.014333333333333333, 0.004666666666666667, 0.0023333333333333335, 0.015, 0.0026666666666666666, 0.003, 0.002, 0.0026666666666666666, 0.0036666666666666666, 0.027333333333333334, 0.0026666666666666666, 0.0036666666666666666, 0.004666666666666667, 0.004, 0.0033333333333333335, 0.0026666666666666666]\n",
      "[0. 0. 0. ... 0. 0. 0.]\n",
      "[0.014333333333333333, 0.008, 0.0026666666666666666, 0.015, 0.003, 0.003, 0.002, 0.0033333333333333335, 0.004333333333333333, 0.03266666666666666, 0.003, 0.005666666666666667, 0.007, 0.005, 0.005666666666666667, 0.0033333333333333335]\n",
      "[0. 0. 0. ... 0. 0. 0.]\n",
      "[0.014333333333333333, 0.012333333333333333, 0.005666666666666667, 0.015, 0.005666666666666667, 0.006333333333333333, 0.003, 0.005, 0.005333333333333333, 0.05733333333333333, 0.004333333333333333, 0.011333333333333334, 0.012333333333333333, 0.010666666666666666, 0.010666666666666666, 0.005]\n",
      "[1. 0. 0. ... 0. 0. 0.]\n",
      "[0.014333333333333333, 0.012333333333333333, 0.010666666666666666, 0.015, 0.011, 0.010333333333333333, 0.0036666666666666666, 0.009, 0.010666666666666666, 0.10433333333333333, 0.006666666666666667, 0.011333333333333334, 0.012333333333333333, 0.011, 0.011333333333333334, 0.009333333333333334]\n",
      "[1. 0. 0. ... 0. 0. 0.]\n",
      "[0.014333333333333333, 0.012333333333333333, 0.011333333333333334, 0.015, 0.012666666666666666, 0.011333333333333334, 0.009333333333333334, 0.009666666666666667, 0.011333333333333334, 0.11066666666666666, 0.008333333333333333, 0.011333333333333334, 0.012333333333333333, 0.011, 0.011333333333333334, 0.01]\n",
      "[1. 0. 0. ... 0. 0. 0.]\n",
      "[0.014333333333333333, 0.012333333333333333, 0.011333333333333334, 0.015, 0.012666666666666666, 0.011333333333333334, 0.009333333333333334, 0.009666666666666667, 0.011333333333333334, 0.11066666666666666, 0.008333333333333333, 0.011333333333333334, 0.012333333333333333, 0.011, 0.011333333333333334, 0.01]\n",
      "[1. 0. 0. ... 0. 0. 0.]\n",
      "[0.014333333333333333, 0.012333333333333333, 0.011333333333333334, 0.015, 0.012666666666666666, 0.011333333333333334, 0.009333333333333334, 0.009666666666666667, 0.011333333333333334, 0.11066666666666666, 0.008333333333333333, 0.011333333333333334, 0.012333333333333333, 0.011, 0.011333333333333334, 0.01]\n",
      "[1. 0. 0. ... 0. 0. 0.]\n",
      "[0.014333333333333333, 0.012333333333333333, 0.011333333333333334, 0.015, 0.012666666666666666, 0.011333333333333334, 0.009333333333333334, 0.009666666666666667, 0.011333333333333334, 0.11066666666666666, 0.008333333333333333, 0.011333333333333334, 0.012333333333333333, 0.011, 0.011333333333333334, 0.01]\n",
      "[1. 0. 0. ... 0. 0. 0.]\n",
      "[0.014333333333333333, 0.012333333333333333, 0.011333333333333334, 0.015, 0.012666666666666666, 0.011333333333333334, 0.009333333333333334, 0.009666666666666667, 0.011333333333333334, 0.11066666666666666, 0.008333333333333333, 0.011333333333333334, 0.012333333333333333, 0.011, 0.011333333333333334, 0.01]\n",
      "[1. 0. 0. ... 0. 0. 0.]\n",
      "[0.014333333333333333, 0.012333333333333333, 0.011333333333333334, 0.015, 0.012666666666666666, 0.011333333333333334, 0.009333333333333334, 0.009666666666666667, 0.011333333333333334, 0.11066666666666666, 0.008333333333333333, 0.011333333333333334, 0.012333333333333333, 0.011, 0.011333333333333334, 0.01]\n",
      "[1. 0. 0. ... 0. 0. 0.]\n",
      "[0.014333333333333333, 0.012333333333333333, 0.011333333333333334, 0.015, 0.012666666666666666, 0.011333333333333334, 0.009333333333333334, 0.009666666666666667, 0.011333333333333334, 0.11066666666666666, 0.008333333333333333, 0.011333333333333334, 0.012333333333333333, 0.011, 0.011333333333333334, 0.01]\n",
      "[1. 0. 0. ... 0. 0. 0.]\n",
      "[0.014333333333333333, 0.012333333333333333, 0.011333333333333334, 0.015, 0.012666666666666666, 0.011333333333333334, 0.009333333333333334, 0.009666666666666667, 0.011333333333333334, 0.11066666666666666, 0.008333333333333333, 0.011333333333333334, 0.012333333333333333, 0.011, 0.011333333333333334, 0.01]\n",
      "[1. 0. 0. ... 0. 0. 0.]\n",
      "[0.014333333333333333, 0.012333333333333333, 0.010666666666666666, 0.015, 0.012, 0.010333333333333333, 0.007333333333333333, 0.007333333333333333, 0.011, 0.10433333333333333, 0.004, 0.011333333333333334, 0.011666666666666667, 0.010333333333333333, 0.010666666666666666, 0.008]\n",
      "[0. 0. 0. ... 0. 0. 0.]\n",
      "[0.010666666666666666, 0.004333333333333333, 0.0023333333333333335, 0.011666666666666667, 0.0026666666666666666, 0.0026666666666666666, 0.0003333333333333333, 0.0, 0.0036666666666666666, 0.021333333333333333, 0.0, 0.003, 0.0036666666666666666, 0.0033333333333333335, 0.0016666666666666668, 0.0013333333333333333]\n",
      "[0. 0. 0. ... 0. 0. 0.]\n",
      "[0.014333333333333333, 0.007333333333333333, 0.003, 0.015, 0.003, 0.0036666666666666666, 0.002, 0.0026666666666666666, 0.004666666666666667, 0.030666666666666665, 0.0026666666666666666, 0.004666666666666667, 0.005, 0.005, 0.0033333333333333335, 0.0026666666666666666]\n",
      "[0. 0. 0. ... 0. 0. 0.]\n",
      "[0.014333333333333333, 0.005, 0.0023333333333333335, 0.015, 0.0026666666666666666, 0.003, 0.002, 0.0026666666666666666, 0.004, 0.027666666666666666, 0.0026666666666666666, 0.004, 0.004666666666666667, 0.004, 0.0033333333333333335, 0.0026666666666666666]\n",
      "[0. 0. 0. ... 0. 0. 0.]\n",
      "[0.014333333333333333, 0.004666666666666667, 0.0023333333333333335, 0.015, 0.0026666666666666666, 0.003, 0.002, 0.0026666666666666666, 0.0036666666666666666, 0.027333333333333334, 0.0026666666666666666, 0.0036666666666666666, 0.004666666666666667, 0.004, 0.0033333333333333335, 0.0026666666666666666]\n",
      "[0. 0. 0. ... 0. 0. 0.]\n",
      "[0.014333333333333333, 0.004666666666666667, 0.0023333333333333335, 0.015, 0.0026666666666666666, 0.003, 0.002, 0.0026666666666666666, 0.0036666666666666666, 0.027333333333333334, 0.0026666666666666666, 0.0036666666666666666, 0.004666666666666667, 0.004, 0.0033333333333333335, 0.0026666666666666666]\n",
      "[0. 0. 0. ... 0. 0. 0.]\n",
      "[0.014333333333333333, 0.004666666666666667, 0.0023333333333333335, 0.015, 0.0026666666666666666, 0.003, 0.002, 0.0026666666666666666, 0.0036666666666666666, 0.027333333333333334, 0.0026666666666666666, 0.0036666666666666666, 0.004666666666666667, 0.004, 0.0033333333333333335, 0.0026666666666666666]\n",
      "[0. 0. 0. ... 0. 0. 0.]\n",
      "[0.014333333333333333, 0.004666666666666667, 0.0023333333333333335, 0.015, 0.0026666666666666666, 0.003, 0.002, 0.0026666666666666666, 0.0036666666666666666, 0.027333333333333334, 0.0026666666666666666, 0.0036666666666666666, 0.004666666666666667, 0.004, 0.0033333333333333335, 0.0026666666666666666]\n",
      "[0. 0. 0. ... 0. 0. 0.]\n",
      "[0.014333333333333333, 0.004666666666666667, 0.0023333333333333335, 0.015, 0.0026666666666666666, 0.003, 0.002, 0.0026666666666666666, 0.0036666666666666666, 0.027333333333333334, 0.0026666666666666666, 0.0036666666666666666, 0.004666666666666667, 0.004, 0.0033333333333333335, 0.0026666666666666666]\n",
      "[0. 0. 0. ... 0. 0. 0.]\n",
      "[0.014333333333333333, 0.004666666666666667, 0.0023333333333333335, 0.015, 0.0026666666666666666, 0.003, 0.002, 0.0026666666666666666, 0.0036666666666666666, 0.027333333333333334, 0.0026666666666666666, 0.0036666666666666666, 0.004666666666666667, 0.004, 0.0033333333333333335, 0.0026666666666666666]\n",
      "[0. 0. 0. ... 0. 0. 0.]\n",
      "[0.014333333333333333, 0.004666666666666667, 0.0023333333333333335, 0.015, 0.0026666666666666666, 0.003, 0.002, 0.0026666666666666666, 0.0036666666666666666, 0.027333333333333334, 0.0026666666666666666, 0.0036666666666666666, 0.004666666666666667, 0.004, 0.0033333333333333335, 0.0026666666666666666]\n",
      "[0. 0. 0. ... 0. 0. 0.]\n",
      "[0.014333333333333333, 0.004666666666666667, 0.0023333333333333335, 0.015, 0.0026666666666666666, 0.003, 0.002, 0.0026666666666666666, 0.0036666666666666666, 0.027333333333333334, 0.0026666666666666666, 0.0036666666666666666, 0.004666666666666667, 0.004, 0.0033333333333333335, 0.0026666666666666666]\n",
      "[0. 0. 0. ... 0. 0. 0.]\n",
      "[0.014333333333333333, 0.004666666666666667, 0.0023333333333333335, 0.015, 0.0026666666666666666, 0.003, 0.002, 0.0026666666666666666, 0.0036666666666666666, 0.027333333333333334, 0.0026666666666666666, 0.0036666666666666666, 0.004666666666666667, 0.004, 0.0033333333333333335, 0.0026666666666666666]\n",
      "[0. 0. 0. ... 0. 0. 0.]\n",
      "[0.014333333333333333, 0.004666666666666667, 0.0023333333333333335, 0.015, 0.0026666666666666666, 0.003, 0.002, 0.0026666666666666666, 0.0036666666666666666, 0.027333333333333334, 0.0026666666666666666, 0.0036666666666666666, 0.004666666666666667, 0.004, 0.0033333333333333335, 0.0026666666666666666]\n",
      "[0. 0. 0. ... 0. 0. 0.]\n",
      "[0.014333333333333333, 0.008, 0.0026666666666666666, 0.015, 0.003, 0.003, 0.002, 0.0033333333333333335, 0.004333333333333333, 0.03266666666666666, 0.003, 0.005666666666666667, 0.007, 0.005, 0.005666666666666667, 0.0033333333333333335]\n",
      "[0. 0. 0. ... 0. 0. 0.]\n",
      "[0.014333333333333333, 0.012333333333333333, 0.005666666666666667, 0.015, 0.005666666666666667, 0.006333333333333333, 0.003, 0.005, 0.005333333333333333, 0.05733333333333333, 0.004333333333333333, 0.011333333333333334, 0.012333333333333333, 0.010666666666666666, 0.010666666666666666, 0.005]\n",
      "[1. 0. 0. ... 0. 0. 0.]\n",
      "[0.014333333333333333, 0.012333333333333333, 0.010666666666666666, 0.015, 0.011, 0.010333333333333333, 0.0036666666666666666, 0.009, 0.010666666666666666, 0.10433333333333333, 0.006666666666666667, 0.011333333333333334, 0.012333333333333333, 0.011, 0.011333333333333334, 0.009333333333333334]\n",
      "[1. 0. 0. ... 0. 0. 0.]\n",
      "[0.014333333333333333, 0.012333333333333333, 0.011333333333333334, 0.015, 0.012666666666666666, 0.011333333333333334, 0.009333333333333334, 0.009666666666666667, 0.011333333333333334, 0.11066666666666666, 0.008333333333333333, 0.011333333333333334, 0.012333333333333333, 0.011, 0.011333333333333334, 0.01]\n",
      "[1. 0. 0. ... 0. 0. 0.]\n",
      "[0.014333333333333333, 0.012333333333333333, 0.011333333333333334, 0.015, 0.012666666666666666, 0.011333333333333334, 0.009333333333333334, 0.009666666666666667, 0.011333333333333334, 0.11066666666666666, 0.008333333333333333, 0.011333333333333334, 0.012333333333333333, 0.011, 0.011333333333333334, 0.01]\n",
      "[1. 0. 0. ... 0. 0. 0.]\n",
      "[0.014333333333333333, 0.012333333333333333, 0.011333333333333334, 0.015, 0.012666666666666666, 0.011333333333333334, 0.009333333333333334, 0.009666666666666667, 0.011333333333333334, 0.11066666666666666, 0.008333333333333333, 0.011333333333333334, 0.012333333333333333, 0.011, 0.011333333333333334, 0.01]\n",
      "[1. 0. 0. ... 0. 0. 0.]\n",
      "[0.014333333333333333, 0.012333333333333333, 0.011333333333333334, 0.015, 0.012666666666666666, 0.011333333333333334, 0.009333333333333334, 0.009666666666666667, 0.011333333333333334, 0.11066666666666666, 0.008333333333333333, 0.011333333333333334, 0.012333333333333333, 0.011, 0.011333333333333334, 0.01]\n",
      "[1. 0. 0. ... 0. 0. 0.]\n",
      "[0.014333333333333333, 0.012333333333333333, 0.011333333333333334, 0.015, 0.012666666666666666, 0.011333333333333334, 0.009333333333333334, 0.009666666666666667, 0.011333333333333334, 0.11066666666666666, 0.008333333333333333, 0.011333333333333334, 0.012333333333333333, 0.011, 0.011333333333333334, 0.01]\n"
     ]
    },
    {
     "name": "stdout",
     "output_type": "stream",
     "text": [
      "[1. 0. 0. ... 0. 0. 0.]\n",
      "[0.014333333333333333, 0.012333333333333333, 0.011333333333333334, 0.015, 0.012666666666666666, 0.011333333333333334, 0.009333333333333334, 0.009666666666666667, 0.011333333333333334, 0.11066666666666666, 0.008333333333333333, 0.011333333333333334, 0.012333333333333333, 0.011, 0.011333333333333334, 0.01]\n",
      "[1. 0. 0. ... 0. 0. 0.]\n",
      "[0.014333333333333333, 0.012333333333333333, 0.011333333333333334, 0.015, 0.012666666666666666, 0.011333333333333334, 0.009333333333333334, 0.009666666666666667, 0.011333333333333334, 0.11066666666666666, 0.008333333333333333, 0.011333333333333334, 0.012333333333333333, 0.011, 0.011333333333333334, 0.01]\n",
      "[1. 0. 0. ... 0. 0. 0.]\n",
      "[0.014333333333333333, 0.012333333333333333, 0.011333333333333334, 0.015, 0.012666666666666666, 0.011333333333333334, 0.009333333333333334, 0.009666666666666667, 0.011333333333333334, 0.11066666666666666, 0.008333333333333333, 0.011333333333333334, 0.012333333333333333, 0.011, 0.011333333333333334, 0.01]\n",
      "[1. 0. 0. ... 0. 0. 0.]\n",
      "[0.014333333333333333, 0.012333333333333333, 0.010666666666666666, 0.015, 0.012, 0.010333333333333333, 0.007333333333333333, 0.007333333333333333, 0.011, 0.10433333333333333, 0.004, 0.011333333333333334, 0.011666666666666667, 0.010333333333333333, 0.010666666666666666, 0.008]\n",
      "[0. 0. 0. ... 0. 0. 0.]\n",
      "[0.010666666666666666, 0.004333333333333333, 0.0023333333333333335, 0.011666666666666667, 0.0026666666666666666, 0.0026666666666666666, 0.0003333333333333333, 0.0, 0.0036666666666666666, 0.021333333333333333, 0.0, 0.003, 0.0036666666666666666, 0.0033333333333333335, 0.0016666666666666668, 0.0013333333333333333]\n",
      "[0. 0. 0. ... 0. 0. 0.]\n",
      "[0.014333333333333333, 0.007333333333333333, 0.003, 0.015, 0.003, 0.0036666666666666666, 0.002, 0.0026666666666666666, 0.004666666666666667, 0.030666666666666665, 0.0026666666666666666, 0.004666666666666667, 0.005, 0.005, 0.0033333333333333335, 0.0026666666666666666]\n",
      "[0. 0. 0. ... 0. 0. 0.]\n",
      "[0.014333333333333333, 0.005, 0.0023333333333333335, 0.015, 0.0026666666666666666, 0.003, 0.002, 0.0026666666666666666, 0.004, 0.027666666666666666, 0.0026666666666666666, 0.004, 0.004666666666666667, 0.004, 0.0033333333333333335, 0.0026666666666666666]\n",
      "[0. 0. 0. ... 0. 0. 0.]\n",
      "[0.014333333333333333, 0.004666666666666667, 0.0023333333333333335, 0.015, 0.0026666666666666666, 0.003, 0.002, 0.0026666666666666666, 0.0036666666666666666, 0.027333333333333334, 0.0026666666666666666, 0.0036666666666666666, 0.004666666666666667, 0.004, 0.0033333333333333335, 0.0026666666666666666]\n",
      "[0. 0. 0. ... 0. 0. 0.]\n",
      "[0.014333333333333333, 0.004666666666666667, 0.0023333333333333335, 0.015, 0.0026666666666666666, 0.003, 0.002, 0.0026666666666666666, 0.0036666666666666666, 0.027333333333333334, 0.0026666666666666666, 0.0036666666666666666, 0.004666666666666667, 0.004, 0.0033333333333333335, 0.0026666666666666666]\n",
      "[0. 0. 0. ... 0. 0. 0.]\n",
      "[0.014333333333333333, 0.004666666666666667, 0.0023333333333333335, 0.015, 0.0026666666666666666, 0.003, 0.002, 0.0026666666666666666, 0.0036666666666666666, 0.027333333333333334, 0.0026666666666666666, 0.0036666666666666666, 0.004666666666666667, 0.004, 0.0033333333333333335, 0.0026666666666666666]\n",
      "[0. 0. 0. ... 0. 0. 0.]\n",
      "[0.014333333333333333, 0.004666666666666667, 0.0023333333333333335, 0.015, 0.0026666666666666666, 0.003, 0.002, 0.0026666666666666666, 0.0036666666666666666, 0.027333333333333334, 0.0026666666666666666, 0.0036666666666666666, 0.004666666666666667, 0.004, 0.0033333333333333335, 0.0026666666666666666]\n",
      "[0. 0. 0. ... 0. 0. 0.]\n",
      "[0.014333333333333333, 0.004666666666666667, 0.0023333333333333335, 0.015, 0.0026666666666666666, 0.003, 0.002, 0.0026666666666666666, 0.0036666666666666666, 0.027333333333333334, 0.0026666666666666666, 0.0036666666666666666, 0.004666666666666667, 0.004, 0.0033333333333333335, 0.0026666666666666666]\n",
      "[0. 0. 0. ... 0. 0. 0.]\n",
      "[0.014333333333333333, 0.004666666666666667, 0.0023333333333333335, 0.015, 0.0026666666666666666, 0.003, 0.002, 0.0026666666666666666, 0.0036666666666666666, 0.027333333333333334, 0.0026666666666666666, 0.0036666666666666666, 0.004666666666666667, 0.004, 0.0033333333333333335, 0.0026666666666666666]\n",
      "[0. 0. 0. ... 0. 0. 0.]\n",
      "[0.014333333333333333, 0.004666666666666667, 0.0023333333333333335, 0.015, 0.0026666666666666666, 0.003, 0.002, 0.0026666666666666666, 0.0036666666666666666, 0.027333333333333334, 0.0026666666666666666, 0.0036666666666666666, 0.004666666666666667, 0.004, 0.0033333333333333335, 0.0026666666666666666]\n",
      "[0. 0. 0. ... 0. 0. 0.]\n",
      "[0.014333333333333333, 0.004666666666666667, 0.0023333333333333335, 0.015, 0.0026666666666666666, 0.003, 0.002, 0.0026666666666666666, 0.0036666666666666666, 0.027333333333333334, 0.0026666666666666666, 0.0036666666666666666, 0.004666666666666667, 0.004, 0.0033333333333333335, 0.0026666666666666666]\n",
      "[0. 0. 0. ... 0. 0. 0.]\n",
      "[0.014333333333333333, 0.004666666666666667, 0.0023333333333333335, 0.015, 0.0026666666666666666, 0.003, 0.002, 0.0026666666666666666, 0.0036666666666666666, 0.027333333333333334, 0.0026666666666666666, 0.0036666666666666666, 0.004666666666666667, 0.004, 0.0033333333333333335, 0.0026666666666666666]\n",
      "[0. 0. 0. ... 0. 0. 0.]\n",
      "[0.014333333333333333, 0.004666666666666667, 0.0023333333333333335, 0.015, 0.0026666666666666666, 0.003, 0.002, 0.0026666666666666666, 0.0036666666666666666, 0.027333333333333334, 0.0026666666666666666, 0.0036666666666666666, 0.004666666666666667, 0.004, 0.0033333333333333335, 0.0026666666666666666]\n",
      "[0. 0. 0. ... 0. 0. 0.]\n",
      "[0.014333333333333333, 0.008, 0.0026666666666666666, 0.015, 0.003, 0.003, 0.002, 0.0033333333333333335, 0.004333333333333333, 0.03266666666666666, 0.003, 0.005666666666666667, 0.007, 0.005, 0.005666666666666667, 0.0033333333333333335]\n",
      "[0. 0. 0. ... 0. 0. 0.]\n",
      "[0.014333333333333333, 0.012333333333333333, 0.005666666666666667, 0.015, 0.005666666666666667, 0.006333333333333333, 0.003, 0.005, 0.005333333333333333, 0.05733333333333333, 0.004333333333333333, 0.011333333333333334, 0.012333333333333333, 0.010666666666666666, 0.010666666666666666, 0.005]\n",
      "[1. 0. 0. ... 0. 0. 0.]\n",
      "[0.014333333333333333, 0.012333333333333333, 0.010666666666666666, 0.015, 0.011, 0.010333333333333333, 0.0036666666666666666, 0.009, 0.010666666666666666, 0.10433333333333333, 0.006666666666666667, 0.011333333333333334, 0.012333333333333333, 0.011, 0.011333333333333334, 0.009333333333333334]\n",
      "[1. 0. 0. ... 0. 0. 0.]\n",
      "[0.014333333333333333, 0.012333333333333333, 0.011333333333333334, 0.015, 0.012666666666666666, 0.011333333333333334, 0.009333333333333334, 0.009666666666666667, 0.011333333333333334, 0.11066666666666666, 0.008333333333333333, 0.011333333333333334, 0.012333333333333333, 0.011, 0.011333333333333334, 0.01]\n",
      "[1. 0. 0. ... 0. 0. 0.]\n",
      "[0.014333333333333333, 0.012333333333333333, 0.011333333333333334, 0.015, 0.012666666666666666, 0.011333333333333334, 0.009333333333333334, 0.009666666666666667, 0.011333333333333334, 0.11066666666666666, 0.008333333333333333, 0.011333333333333334, 0.012333333333333333, 0.011, 0.011333333333333334, 0.01]\n",
      "[1. 0. 0. ... 0. 0. 0.]\n",
      "[0.014333333333333333, 0.012333333333333333, 0.011333333333333334, 0.015, 0.012666666666666666, 0.011333333333333334, 0.009333333333333334, 0.009666666666666667, 0.011333333333333334, 0.11066666666666666, 0.008333333333333333, 0.011333333333333334, 0.012333333333333333, 0.011, 0.011333333333333334, 0.01]\n",
      "[1. 0. 0. ... 0. 0. 0.]\n",
      "[0.014333333333333333, 0.012333333333333333, 0.011333333333333334, 0.015, 0.012666666666666666, 0.011333333333333334, 0.009333333333333334, 0.009666666666666667, 0.011333333333333334, 0.11066666666666666, 0.008333333333333333, 0.011333333333333334, 0.012333333333333333, 0.011, 0.011333333333333334, 0.01]\n",
      "[1. 0. 0. ... 0. 0. 0.]\n",
      "[0.014333333333333333, 0.012333333333333333, 0.011333333333333334, 0.015, 0.012666666666666666, 0.011333333333333334, 0.009333333333333334, 0.009666666666666667, 0.011333333333333334, 0.11066666666666666, 0.008333333333333333, 0.011333333333333334, 0.012333333333333333, 0.011, 0.011333333333333334, 0.01]\n",
      "[1. 0. 0. ... 0. 0. 0.]\n",
      "[0.014333333333333333, 0.012333333333333333, 0.011333333333333334, 0.015, 0.012666666666666666, 0.011333333333333334, 0.009333333333333334, 0.009666666666666667, 0.011333333333333334, 0.11066666666666666, 0.008333333333333333, 0.011333333333333334, 0.012333333333333333, 0.011, 0.011333333333333334, 0.01]\n",
      "[1. 0. 0. ... 0. 0. 0.]\n",
      "[0.014333333333333333, 0.012333333333333333, 0.011333333333333334, 0.015, 0.012666666666666666, 0.011333333333333334, 0.009333333333333334, 0.009666666666666667, 0.011333333333333334, 0.11066666666666666, 0.008333333333333333, 0.011333333333333334, 0.012333333333333333, 0.011, 0.011333333333333334, 0.01]\n",
      "[1. 0. 0. ... 0. 0. 0.]\n",
      "[0.014333333333333333, 0.012333333333333333, 0.011333333333333334, 0.015, 0.012666666666666666, 0.011333333333333334, 0.009333333333333334, 0.009666666666666667, 0.011333333333333334, 0.11066666666666666, 0.008333333333333333, 0.011333333333333334, 0.012333333333333333, 0.011, 0.011333333333333334, 0.01]\n",
      "[1. 0. 0. ... 0. 0. 0.]\n",
      "[0.014333333333333333, 0.012333333333333333, 0.010666666666666666, 0.015, 0.012, 0.010333333333333333, 0.007333333333333333, 0.007333333333333333, 0.011, 0.10433333333333333, 0.004, 0.011333333333333334, 0.011666666666666667, 0.010333333333333333, 0.010666666666666666, 0.008]\n",
      "[0. 0. 0. ... 0. 0. 0.]\n",
      "[0.010666666666666666, 0.004333333333333333, 0.0023333333333333335, 0.011666666666666667, 0.0026666666666666666, 0.0026666666666666666, 0.0003333333333333333, 0.0, 0.0036666666666666666, 0.021333333333333333, 0.0, 0.003, 0.0036666666666666666, 0.0033333333333333335, 0.0016666666666666668, 0.0013333333333333333]\n",
      "[0. 0. 0. ... 0. 0. 0.]\n",
      "[0.014333333333333333, 0.007333333333333333, 0.003, 0.015, 0.003, 0.0036666666666666666, 0.002, 0.0026666666666666666, 0.004666666666666667, 0.030666666666666665, 0.0026666666666666666, 0.004666666666666667, 0.005, 0.005, 0.0033333333333333335, 0.0026666666666666666]\n",
      "[0. 0. 0. ... 0. 0. 0.]\n",
      "[0.014333333333333333, 0.005, 0.0023333333333333335, 0.015, 0.0026666666666666666, 0.003, 0.002, 0.0026666666666666666, 0.004, 0.027666666666666666, 0.0026666666666666666, 0.004, 0.004666666666666667, 0.004, 0.0033333333333333335, 0.0026666666666666666]\n",
      "[0. 0. 0. ... 0. 0. 0.]\n",
      "[0.014333333333333333, 0.004666666666666667, 0.0023333333333333335, 0.015, 0.0026666666666666666, 0.003, 0.002, 0.0026666666666666666, 0.0036666666666666666, 0.027333333333333334, 0.0026666666666666666, 0.0036666666666666666, 0.004666666666666667, 0.004, 0.0033333333333333335, 0.0026666666666666666]\n",
      "[0. 0. 0. ... 0. 0. 0.]\n",
      "[0.014333333333333333, 0.004666666666666667, 0.0023333333333333335, 0.015, 0.0026666666666666666, 0.003, 0.002, 0.0026666666666666666, 0.0036666666666666666, 0.027333333333333334, 0.0026666666666666666, 0.0036666666666666666, 0.004666666666666667, 0.004, 0.0033333333333333335, 0.0026666666666666666]\n",
      "[0. 0. 0. ... 0. 0. 0.]\n",
      "[0.014333333333333333, 0.004666666666666667, 0.0023333333333333335, 0.015, 0.0026666666666666666, 0.003, 0.002, 0.0026666666666666666, 0.0036666666666666666, 0.027333333333333334, 0.0026666666666666666, 0.0036666666666666666, 0.004666666666666667, 0.004, 0.0033333333333333335, 0.0026666666666666666]\n",
      "[0. 0. 0. ... 0. 0. 0.]\n",
      "[0.014333333333333333, 0.004666666666666667, 0.0023333333333333335, 0.015, 0.0026666666666666666, 0.003, 0.002, 0.0026666666666666666, 0.0036666666666666666, 0.027333333333333334, 0.0026666666666666666, 0.0036666666666666666, 0.004666666666666667, 0.004, 0.0033333333333333335, 0.0026666666666666666]\n",
      "[0. 0. 0. ... 0. 0. 0.]\n",
      "[0.014333333333333333, 0.004666666666666667, 0.0023333333333333335, 0.015, 0.0026666666666666666, 0.003, 0.002, 0.0026666666666666666, 0.0036666666666666666, 0.027333333333333334, 0.0026666666666666666, 0.0036666666666666666, 0.004666666666666667, 0.004, 0.0033333333333333335, 0.0026666666666666666]\n",
      "[0. 0. 0. ... 0. 0. 0.]\n",
      "[0.014333333333333333, 0.004666666666666667, 0.0023333333333333335, 0.015, 0.0026666666666666666, 0.003, 0.002, 0.0026666666666666666, 0.0036666666666666666, 0.027333333333333334, 0.0026666666666666666, 0.0036666666666666666, 0.004666666666666667, 0.004, 0.0033333333333333335, 0.0026666666666666666]\n",
      "[0. 0. 0. ... 0. 0. 0.]\n",
      "[0.014333333333333333, 0.004666666666666667, 0.0023333333333333335, 0.015, 0.0026666666666666666, 0.003, 0.002, 0.0026666666666666666, 0.0036666666666666666, 0.027333333333333334, 0.0026666666666666666, 0.0036666666666666666, 0.004666666666666667, 0.004, 0.0033333333333333335, 0.0026666666666666666]\n",
      "[0. 0. 0. ... 0. 0. 0.]\n",
      "[0.014333333333333333, 0.004666666666666667, 0.0023333333333333335, 0.015, 0.0026666666666666666, 0.003, 0.002, 0.0026666666666666666, 0.0036666666666666666, 0.027333333333333334, 0.0026666666666666666, 0.0036666666666666666, 0.004666666666666667, 0.004, 0.0033333333333333335, 0.0026666666666666666]\n",
      "[0. 0. 0. ... 0. 0. 0.]\n",
      "[0.014333333333333333, 0.004666666666666667, 0.0023333333333333335, 0.015, 0.0026666666666666666, 0.003, 0.002, 0.0026666666666666666, 0.0036666666666666666, 0.027333333333333334, 0.0026666666666666666, 0.0036666666666666666, 0.004666666666666667, 0.004, 0.0033333333333333335, 0.0026666666666666666]\n",
      "[0. 0. 0. ... 0. 0. 0.]\n",
      "[0.014333333333333333, 0.004666666666666667, 0.0023333333333333335, 0.015, 0.0026666666666666666, 0.003, 0.002, 0.0026666666666666666, 0.0036666666666666666, 0.027333333333333334, 0.0026666666666666666, 0.0036666666666666666, 0.004666666666666667, 0.004, 0.0033333333333333335, 0.0026666666666666666]\n",
      "[0. 0. 0. ... 0. 0. 0.]\n",
      "[0.014333333333333333, 0.008, 0.0026666666666666666, 0.015, 0.003, 0.003, 0.002, 0.0033333333333333335, 0.004333333333333333, 0.03266666666666666, 0.003, 0.005666666666666667, 0.007, 0.005, 0.005666666666666667, 0.0033333333333333335]\n",
      "[0. 0. 0. ... 0. 0. 0.]\n",
      "[0.014333333333333333, 0.012333333333333333, 0.005666666666666667, 0.015, 0.005666666666666667, 0.006333333333333333, 0.003, 0.005, 0.005333333333333333, 0.05733333333333333, 0.004333333333333333, 0.011333333333333334, 0.012333333333333333, 0.010666666666666666, 0.010666666666666666, 0.005]\n",
      "[1. 0. 0. ... 0. 0. 0.]\n",
      "[0.014333333333333333, 0.012333333333333333, 0.010666666666666666, 0.015, 0.011, 0.010333333333333333, 0.0036666666666666666, 0.009, 0.010666666666666666, 0.10433333333333333, 0.006666666666666667, 0.011333333333333334, 0.012333333333333333, 0.011, 0.011333333333333334, 0.009333333333333334]\n",
      "[1. 0. 0. ... 0. 0. 0.]\n",
      "[0.014333333333333333, 0.012333333333333333, 0.011333333333333334, 0.015, 0.012666666666666666, 0.011333333333333334, 0.009333333333333334, 0.009666666666666667, 0.011333333333333334, 0.11066666666666666, 0.008333333333333333, 0.011333333333333334, 0.012333333333333333, 0.011, 0.011333333333333334, 0.01]\n",
      "[1. 0. 0. ... 0. 0. 0.]\n",
      "[0.014333333333333333, 0.012333333333333333, 0.011333333333333334, 0.015, 0.012666666666666666, 0.011333333333333334, 0.009333333333333334, 0.009666666666666667, 0.011333333333333334, 0.11066666666666666, 0.008333333333333333, 0.011333333333333334, 0.012333333333333333, 0.011, 0.011333333333333334, 0.01]\n",
      "[1. 0. 0. ... 0. 0. 0.]\n",
      "[0.014333333333333333, 0.012333333333333333, 0.011333333333333334, 0.015, 0.012666666666666666, 0.011333333333333334, 0.009333333333333334, 0.009666666666666667, 0.011333333333333334, 0.11066666666666666, 0.008333333333333333, 0.011333333333333334, 0.012333333333333333, 0.011, 0.011333333333333334, 0.01]\n",
      "[1. 0. 0. ... 0. 0. 0.]\n",
      "[0.014333333333333333, 0.012333333333333333, 0.011333333333333334, 0.015, 0.012666666666666666, 0.011333333333333334, 0.009333333333333334, 0.009666666666666667, 0.011333333333333334, 0.11066666666666666, 0.008333333333333333, 0.011333333333333334, 0.012333333333333333, 0.011, 0.011333333333333334, 0.01]\n",
      "[1. 0. 0. ... 0. 0. 0.]\n",
      "[0.014333333333333333, 0.012333333333333333, 0.011333333333333334, 0.015, 0.012666666666666666, 0.011333333333333334, 0.009333333333333334, 0.009666666666666667, 0.011333333333333334, 0.11066666666666666, 0.008333333333333333, 0.011333333333333334, 0.012333333333333333, 0.011, 0.011333333333333334, 0.01]\n",
      "[1. 0. 0. ... 0. 0. 0.]\n",
      "[0.014333333333333333, 0.012333333333333333, 0.011333333333333334, 0.015, 0.012666666666666666, 0.011333333333333334, 0.009333333333333334, 0.009666666666666667, 0.011333333333333334, 0.11066666666666666, 0.008333333333333333, 0.011333333333333334, 0.012333333333333333, 0.011, 0.011333333333333334, 0.01]\n",
      "[1. 0. 0. ... 0. 0. 0.]\n",
      "[0.014333333333333333, 0.012333333333333333, 0.011333333333333334, 0.015, 0.012666666666666666, 0.011333333333333334, 0.009333333333333334, 0.009666666666666667, 0.011333333333333334, 0.11066666666666666, 0.008333333333333333, 0.011333333333333334, 0.012333333333333333, 0.011, 0.011333333333333334, 0.01]\n",
      "[1. 0. 0. ... 0. 0. 0.]\n",
      "[0.014333333333333333, 0.012333333333333333, 0.011333333333333334, 0.015, 0.012666666666666666, 0.011333333333333334, 0.009333333333333334, 0.009666666666666667, 0.011333333333333334, 0.11066666666666666, 0.008333333333333333, 0.011333333333333334, 0.012333333333333333, 0.011, 0.011333333333333334, 0.01]\n",
      "[1. 0. 0. ... 0. 0. 0.]\n",
      "[0.014333333333333333, 0.012333333333333333, 0.010666666666666666, 0.015, 0.012, 0.010333333333333333, 0.007333333333333333, 0.007333333333333333, 0.011, 0.10433333333333333, 0.004, 0.011333333333333334, 0.011666666666666667, 0.010333333333333333, 0.010666666666666666, 0.008]\n",
      "[0. 0. 0. ... 0. 0. 0.]\n",
      "[0.010666666666666666, 0.004333333333333333, 0.0023333333333333335, 0.011666666666666667, 0.0026666666666666666, 0.0026666666666666666, 0.0003333333333333333, 0.0, 0.0036666666666666666, 0.021333333333333333, 0.0, 0.003, 0.0036666666666666666, 0.0033333333333333335, 0.0016666666666666668, 0.0013333333333333333]\n",
      "[0. 0. 0. ... 0. 0. 0.]\n",
      "[0.014333333333333333, 0.007333333333333333, 0.003, 0.015, 0.003, 0.0036666666666666666, 0.002, 0.0026666666666666666, 0.004666666666666667, 0.030666666666666665, 0.0026666666666666666, 0.004666666666666667, 0.005, 0.005, 0.0033333333333333335, 0.0026666666666666666]\n",
      "[0. 0. 0. ... 0. 0. 0.]\n",
      "[0.014333333333333333, 0.005, 0.0023333333333333335, 0.015, 0.0026666666666666666, 0.003, 0.002, 0.0026666666666666666, 0.004, 0.027666666666666666, 0.0026666666666666666, 0.004, 0.004666666666666667, 0.004, 0.0033333333333333335, 0.0026666666666666666]\n",
      "[0. 0. 0. ... 0. 0. 0.]\n",
      "[0.014333333333333333, 0.004666666666666667, 0.0023333333333333335, 0.015, 0.0026666666666666666, 0.003, 0.002, 0.0026666666666666666, 0.0036666666666666666, 0.027333333333333334, 0.0026666666666666666, 0.0036666666666666666, 0.004666666666666667, 0.004, 0.0033333333333333335, 0.0026666666666666666]\n",
      "[0. 0. 0. ... 0. 0. 0.]\n",
      "[0.014333333333333333, 0.004666666666666667, 0.0023333333333333335, 0.015, 0.0026666666666666666, 0.003, 0.002, 0.0026666666666666666, 0.0036666666666666666, 0.027333333333333334, 0.0026666666666666666, 0.0036666666666666666, 0.004666666666666667, 0.004, 0.0033333333333333335, 0.0026666666666666666]\n"
     ]
    },
    {
     "name": "stdout",
     "output_type": "stream",
     "text": [
      "[0. 0. 0. ... 0. 0. 0.]\n",
      "[0.014333333333333333, 0.004666666666666667, 0.0023333333333333335, 0.015, 0.0026666666666666666, 0.003, 0.002, 0.0026666666666666666, 0.0036666666666666666, 0.027333333333333334, 0.0026666666666666666, 0.0036666666666666666, 0.004666666666666667, 0.004, 0.0033333333333333335, 0.0026666666666666666]\n",
      "[0. 0. 0. ... 0. 0. 0.]\n",
      "[0.014333333333333333, 0.004666666666666667, 0.0023333333333333335, 0.015, 0.0026666666666666666, 0.003, 0.002, 0.0026666666666666666, 0.0036666666666666666, 0.027333333333333334, 0.0026666666666666666, 0.0036666666666666666, 0.004666666666666667, 0.004, 0.0033333333333333335, 0.0026666666666666666]\n",
      "[0. 0. 0. ... 0. 0. 0.]\n",
      "[0.014333333333333333, 0.004666666666666667, 0.0023333333333333335, 0.015, 0.0026666666666666666, 0.003, 0.002, 0.0026666666666666666, 0.0036666666666666666, 0.027333333333333334, 0.0026666666666666666, 0.0036666666666666666, 0.004666666666666667, 0.004, 0.0033333333333333335, 0.0026666666666666666]\n",
      "[0. 0. 0. ... 0. 0. 0.]\n",
      "[0.014333333333333333, 0.004666666666666667, 0.0023333333333333335, 0.015, 0.0026666666666666666, 0.003, 0.002, 0.0026666666666666666, 0.0036666666666666666, 0.027333333333333334, 0.0026666666666666666, 0.0036666666666666666, 0.004666666666666667, 0.004, 0.0033333333333333335, 0.0026666666666666666]\n",
      "[0. 0. 0. ... 0. 0. 0.]\n",
      "[0.014333333333333333, 0.004666666666666667, 0.0023333333333333335, 0.015, 0.0026666666666666666, 0.003, 0.002, 0.0026666666666666666, 0.0036666666666666666, 0.027333333333333334, 0.0026666666666666666, 0.0036666666666666666, 0.004666666666666667, 0.004, 0.0033333333333333335, 0.0026666666666666666]\n",
      "[0. 0. 0. ... 0. 0. 0.]\n",
      "[0.014333333333333333, 0.004666666666666667, 0.0023333333333333335, 0.015, 0.0026666666666666666, 0.003, 0.002, 0.0026666666666666666, 0.0036666666666666666, 0.027333333333333334, 0.0026666666666666666, 0.0036666666666666666, 0.004666666666666667, 0.004, 0.0033333333333333335, 0.0026666666666666666]\n",
      "[0. 0. 0. ... 0. 0. 0.]\n",
      "[0.014333333333333333, 0.004666666666666667, 0.0023333333333333335, 0.015, 0.0026666666666666666, 0.003, 0.002, 0.0026666666666666666, 0.0036666666666666666, 0.027333333333333334, 0.0026666666666666666, 0.0036666666666666666, 0.004666666666666667, 0.004, 0.0033333333333333335, 0.0026666666666666666]\n",
      "[0. 0. 0. ... 0. 0. 0.]\n",
      "[0.014333333333333333, 0.004666666666666667, 0.0023333333333333335, 0.015, 0.0026666666666666666, 0.003, 0.002, 0.0026666666666666666, 0.0036666666666666666, 0.027333333333333334, 0.0026666666666666666, 0.0036666666666666666, 0.004666666666666667, 0.004, 0.0033333333333333335, 0.0026666666666666666]\n",
      "[0. 0. 0. ... 0. 0. 0.]\n",
      "[0.014333333333333333, 0.008, 0.0026666666666666666, 0.015, 0.003, 0.003, 0.002, 0.0033333333333333335, 0.004333333333333333, 0.03266666666666666, 0.003, 0.005666666666666667, 0.007, 0.005, 0.005666666666666667, 0.0033333333333333335]\n",
      "[0. 0. 0. ... 0. 0. 0.]\n",
      "[0.014333333333333333, 0.012333333333333333, 0.005666666666666667, 0.015, 0.005666666666666667, 0.006333333333333333, 0.003, 0.005, 0.005333333333333333, 0.05733333333333333, 0.004333333333333333, 0.011333333333333334, 0.012333333333333333, 0.010666666666666666, 0.010666666666666666, 0.005]\n",
      "[1. 0. 0. ... 0. 0. 0.]\n",
      "[0.014333333333333333, 0.012333333333333333, 0.010666666666666666, 0.015, 0.011, 0.010333333333333333, 0.0036666666666666666, 0.009, 0.010666666666666666, 0.10433333333333333, 0.006666666666666667, 0.011333333333333334, 0.012333333333333333, 0.011, 0.011333333333333334, 0.009333333333333334]\n",
      "[1. 0. 0. ... 0. 0. 0.]\n",
      "[0.014333333333333333, 0.012333333333333333, 0.011333333333333334, 0.015, 0.012666666666666666, 0.011333333333333334, 0.009333333333333334, 0.009666666666666667, 0.011333333333333334, 0.11066666666666666, 0.008333333333333333, 0.011333333333333334, 0.012333333333333333, 0.011, 0.011333333333333334, 0.01]\n",
      "[1. 0. 0. ... 0. 0. 0.]\n",
      "[0.014333333333333333, 0.012333333333333333, 0.011333333333333334, 0.015, 0.012666666666666666, 0.011333333333333334, 0.009333333333333334, 0.009666666666666667, 0.011333333333333334, 0.11066666666666666, 0.008333333333333333, 0.011333333333333334, 0.012333333333333333, 0.011, 0.011333333333333334, 0.01]\n",
      "[1. 0. 0. ... 0. 0. 0.]\n",
      "[0.014333333333333333, 0.012333333333333333, 0.011333333333333334, 0.015, 0.012666666666666666, 0.011333333333333334, 0.009333333333333334, 0.009666666666666667, 0.011333333333333334, 0.11066666666666666, 0.008333333333333333, 0.011333333333333334, 0.012333333333333333, 0.011, 0.011333333333333334, 0.01]\n",
      "[1. 0. 0. ... 0. 0. 0.]\n",
      "[0.014333333333333333, 0.012333333333333333, 0.011333333333333334, 0.015, 0.012666666666666666, 0.011333333333333334, 0.009333333333333334, 0.009666666666666667, 0.011333333333333334, 0.11066666666666666, 0.008333333333333333, 0.011333333333333334, 0.012333333333333333, 0.011, 0.011333333333333334, 0.01]\n",
      "[1. 0. 0. ... 0. 0. 0.]\n",
      "[0.014333333333333333, 0.012333333333333333, 0.011333333333333334, 0.015, 0.012666666666666666, 0.011333333333333334, 0.009333333333333334, 0.009666666666666667, 0.011333333333333334, 0.11066666666666666, 0.008333333333333333, 0.011333333333333334, 0.012333333333333333, 0.011, 0.011333333333333334, 0.01]\n",
      "[1. 0. 0. ... 0. 0. 0.]\n",
      "[0.014333333333333333, 0.012333333333333333, 0.011333333333333334, 0.015, 0.012666666666666666, 0.011333333333333334, 0.009333333333333334, 0.009666666666666667, 0.011333333333333334, 0.11066666666666666, 0.008333333333333333, 0.011333333333333334, 0.012333333333333333, 0.011, 0.011333333333333334, 0.01]\n",
      "[1. 0. 0. ... 0. 0. 0.]\n",
      "[0.014333333333333333, 0.012333333333333333, 0.011333333333333334, 0.015, 0.012666666666666666, 0.011333333333333334, 0.009333333333333334, 0.009666666666666667, 0.011333333333333334, 0.11066666666666666, 0.008333333333333333, 0.011333333333333334, 0.012333333333333333, 0.011, 0.011333333333333334, 0.01]\n",
      "[1. 0. 0. ... 0. 0. 0.]\n",
      "[0.014333333333333333, 0.012333333333333333, 0.011333333333333334, 0.015, 0.012666666666666666, 0.011333333333333334, 0.009333333333333334, 0.009666666666666667, 0.011333333333333334, 0.11066666666666666, 0.008333333333333333, 0.011333333333333334, 0.012333333333333333, 0.011, 0.011333333333333334, 0.01]\n",
      "[1. 0. 0. ... 0. 0. 0.]\n",
      "[0.014333333333333333, 0.012333333333333333, 0.010666666666666666, 0.015, 0.012, 0.010333333333333333, 0.007333333333333333, 0.007333333333333333, 0.011, 0.10433333333333333, 0.004, 0.011333333333333334, 0.011666666666666667, 0.010333333333333333, 0.010666666666666666, 0.008]\n",
      "[0. 0. 0. ... 0. 0. 0.]\n",
      "[0.010666666666666666, 0.004333333333333333, 0.0023333333333333335, 0.011666666666666667, 0.0026666666666666666, 0.0026666666666666666, 0.0003333333333333333, 0.0, 0.0036666666666666666, 0.021333333333333333, 0.0, 0.003, 0.0036666666666666666, 0.0033333333333333335, 0.0016666666666666668, 0.0013333333333333333]\n",
      "[0. 0. 0. ... 0. 0. 0.]\n",
      "[0.014333333333333333, 0.007333333333333333, 0.003, 0.015, 0.003, 0.0036666666666666666, 0.002, 0.0026666666666666666, 0.004666666666666667, 0.030666666666666665, 0.0026666666666666666, 0.004666666666666667, 0.005, 0.005, 0.0033333333333333335, 0.0026666666666666666]\n",
      "[0. 0. 0. ... 0. 0. 0.]\n",
      "[0.014333333333333333, 0.005, 0.0023333333333333335, 0.015, 0.0026666666666666666, 0.003, 0.002, 0.0026666666666666666, 0.004, 0.027666666666666666, 0.0026666666666666666, 0.004, 0.004666666666666667, 0.004, 0.0033333333333333335, 0.0026666666666666666]\n",
      "[0. 0. 0. ... 0. 0. 0.]\n",
      "[0.014333333333333333, 0.004666666666666667, 0.0023333333333333335, 0.015, 0.0026666666666666666, 0.003, 0.002, 0.0026666666666666666, 0.0036666666666666666, 0.027333333333333334, 0.0026666666666666666, 0.0036666666666666666, 0.004666666666666667, 0.004, 0.0033333333333333335, 0.0026666666666666666]\n",
      "[0. 0. 0. ... 0. 0. 0.]\n",
      "[0.014333333333333333, 0.004666666666666667, 0.0023333333333333335, 0.015, 0.0026666666666666666, 0.003, 0.002, 0.0026666666666666666, 0.0036666666666666666, 0.027333333333333334, 0.0026666666666666666, 0.0036666666666666666, 0.004666666666666667, 0.004, 0.0033333333333333335, 0.0026666666666666666]\n",
      "[0. 0. 0. ... 0. 0. 0.]\n",
      "[0.014333333333333333, 0.004666666666666667, 0.0023333333333333335, 0.015, 0.0026666666666666666, 0.003, 0.002, 0.0026666666666666666, 0.0036666666666666666, 0.027333333333333334, 0.0026666666666666666, 0.0036666666666666666, 0.004666666666666667, 0.004, 0.0033333333333333335, 0.0026666666666666666]\n",
      "[0. 0. 0. ... 0. 0. 0.]\n",
      "[0.014333333333333333, 0.004666666666666667, 0.0023333333333333335, 0.015, 0.0026666666666666666, 0.003, 0.002, 0.0026666666666666666, 0.0036666666666666666, 0.027333333333333334, 0.0026666666666666666, 0.0036666666666666666, 0.004666666666666667, 0.004, 0.0033333333333333335, 0.0026666666666666666]\n",
      "[0. 0. 0. ... 0. 0. 0.]\n",
      "[0.014333333333333333, 0.004666666666666667, 0.0023333333333333335, 0.015, 0.0026666666666666666, 0.003, 0.002, 0.0026666666666666666, 0.0036666666666666666, 0.027333333333333334, 0.0026666666666666666, 0.0036666666666666666, 0.004666666666666667, 0.004, 0.0033333333333333335, 0.0026666666666666666]\n",
      "[0. 0. 0. ... 0. 0. 0.]\n",
      "[0.014333333333333333, 0.004666666666666667, 0.0023333333333333335, 0.015, 0.0026666666666666666, 0.003, 0.002, 0.0026666666666666666, 0.0036666666666666666, 0.027333333333333334, 0.0026666666666666666, 0.0036666666666666666, 0.004666666666666667, 0.004, 0.0033333333333333335, 0.0026666666666666666]\n",
      "[0. 0. 0. ... 0. 0. 0.]\n",
      "[0.014333333333333333, 0.004666666666666667, 0.0023333333333333335, 0.015, 0.0026666666666666666, 0.003, 0.002, 0.0026666666666666666, 0.0036666666666666666, 0.027333333333333334, 0.0026666666666666666, 0.0036666666666666666, 0.004666666666666667, 0.004, 0.0033333333333333335, 0.0026666666666666666]\n",
      "[0. 0. 0. ... 0. 0. 0.]\n",
      "[0.014333333333333333, 0.004666666666666667, 0.0023333333333333335, 0.015, 0.0026666666666666666, 0.003, 0.002, 0.0026666666666666666, 0.0036666666666666666, 0.027333333333333334, 0.0026666666666666666, 0.0036666666666666666, 0.004666666666666667, 0.004, 0.0033333333333333335, 0.0026666666666666666]\n",
      "[0. 0. 0. ... 0. 0. 0.]\n",
      "[0.014333333333333333, 0.004666666666666667, 0.0023333333333333335, 0.015, 0.0026666666666666666, 0.003, 0.002, 0.0026666666666666666, 0.0036666666666666666, 0.027333333333333334, 0.0026666666666666666, 0.0036666666666666666, 0.004666666666666667, 0.004, 0.0033333333333333335, 0.0026666666666666666]\n",
      "[0. 0. 0. ... 0. 0. 0.]\n",
      "[0.014333333333333333, 0.004666666666666667, 0.0023333333333333335, 0.015, 0.0026666666666666666, 0.003, 0.002, 0.0026666666666666666, 0.0036666666666666666, 0.027333333333333334, 0.0026666666666666666, 0.0036666666666666666, 0.004666666666666667, 0.004, 0.0033333333333333335, 0.0026666666666666666]\n",
      "[0. 0. 0. ... 0. 0. 0.]\n",
      "[0.014333333333333333, 0.008, 0.0026666666666666666, 0.015, 0.003, 0.003, 0.002, 0.0033333333333333335, 0.004333333333333333, 0.03266666666666666, 0.003, 0.005666666666666667, 0.007, 0.005, 0.005666666666666667, 0.0033333333333333335]\n",
      "[0. 0. 0. ... 0. 0. 0.]\n",
      "[0.014333333333333333, 0.012333333333333333, 0.005666666666666667, 0.015, 0.005666666666666667, 0.006333333333333333, 0.003, 0.005, 0.005333333333333333, 0.05733333333333333, 0.004333333333333333, 0.011333333333333334, 0.012333333333333333, 0.010666666666666666, 0.010666666666666666, 0.005]\n",
      "[1. 0. 0. ... 0. 0. 0.]\n",
      "[0.014333333333333333, 0.012333333333333333, 0.010666666666666666, 0.015, 0.011, 0.010333333333333333, 0.0036666666666666666, 0.009, 0.010666666666666666, 0.10433333333333333, 0.006666666666666667, 0.011333333333333334, 0.012333333333333333, 0.011, 0.011333333333333334, 0.009333333333333334]\n",
      "[1. 0. 0. ... 0. 0. 0.]\n",
      "[0.014333333333333333, 0.012333333333333333, 0.011333333333333334, 0.015, 0.012666666666666666, 0.011333333333333334, 0.009333333333333334, 0.009666666666666667, 0.011333333333333334, 0.11066666666666666, 0.008333333333333333, 0.011333333333333334, 0.012333333333333333, 0.011, 0.011333333333333334, 0.01]\n",
      "[1. 0. 0. ... 0. 0. 0.]\n",
      "[0.014333333333333333, 0.012333333333333333, 0.011333333333333334, 0.015, 0.012666666666666666, 0.011333333333333334, 0.009333333333333334, 0.009666666666666667, 0.011333333333333334, 0.11066666666666666, 0.008333333333333333, 0.011333333333333334, 0.012333333333333333, 0.011, 0.011333333333333334, 0.01]\n",
      "[1. 0. 0. ... 0. 0. 0.]\n",
      "[0.014333333333333333, 0.012333333333333333, 0.011333333333333334, 0.015, 0.012666666666666666, 0.011333333333333334, 0.009333333333333334, 0.009666666666666667, 0.011333333333333334, 0.11066666666666666, 0.008333333333333333, 0.011333333333333334, 0.012333333333333333, 0.011, 0.011333333333333334, 0.01]\n",
      "[1. 0. 0. ... 0. 0. 0.]\n",
      "[0.014333333333333333, 0.012333333333333333, 0.011333333333333334, 0.015, 0.012666666666666666, 0.011333333333333334, 0.009333333333333334, 0.009666666666666667, 0.011333333333333334, 0.11066666666666666, 0.008333333333333333, 0.011333333333333334, 0.012333333333333333, 0.011, 0.011333333333333334, 0.01]\n",
      "[1. 0. 0. ... 0. 0. 0.]\n",
      "[0.014333333333333333, 0.012333333333333333, 0.011333333333333334, 0.015, 0.012666666666666666, 0.011333333333333334, 0.009333333333333334, 0.009666666666666667, 0.011333333333333334, 0.11066666666666666, 0.008333333333333333, 0.011333333333333334, 0.012333333333333333, 0.011, 0.011333333333333334, 0.01]\n",
      "[1. 0. 0. ... 0. 0. 0.]\n",
      "[0.014333333333333333, 0.012333333333333333, 0.011333333333333334, 0.015, 0.012666666666666666, 0.011333333333333334, 0.009333333333333334, 0.009666666666666667, 0.011333333333333334, 0.11066666666666666, 0.008333333333333333, 0.011333333333333334, 0.012333333333333333, 0.011, 0.011333333333333334, 0.01]\n",
      "[1. 0. 0. ... 0. 0. 0.]\n",
      "[0.014333333333333333, 0.012333333333333333, 0.011333333333333334, 0.015, 0.012666666666666666, 0.011333333333333334, 0.009333333333333334, 0.009666666666666667, 0.011333333333333334, 0.11066666666666666, 0.008333333333333333, 0.011333333333333334, 0.012333333333333333, 0.011, 0.011333333333333334, 0.01]\n",
      "[1. 0. 0. ... 0. 0. 0.]\n",
      "[0.014333333333333333, 0.012333333333333333, 0.011333333333333334, 0.015, 0.012666666666666666, 0.011333333333333334, 0.009333333333333334, 0.009666666666666667, 0.011333333333333334, 0.11066666666666666, 0.008333333333333333, 0.011333333333333334, 0.012333333333333333, 0.011, 0.011333333333333334, 0.01]\n",
      "[1. 0. 0. ... 0. 0. 0.]\n",
      "[0.014333333333333333, 0.012333333333333333, 0.010666666666666666, 0.015, 0.012, 0.010333333333333333, 0.007333333333333333, 0.007333333333333333, 0.011, 0.10433333333333333, 0.004, 0.011333333333333334, 0.011666666666666667, 0.010333333333333333, 0.010666666666666666, 0.008]\n",
      "[0. 0. 0. ... 0. 0. 0.]\n",
      "[0.010666666666666666, 0.004333333333333333, 0.0023333333333333335, 0.011666666666666667, 0.0026666666666666666, 0.0026666666666666666, 0.0003333333333333333, 0.0, 0.0036666666666666666, 0.021333333333333333, 0.0, 0.003, 0.0036666666666666666, 0.0033333333333333335, 0.0016666666666666668, 0.0013333333333333333]\n",
      "[0. 0. 0. ... 0. 0. 0.]\n",
      "[0.014333333333333333, 0.007333333333333333, 0.003, 0.015, 0.003, 0.0036666666666666666, 0.002, 0.0026666666666666666, 0.004666666666666667, 0.030666666666666665, 0.0026666666666666666, 0.004666666666666667, 0.005, 0.005, 0.0033333333333333335, 0.0026666666666666666]\n",
      "[0. 0. 0. ... 0. 0. 0.]\n",
      "[0.014333333333333333, 0.005, 0.0023333333333333335, 0.015, 0.0026666666666666666, 0.003, 0.002, 0.0026666666666666666, 0.004, 0.027666666666666666, 0.0026666666666666666, 0.004, 0.004666666666666667, 0.004, 0.0033333333333333335, 0.0026666666666666666]\n",
      "[0. 0. 0. ... 0. 0. 0.]\n",
      "[0.014333333333333333, 0.004666666666666667, 0.0023333333333333335, 0.015, 0.0026666666666666666, 0.003, 0.002, 0.0026666666666666666, 0.0036666666666666666, 0.027333333333333334, 0.0026666666666666666, 0.0036666666666666666, 0.004666666666666667, 0.004, 0.0033333333333333335, 0.0026666666666666666]\n",
      "[0. 0. 0. ... 0. 0. 0.]\n",
      "[0.014333333333333333, 0.004666666666666667, 0.0023333333333333335, 0.015, 0.0026666666666666666, 0.003, 0.002, 0.0026666666666666666, 0.0036666666666666666, 0.027333333333333334, 0.0026666666666666666, 0.0036666666666666666, 0.004666666666666667, 0.004, 0.0033333333333333335, 0.0026666666666666666]\n",
      "[0. 0. 0. ... 0. 0. 0.]\n",
      "[0.014333333333333333, 0.004666666666666667, 0.0023333333333333335, 0.015, 0.0026666666666666666, 0.003, 0.002, 0.0026666666666666666, 0.0036666666666666666, 0.027333333333333334, 0.0026666666666666666, 0.0036666666666666666, 0.004666666666666667, 0.004, 0.0033333333333333335, 0.0026666666666666666]\n",
      "[0. 0. 0. ... 0. 0. 0.]\n",
      "[0.014333333333333333, 0.004666666666666667, 0.0023333333333333335, 0.015, 0.0026666666666666666, 0.003, 0.002, 0.0026666666666666666, 0.0036666666666666666, 0.027333333333333334, 0.0026666666666666666, 0.0036666666666666666, 0.004666666666666667, 0.004, 0.0033333333333333335, 0.0026666666666666666]\n",
      "[0. 0. 0. ... 0. 0. 0.]\n",
      "[0.014333333333333333, 0.004666666666666667, 0.0023333333333333335, 0.015, 0.0026666666666666666, 0.003, 0.002, 0.0026666666666666666, 0.0036666666666666666, 0.027333333333333334, 0.0026666666666666666, 0.0036666666666666666, 0.004666666666666667, 0.004, 0.0033333333333333335, 0.0026666666666666666]\n",
      "[0. 0. 0. ... 0. 0. 0.]\n",
      "[0.014333333333333333, 0.004666666666666667, 0.0023333333333333335, 0.015, 0.0026666666666666666, 0.003, 0.002, 0.0026666666666666666, 0.0036666666666666666, 0.027333333333333334, 0.0026666666666666666, 0.0036666666666666666, 0.004666666666666667, 0.004, 0.0033333333333333335, 0.0026666666666666666]\n",
      "[0. 0. 0. ... 0. 0. 0.]\n",
      "[0.014333333333333333, 0.004666666666666667, 0.0023333333333333335, 0.015, 0.0026666666666666666, 0.003, 0.002, 0.0026666666666666666, 0.0036666666666666666, 0.027333333333333334, 0.0026666666666666666, 0.0036666666666666666, 0.004666666666666667, 0.004, 0.0033333333333333335, 0.0026666666666666666]\n",
      "[0. 0. 0. ... 0. 0. 0.]\n",
      "[0.014333333333333333, 0.004666666666666667, 0.0023333333333333335, 0.015, 0.0026666666666666666, 0.003, 0.002, 0.0026666666666666666, 0.0036666666666666666, 0.027333333333333334, 0.0026666666666666666, 0.0036666666666666666, 0.004666666666666667, 0.004, 0.0033333333333333335, 0.0026666666666666666]\n",
      "[0. 0. 0. ... 0. 0. 0.]\n",
      "[0.014333333333333333, 0.004666666666666667, 0.0023333333333333335, 0.015, 0.0026666666666666666, 0.003, 0.002, 0.0026666666666666666, 0.0036666666666666666, 0.027333333333333334, 0.0026666666666666666, 0.0036666666666666666, 0.004666666666666667, 0.004, 0.0033333333333333335, 0.0026666666666666666]\n",
      "[0. 0. 0. ... 0. 0. 0.]\n"
     ]
    },
    {
     "name": "stdout",
     "output_type": "stream",
     "text": [
      "[0.014333333333333333, 0.004666666666666667, 0.0023333333333333335, 0.015, 0.0026666666666666666, 0.003, 0.002, 0.0026666666666666666, 0.0036666666666666666, 0.027333333333333334, 0.0026666666666666666, 0.0036666666666666666, 0.004666666666666667, 0.004, 0.0033333333333333335, 0.0026666666666666666]\n",
      "[0. 0. 0. ... 0. 0. 0.]\n",
      "[0.014333333333333333, 0.008, 0.0026666666666666666, 0.015, 0.003, 0.003, 0.002, 0.0033333333333333335, 0.004333333333333333, 0.03266666666666666, 0.003, 0.005666666666666667, 0.007, 0.005, 0.005666666666666667, 0.0033333333333333335]\n",
      "[0. 0. 0. ... 0. 0. 0.]\n",
      "[0.014333333333333333, 0.012333333333333333, 0.005666666666666667, 0.015, 0.005666666666666667, 0.006333333333333333, 0.003, 0.005, 0.005333333333333333, 0.05733333333333333, 0.004333333333333333, 0.011333333333333334, 0.012333333333333333, 0.010666666666666666, 0.010666666666666666, 0.005]\n",
      "[1. 0. 0. ... 0. 0. 0.]\n",
      "[0.014333333333333333, 0.012333333333333333, 0.010666666666666666, 0.015, 0.011, 0.010333333333333333, 0.0036666666666666666, 0.009, 0.010666666666666666, 0.10433333333333333, 0.006666666666666667, 0.011333333333333334, 0.012333333333333333, 0.011, 0.011333333333333334, 0.009333333333333334]\n",
      "[1. 0. 0. ... 0. 0. 0.]\n",
      "[0.014333333333333333, 0.012333333333333333, 0.011333333333333334, 0.015, 0.012666666666666666, 0.011333333333333334, 0.009333333333333334, 0.009666666666666667, 0.011333333333333334, 0.11066666666666666, 0.008333333333333333, 0.011333333333333334, 0.012333333333333333, 0.011, 0.011333333333333334, 0.01]\n",
      "[1. 0. 0. ... 0. 0. 0.]\n",
      "[0.014333333333333333, 0.012333333333333333, 0.011333333333333334, 0.015, 0.012666666666666666, 0.011333333333333334, 0.009333333333333334, 0.009666666666666667, 0.011333333333333334, 0.11066666666666666, 0.008333333333333333, 0.011333333333333334, 0.012333333333333333, 0.011, 0.011333333333333334, 0.01]\n",
      "[1. 0. 0. ... 0. 0. 0.]\n",
      "[0.014333333333333333, 0.012333333333333333, 0.011333333333333334, 0.015, 0.012666666666666666, 0.011333333333333334, 0.009333333333333334, 0.009666666666666667, 0.011333333333333334, 0.11066666666666666, 0.008333333333333333, 0.011333333333333334, 0.012333333333333333, 0.011, 0.011333333333333334, 0.01]\n",
      "[1. 0. 0. ... 0. 0. 0.]\n",
      "[0.014333333333333333, 0.012333333333333333, 0.011333333333333334, 0.015, 0.012666666666666666, 0.011333333333333334, 0.009333333333333334, 0.009666666666666667, 0.011333333333333334, 0.11066666666666666, 0.008333333333333333, 0.011333333333333334, 0.012333333333333333, 0.011, 0.011333333333333334, 0.01]\n",
      "[1. 0. 0. ... 0. 0. 0.]\n",
      "[0.014333333333333333, 0.012333333333333333, 0.011333333333333334, 0.015, 0.012666666666666666, 0.011333333333333334, 0.009333333333333334, 0.009666666666666667, 0.011333333333333334, 0.11066666666666666, 0.008333333333333333, 0.011333333333333334, 0.012333333333333333, 0.011, 0.011333333333333334, 0.01]\n",
      "[1. 0. 0. ... 0. 0. 0.]\n",
      "[0.014333333333333333, 0.012333333333333333, 0.011333333333333334, 0.015, 0.012666666666666666, 0.011333333333333334, 0.009333333333333334, 0.009666666666666667, 0.011333333333333334, 0.11066666666666666, 0.008333333333333333, 0.011333333333333334, 0.012333333333333333, 0.011, 0.011333333333333334, 0.01]\n",
      "[1. 0. 0. ... 0. 0. 0.]\n",
      "[0.014333333333333333, 0.012333333333333333, 0.011333333333333334, 0.015, 0.012666666666666666, 0.011333333333333334, 0.009333333333333334, 0.009666666666666667, 0.011333333333333334, 0.11066666666666666, 0.008333333333333333, 0.011333333333333334, 0.012333333333333333, 0.011, 0.011333333333333334, 0.01]\n",
      "[1. 0. 0. ... 0. 0. 0.]\n",
      "[0.014333333333333333, 0.012333333333333333, 0.011333333333333334, 0.015, 0.012666666666666666, 0.011333333333333334, 0.009333333333333334, 0.009666666666666667, 0.011333333333333334, 0.11066666666666666, 0.008333333333333333, 0.011333333333333334, 0.012333333333333333, 0.011, 0.011333333333333334, 0.01]\n",
      "[1. 0. 0. ... 0. 0. 0.]\n",
      "[0.014333333333333333, 0.012333333333333333, 0.010666666666666666, 0.015, 0.012, 0.010333333333333333, 0.007333333333333333, 0.007333333333333333, 0.011, 0.10433333333333333, 0.004, 0.011333333333333334, 0.011666666666666667, 0.010333333333333333, 0.010666666666666666, 0.008]\n",
      "[0. 0. 0. ... 0. 0. 0.]\n",
      "[0.010666666666666666, 0.004333333333333333, 0.0023333333333333335, 0.011666666666666667, 0.0026666666666666666, 0.0026666666666666666, 0.0003333333333333333, 0.0, 0.0036666666666666666, 0.021333333333333333, 0.0, 0.003, 0.0036666666666666666, 0.0033333333333333335, 0.0016666666666666668, 0.0013333333333333333]\n",
      "[0. 0. 0. ... 0. 0. 0.]\n",
      "[0.014333333333333333, 0.007333333333333333, 0.003, 0.015, 0.003, 0.0036666666666666666, 0.002, 0.0026666666666666666, 0.004666666666666667, 0.030666666666666665, 0.0026666666666666666, 0.004666666666666667, 0.005, 0.005, 0.0033333333333333335, 0.0026666666666666666]\n",
      "[0. 0. 0. ... 0. 0. 0.]\n",
      "[0.014333333333333333, 0.005, 0.0023333333333333335, 0.015, 0.0026666666666666666, 0.003, 0.002, 0.0026666666666666666, 0.004, 0.027666666666666666, 0.0026666666666666666, 0.004, 0.004666666666666667, 0.004, 0.0033333333333333335, 0.0026666666666666666]\n",
      "[0. 0. 0. ... 0. 0. 0.]\n",
      "[0.014333333333333333, 0.004666666666666667, 0.0023333333333333335, 0.015, 0.0026666666666666666, 0.003, 0.002, 0.0026666666666666666, 0.0036666666666666666, 0.027333333333333334, 0.0026666666666666666, 0.0036666666666666666, 0.004666666666666667, 0.004, 0.0033333333333333335, 0.0026666666666666666]\n",
      "[0. 0. 0. ... 0. 0. 0.]\n",
      "[0.014333333333333333, 0.004666666666666667, 0.0023333333333333335, 0.015, 0.0026666666666666666, 0.003, 0.002, 0.0026666666666666666, 0.0036666666666666666, 0.027333333333333334, 0.0026666666666666666, 0.0036666666666666666, 0.004666666666666667, 0.004, 0.0033333333333333335, 0.0026666666666666666]\n",
      "[0. 0. 0. ... 0. 0. 0.]\n",
      "[0.014333333333333333, 0.004666666666666667, 0.0023333333333333335, 0.015, 0.0026666666666666666, 0.003, 0.002, 0.0026666666666666666, 0.0036666666666666666, 0.027333333333333334, 0.0026666666666666666, 0.0036666666666666666, 0.004666666666666667, 0.004, 0.0033333333333333335, 0.0026666666666666666]\n",
      "[0. 0. 0. ... 0. 0. 0.]\n",
      "[0.014333333333333333, 0.004666666666666667, 0.0023333333333333335, 0.015, 0.0026666666666666666, 0.003, 0.002, 0.0026666666666666666, 0.0036666666666666666, 0.027333333333333334, 0.0026666666666666666, 0.0036666666666666666, 0.004666666666666667, 0.004, 0.0033333333333333335, 0.0026666666666666666]\n",
      "[0. 0. 0. ... 0. 0. 0.]\n",
      "[0.014333333333333333, 0.004666666666666667, 0.0023333333333333335, 0.015, 0.0026666666666666666, 0.003, 0.002, 0.0026666666666666666, 0.0036666666666666666, 0.027333333333333334, 0.0026666666666666666, 0.0036666666666666666, 0.004666666666666667, 0.004, 0.0033333333333333335, 0.0026666666666666666]\n",
      "[0. 0. 0. ... 0. 0. 0.]\n",
      "[0.014333333333333333, 0.004666666666666667, 0.0023333333333333335, 0.015, 0.0026666666666666666, 0.003, 0.002, 0.0026666666666666666, 0.0036666666666666666, 0.027333333333333334, 0.0026666666666666666, 0.0036666666666666666, 0.004666666666666667, 0.004, 0.0033333333333333335, 0.0026666666666666666]\n",
      "[0. 0. 0. ... 0. 0. 0.]\n",
      "[0.014333333333333333, 0.004666666666666667, 0.0023333333333333335, 0.015, 0.0026666666666666666, 0.003, 0.002, 0.0026666666666666666, 0.0036666666666666666, 0.027333333333333334, 0.0026666666666666666, 0.0036666666666666666, 0.004666666666666667, 0.004, 0.0033333333333333335, 0.0026666666666666666]\n",
      "[0. 0. 0. ... 0. 0. 0.]\n",
      "[0.014333333333333333, 0.004666666666666667, 0.0023333333333333335, 0.015, 0.0026666666666666666, 0.003, 0.002, 0.0026666666666666666, 0.0036666666666666666, 0.027333333333333334, 0.0026666666666666666, 0.0036666666666666666, 0.004666666666666667, 0.004, 0.0033333333333333335, 0.0026666666666666666]\n",
      "[0. 0. 0. ... 0. 0. 0.]\n",
      "[0.014333333333333333, 0.004666666666666667, 0.0023333333333333335, 0.015, 0.0026666666666666666, 0.003, 0.002, 0.0026666666666666666, 0.0036666666666666666, 0.027333333333333334, 0.0026666666666666666, 0.0036666666666666666, 0.004666666666666667, 0.004, 0.0033333333333333335, 0.0026666666666666666]\n",
      "[0. 0. 0. ... 0. 0. 0.]\n",
      "[0.014333333333333333, 0.004666666666666667, 0.0023333333333333335, 0.015, 0.0026666666666666666, 0.003, 0.002, 0.0026666666666666666, 0.0036666666666666666, 0.027333333333333334, 0.0026666666666666666, 0.0036666666666666666, 0.004666666666666667, 0.004, 0.0033333333333333335, 0.0026666666666666666]\n",
      "[0. 0. 0. ... 0. 0. 0.]\n",
      "[0.014333333333333333, 0.008, 0.0026666666666666666, 0.015, 0.003, 0.003, 0.002, 0.0033333333333333335, 0.004333333333333333, 0.03266666666666666, 0.003, 0.005666666666666667, 0.007, 0.005, 0.005666666666666667, 0.0033333333333333335]\n",
      "[0. 0. 0. ... 0. 0. 0.]\n",
      "[0.014333333333333333, 0.012333333333333333, 0.005666666666666667, 0.015, 0.005666666666666667, 0.006333333333333333, 0.003, 0.005, 0.005333333333333333, 0.05733333333333333, 0.004333333333333333, 0.011333333333333334, 0.012333333333333333, 0.010666666666666666, 0.010666666666666666, 0.005]\n",
      "[1. 0. 0. ... 0. 0. 0.]\n",
      "[0.014333333333333333, 0.012333333333333333, 0.010666666666666666, 0.015, 0.011, 0.010333333333333333, 0.0036666666666666666, 0.009, 0.010666666666666666, 0.10433333333333333, 0.006666666666666667, 0.011333333333333334, 0.012333333333333333, 0.011, 0.011333333333333334, 0.009333333333333334]\n",
      "[1. 0. 0. ... 0. 0. 0.]\n",
      "[0.014333333333333333, 0.012333333333333333, 0.011333333333333334, 0.015, 0.012666666666666666, 0.011333333333333334, 0.009333333333333334, 0.009666666666666667, 0.011333333333333334, 0.11066666666666666, 0.008333333333333333, 0.011333333333333334, 0.012333333333333333, 0.011, 0.011333333333333334, 0.01]\n",
      "[1. 0. 0. ... 0. 0. 0.]\n",
      "[0.014333333333333333, 0.012333333333333333, 0.011333333333333334, 0.015, 0.012666666666666666, 0.011333333333333334, 0.009333333333333334, 0.009666666666666667, 0.011333333333333334, 0.11066666666666666, 0.008333333333333333, 0.011333333333333334, 0.012333333333333333, 0.011, 0.011333333333333334, 0.01]\n",
      "[1. 0. 0. ... 0. 0. 0.]\n",
      "[0.014333333333333333, 0.012333333333333333, 0.011333333333333334, 0.015, 0.012666666666666666, 0.011333333333333334, 0.009333333333333334, 0.009666666666666667, 0.011333333333333334, 0.11066666666666666, 0.008333333333333333, 0.011333333333333334, 0.012333333333333333, 0.011, 0.011333333333333334, 0.01]\n",
      "[1. 0. 0. ... 0. 0. 0.]\n",
      "[0.014333333333333333, 0.012333333333333333, 0.011333333333333334, 0.015, 0.012666666666666666, 0.011333333333333334, 0.009333333333333334, 0.009666666666666667, 0.011333333333333334, 0.11066666666666666, 0.008333333333333333, 0.011333333333333334, 0.012333333333333333, 0.011, 0.011333333333333334, 0.01]\n",
      "[1. 0. 0. ... 0. 0. 0.]\n",
      "[0.014333333333333333, 0.012333333333333333, 0.011333333333333334, 0.015, 0.012666666666666666, 0.011333333333333334, 0.009333333333333334, 0.009666666666666667, 0.011333333333333334, 0.11066666666666666, 0.008333333333333333, 0.011333333333333334, 0.012333333333333333, 0.011, 0.011333333333333334, 0.01]\n",
      "[1. 0. 0. ... 0. 0. 0.]\n",
      "[0.014333333333333333, 0.012333333333333333, 0.011333333333333334, 0.015, 0.012666666666666666, 0.011333333333333334, 0.009333333333333334, 0.009666666666666667, 0.011333333333333334, 0.11066666666666666, 0.008333333333333333, 0.011333333333333334, 0.012333333333333333, 0.011, 0.011333333333333334, 0.01]\n",
      "[1. 0. 0. ... 0. 0. 0.]\n",
      "[0.014333333333333333, 0.012333333333333333, 0.011333333333333334, 0.015, 0.012666666666666666, 0.011333333333333334, 0.009333333333333334, 0.009666666666666667, 0.011333333333333334, 0.11066666666666666, 0.008333333333333333, 0.011333333333333334, 0.012333333333333333, 0.011, 0.011333333333333334, 0.01]\n",
      "[1. 0. 0. ... 0. 0. 0.]\n",
      "[0.014333333333333333, 0.012333333333333333, 0.011333333333333334, 0.015, 0.012666666666666666, 0.011333333333333334, 0.009333333333333334, 0.009666666666666667, 0.011333333333333334, 0.11066666666666666, 0.008333333333333333, 0.011333333333333334, 0.012333333333333333, 0.011, 0.011333333333333334, 0.01]\n",
      "[1. 0. 0. ... 0. 0. 0.]\n",
      "[0.014333333333333333, 0.012333333333333333, 0.010666666666666666, 0.015, 0.012, 0.010333333333333333, 0.007333333333333333, 0.007333333333333333, 0.011, 0.10433333333333333, 0.004, 0.011333333333333334, 0.011666666666666667, 0.010333333333333333, 0.010666666666666666, 0.008]\n",
      "[0. 0. 0. ... 0. 0. 0.]\n",
      "[0.010666666666666666, 0.004333333333333333, 0.0023333333333333335, 0.011666666666666667, 0.0026666666666666666, 0.0026666666666666666, 0.0003333333333333333, 0.0, 0.0036666666666666666, 0.021333333333333333, 0.0, 0.003, 0.0036666666666666666, 0.0033333333333333335, 0.0016666666666666668, 0.0013333333333333333]\n",
      "[0. 0. 0. ... 0. 0. 0.]\n",
      "[0.014333333333333333, 0.007333333333333333, 0.003, 0.015, 0.003, 0.0036666666666666666, 0.002, 0.0026666666666666666, 0.004666666666666667, 0.030666666666666665, 0.0026666666666666666, 0.004666666666666667, 0.005, 0.005, 0.0033333333333333335, 0.0026666666666666666]\n",
      "[0. 0. 0. ... 0. 0. 0.]\n",
      "[0.014333333333333333, 0.005, 0.0023333333333333335, 0.015, 0.0026666666666666666, 0.003, 0.002, 0.0026666666666666666, 0.004, 0.027666666666666666, 0.0026666666666666666, 0.004, 0.004666666666666667, 0.004, 0.0033333333333333335, 0.0026666666666666666]\n",
      "[0. 0. 0. ... 0. 0. 0.]\n",
      "[0.014333333333333333, 0.004666666666666667, 0.0023333333333333335, 0.015, 0.0026666666666666666, 0.003, 0.002, 0.0026666666666666666, 0.0036666666666666666, 0.027333333333333334, 0.0026666666666666666, 0.0036666666666666666, 0.004666666666666667, 0.004, 0.0033333333333333335, 0.0026666666666666666]\n",
      "[0. 0. 0. ... 0. 0. 0.]\n",
      "[0.014333333333333333, 0.004666666666666667, 0.0023333333333333335, 0.015, 0.0026666666666666666, 0.003, 0.002, 0.0026666666666666666, 0.0036666666666666666, 0.027333333333333334, 0.0026666666666666666, 0.0036666666666666666, 0.004666666666666667, 0.004, 0.0033333333333333335, 0.0026666666666666666]\n",
      "[0. 0. 0. ... 0. 0. 0.]\n",
      "[0.014333333333333333, 0.004666666666666667, 0.0023333333333333335, 0.015, 0.0026666666666666666, 0.003, 0.002, 0.0026666666666666666, 0.0036666666666666666, 0.027333333333333334, 0.0026666666666666666, 0.0036666666666666666, 0.004666666666666667, 0.004, 0.0033333333333333335, 0.0026666666666666666]\n",
      "[0. 0. 0. ... 0. 0. 0.]\n",
      "[0.014333333333333333, 0.004666666666666667, 0.0023333333333333335, 0.015, 0.0026666666666666666, 0.003, 0.002, 0.0026666666666666666, 0.0036666666666666666, 0.027333333333333334, 0.0026666666666666666, 0.0036666666666666666, 0.004666666666666667, 0.004, 0.0033333333333333335, 0.0026666666666666666]\n",
      "[0. 0. 0. ... 0. 0. 0.]\n",
      "[0.014333333333333333, 0.004666666666666667, 0.0023333333333333335, 0.015, 0.0026666666666666666, 0.003, 0.002, 0.0026666666666666666, 0.0036666666666666666, 0.027333333333333334, 0.0026666666666666666, 0.0036666666666666666, 0.004666666666666667, 0.004, 0.0033333333333333335, 0.0026666666666666666]\n",
      "[0. 0. 0. ... 0. 0. 0.]\n",
      "[0.014333333333333333, 0.004666666666666667, 0.0023333333333333335, 0.015, 0.0026666666666666666, 0.003, 0.002, 0.0026666666666666666, 0.0036666666666666666, 0.027333333333333334, 0.0026666666666666666, 0.0036666666666666666, 0.004666666666666667, 0.004, 0.0033333333333333335, 0.0026666666666666666]\n",
      "[0. 0. 0. ... 0. 0. 0.]\n",
      "[0.014333333333333333, 0.004666666666666667, 0.0023333333333333335, 0.015, 0.0026666666666666666, 0.003, 0.002, 0.0026666666666666666, 0.0036666666666666666, 0.027333333333333334, 0.0026666666666666666, 0.0036666666666666666, 0.004666666666666667, 0.004, 0.0033333333333333335, 0.0026666666666666666]\n",
      "[0. 0. 0. ... 0. 0. 0.]\n",
      "[0.014333333333333333, 0.004666666666666667, 0.0023333333333333335, 0.015, 0.0026666666666666666, 0.003, 0.002, 0.0026666666666666666, 0.0036666666666666666, 0.027333333333333334, 0.0026666666666666666, 0.0036666666666666666, 0.004666666666666667, 0.004, 0.0033333333333333335, 0.0026666666666666666]\n",
      "[0. 0. 0. ... 0. 0. 0.]\n",
      "[0.014333333333333333, 0.004666666666666667, 0.0023333333333333335, 0.015, 0.0026666666666666666, 0.003, 0.002, 0.0026666666666666666, 0.0036666666666666666, 0.027333333333333334, 0.0026666666666666666, 0.0036666666666666666, 0.004666666666666667, 0.004, 0.0033333333333333335, 0.0026666666666666666]\n",
      "[0. 0. 0. ... 0. 0. 0.]\n",
      "[0.014333333333333333, 0.004666666666666667, 0.0023333333333333335, 0.015, 0.0026666666666666666, 0.003, 0.002, 0.0026666666666666666, 0.0036666666666666666, 0.027333333333333334, 0.0026666666666666666, 0.0036666666666666666, 0.004666666666666667, 0.004, 0.0033333333333333335, 0.0026666666666666666]\n"
     ]
    },
    {
     "name": "stdout",
     "output_type": "stream",
     "text": [
      "[0. 0. 0. ... 0. 0. 0.]\n",
      "[0.014333333333333333, 0.008, 0.0026666666666666666, 0.015, 0.003, 0.003, 0.002, 0.0033333333333333335, 0.004333333333333333, 0.03266666666666666, 0.003, 0.005666666666666667, 0.007, 0.005, 0.005666666666666667, 0.0033333333333333335]\n",
      "[0. 0. 0. ... 0. 0. 0.]\n",
      "[0.014333333333333333, 0.012333333333333333, 0.005666666666666667, 0.015, 0.005666666666666667, 0.006333333333333333, 0.003, 0.005, 0.005333333333333333, 0.05733333333333333, 0.004333333333333333, 0.011333333333333334, 0.012333333333333333, 0.010666666666666666, 0.010666666666666666, 0.005]\n",
      "[1. 0. 0. ... 0. 0. 0.]\n",
      "[0.014333333333333333, 0.012333333333333333, 0.010666666666666666, 0.015, 0.011, 0.010333333333333333, 0.0036666666666666666, 0.009, 0.010666666666666666, 0.10433333333333333, 0.006666666666666667, 0.011333333333333334, 0.012333333333333333, 0.011, 0.011333333333333334, 0.009333333333333334]\n",
      "[1. 0. 0. ... 0. 0. 0.]\n",
      "[0.014333333333333333, 0.012333333333333333, 0.011333333333333334, 0.015, 0.012666666666666666, 0.011333333333333334, 0.009333333333333334, 0.009666666666666667, 0.011333333333333334, 0.11066666666666666, 0.008333333333333333, 0.011333333333333334, 0.012333333333333333, 0.011, 0.011333333333333334, 0.01]\n",
      "[1. 0. 0. ... 0. 0. 0.]\n",
      "[0.014333333333333333, 0.012333333333333333, 0.011333333333333334, 0.015, 0.012666666666666666, 0.011333333333333334, 0.009333333333333334, 0.009666666666666667, 0.011333333333333334, 0.11066666666666666, 0.008333333333333333, 0.011333333333333334, 0.012333333333333333, 0.011, 0.011333333333333334, 0.01]\n",
      "[1. 0. 0. ... 0. 0. 0.]\n",
      "[0.014333333333333333, 0.012333333333333333, 0.011333333333333334, 0.015, 0.012666666666666666, 0.011333333333333334, 0.009333333333333334, 0.009666666666666667, 0.011333333333333334, 0.11066666666666666, 0.008333333333333333, 0.011333333333333334, 0.012333333333333333, 0.011, 0.011333333333333334, 0.01]\n",
      "[1. 0. 0. ... 0. 0. 0.]\n",
      "[0.014333333333333333, 0.012333333333333333, 0.011333333333333334, 0.015, 0.012666666666666666, 0.011333333333333334, 0.009333333333333334, 0.009666666666666667, 0.011333333333333334, 0.11066666666666666, 0.008333333333333333, 0.011333333333333334, 0.012333333333333333, 0.011, 0.011333333333333334, 0.01]\n",
      "[1. 0. 0. ... 0. 0. 0.]\n",
      "[0.014333333333333333, 0.012333333333333333, 0.011333333333333334, 0.015, 0.012666666666666666, 0.011333333333333334, 0.009333333333333334, 0.009666666666666667, 0.011333333333333334, 0.11066666666666666, 0.008333333333333333, 0.011333333333333334, 0.012333333333333333, 0.011, 0.011333333333333334, 0.01]\n",
      "[1. 0. 0. ... 0. 0. 0.]\n",
      "[0.014333333333333333, 0.012333333333333333, 0.011333333333333334, 0.015, 0.012666666666666666, 0.011333333333333334, 0.009333333333333334, 0.009666666666666667, 0.011333333333333334, 0.11066666666666666, 0.008333333333333333, 0.011333333333333334, 0.012333333333333333, 0.011, 0.011333333333333334, 0.01]\n",
      "[1. 0. 0. ... 0. 0. 0.]\n",
      "[0.014333333333333333, 0.012333333333333333, 0.011333333333333334, 0.015, 0.012666666666666666, 0.011333333333333334, 0.009333333333333334, 0.009666666666666667, 0.011333333333333334, 0.11066666666666666, 0.008333333333333333, 0.011333333333333334, 0.012333333333333333, 0.011, 0.011333333333333334, 0.01]\n",
      "[1. 0. 0. ... 0. 0. 0.]\n",
      "[0.014333333333333333, 0.012333333333333333, 0.011333333333333334, 0.015, 0.012666666666666666, 0.011333333333333334, 0.009333333333333334, 0.009666666666666667, 0.011333333333333334, 0.11066666666666666, 0.008333333333333333, 0.011333333333333334, 0.012333333333333333, 0.011, 0.011333333333333334, 0.01]\n",
      "[1. 0. 0. ... 0. 0. 0.]\n",
      "[0.014333333333333333, 0.012333333333333333, 0.010666666666666666, 0.015, 0.012, 0.010333333333333333, 0.007333333333333333, 0.007333333333333333, 0.011, 0.10433333333333333, 0.004, 0.011333333333333334, 0.011666666666666667, 0.010333333333333333, 0.010666666666666666, 0.008]\n",
      "[0. 0. 0. ... 0. 0. 0.]\n",
      "[0.010666666666666666, 0.004333333333333333, 0.0023333333333333335, 0.011666666666666667, 0.0026666666666666666, 0.0026666666666666666, 0.0003333333333333333, 0.0, 0.0036666666666666666, 0.021333333333333333, 0.0, 0.003, 0.0036666666666666666, 0.0033333333333333335, 0.0016666666666666668, 0.0013333333333333333]\n",
      "[0. 0. 0. ... 0. 0. 0.]\n",
      "[0.014333333333333333, 0.007333333333333333, 0.003, 0.015, 0.003, 0.0036666666666666666, 0.002, 0.0026666666666666666, 0.004666666666666667, 0.030666666666666665, 0.0026666666666666666, 0.004666666666666667, 0.005, 0.005, 0.0033333333333333335, 0.0026666666666666666]\n",
      "[0. 0. 0. ... 0. 0. 0.]\n",
      "[0.014333333333333333, 0.005, 0.0023333333333333335, 0.015, 0.0026666666666666666, 0.003, 0.002, 0.0026666666666666666, 0.004, 0.027666666666666666, 0.0026666666666666666, 0.004, 0.004666666666666667, 0.004, 0.0033333333333333335, 0.0026666666666666666]\n",
      "[0. 0. 0. ... 0. 0. 0.]\n",
      "[0.014333333333333333, 0.004666666666666667, 0.0023333333333333335, 0.015, 0.0026666666666666666, 0.003, 0.002, 0.0026666666666666666, 0.0036666666666666666, 0.027333333333333334, 0.0026666666666666666, 0.0036666666666666666, 0.004666666666666667, 0.004, 0.0033333333333333335, 0.0026666666666666666]\n",
      "[0. 0. 0. ... 0. 0. 0.]\n",
      "[0.014333333333333333, 0.004666666666666667, 0.0023333333333333335, 0.015, 0.0026666666666666666, 0.003, 0.002, 0.0026666666666666666, 0.0036666666666666666, 0.027333333333333334, 0.0026666666666666666, 0.0036666666666666666, 0.004666666666666667, 0.004, 0.0033333333333333335, 0.0026666666666666666]\n",
      "[0. 0. 0. ... 0. 0. 0.]\n",
      "[0.014333333333333333, 0.004666666666666667, 0.0023333333333333335, 0.015, 0.0026666666666666666, 0.003, 0.002, 0.0026666666666666666, 0.0036666666666666666, 0.027333333333333334, 0.0026666666666666666, 0.0036666666666666666, 0.004666666666666667, 0.004, 0.0033333333333333335, 0.0026666666666666666]\n",
      "[0. 0. 0. ... 0. 0. 0.]\n",
      "[0.014333333333333333, 0.004666666666666667, 0.0023333333333333335, 0.015, 0.0026666666666666666, 0.003, 0.002, 0.0026666666666666666, 0.0036666666666666666, 0.027333333333333334, 0.0026666666666666666, 0.0036666666666666666, 0.004666666666666667, 0.004, 0.0033333333333333335, 0.0026666666666666666]\n",
      "[0. 0. 0. ... 0. 0. 0.]\n",
      "[0.014333333333333333, 0.004666666666666667, 0.0023333333333333335, 0.015, 0.0026666666666666666, 0.003, 0.002, 0.0026666666666666666, 0.0036666666666666666, 0.027333333333333334, 0.0026666666666666666, 0.0036666666666666666, 0.004666666666666667, 0.004, 0.0033333333333333335, 0.0026666666666666666]\n",
      "[0. 0. 0. ... 0. 0. 0.]\n",
      "[0.014333333333333333, 0.004666666666666667, 0.0023333333333333335, 0.015, 0.0026666666666666666, 0.003, 0.002, 0.0026666666666666666, 0.0036666666666666666, 0.027333333333333334, 0.0026666666666666666, 0.0036666666666666666, 0.004666666666666667, 0.004, 0.0033333333333333335, 0.0026666666666666666]\n",
      "[0. 0. 0. ... 0. 0. 0.]\n",
      "[0.014333333333333333, 0.004666666666666667, 0.0023333333333333335, 0.015, 0.0026666666666666666, 0.003, 0.002, 0.0026666666666666666, 0.0036666666666666666, 0.027333333333333334, 0.0026666666666666666, 0.0036666666666666666, 0.004666666666666667, 0.004, 0.0033333333333333335, 0.0026666666666666666]\n",
      "[0. 0. 0. ... 0. 0. 0.]\n",
      "[0.014333333333333333, 0.004666666666666667, 0.0023333333333333335, 0.015, 0.0026666666666666666, 0.003, 0.002, 0.0026666666666666666, 0.0036666666666666666, 0.027333333333333334, 0.0026666666666666666, 0.0036666666666666666, 0.004666666666666667, 0.004, 0.0033333333333333335, 0.0026666666666666666]\n",
      "[0. 0. 0. ... 0. 0. 0.]\n",
      "[0.014333333333333333, 0.004666666666666667, 0.0023333333333333335, 0.015, 0.0026666666666666666, 0.003, 0.002, 0.0026666666666666666, 0.0036666666666666666, 0.027333333333333334, 0.0026666666666666666, 0.0036666666666666666, 0.004666666666666667, 0.004, 0.0033333333333333335, 0.0026666666666666666]\n",
      "[0. 0. 0. ... 0. 0. 0.]\n",
      "[0.014333333333333333, 0.004666666666666667, 0.0023333333333333335, 0.015, 0.0026666666666666666, 0.003, 0.002, 0.0026666666666666666, 0.0036666666666666666, 0.027333333333333334, 0.0026666666666666666, 0.0036666666666666666, 0.004666666666666667, 0.004, 0.0033333333333333335, 0.0026666666666666666]\n",
      "[0. 0. 0. ... 0. 0. 0.]\n",
      "[0.014333333333333333, 0.008, 0.0026666666666666666, 0.015, 0.003, 0.003, 0.002, 0.0033333333333333335, 0.004333333333333333, 0.03266666666666666, 0.003, 0.005666666666666667, 0.007, 0.005, 0.005666666666666667, 0.0033333333333333335]\n",
      "[0. 0. 0. ... 0. 0. 0.]\n",
      "[0.014333333333333333, 0.012333333333333333, 0.005666666666666667, 0.015, 0.005666666666666667, 0.006333333333333333, 0.003, 0.005, 0.005333333333333333, 0.05733333333333333, 0.004333333333333333, 0.011333333333333334, 0.012333333333333333, 0.010666666666666666, 0.010666666666666666, 0.005]\n",
      "[1. 0. 0. ... 0. 0. 0.]\n",
      "[0.014333333333333333, 0.012333333333333333, 0.010666666666666666, 0.015, 0.011, 0.010333333333333333, 0.0036666666666666666, 0.009, 0.010666666666666666, 0.10433333333333333, 0.006666666666666667, 0.011333333333333334, 0.012333333333333333, 0.011, 0.011333333333333334, 0.009333333333333334]\n",
      "[1. 0. 0. ... 0. 0. 0.]\n",
      "[0.014333333333333333, 0.012333333333333333, 0.011333333333333334, 0.015, 0.012666666666666666, 0.011333333333333334, 0.009333333333333334, 0.009666666666666667, 0.011333333333333334, 0.11066666666666666, 0.008333333333333333, 0.011333333333333334, 0.012333333333333333, 0.011, 0.011333333333333334, 0.01]\n",
      "[1. 0. 0. ... 0. 0. 0.]\n",
      "[0.014333333333333333, 0.012333333333333333, 0.011333333333333334, 0.015, 0.012666666666666666, 0.011333333333333334, 0.009333333333333334, 0.009666666666666667, 0.011333333333333334, 0.11066666666666666, 0.008333333333333333, 0.011333333333333334, 0.012333333333333333, 0.011, 0.011333333333333334, 0.01]\n",
      "[1. 0. 0. ... 0. 0. 0.]\n",
      "[0.014333333333333333, 0.012333333333333333, 0.011333333333333334, 0.015, 0.012666666666666666, 0.011333333333333334, 0.009333333333333334, 0.009666666666666667, 0.011333333333333334, 0.11066666666666666, 0.008333333333333333, 0.011333333333333334, 0.012333333333333333, 0.011, 0.011333333333333334, 0.01]\n",
      "[1. 0. 0. ... 0. 0. 0.]\n",
      "[0.014333333333333333, 0.012333333333333333, 0.011333333333333334, 0.015, 0.012666666666666666, 0.011333333333333334, 0.009333333333333334, 0.009666666666666667, 0.011333333333333334, 0.11066666666666666, 0.008333333333333333, 0.011333333333333334, 0.012333333333333333, 0.011, 0.011333333333333334, 0.01]\n",
      "[1. 0. 0. ... 0. 0. 0.]\n",
      "[0.014333333333333333, 0.012333333333333333, 0.011333333333333334, 0.015, 0.012666666666666666, 0.011333333333333334, 0.009333333333333334, 0.009666666666666667, 0.011333333333333334, 0.11066666666666666, 0.008333333333333333, 0.011333333333333334, 0.012333333333333333, 0.011, 0.011333333333333334, 0.01]\n",
      "[1. 0. 0. ... 0. 0. 0.]\n",
      "[0.014333333333333333, 0.012333333333333333, 0.011333333333333334, 0.015, 0.012666666666666666, 0.011333333333333334, 0.009333333333333334, 0.009666666666666667, 0.011333333333333334, 0.11066666666666666, 0.008333333333333333, 0.011333333333333334, 0.012333333333333333, 0.011, 0.011333333333333334, 0.01]\n",
      "[1. 0. 0. ... 0. 0. 0.]\n",
      "[0.014333333333333333, 0.012333333333333333, 0.011333333333333334, 0.015, 0.012666666666666666, 0.011333333333333334, 0.009333333333333334, 0.009666666666666667, 0.011333333333333334, 0.11066666666666666, 0.008333333333333333, 0.011333333333333334, 0.012333333333333333, 0.011, 0.011333333333333334, 0.01]\n",
      "[1. 0. 0. ... 0. 0. 0.]\n",
      "[0.014333333333333333, 0.012333333333333333, 0.011333333333333334, 0.015, 0.012666666666666666, 0.011333333333333334, 0.009333333333333334, 0.009666666666666667, 0.011333333333333334, 0.11066666666666666, 0.008333333333333333, 0.011333333333333334, 0.012333333333333333, 0.011, 0.011333333333333334, 0.01]\n",
      "[1. 0. 0. ... 0. 0. 0.]\n"
     ]
    }
   ],
   "source": [
    "## Initilize the threshold\n",
    "thresh =  np.random.uniform(-T, T, N)## find the right probability distibution within the numpy.random library\n",
    "print(thresh)\n",
    "\n",
    "thresh_0 = thresh.copy()  \n",
    "\n",
    "## Here we prepare a dictionary in which to store the state, J0, threshold and overlap for each time step ## \n",
    "dic_evolution = {}\n",
    "dic_evolution['J0'] = []\n",
    "dic_evolution['V'] = []\n",
    "dic_evolution['thresh'] = []\n",
    "dic_evolution['overl'] = []\n",
    "\n",
    "## Set the initial state of the matrix equal to the first pattern\n",
    "V = items[9]\n",
    "\n",
    "## Now we are ready to run the dynamics \n",
    "for i in range(timesteps):\n",
    "    #print('thres', thresh)\n",
    "    J0 = 0.5*(max_J0 - min_J0)*np.sin(2*np.pi/ TJ0* i) + 0.5*(max_J0 + min_J0) ## use numpy.sin() to have the correct osclillatory behavior. Don't forget to scale it correctly\n",
    "    V, thresh, overlap = evolve(V, thresh, J0)\n",
    "    \n",
    "    dic_evolution['J0'].append(J0)\n",
    "    dic_evolution['V'].append(V)\n",
    "    dic_evolution['thresh'].append(thresh)\n",
    "    dic_evolution['overl'].append(overlap)"
   ]
  },
  {
   "cell_type": "code",
   "execution_count": 474,
   "metadata": {},
   "outputs": [
    {
     "data": {
      "image/png": "[encoded data removed]",
      "text/plain": [
       "<Figure size 432x288 with 1 Axes>"
      ]
     },
     "metadata": {
      "needs_background": "light"
     },
     "output_type": "display_data"
    }
   ],
   "source": [
    "## check that you have the right evolution of J0\n",
    "plt.plot(dic_evolution['J0'])\n",
    "plt.xlim([0,TJ0])  ## plot for one period\n",
    "plt.show()"
   ]
  },
  {
   "cell_type": "markdown",
   "metadata": {},
   "source": [
    "### 8.6.3 Plot the figures\n",
    "#### [2 + 4 points]"
   ]
  },
  {
   "cell_type": "code",
   "execution_count": 475,
   "metadata": {},
   "outputs": [
    {
     "name": "stdout",
     "output_type": "stream",
     "text": [
      "[0.014333333333333333, 0.012333333333333333, 0.011333333333333334, 0.015, 0.012666666666666666, 0.011333333333333334, 0.009333333333333334, 0.009666666666666667, 0.011333333333333334, 0.11066666666666666, 0.008333333333333333, 0.011333333333333334, 0.012333333333333333, 0.011, 0.011333333333333334, 0.01]\n"
     ]
    }
   ],
   "source": [
    "print(overlap)"
   ]
  },
  {
   "cell_type": "code",
   "execution_count": 476,
   "metadata": {},
   "outputs": [
    {
     "data": {
      "image/png": "[encoded data removed]",
      "text/plain": [
       "<Figure size 864x432 with 2 Axes>"
      ]
     },
     "metadata": {
      "needs_background": "light"
     },
     "output_type": "display_data"
    }
   ],
   "source": [
    "## Plot Fig. 1A \n",
    "plt.figure(figsize=(12, 6)) ## check out the inputs, how do you fix the figure size?\n",
    "plt.imshow(np.array(dic_evolution['overl']).T, interpolation = 'None', aspect = 'auto', cmap = 'jet') ## Insert the right dictionary \n",
    "## add a colorbar here\n",
    "plt.xlabel('Time')\n",
    "plt.ylabel('Item')\n",
    "plt.colorbar()\n",
    "plt.clim(0, 1)\n",
    "plt.show()"
   ]
  },
  {
   "cell_type": "code",
   "execution_count": 478,
   "metadata": {},
   "outputs": [
    {
     "data": {
      "image/png": "[encoded data removed]",
      "text/plain": [
       "<Figure size 432x288 with 2 Axes>"
      ]
     },
     "metadata": {
      "needs_background": "light"
     },
     "output_type": "display_data"
    }
   ],
   "source": [
    "## Plot Fig. 1B\n",
    "## first you need to create a matrix filled with the overlaps between patterns.\n",
    "overlap_matrix = np.zeros([L, L]) ## declare a matrix of 0s with the right shape. One more time, numpy is going to be useful.\n",
    "for i in range(L):\n",
    "    for j in range(i,L):\n",
    "        if i != j:\n",
    "            ## insert the right expression for the element of overlap_matrix\n",
    "            overlap_matrix[i,j] = overlap_matrix[j,i] = overlap_mat(items[i], items[j])*len(items[i])\n",
    "\n",
    "## Set the diagonal of overlap_matrix = to average of other entries ## \n",
    "np.fill_diagonal(overlap_matrix, np.mean(overlap_matrix))\n",
    "plt.imshow( overlap_matrix , aspect='auto',cmap='jet')\n",
    "plt.xlabel('Item')\n",
    "plt.ylabel('Item')\n",
    "## add a colorbar here\n",
    "plt.colorbar()\n",
    "plt.show()"
   ]
  },
  {
   "cell_type": "markdown",
   "metadata": {},
   "source": [
    "Comment your first figure: do you notice any recurrence in the item retrieval? How do they interpret it in the paper? \n",
    "Now explain the link between the first and the second figure. (max 12 lines)\n",
    "#### [8 points]"
   ]
  },
  {
   "cell_type": "markdown",
   "metadata": {},
   "source": [
    "your answer"
   ]
  }
 ],
 "metadata": {
  "kernelspec": {
   "display_name": "Python 2",
   "language": "python",
   "name": "python2"
  },
  "language_info": {
   "codemirror_mode": {
    "name": "ipython",
    "version": 2
   },
   "file_extension": ".py",
   "mimetype": "text/x-python",
   "name": "python",
   "nbconvert_exporter": "python",
   "pygments_lexer": "ipython2",
   "version": "2.7.15"
  }
 },
 "nbformat": 4,
 "nbformat_minor": 2
}
